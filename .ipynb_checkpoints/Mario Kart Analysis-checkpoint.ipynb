{
 "cells": [
  {
   "cell_type": "code",
   "execution_count": 1,
   "metadata": {},
   "outputs": [],
   "source": [
    "import random\n",
    "import pandas as pd\n",
    "import numpy as np\n",
    "\n",
    "import matplotlib.pyplot as plt\n",
    "import plotly.graph_objects as go\n",
    "import plotly.express as px\n",
    "from plotly.subplots import make_subplots"
   ]
  },
  {
   "cell_type": "code",
   "execution_count": 18,
   "metadata": {},
   "outputs": [],
   "source": [
    "# LOAD DATA FROM GOOGLE SHEETS\n",
    "sheet_id = \"1_wTvmPVDOWBvTV3idi_Fl-mZ8AtT-xffsqA1OhtnLe4\"\n",
    "df = pd.read_csv(f\"https://docs.google.com/spreadsheets/d/{sheet_id}/export?format=csv\")\n",
    "df[\"Date\"] = pd.to_datetime(df[\"Date\"])"
   ]
  },
  {
   "cell_type": "code",
   "execution_count": 3,
   "metadata": {},
   "outputs": [],
   "source": [
    "# All Characters, Vehicles, Wheels, and Gliders to allow for random loadout generation\n",
    "\n",
    "Characters = [\"Mario\", \"Luigi\", \"Peach\", \"Daisy\", \"Rosalina\", \"Tanooki Mario\", \"Yoshi\", \"Toad\", \"Koopa Troopa\", \n",
    "            \"Shy Guy\", \"Lakitu\", \"Toadette\", \"King Boo\", \"Baby Mario\", \"Baby Luigi\", \"Baby Peach\", \"Baby Daisy\",\n",
    "            \"Baby Rosalina\", \"Metal Mario\", \"Pink Gold Peach\", \"Wario\", \"Waluigi\", \"Donkey Kong\", \"Bowser\", \"Dry Bones\", \n",
    "            \"Bowser Jr.\", \"Lemmy\", \"Larry\", \"Wendy\", \"Ludwig\", \"Iggy\", \"Roy\", \"Morton\", \"Inkling Girl\", \"Inkling Boy\", \n",
    "            \"Link\", \"Villager (Boy)\", \"Villager (Girl)\", \"Isabelle\"]\n",
    "Vehicles = [\"Standard Kart\", \"Pipe Frame\", \"Mach 8\", \"Steel Driver\", \"Cat Cruiser\", \"Circuit Special\", \"Tri-Speeder\",\n",
    "           \"Badwagon\", \"Prancer\", \"Biddybuggy\", \"Landship\", \"Sneeker\", \"Sports Coupe\", \"GLA\", \"W 25 Silver Arrow\", \"300 SL Roadster\",\n",
    "            \"Blue Falcon\", \"Tanooki Cart\", \"B Dasher\", \"Streetle\", \"P-Wing\", \"Koopa Clown\", \"Standard Bike\", \"Comet\", \"The Duke\", \n",
    "            \"Varmint\", \"Mr. Scooty\", \"Jet Bike\", \"Yoshi Bike\", \"Master Cycle\", \"Master Cycle Zero\", \"City Tripper\", \"Standard ATV\", \n",
    "            \"Teddy Buggy\", \"Bone Rattler\", \"Splat Buggy\"]\n",
    "Wheels = [\"Standard\", \"Monster\", \"Roller\", \"Slim\", \"Slick\", \"Metal\", \"Button\", \"Off-Road\", \"Sponge\", \"Wood\", \"Cushion\",\n",
    "            \"Blue Standard\", \"Hot Monster\", \"Azure Roller\", \"Crimson Slim\", \"Cyber Slick\", \"Retro Off-Road\", \"GLA Tires\",\n",
    "            \"Triforce Tires\", \"Ancient Tires\"]\n",
    "Gliders = [\"Super Glider\", \"Cloud Glider\", \"Wario Wing\", \"Waddle Wing\", \"Peach Parasol\", \"Parachute\", \"Parafoil\",\n",
    "            \"Flower Glider\", \"Bowser Kite\", \"Plane Glider\", \"MKTV Parafoil\", \"Hylian Kite\", \"Paraglider\", \"Paper Glider\"]"
   ]
  },
  {
   "cell_type": "code",
   "execution_count": 4,
   "metadata": {},
   "outputs": [],
   "source": [
    "def randomLoadout(players):\n",
    "    for i in range(0,players):\n",
    "        setup = [random.choice(Characters), random.choice(Vehicles), random.choice(Wheels), random.choice(Gliders)]\n",
    "        print(\", \".join(setup))\n",
    "        #calculateLoadout(setup[0], setup[1], setup[2], setup[3])"
   ]
  },
  {
   "cell_type": "code",
   "execution_count": 5,
   "metadata": {},
   "outputs": [
    {
     "name": "stdout",
     "output_type": "stream",
     "text": [
      "Bowser Jr., Koopa Clown, Ancient Tires, Hylian Kite\n",
      "Inkling Girl, The Duke, Ancient Tires, Peach Parasol\n",
      "Metal Mario, City Tripper, Standard, MKTV Parafoil\n",
      "Toad, Sports Coupe, Slim, Bowser Kite\n"
     ]
    }
   ],
   "source": [
    "# RANDOMLY GENERATE X NUMBER OF LOADOUTS\n",
    "randomLoadout(4)"
   ]
  },
  {
   "cell_type": "code",
   "execution_count": 6,
   "metadata": {},
   "outputs": [],
   "source": [
    "# Setup visibility visibility_mask for dropdown menu\n",
    "column_count = len(df.columns)\n",
    "visibility_mask = np.zeros(column_count * column_count, dtype=bool)\n",
    "visibility_mask = visibility_mask.reshape(column_count, column_count)\n",
    "n=0\n",
    "for i in range(column_count):\n",
    "    visibility_mask[i][n]=True\n",
    "    n+=1"
   ]
  },
  {
   "cell_type": "code",
   "execution_count": 19,
   "metadata": {
    "scrolled": false
   },
   "outputs": [
    {
     "data": {
      "application/vnd.plotly.v1+json": {
       "config": {
        "plotlyServerURL": "https://plot.ly"
       },
       "data": [
        {
         "text": [
          34,
          34,
          30,
          26,
          24,
          24,
          22,
          22,
          22,
          20,
          20,
          18,
          16,
          16,
          14,
          12,
          12,
          12,
          12,
          10,
          10,
          10,
          10,
          8,
          7,
          6,
          6,
          6,
          6,
          6,
          6,
          6,
          6,
          6,
          6,
          6,
          6
         ],
         "textposition": "auto",
         "type": "bar",
         "visible": true,
         "x": [
          "Peach",
          "Toad",
          "Yoshi",
          "Bowser Jr.",
          "Daisy",
          "Baby Daisy",
          "Metal Mario",
          "Baby Rosalina",
          "Lakitu",
          "Inkling Boy",
          "Koopa Troopa",
          "Toadette",
          "Baby Peach",
          "Waluigi",
          "Morton",
          "Shy Guy",
          "Mario",
          "Lemmy",
          "Villager (Boy)",
          "Dry Bones",
          "Ludwig",
          "Inkling Girl",
          "Rosalina",
          "Isabelle",
          "Donkey Kong",
          "Wendy",
          "Pink Gold Peach",
          "Wario",
          "Roy",
          "Villager (Girl)",
          "King Boo",
          "Iggy",
          "Link",
          "Tanooki Mario",
          "Larry",
          "Bowser",
          "Baby Mario"
         ],
         "y": [
          34,
          34,
          30,
          26,
          24,
          24,
          22,
          22,
          22,
          20,
          20,
          18,
          16,
          16,
          14,
          12,
          12,
          12,
          12,
          10,
          10,
          10,
          10,
          8,
          7,
          6,
          6,
          6,
          6,
          6,
          6,
          6,
          6,
          6,
          6,
          6,
          6
         ]
        },
        {
         "text": [
          34,
          32,
          28,
          26,
          26,
          26,
          24,
          24,
          22,
          22,
          22,
          22,
          18,
          18,
          16,
          16,
          16,
          12,
          12,
          12,
          10,
          10,
          10,
          10,
          10,
          8,
          6,
          6,
          6,
          6,
          6,
          1
         ],
         "textposition": "auto",
         "type": "bar",
         "visible": false,
         "x": [
          "Teddy Buggy",
          "Tri-Speeder",
          "Sneeker",
          "GLA",
          "The Duke",
          "Koopa Clown",
          "Mach 8",
          "Pipe Frame",
          "B Dasher",
          "Biddybuggy",
          "Standard ATV",
          "Splat Buggy",
          "City Tripper",
          "Cat Cruiser",
          "Standard Bike",
          "P-Wing",
          "Yoshi Bike",
          "Steel Driver",
          "Sports Coupe",
          "W 25 Silver Arrow",
          "Streetle",
          "Tanooki Cart",
          "300 SL Roadster",
          "Mr. Scooty",
          "Blue Falcon",
          "Circuit Special",
          "Comet",
          "Master Cycle",
          "Landship",
          "Standard Kart",
          "Varmint",
          "Jet Bike"
         ],
         "y": [
          34,
          32,
          28,
          26,
          26,
          26,
          24,
          24,
          22,
          22,
          22,
          22,
          18,
          18,
          16,
          16,
          16,
          12,
          12,
          12,
          10,
          10,
          10,
          10,
          10,
          8,
          6,
          6,
          6,
          6,
          6,
          1
         ]
        },
        {
         "text": [
          54,
          42,
          42,
          38,
          35,
          34,
          32,
          30,
          28,
          24,
          24,
          24,
          18,
          18,
          16,
          14,
          12,
          12,
          10,
          6,
          4
         ],
         "textposition": "auto",
         "type": "bar",
         "visible": false,
         "x": [
          "Slim",
          "Ancient Tires",
          "Blue Standard",
          "Button",
          "Monster",
          "Wood",
          "Slick",
          "Standard",
          "Off-Road",
          "GLA Tires",
          "Hot Monster",
          "Azure Roller",
          "Cushion",
          "Triforce Tires",
          "Roller",
          "Retro Off-Road",
          "Metal",
          "Cyber Slick",
          "Crimson Slim",
          "Sponge",
          "Retro Offroad"
         ],
         "y": [
          54,
          42,
          42,
          38,
          35,
          34,
          32,
          30,
          28,
          24,
          24,
          24,
          18,
          18,
          16,
          14,
          12,
          12,
          10,
          6,
          4
         ]
        },
        {
         "text": [
          66,
          64,
          60,
          42,
          42,
          34,
          34,
          30,
          29,
          26,
          24,
          24,
          22,
          20
         ],
         "textposition": "auto",
         "type": "bar",
         "visible": false,
         "x": [
          "MKTV Parafoil",
          "Cloud Glider",
          "Paper Glider",
          "Parachute",
          "Wario Wing",
          "Bowser Kite",
          "Paraglider",
          "Flower Glider",
          "Super Glider",
          "Waddle Wing",
          "Peach Parasol",
          "Plane Glider",
          "Hylian Kite",
          "Parafoil"
         ],
         "y": [
          66,
          64,
          60,
          42,
          42,
          34,
          34,
          30,
          29,
          26,
          24,
          24,
          22,
          20
         ]
        },
        {
         "text": [
          154,
          147,
          134,
          42,
          30,
          10
         ],
         "textposition": "auto",
         "type": "bar",
         "visible": false,
         "x": [
          "Nick",
          "Sofia",
          "Kaima",
          "Abby",
          "Benji",
          "Jules"
         ],
         "y": [
          154,
          147,
          134,
          42,
          30,
          10
         ]
        },
        {
         "text": [
          291,
          226
         ],
         "textposition": "auto",
         "type": "bar",
         "visible": false,
         "x": [
          "Blue",
          "Red"
         ],
         "y": [
          291,
          226
         ]
        },
        {
         "text": [
          20,
          20,
          19,
          19,
          18,
          17,
          17,
          17,
          16,
          15,
          15,
          14,
          14,
          14,
          13,
          13,
          13,
          13,
          12,
          12,
          12,
          12,
          11,
          10,
          10,
          10,
          9,
          9,
          9,
          8,
          8,
          8,
          8,
          8,
          7,
          7,
          7,
          7,
          6,
          6,
          6,
          6,
          6,
          6,
          6,
          4
         ],
         "textposition": "auto",
         "type": "bar",
         "visible": false,
         "x": [
          "Wario's Gold Mine",
          "Ribbon Road",
          "Mario Circuit",
          "Toad's Turnpike",
          "Twisted Mansion",
          "Cheese Land",
          "Piranha Plant Slide",
          "Dragon Driftway",
          "Water Park",
          "Tick-Tock Clock",
          "Royal Raceway",
          "Ice Ice Outpost",
          "Bone Dry Dunes",
          "Rainbow Road",
          "Yoshi Valley",
          "Moo Moo Meadows",
          "Wild Woods",
          "Cheep Cheep Beach",
          "Music Park",
          "Grumble Volcano",
          "Mario Kart Stadium",
          "Super Bell Subway",
          "Electrodome",
          "Wario Stadium",
          "Dry Dry Desert",
          "Shy Guy Falls",
          "Toad Harbor",
          "Yoshi Circuit",
          "DK Jungle",
          "Thwomp Ruins",
          "Sweet Sweet Canyon",
          "Dolphin Shoals",
          "Mount Wario",
          "Donut Plains 3",
          "Baby Park",
          "Animal Crossing",
          "Big Blue",
          "Sunshine Airport",
          "Bowser's Castle",
          "Cloudtop Cruise",
          "Excitebike Arena",
          "Hyrule Circuit",
          "Neo Bowser City",
          "Mute City",
          "SNES Rainbow Road",
          "Sherbet Land"
         ],
         "y": [
          20,
          20,
          19,
          19,
          18,
          17,
          17,
          17,
          16,
          15,
          15,
          14,
          14,
          14,
          13,
          13,
          13,
          13,
          12,
          12,
          12,
          12,
          11,
          10,
          10,
          10,
          9,
          9,
          9,
          8,
          8,
          8,
          8,
          8,
          7,
          7,
          7,
          7,
          6,
          6,
          6,
          6,
          6,
          6,
          6,
          4
         ]
        },
        {
         "text": [
          155,
          92,
          72,
          63,
          44,
          30,
          20,
          16,
          13,
          6,
          4,
          2
         ],
         "textposition": "auto",
         "type": "bar",
         "visible": false,
         "x": [
          1,
          2,
          3,
          4,
          5,
          6,
          7,
          8,
          9,
          10,
          11,
          12
         ],
         "y": [
          155,
          92,
          72,
          63,
          44,
          30,
          20,
          16,
          13,
          6,
          4,
          2
         ]
        },
        {
         "text": [
          379,
          138
         ],
         "textposition": "auto",
         "type": "bar",
         "visible": false,
         "x": [
          100,
          150
         ],
         "y": [
          379,
          138
         ]
        },
        {
         "text": [
          439,
          78
         ],
         "textposition": "auto",
         "type": "bar",
         "visible": false,
         "x": [
          "Normal",
          "Hard"
         ],
         "y": [
          439,
          78
         ]
        },
        {
         "text": [
          295,
          222
         ],
         "textposition": "auto",
         "type": "bar",
         "visible": false,
         "x": [
          true,
          false
         ],
         "y": [
          295,
          222
         ]
        },
        {
         "text": [
          517
         ],
         "textposition": "auto",
         "type": "bar",
         "visible": false,
         "x": [
          true
         ],
         "y": [
          517
         ]
        },
        {
         "text": [
          517
         ],
         "textposition": "auto",
         "type": "bar",
         "visible": false,
         "x": [
          true
         ],
         "y": [
          517
         ]
        },
        {
         "text": [
          54,
          54,
          54,
          54,
          36,
          36,
          36,
          32,
          26,
          26,
          24,
          18,
          18,
          17,
          16,
          16
         ],
         "textposition": "auto",
         "type": "bar",
         "visible": false,
         "x": [
          "2024-03-16T00:00:00",
          "2024-03-07T00:00:00",
          "2025-01-11T00:00:00",
          "2024-03-02T00:00:00",
          "2024-03-04T00:00:00",
          "2024-03-11T00:00:00",
          "2025-01-10T00:00:00",
          "2025-01-17T00:00:00",
          "2024-09-06T00:00:00",
          "2024-03-19T00:00:00",
          "2024-03-25T00:00:00",
          "2024-05-22T00:00:00",
          "2024-02-29T00:00:00",
          "2024-02-28T00:00:00",
          "2025-01-07T00:00:00",
          "2024-03-21T00:00:00"
         ],
         "y": [
          54,
          54,
          54,
          54,
          36,
          36,
          36,
          32,
          26,
          26,
          24,
          18,
          18,
          17,
          16,
          16
         ]
        },
        {
         "text": [
          509,
          8
         ],
         "textposition": "auto",
         "type": "bar",
         "visible": false,
         "x": [
          true,
          false
         ],
         "y": [
          509,
          8
         ]
        },
        {
         "text": [
          397,
          66,
          53,
          1
         ],
         "textposition": "auto",
         "type": "bar",
         "visible": false,
         "x": [
          3,
          4,
          2,
          1
         ],
         "y": [
          397,
          66,
          53,
          1
         ]
        }
       ],
       "layout": {
        "autosize": false,
        "height": 600,
        "template": {
         "data": {
          "bar": [
           {
            "error_x": {
             "color": "#2a3f5f"
            },
            "error_y": {
             "color": "#2a3f5f"
            },
            "marker": {
             "line": {
              "color": "#E5ECF6",
              "width": 0.5
             }
            },
            "type": "bar"
           }
          ],
          "barpolar": [
           {
            "marker": {
             "line": {
              "color": "#E5ECF6",
              "width": 0.5
             }
            },
            "type": "barpolar"
           }
          ],
          "carpet": [
           {
            "aaxis": {
             "endlinecolor": "#2a3f5f",
             "gridcolor": "white",
             "linecolor": "white",
             "minorgridcolor": "white",
             "startlinecolor": "#2a3f5f"
            },
            "baxis": {
             "endlinecolor": "#2a3f5f",
             "gridcolor": "white",
             "linecolor": "white",
             "minorgridcolor": "white",
             "startlinecolor": "#2a3f5f"
            },
            "type": "carpet"
           }
          ],
          "choropleth": [
           {
            "colorbar": {
             "outlinewidth": 0,
             "ticks": ""
            },
            "type": "choropleth"
           }
          ],
          "contour": [
           {
            "colorbar": {
             "outlinewidth": 0,
             "ticks": ""
            },
            "colorscale": [
             [
              0,
              "#0d0887"
             ],
             [
              0.1111111111111111,
              "#46039f"
             ],
             [
              0.2222222222222222,
              "#7201a8"
             ],
             [
              0.3333333333333333,
              "#9c179e"
             ],
             [
              0.4444444444444444,
              "#bd3786"
             ],
             [
              0.5555555555555556,
              "#d8576b"
             ],
             [
              0.6666666666666666,
              "#ed7953"
             ],
             [
              0.7777777777777778,
              "#fb9f3a"
             ],
             [
              0.8888888888888888,
              "#fdca26"
             ],
             [
              1,
              "#f0f921"
             ]
            ],
            "type": "contour"
           }
          ],
          "contourcarpet": [
           {
            "colorbar": {
             "outlinewidth": 0,
             "ticks": ""
            },
            "type": "contourcarpet"
           }
          ],
          "heatmap": [
           {
            "colorbar": {
             "outlinewidth": 0,
             "ticks": ""
            },
            "colorscale": [
             [
              0,
              "#0d0887"
             ],
             [
              0.1111111111111111,
              "#46039f"
             ],
             [
              0.2222222222222222,
              "#7201a8"
             ],
             [
              0.3333333333333333,
              "#9c179e"
             ],
             [
              0.4444444444444444,
              "#bd3786"
             ],
             [
              0.5555555555555556,
              "#d8576b"
             ],
             [
              0.6666666666666666,
              "#ed7953"
             ],
             [
              0.7777777777777778,
              "#fb9f3a"
             ],
             [
              0.8888888888888888,
              "#fdca26"
             ],
             [
              1,
              "#f0f921"
             ]
            ],
            "type": "heatmap"
           }
          ],
          "heatmapgl": [
           {
            "colorbar": {
             "outlinewidth": 0,
             "ticks": ""
            },
            "colorscale": [
             [
              0,
              "#0d0887"
             ],
             [
              0.1111111111111111,
              "#46039f"
             ],
             [
              0.2222222222222222,
              "#7201a8"
             ],
             [
              0.3333333333333333,
              "#9c179e"
             ],
             [
              0.4444444444444444,
              "#bd3786"
             ],
             [
              0.5555555555555556,
              "#d8576b"
             ],
             [
              0.6666666666666666,
              "#ed7953"
             ],
             [
              0.7777777777777778,
              "#fb9f3a"
             ],
             [
              0.8888888888888888,
              "#fdca26"
             ],
             [
              1,
              "#f0f921"
             ]
            ],
            "type": "heatmapgl"
           }
          ],
          "histogram": [
           {
            "marker": {
             "colorbar": {
              "outlinewidth": 0,
              "ticks": ""
             }
            },
            "type": "histogram"
           }
          ],
          "histogram2d": [
           {
            "colorbar": {
             "outlinewidth": 0,
             "ticks": ""
            },
            "colorscale": [
             [
              0,
              "#0d0887"
             ],
             [
              0.1111111111111111,
              "#46039f"
             ],
             [
              0.2222222222222222,
              "#7201a8"
             ],
             [
              0.3333333333333333,
              "#9c179e"
             ],
             [
              0.4444444444444444,
              "#bd3786"
             ],
             [
              0.5555555555555556,
              "#d8576b"
             ],
             [
              0.6666666666666666,
              "#ed7953"
             ],
             [
              0.7777777777777778,
              "#fb9f3a"
             ],
             [
              0.8888888888888888,
              "#fdca26"
             ],
             [
              1,
              "#f0f921"
             ]
            ],
            "type": "histogram2d"
           }
          ],
          "histogram2dcontour": [
           {
            "colorbar": {
             "outlinewidth": 0,
             "ticks": ""
            },
            "colorscale": [
             [
              0,
              "#0d0887"
             ],
             [
              0.1111111111111111,
              "#46039f"
             ],
             [
              0.2222222222222222,
              "#7201a8"
             ],
             [
              0.3333333333333333,
              "#9c179e"
             ],
             [
              0.4444444444444444,
              "#bd3786"
             ],
             [
              0.5555555555555556,
              "#d8576b"
             ],
             [
              0.6666666666666666,
              "#ed7953"
             ],
             [
              0.7777777777777778,
              "#fb9f3a"
             ],
             [
              0.8888888888888888,
              "#fdca26"
             ],
             [
              1,
              "#f0f921"
             ]
            ],
            "type": "histogram2dcontour"
           }
          ],
          "mesh3d": [
           {
            "colorbar": {
             "outlinewidth": 0,
             "ticks": ""
            },
            "type": "mesh3d"
           }
          ],
          "parcoords": [
           {
            "line": {
             "colorbar": {
              "outlinewidth": 0,
              "ticks": ""
             }
            },
            "type": "parcoords"
           }
          ],
          "pie": [
           {
            "automargin": true,
            "type": "pie"
           }
          ],
          "scatter": [
           {
            "marker": {
             "colorbar": {
              "outlinewidth": 0,
              "ticks": ""
             }
            },
            "type": "scatter"
           }
          ],
          "scatter3d": [
           {
            "line": {
             "colorbar": {
              "outlinewidth": 0,
              "ticks": ""
             }
            },
            "marker": {
             "colorbar": {
              "outlinewidth": 0,
              "ticks": ""
             }
            },
            "type": "scatter3d"
           }
          ],
          "scattercarpet": [
           {
            "marker": {
             "colorbar": {
              "outlinewidth": 0,
              "ticks": ""
             }
            },
            "type": "scattercarpet"
           }
          ],
          "scattergeo": [
           {
            "marker": {
             "colorbar": {
              "outlinewidth": 0,
              "ticks": ""
             }
            },
            "type": "scattergeo"
           }
          ],
          "scattergl": [
           {
            "marker": {
             "colorbar": {
              "outlinewidth": 0,
              "ticks": ""
             }
            },
            "type": "scattergl"
           }
          ],
          "scattermapbox": [
           {
            "marker": {
             "colorbar": {
              "outlinewidth": 0,
              "ticks": ""
             }
            },
            "type": "scattermapbox"
           }
          ],
          "scatterpolar": [
           {
            "marker": {
             "colorbar": {
              "outlinewidth": 0,
              "ticks": ""
             }
            },
            "type": "scatterpolar"
           }
          ],
          "scatterpolargl": [
           {
            "marker": {
             "colorbar": {
              "outlinewidth": 0,
              "ticks": ""
             }
            },
            "type": "scatterpolargl"
           }
          ],
          "scatterternary": [
           {
            "marker": {
             "colorbar": {
              "outlinewidth": 0,
              "ticks": ""
             }
            },
            "type": "scatterternary"
           }
          ],
          "surface": [
           {
            "colorbar": {
             "outlinewidth": 0,
             "ticks": ""
            },
            "colorscale": [
             [
              0,
              "#0d0887"
             ],
             [
              0.1111111111111111,
              "#46039f"
             ],
             [
              0.2222222222222222,
              "#7201a8"
             ],
             [
              0.3333333333333333,
              "#9c179e"
             ],
             [
              0.4444444444444444,
              "#bd3786"
             ],
             [
              0.5555555555555556,
              "#d8576b"
             ],
             [
              0.6666666666666666,
              "#ed7953"
             ],
             [
              0.7777777777777778,
              "#fb9f3a"
             ],
             [
              0.8888888888888888,
              "#fdca26"
             ],
             [
              1,
              "#f0f921"
             ]
            ],
            "type": "surface"
           }
          ],
          "table": [
           {
            "cells": {
             "fill": {
              "color": "#EBF0F8"
             },
             "line": {
              "color": "white"
             }
            },
            "header": {
             "fill": {
              "color": "#C8D4E3"
             },
             "line": {
              "color": "white"
             }
            },
            "type": "table"
           }
          ]
         },
         "layout": {
          "annotationdefaults": {
           "arrowcolor": "#2a3f5f",
           "arrowhead": 0,
           "arrowwidth": 1
          },
          "autotypenumbers": "strict",
          "coloraxis": {
           "colorbar": {
            "outlinewidth": 0,
            "ticks": ""
           }
          },
          "colorscale": {
           "diverging": [
            [
             0,
             "#8e0152"
            ],
            [
             0.1,
             "#c51b7d"
            ],
            [
             0.2,
             "#de77ae"
            ],
            [
             0.3,
             "#f1b6da"
            ],
            [
             0.4,
             "#fde0ef"
            ],
            [
             0.5,
             "#f7f7f7"
            ],
            [
             0.6,
             "#e6f5d0"
            ],
            [
             0.7,
             "#b8e186"
            ],
            [
             0.8,
             "#7fbc41"
            ],
            [
             0.9,
             "#4d9221"
            ],
            [
             1,
             "#276419"
            ]
           ],
           "sequential": [
            [
             0,
             "#0d0887"
            ],
            [
             0.1111111111111111,
             "#46039f"
            ],
            [
             0.2222222222222222,
             "#7201a8"
            ],
            [
             0.3333333333333333,
             "#9c179e"
            ],
            [
             0.4444444444444444,
             "#bd3786"
            ],
            [
             0.5555555555555556,
             "#d8576b"
            ],
            [
             0.6666666666666666,
             "#ed7953"
            ],
            [
             0.7777777777777778,
             "#fb9f3a"
            ],
            [
             0.8888888888888888,
             "#fdca26"
            ],
            [
             1,
             "#f0f921"
            ]
           ],
           "sequentialminus": [
            [
             0,
             "#0d0887"
            ],
            [
             0.1111111111111111,
             "#46039f"
            ],
            [
             0.2222222222222222,
             "#7201a8"
            ],
            [
             0.3333333333333333,
             "#9c179e"
            ],
            [
             0.4444444444444444,
             "#bd3786"
            ],
            [
             0.5555555555555556,
             "#d8576b"
            ],
            [
             0.6666666666666666,
             "#ed7953"
            ],
            [
             0.7777777777777778,
             "#fb9f3a"
            ],
            [
             0.8888888888888888,
             "#fdca26"
            ],
            [
             1,
             "#f0f921"
            ]
           ]
          },
          "colorway": [
           "#636efa",
           "#EF553B",
           "#00cc96",
           "#ab63fa",
           "#FFA15A",
           "#19d3f3",
           "#FF6692",
           "#B6E880",
           "#FF97FF",
           "#FECB52"
          ],
          "font": {
           "color": "#2a3f5f"
          },
          "geo": {
           "bgcolor": "white",
           "lakecolor": "white",
           "landcolor": "#E5ECF6",
           "showlakes": true,
           "showland": true,
           "subunitcolor": "white"
          },
          "hoverlabel": {
           "align": "left"
          },
          "hovermode": "closest",
          "mapbox": {
           "style": "light"
          },
          "paper_bgcolor": "white",
          "plot_bgcolor": "#E5ECF6",
          "polar": {
           "angularaxis": {
            "gridcolor": "white",
            "linecolor": "white",
            "ticks": ""
           },
           "bgcolor": "#E5ECF6",
           "radialaxis": {
            "gridcolor": "white",
            "linecolor": "white",
            "ticks": ""
           }
          },
          "scene": {
           "xaxis": {
            "backgroundcolor": "#E5ECF6",
            "gridcolor": "white",
            "gridwidth": 2,
            "linecolor": "white",
            "showbackground": true,
            "ticks": "",
            "zerolinecolor": "white"
           },
           "yaxis": {
            "backgroundcolor": "#E5ECF6",
            "gridcolor": "white",
            "gridwidth": 2,
            "linecolor": "white",
            "showbackground": true,
            "ticks": "",
            "zerolinecolor": "white"
           },
           "zaxis": {
            "backgroundcolor": "#E5ECF6",
            "gridcolor": "white",
            "gridwidth": 2,
            "linecolor": "white",
            "showbackground": true,
            "ticks": "",
            "zerolinecolor": "white"
           }
          },
          "shapedefaults": {
           "line": {
            "color": "#2a3f5f"
           }
          },
          "ternary": {
           "aaxis": {
            "gridcolor": "white",
            "linecolor": "white",
            "ticks": ""
           },
           "baxis": {
            "gridcolor": "white",
            "linecolor": "white",
            "ticks": ""
           },
           "bgcolor": "#E5ECF6",
           "caxis": {
            "gridcolor": "white",
            "linecolor": "white",
            "ticks": ""
           }
          },
          "title": {
           "x": 0.05
          },
          "xaxis": {
           "automargin": true,
           "gridcolor": "white",
           "linecolor": "white",
           "ticks": "",
           "title": {
            "standoff": 15
           },
           "zerolinecolor": "white",
           "zerolinewidth": 2
          },
          "yaxis": {
           "automargin": true,
           "gridcolor": "white",
           "linecolor": "white",
           "ticks": "",
           "title": {
            "standoff": 15
           },
           "zerolinecolor": "white",
           "zerolinewidth": 2
          }
         }
        },
        "title": {
         "text": "Mario Kart Data: Total Counts"
        },
        "updatemenus": [
         {
          "active": 0,
          "buttons": [
           {
            "args": [
             {
              "visible": [
               true,
               false,
               false,
               false,
               false,
               false,
               false,
               false,
               false,
               false,
               false,
               false,
               false,
               false,
               false
              ]
             }
            ],
            "label": "Character",
            "method": "update"
           },
           {
            "args": [
             {
              "visible": [
               false,
               true,
               false,
               false,
               false,
               false,
               false,
               false,
               false,
               false,
               false,
               false,
               false,
               false,
               false
              ]
             }
            ],
            "label": "Vehicle",
            "method": "update"
           },
           {
            "args": [
             {
              "visible": [
               false,
               false,
               true,
               false,
               false,
               false,
               false,
               false,
               false,
               false,
               false,
               false,
               false,
               false,
               false
              ]
             }
            ],
            "label": "Wheels",
            "method": "update"
           },
           {
            "args": [
             {
              "visible": [
               false,
               false,
               false,
               true,
               false,
               false,
               false,
               false,
               false,
               false,
               false,
               false,
               false,
               false,
               false
              ]
             }
            ],
            "label": "Glider",
            "method": "update"
           },
           {
            "args": [
             {
              "visible": [
               false,
               false,
               false,
               false,
               true,
               false,
               false,
               false,
               false,
               false,
               false,
               false,
               false,
               false,
               false
              ]
             }
            ],
            "label": "Racer",
            "method": "update"
           },
           {
            "args": [
             {
              "visible": [
               false,
               false,
               false,
               false,
               false,
               true,
               false,
               false,
               false,
               false,
               false,
               false,
               false,
               false,
               false
              ]
             }
            ],
            "label": "Controller Color",
            "method": "update"
           },
           {
            "args": [
             {
              "visible": [
               false,
               false,
               false,
               false,
               false,
               false,
               true,
               false,
               false,
               false,
               false,
               false,
               false,
               false,
               false
              ]
             }
            ],
            "label": "Map",
            "method": "update"
           },
           {
            "args": [
             {
              "visible": [
               false,
               false,
               false,
               false,
               false,
               false,
               false,
               true,
               false,
               false,
               false,
               false,
               false,
               false,
               false
              ]
             }
            ],
            "label": "Place",
            "method": "update"
           },
           {
            "args": [
             {
              "visible": [
               false,
               false,
               false,
               false,
               false,
               false,
               false,
               false,
               true,
               false,
               false,
               false,
               false,
               false,
               false
              ]
             }
            ],
            "label": "CC",
            "method": "update"
           },
           {
            "args": [
             {
              "visible": [
               false,
               false,
               false,
               false,
               false,
               false,
               false,
               false,
               false,
               true,
               false,
               false,
               false,
               false,
               false
              ]
             }
            ],
            "label": "COM",
            "method": "update"
           },
           {
            "args": [
             {
              "visible": [
               false,
               false,
               false,
               false,
               false,
               false,
               false,
               false,
               false,
               false,
               true,
               false,
               false,
               false,
               false
              ]
             }
            ],
            "label": "Auto Steering",
            "method": "update"
           },
           {
            "args": [
             {
              "visible": [
               false,
               false,
               false,
               false,
               false,
               false,
               false,
               false,
               false,
               false,
               false,
               true,
               false,
               false,
               false
              ]
             }
            ],
            "label": "Stick Steering",
            "method": "update"
           },
           {
            "args": [
             {
              "visible": [
               false,
               false,
               false,
               false,
               false,
               false,
               false,
               false,
               false,
               false,
               false,
               false,
               true,
               false,
               false
              ]
             }
            ],
            "label": "Auto Drive",
            "method": "update"
           },
           {
            "args": [
             {
              "visible": [
               false,
               false,
               false,
               false,
               false,
               false,
               false,
               false,
               false,
               false,
               false,
               false,
               false,
               true,
               false
              ]
             }
            ],
            "label": "Date",
            "method": "update"
           },
           {
            "args": [
             {
              "visible": [
               false,
               false,
               false,
               false,
               false,
               false,
               false,
               false,
               false,
               false,
               false,
               false,
               false,
               false,
               true
              ]
             }
            ],
            "label": "Randomized",
            "method": "update"
           },
           {
            "args": [
             {
              "visible": [
               false,
               false,
               false,
               false,
               false,
               false,
               false,
               false,
               false,
               false,
               false,
               false,
               false,
               false,
               false
              ]
             }
            ],
            "label": "Racer Count",
            "method": "update"
           }
          ],
          "x": 0,
          "xanchor": "left",
          "y": 1.1,
          "yanchor": "top"
         }
        ],
        "width": 950
       }
      },
      "text/html": [
       "<div>                            <div id=\"9eb4c5b8-8c3a-44fa-950b-e04b21cc9fbf\" class=\"plotly-graph-div\" style=\"height:600px; width:950px;\"></div>            <script type=\"text/javascript\">                require([\"plotly\"], function(Plotly) {                    window.PLOTLYENV=window.PLOTLYENV || {};                                    if (document.getElementById(\"9eb4c5b8-8c3a-44fa-950b-e04b21cc9fbf\")) {                    Plotly.newPlot(                        \"9eb4c5b8-8c3a-44fa-950b-e04b21cc9fbf\",                        [{\"text\": [34.0, 34.0, 30.0, 26.0, 24.0, 24.0, 22.0, 22.0, 22.0, 20.0, 20.0, 18.0, 16.0, 16.0, 14.0, 12.0, 12.0, 12.0, 12.0, 10.0, 10.0, 10.0, 10.0, 8.0, 7.0, 6.0, 6.0, 6.0, 6.0, 6.0, 6.0, 6.0, 6.0, 6.0, 6.0, 6.0, 6.0], \"textposition\": \"auto\", \"type\": \"bar\", \"visible\": true, \"x\": [\"Peach\", \"Toad\", \"Yoshi\", \"Bowser Jr.\", \"Daisy\", \"Baby Daisy\", \"Metal Mario\", \"Baby Rosalina\", \"Lakitu\", \"Inkling Boy\", \"Koopa Troopa\", \"Toadette\", \"Baby Peach\", \"Waluigi\", \"Morton\", \"Shy Guy\", \"Mario\", \"Lemmy\", \"Villager (Boy)\", \"Dry Bones\", \"Ludwig\", \"Inkling Girl\", \"Rosalina\", \"Isabelle\", \"Donkey Kong\", \"Wendy\", \"Pink Gold Peach\", \"Wario\", \"Roy\", \"Villager (Girl)\", \"King Boo\", \"Iggy\", \"Link\", \"Tanooki Mario\", \"Larry\", \"Bowser\", \"Baby Mario\"], \"y\": [34, 34, 30, 26, 24, 24, 22, 22, 22, 20, 20, 18, 16, 16, 14, 12, 12, 12, 12, 10, 10, 10, 10, 8, 7, 6, 6, 6, 6, 6, 6, 6, 6, 6, 6, 6, 6]}, {\"text\": [34.0, 32.0, 28.0, 26.0, 26.0, 26.0, 24.0, 24.0, 22.0, 22.0, 22.0, 22.0, 18.0, 18.0, 16.0, 16.0, 16.0, 12.0, 12.0, 12.0, 10.0, 10.0, 10.0, 10.0, 10.0, 8.0, 6.0, 6.0, 6.0, 6.0, 6.0, 1.0], \"textposition\": \"auto\", \"type\": \"bar\", \"visible\": false, \"x\": [\"Teddy Buggy\", \"Tri-Speeder\", \"Sneeker\", \"GLA\", \"The Duke\", \"Koopa Clown\", \"Mach 8\", \"Pipe Frame\", \"B Dasher\", \"Biddybuggy\", \"Standard ATV\", \"Splat Buggy\", \"City Tripper\", \"Cat Cruiser\", \"Standard Bike\", \"P-Wing\", \"Yoshi Bike\", \"Steel Driver\", \"Sports Coupe\", \"W 25 Silver Arrow\", \"Streetle\", \"Tanooki Cart\", \"300 SL Roadster\", \"Mr. Scooty\", \"Blue Falcon\", \"Circuit Special\", \"Comet\", \"Master Cycle\", \"Landship\", \"Standard Kart\", \"Varmint\", \"Jet Bike\"], \"y\": [34, 32, 28, 26, 26, 26, 24, 24, 22, 22, 22, 22, 18, 18, 16, 16, 16, 12, 12, 12, 10, 10, 10, 10, 10, 8, 6, 6, 6, 6, 6, 1]}, {\"text\": [54.0, 42.0, 42.0, 38.0, 35.0, 34.0, 32.0, 30.0, 28.0, 24.0, 24.0, 24.0, 18.0, 18.0, 16.0, 14.0, 12.0, 12.0, 10.0, 6.0, 4.0], \"textposition\": \"auto\", \"type\": \"bar\", \"visible\": false, \"x\": [\"Slim\", \"Ancient Tires\", \"Blue Standard\", \"Button\", \"Monster\", \"Wood\", \"Slick\", \"Standard\", \"Off-Road\", \"GLA Tires\", \"Hot Monster\", \"Azure Roller\", \"Cushion\", \"Triforce Tires\", \"Roller\", \"Retro Off-Road\", \"Metal\", \"Cyber Slick\", \"Crimson Slim\", \"Sponge\", \"Retro Offroad\"], \"y\": [54, 42, 42, 38, 35, 34, 32, 30, 28, 24, 24, 24, 18, 18, 16, 14, 12, 12, 10, 6, 4]}, {\"text\": [66.0, 64.0, 60.0, 42.0, 42.0, 34.0, 34.0, 30.0, 29.0, 26.0, 24.0, 24.0, 22.0, 20.0], \"textposition\": \"auto\", \"type\": \"bar\", \"visible\": false, \"x\": [\"MKTV Parafoil\", \"Cloud Glider\", \"Paper Glider\", \"Parachute\", \"Wario Wing\", \"Bowser Kite\", \"Paraglider\", \"Flower Glider\", \"Super Glider\", \"Waddle Wing\", \"Peach Parasol\", \"Plane Glider\", \"Hylian Kite\", \"Parafoil\"], \"y\": [66, 64, 60, 42, 42, 34, 34, 30, 29, 26, 24, 24, 22, 20]}, {\"text\": [154.0, 147.0, 134.0, 42.0, 30.0, 10.0], \"textposition\": \"auto\", \"type\": \"bar\", \"visible\": false, \"x\": [\"Nick\", \"Sofia\", \"Kaima\", \"Abby\", \"Benji\", \"Jules\"], \"y\": [154, 147, 134, 42, 30, 10]}, {\"text\": [291.0, 226.0], \"textposition\": \"auto\", \"type\": \"bar\", \"visible\": false, \"x\": [\"Blue\", \"Red\"], \"y\": [291, 226]}, {\"text\": [20.0, 20.0, 19.0, 19.0, 18.0, 17.0, 17.0, 17.0, 16.0, 15.0, 15.0, 14.0, 14.0, 14.0, 13.0, 13.0, 13.0, 13.0, 12.0, 12.0, 12.0, 12.0, 11.0, 10.0, 10.0, 10.0, 9.0, 9.0, 9.0, 8.0, 8.0, 8.0, 8.0, 8.0, 7.0, 7.0, 7.0, 7.0, 6.0, 6.0, 6.0, 6.0, 6.0, 6.0, 6.0, 4.0], \"textposition\": \"auto\", \"type\": \"bar\", \"visible\": false, \"x\": [\"Wario's Gold Mine\", \"Ribbon Road\", \"Mario Circuit\", \"Toad's Turnpike\", \"Twisted Mansion\", \"Cheese Land\", \"Piranha Plant Slide\", \"Dragon Driftway\", \"Water Park\", \"Tick-Tock Clock\", \"Royal Raceway\", \"Ice Ice Outpost\", \"Bone Dry Dunes\", \"Rainbow Road\", \"Yoshi Valley\", \"Moo Moo Meadows\", \"Wild Woods\", \"Cheep Cheep Beach\", \"Music Park\", \"Grumble Volcano\", \"Mario Kart Stadium\", \"Super Bell Subway\", \"Electrodome\", \"Wario Stadium\", \"Dry Dry Desert\", \"Shy Guy Falls\", \"Toad Harbor\", \"Yoshi Circuit\", \"DK Jungle\", \"Thwomp Ruins\", \"Sweet Sweet Canyon\", \"Dolphin Shoals\", \"Mount Wario\", \"Donut Plains 3\", \"Baby Park\", \"Animal Crossing\", \"Big Blue\", \"Sunshine Airport\", \"Bowser's Castle\", \"Cloudtop Cruise\", \"Excitebike Arena\", \"Hyrule Circuit\", \"Neo Bowser City\", \"Mute City\", \"SNES Rainbow Road\", \"Sherbet Land\"], \"y\": [20, 20, 19, 19, 18, 17, 17, 17, 16, 15, 15, 14, 14, 14, 13, 13, 13, 13, 12, 12, 12, 12, 11, 10, 10, 10, 9, 9, 9, 8, 8, 8, 8, 8, 7, 7, 7, 7, 6, 6, 6, 6, 6, 6, 6, 4]}, {\"text\": [155.0, 92.0, 72.0, 63.0, 44.0, 30.0, 20.0, 16.0, 13.0, 6.0, 4.0, 2.0], \"textposition\": \"auto\", \"type\": \"bar\", \"visible\": false, \"x\": [1, 2, 3, 4, 5, 6, 7, 8, 9, 10, 11, 12], \"y\": [155, 92, 72, 63, 44, 30, 20, 16, 13, 6, 4, 2]}, {\"text\": [379.0, 138.0], \"textposition\": \"auto\", \"type\": \"bar\", \"visible\": false, \"x\": [100, 150], \"y\": [379, 138]}, {\"text\": [439.0, 78.0], \"textposition\": \"auto\", \"type\": \"bar\", \"visible\": false, \"x\": [\"Normal\", \"Hard\"], \"y\": [439, 78]}, {\"text\": [295.0, 222.0], \"textposition\": \"auto\", \"type\": \"bar\", \"visible\": false, \"x\": [true, false], \"y\": [295, 222]}, {\"text\": [517.0], \"textposition\": \"auto\", \"type\": \"bar\", \"visible\": false, \"x\": [true], \"y\": [517]}, {\"text\": [517.0], \"textposition\": \"auto\", \"type\": \"bar\", \"visible\": false, \"x\": [true], \"y\": [517]}, {\"text\": [54.0, 54.0, 54.0, 54.0, 36.0, 36.0, 36.0, 32.0, 26.0, 26.0, 24.0, 18.0, 18.0, 17.0, 16.0, 16.0], \"textposition\": \"auto\", \"type\": \"bar\", \"visible\": false, \"x\": [\"2024-03-16T00:00:00\", \"2024-03-07T00:00:00\", \"2025-01-11T00:00:00\", \"2024-03-02T00:00:00\", \"2024-03-04T00:00:00\", \"2024-03-11T00:00:00\", \"2025-01-10T00:00:00\", \"2025-01-17T00:00:00\", \"2024-09-06T00:00:00\", \"2024-03-19T00:00:00\", \"2024-03-25T00:00:00\", \"2024-05-22T00:00:00\", \"2024-02-29T00:00:00\", \"2024-02-28T00:00:00\", \"2025-01-07T00:00:00\", \"2024-03-21T00:00:00\"], \"y\": [54, 54, 54, 54, 36, 36, 36, 32, 26, 26, 24, 18, 18, 17, 16, 16]}, {\"text\": [509.0, 8.0], \"textposition\": \"auto\", \"type\": \"bar\", \"visible\": false, \"x\": [true, false], \"y\": [509, 8]}, {\"text\": [397.0, 66.0, 53.0, 1.0], \"textposition\": \"auto\", \"type\": \"bar\", \"visible\": false, \"x\": [3, 4, 2, 1], \"y\": [397, 66, 53, 1]}],                        {\"autosize\": false, \"height\": 600, \"template\": {\"data\": {\"bar\": [{\"error_x\": {\"color\": \"#2a3f5f\"}, \"error_y\": {\"color\": \"#2a3f5f\"}, \"marker\": {\"line\": {\"color\": \"#E5ECF6\", \"width\": 0.5}}, \"type\": \"bar\"}], \"barpolar\": [{\"marker\": {\"line\": {\"color\": \"#E5ECF6\", \"width\": 0.5}}, \"type\": \"barpolar\"}], \"carpet\": [{\"aaxis\": {\"endlinecolor\": \"#2a3f5f\", \"gridcolor\": \"white\", \"linecolor\": \"white\", \"minorgridcolor\": \"white\", \"startlinecolor\": \"#2a3f5f\"}, \"baxis\": {\"endlinecolor\": \"#2a3f5f\", \"gridcolor\": \"white\", \"linecolor\": \"white\", \"minorgridcolor\": \"white\", \"startlinecolor\": \"#2a3f5f\"}, \"type\": \"carpet\"}], \"choropleth\": [{\"colorbar\": {\"outlinewidth\": 0, \"ticks\": \"\"}, \"type\": \"choropleth\"}], \"contour\": [{\"colorbar\": {\"outlinewidth\": 0, \"ticks\": \"\"}, \"colorscale\": [[0.0, \"#0d0887\"], [0.1111111111111111, \"#46039f\"], [0.2222222222222222, \"#7201a8\"], [0.3333333333333333, \"#9c179e\"], [0.4444444444444444, \"#bd3786\"], [0.5555555555555556, \"#d8576b\"], [0.6666666666666666, \"#ed7953\"], [0.7777777777777778, \"#fb9f3a\"], [0.8888888888888888, \"#fdca26\"], [1.0, \"#f0f921\"]], \"type\": \"contour\"}], \"contourcarpet\": [{\"colorbar\": {\"outlinewidth\": 0, \"ticks\": \"\"}, \"type\": \"contourcarpet\"}], \"heatmap\": [{\"colorbar\": {\"outlinewidth\": 0, \"ticks\": \"\"}, \"colorscale\": [[0.0, \"#0d0887\"], [0.1111111111111111, \"#46039f\"], [0.2222222222222222, \"#7201a8\"], [0.3333333333333333, \"#9c179e\"], [0.4444444444444444, \"#bd3786\"], [0.5555555555555556, \"#d8576b\"], [0.6666666666666666, \"#ed7953\"], [0.7777777777777778, \"#fb9f3a\"], [0.8888888888888888, \"#fdca26\"], [1.0, \"#f0f921\"]], \"type\": \"heatmap\"}], \"heatmapgl\": [{\"colorbar\": {\"outlinewidth\": 0, \"ticks\": \"\"}, \"colorscale\": [[0.0, \"#0d0887\"], [0.1111111111111111, \"#46039f\"], [0.2222222222222222, \"#7201a8\"], [0.3333333333333333, \"#9c179e\"], [0.4444444444444444, \"#bd3786\"], [0.5555555555555556, \"#d8576b\"], [0.6666666666666666, \"#ed7953\"], [0.7777777777777778, \"#fb9f3a\"], [0.8888888888888888, \"#fdca26\"], [1.0, \"#f0f921\"]], \"type\": \"heatmapgl\"}], \"histogram\": [{\"marker\": {\"colorbar\": {\"outlinewidth\": 0, \"ticks\": \"\"}}, \"type\": \"histogram\"}], \"histogram2d\": [{\"colorbar\": {\"outlinewidth\": 0, \"ticks\": \"\"}, \"colorscale\": [[0.0, \"#0d0887\"], [0.1111111111111111, \"#46039f\"], [0.2222222222222222, \"#7201a8\"], [0.3333333333333333, \"#9c179e\"], [0.4444444444444444, \"#bd3786\"], [0.5555555555555556, \"#d8576b\"], [0.6666666666666666, \"#ed7953\"], [0.7777777777777778, \"#fb9f3a\"], [0.8888888888888888, \"#fdca26\"], [1.0, \"#f0f921\"]], \"type\": \"histogram2d\"}], \"histogram2dcontour\": [{\"colorbar\": {\"outlinewidth\": 0, \"ticks\": \"\"}, \"colorscale\": [[0.0, \"#0d0887\"], [0.1111111111111111, \"#46039f\"], [0.2222222222222222, \"#7201a8\"], [0.3333333333333333, \"#9c179e\"], [0.4444444444444444, \"#bd3786\"], [0.5555555555555556, \"#d8576b\"], [0.6666666666666666, \"#ed7953\"], [0.7777777777777778, \"#fb9f3a\"], [0.8888888888888888, \"#fdca26\"], [1.0, \"#f0f921\"]], \"type\": \"histogram2dcontour\"}], \"mesh3d\": [{\"colorbar\": {\"outlinewidth\": 0, \"ticks\": \"\"}, \"type\": \"mesh3d\"}], \"parcoords\": [{\"line\": {\"colorbar\": {\"outlinewidth\": 0, \"ticks\": \"\"}}, \"type\": \"parcoords\"}], \"pie\": [{\"automargin\": true, \"type\": \"pie\"}], \"scatter\": [{\"marker\": {\"colorbar\": {\"outlinewidth\": 0, \"ticks\": \"\"}}, \"type\": \"scatter\"}], \"scatter3d\": [{\"line\": {\"colorbar\": {\"outlinewidth\": 0, \"ticks\": \"\"}}, \"marker\": {\"colorbar\": {\"outlinewidth\": 0, \"ticks\": \"\"}}, \"type\": \"scatter3d\"}], \"scattercarpet\": [{\"marker\": {\"colorbar\": {\"outlinewidth\": 0, \"ticks\": \"\"}}, \"type\": \"scattercarpet\"}], \"scattergeo\": [{\"marker\": {\"colorbar\": {\"outlinewidth\": 0, \"ticks\": \"\"}}, \"type\": \"scattergeo\"}], \"scattergl\": [{\"marker\": {\"colorbar\": {\"outlinewidth\": 0, \"ticks\": \"\"}}, \"type\": \"scattergl\"}], \"scattermapbox\": [{\"marker\": {\"colorbar\": {\"outlinewidth\": 0, \"ticks\": \"\"}}, \"type\": \"scattermapbox\"}], \"scatterpolar\": [{\"marker\": {\"colorbar\": {\"outlinewidth\": 0, \"ticks\": \"\"}}, \"type\": \"scatterpolar\"}], \"scatterpolargl\": [{\"marker\": {\"colorbar\": {\"outlinewidth\": 0, \"ticks\": \"\"}}, \"type\": \"scatterpolargl\"}], \"scatterternary\": [{\"marker\": {\"colorbar\": {\"outlinewidth\": 0, \"ticks\": \"\"}}, \"type\": \"scatterternary\"}], \"surface\": [{\"colorbar\": {\"outlinewidth\": 0, \"ticks\": \"\"}, \"colorscale\": [[0.0, \"#0d0887\"], [0.1111111111111111, \"#46039f\"], [0.2222222222222222, \"#7201a8\"], [0.3333333333333333, \"#9c179e\"], [0.4444444444444444, \"#bd3786\"], [0.5555555555555556, \"#d8576b\"], [0.6666666666666666, \"#ed7953\"], [0.7777777777777778, \"#fb9f3a\"], [0.8888888888888888, \"#fdca26\"], [1.0, \"#f0f921\"]], \"type\": \"surface\"}], \"table\": [{\"cells\": {\"fill\": {\"color\": \"#EBF0F8\"}, \"line\": {\"color\": \"white\"}}, \"header\": {\"fill\": {\"color\": \"#C8D4E3\"}, \"line\": {\"color\": \"white\"}}, \"type\": \"table\"}]}, \"layout\": {\"annotationdefaults\": {\"arrowcolor\": \"#2a3f5f\", \"arrowhead\": 0, \"arrowwidth\": 1}, \"autotypenumbers\": \"strict\", \"coloraxis\": {\"colorbar\": {\"outlinewidth\": 0, \"ticks\": \"\"}}, \"colorscale\": {\"diverging\": [[0, \"#8e0152\"], [0.1, \"#c51b7d\"], [0.2, \"#de77ae\"], [0.3, \"#f1b6da\"], [0.4, \"#fde0ef\"], [0.5, \"#f7f7f7\"], [0.6, \"#e6f5d0\"], [0.7, \"#b8e186\"], [0.8, \"#7fbc41\"], [0.9, \"#4d9221\"], [1, \"#276419\"]], \"sequential\": [[0.0, \"#0d0887\"], [0.1111111111111111, \"#46039f\"], [0.2222222222222222, \"#7201a8\"], [0.3333333333333333, \"#9c179e\"], [0.4444444444444444, \"#bd3786\"], [0.5555555555555556, \"#d8576b\"], [0.6666666666666666, \"#ed7953\"], [0.7777777777777778, \"#fb9f3a\"], [0.8888888888888888, \"#fdca26\"], [1.0, \"#f0f921\"]], \"sequentialminus\": [[0.0, \"#0d0887\"], [0.1111111111111111, \"#46039f\"], [0.2222222222222222, \"#7201a8\"], [0.3333333333333333, \"#9c179e\"], [0.4444444444444444, \"#bd3786\"], [0.5555555555555556, \"#d8576b\"], [0.6666666666666666, \"#ed7953\"], [0.7777777777777778, \"#fb9f3a\"], [0.8888888888888888, \"#fdca26\"], [1.0, \"#f0f921\"]]}, \"colorway\": [\"#636efa\", \"#EF553B\", \"#00cc96\", \"#ab63fa\", \"#FFA15A\", \"#19d3f3\", \"#FF6692\", \"#B6E880\", \"#FF97FF\", \"#FECB52\"], \"font\": {\"color\": \"#2a3f5f\"}, \"geo\": {\"bgcolor\": \"white\", \"lakecolor\": \"white\", \"landcolor\": \"#E5ECF6\", \"showlakes\": true, \"showland\": true, \"subunitcolor\": \"white\"}, \"hoverlabel\": {\"align\": \"left\"}, \"hovermode\": \"closest\", \"mapbox\": {\"style\": \"light\"}, \"paper_bgcolor\": \"white\", \"plot_bgcolor\": \"#E5ECF6\", \"polar\": {\"angularaxis\": {\"gridcolor\": \"white\", \"linecolor\": \"white\", \"ticks\": \"\"}, \"bgcolor\": \"#E5ECF6\", \"radialaxis\": {\"gridcolor\": \"white\", \"linecolor\": \"white\", \"ticks\": \"\"}}, \"scene\": {\"xaxis\": {\"backgroundcolor\": \"#E5ECF6\", \"gridcolor\": \"white\", \"gridwidth\": 2, \"linecolor\": \"white\", \"showbackground\": true, \"ticks\": \"\", \"zerolinecolor\": \"white\"}, \"yaxis\": {\"backgroundcolor\": \"#E5ECF6\", \"gridcolor\": \"white\", \"gridwidth\": 2, \"linecolor\": \"white\", \"showbackground\": true, \"ticks\": \"\", \"zerolinecolor\": \"white\"}, \"zaxis\": {\"backgroundcolor\": \"#E5ECF6\", \"gridcolor\": \"white\", \"gridwidth\": 2, \"linecolor\": \"white\", \"showbackground\": true, \"ticks\": \"\", \"zerolinecolor\": \"white\"}}, \"shapedefaults\": {\"line\": {\"color\": \"#2a3f5f\"}}, \"ternary\": {\"aaxis\": {\"gridcolor\": \"white\", \"linecolor\": \"white\", \"ticks\": \"\"}, \"baxis\": {\"gridcolor\": \"white\", \"linecolor\": \"white\", \"ticks\": \"\"}, \"bgcolor\": \"#E5ECF6\", \"caxis\": {\"gridcolor\": \"white\", \"linecolor\": \"white\", \"ticks\": \"\"}}, \"title\": {\"x\": 0.05}, \"xaxis\": {\"automargin\": true, \"gridcolor\": \"white\", \"linecolor\": \"white\", \"ticks\": \"\", \"title\": {\"standoff\": 15}, \"zerolinecolor\": \"white\", \"zerolinewidth\": 2}, \"yaxis\": {\"automargin\": true, \"gridcolor\": \"white\", \"linecolor\": \"white\", \"ticks\": \"\", \"title\": {\"standoff\": 15}, \"zerolinecolor\": \"white\", \"zerolinewidth\": 2}}}, \"title\": {\"text\": \"Mario Kart Data: Total Counts\"}, \"updatemenus\": [{\"active\": 0, \"buttons\": [{\"args\": [{\"visible\": [true, false, false, false, false, false, false, false, false, false, false, false, false, false, false]}], \"label\": \"Character\", \"method\": \"update\"}, {\"args\": [{\"visible\": [false, true, false, false, false, false, false, false, false, false, false, false, false, false, false]}], \"label\": \"Vehicle\", \"method\": \"update\"}, {\"args\": [{\"visible\": [false, false, true, false, false, false, false, false, false, false, false, false, false, false, false]}], \"label\": \"Wheels\", \"method\": \"update\"}, {\"args\": [{\"visible\": [false, false, false, true, false, false, false, false, false, false, false, false, false, false, false]}], \"label\": \"Glider\", \"method\": \"update\"}, {\"args\": [{\"visible\": [false, false, false, false, true, false, false, false, false, false, false, false, false, false, false]}], \"label\": \"Racer\", \"method\": \"update\"}, {\"args\": [{\"visible\": [false, false, false, false, false, true, false, false, false, false, false, false, false, false, false]}], \"label\": \"Controller Color\", \"method\": \"update\"}, {\"args\": [{\"visible\": [false, false, false, false, false, false, true, false, false, false, false, false, false, false, false]}], \"label\": \"Map\", \"method\": \"update\"}, {\"args\": [{\"visible\": [false, false, false, false, false, false, false, true, false, false, false, false, false, false, false]}], \"label\": \"Place\", \"method\": \"update\"}, {\"args\": [{\"visible\": [false, false, false, false, false, false, false, false, true, false, false, false, false, false, false]}], \"label\": \"CC\", \"method\": \"update\"}, {\"args\": [{\"visible\": [false, false, false, false, false, false, false, false, false, true, false, false, false, false, false]}], \"label\": \"COM\", \"method\": \"update\"}, {\"args\": [{\"visible\": [false, false, false, false, false, false, false, false, false, false, true, false, false, false, false]}], \"label\": \"Auto Steering\", \"method\": \"update\"}, {\"args\": [{\"visible\": [false, false, false, false, false, false, false, false, false, false, false, true, false, false, false]}], \"label\": \"Stick Steering\", \"method\": \"update\"}, {\"args\": [{\"visible\": [false, false, false, false, false, false, false, false, false, false, false, false, true, false, false]}], \"label\": \"Auto Drive\", \"method\": \"update\"}, {\"args\": [{\"visible\": [false, false, false, false, false, false, false, false, false, false, false, false, false, true, false]}], \"label\": \"Date\", \"method\": \"update\"}, {\"args\": [{\"visible\": [false, false, false, false, false, false, false, false, false, false, false, false, false, false, true]}], \"label\": \"Randomized\", \"method\": \"update\"}, {\"args\": [{\"visible\": [false, false, false, false, false, false, false, false, false, false, false, false, false, false, false]}], \"label\": \"Racer Count\", \"method\": \"update\"}], \"x\": 0, \"xanchor\": \"left\", \"y\": 1.1, \"yanchor\": \"top\"}], \"width\": 950},                        {\"responsive\": true}                    ).then(function(){\n",
       "                            \n",
       "var gd = document.getElementById('9eb4c5b8-8c3a-44fa-950b-e04b21cc9fbf');\n",
       "var x = new MutationObserver(function (mutations, observer) {{\n",
       "        var display = window.getComputedStyle(gd).display;\n",
       "        if (!display || display === 'none') {{\n",
       "            console.log([gd, 'removed!']);\n",
       "            Plotly.purge(gd);\n",
       "            observer.disconnect();\n",
       "        }}\n",
       "}});\n",
       "\n",
       "// Listen for the removal of the full notebook cells\n",
       "var notebookContainer = gd.closest('#notebook-container');\n",
       "if (notebookContainer) {{\n",
       "    x.observe(notebookContainer, {childList: true});\n",
       "}}\n",
       "\n",
       "// Listen for the clearing of the current output cell\n",
       "var outputEl = gd.closest('.output');\n",
       "if (outputEl) {{\n",
       "    x.observe(outputEl, {childList: true});\n",
       "}}\n",
       "\n",
       "                        })                };                });            </script>        </div>"
      ]
     },
     "metadata": {},
     "output_type": "display_data"
    }
   ],
   "source": [
    "# TOTAL COUNTS\n",
    "fig = go.Figure()\n",
    "n=0\n",
    "buttons_list = []\n",
    "\n",
    "for column in df.columns:\n",
    "    counts = df[column].value_counts()\n",
    "    fig.add_bar(x=counts.index, y = counts.values, text = counts.values, textposition='auto')\n",
    "    label = column\n",
    "    buttons_list.append({'method': 'update', 'label':label,'args':[{'visible': visibility_mask[n][:-1]}]})\n",
    "    fig.data[n].visible=False\n",
    "    n+=1\n",
    "\n",
    "\n",
    "fig.update_layout(updatemenus=[dict(active=0, buttons=buttons_list, x=0, xanchor=\"left\", y=1.1,yanchor=\"top\")],\n",
    "                title=\"Mario Kart Data: Total Counts\", autosize=False, height=600, width=950)\n",
    "fig.data[0].visible=True\n",
    "fig.show()\n",
    "total_counts_graph = fig"
   ]
  },
  {
   "cell_type": "code",
   "execution_count": null,
   "metadata": {},
   "outputs": [],
   "source": [
    "# FIRST PLACE COUNTS\n",
    "fig = go.Figure()\n",
    "n=0\n",
    "buttons_list = []\n",
    "\n",
    "for column in df.columns:\n",
    "    if (column != \"Place\"):\n",
    "        avg_placements = df.groupby(column).mean()[\"Place\"]\n",
    "        avg_placements = avg_placements.sort_values()\n",
    "        fig.add_bar(x = avg_placements.index, \n",
    "                    y = avg_placements.values, \n",
    "                    name = column,\n",
    "                    text = avg_placements.values.round(1), \n",
    "                    textposition='auto'\n",
    "                   )\n",
    "        label = column\n",
    "        buttons_list.append({'method': 'update', 'label':label,'args':[{'visible': visibility_mask[n][:-1]}]})\n",
    "        fig.data[n].visible=False\n",
    "        n+=1\n",
    "\n",
    "\n",
    "fig.update_layout(updatemenus=[dict(active=0, buttons=buttons_list, x=0, xanchor=\"left\", y=1.125,yanchor=\"top\")],\n",
    "                title=\"Average Placements: All Players\", autosize=True, yaxis_range=[0,12])\n",
    "fig.data[0].visible=True\n",
    "fig.show()\n",
    "average_placements_graph = fig"
   ]
  },
  {
   "cell_type": "code",
   "execution_count": 20,
   "metadata": {
    "scrolled": false
   },
   "outputs": [
    {
     "data": {
      "application/vnd.plotly.v1+json": {
       "config": {
        "plotlyServerURL": "https://plot.ly"
       },
       "data": [
        {
         "name": "Character",
         "text": [
          2,
          2.2,
          2.4,
          2.5,
          2.5,
          2.6,
          2.7,
          2.7,
          2.7,
          2.7,
          2.8,
          2.8,
          2.8,
          2.8,
          3.1,
          3.1,
          3.1,
          3.2,
          3.3,
          3.3,
          3.3,
          3.3,
          3.4,
          3.5,
          3.5,
          3.6,
          3.6,
          3.6,
          3.7,
          3.8,
          3.9,
          4.2,
          4.2,
          4.3,
          4.5,
          4.6,
          4.9
         ],
         "textposition": "auto",
         "type": "bar",
         "visible": true,
         "x": [
          "Link",
          "Roy",
          "Toadette",
          "Metal Mario",
          "Tanooki Mario",
          "Inkling Boy",
          "Wendy",
          "Baby Mario",
          "Iggy",
          "Donkey Kong",
          "Morton",
          "Inkling Girl",
          "Shy Guy",
          "Bowser",
          "Koopa Troopa",
          "Rosalina",
          "Bowser Jr.",
          "Isabelle",
          "Lakitu",
          "Toad",
          "Larry",
          "Wario",
          "Baby Daisy",
          "Villager (Girl)",
          "Yoshi",
          "Peach",
          "Daisy",
          "Baby Rosalina",
          "Lemmy",
          "Dry Bones",
          "Waluigi",
          "Pink Gold Peach",
          "Mario",
          "Villager (Boy)",
          "King Boo",
          "Ludwig",
          "Baby Peach"
         ],
         "y": [
          2,
          2.1666666666666665,
          2.4444444444444446,
          2.4545454545454546,
          2.5,
          2.55,
          2.6666666666666665,
          2.6666666666666665,
          2.6666666666666665,
          2.7142857142857144,
          2.7857142857142856,
          2.8,
          2.8333333333333335,
          2.8333333333333335,
          3.1,
          3.1,
          3.1153846153846154,
          3.25,
          3.3181818181818183,
          3.323529411764706,
          3.3333333333333335,
          3.3333333333333335,
          3.4166666666666665,
          3.5,
          3.5,
          3.588235294117647,
          3.625,
          3.6363636363636362,
          3.6666666666666665,
          3.8,
          3.875,
          4.166666666666667,
          4.25,
          4.333333333333333,
          4.5,
          4.6,
          4.875
         ]
        },
        {
         "name": "Vehicle",
         "text": [
          1,
          1.7,
          2,
          2.3,
          2.6,
          2.7,
          2.7,
          2.7,
          2.8,
          2.8,
          2.8,
          2.8,
          3,
          3,
          3.2,
          3.2,
          3.3,
          3.3,
          3.3,
          3.4,
          3.4,
          3.6,
          3.6,
          3.7,
          3.8,
          3.8,
          3.8,
          3.9,
          4,
          4.2,
          4.3,
          4.4
         ],
         "textposition": "auto",
         "type": "bar",
         "visible": false,
         "x": [
          "Jet Bike",
          "300 SL Roadster",
          "Landship",
          "Standard Kart",
          "Biddybuggy",
          "Comet",
          "Teddy Buggy",
          "Yoshi Bike",
          "Sports Coupe",
          "Cat Cruiser",
          "Varmint",
          "W 25 Silver Arrow",
          "Standard ATV",
          "Standard Bike",
          "Master Cycle",
          "City Tripper",
          "Mr. Scooty",
          "B Dasher",
          "The Duke",
          "Circuit Special",
          "Streetle",
          "Pipe Frame",
          "P-Wing",
          "Splat Buggy",
          "Tri-Speeder",
          "Tanooki Cart",
          "Koopa Clown",
          "Sneeker",
          "Mach 8",
          "GLA",
          "Blue Falcon",
          "Steel Driver"
         ],
         "y": [
          1,
          1.7,
          2,
          2.3333333333333335,
          2.590909090909091,
          2.6666666666666665,
          2.676470588235294,
          2.6875,
          2.75,
          2.7777777777777777,
          2.8333333333333335,
          2.8333333333333335,
          3,
          3,
          3.1666666666666665,
          3.1666666666666665,
          3.3,
          3.3181818181818183,
          3.3461538461538463,
          3.375,
          3.4,
          3.5833333333333335,
          3.625,
          3.6818181818181817,
          3.78125,
          3.8,
          3.8076923076923075,
          3.857142857142857,
          4,
          4.153846153846154,
          4.3,
          4.416666666666667
         ]
        },
        {
         "name": "Wheels",
         "text": [
          1.8,
          2.3,
          2.7,
          2.8,
          2.8,
          2.8,
          2.9,
          2.9,
          2.9,
          3.1,
          3.1,
          3.2,
          3.3,
          3.3,
          3.7,
          3.7,
          3.9,
          3.9,
          4,
          4.2,
          5.9
         ],
         "textposition": "auto",
         "type": "bar",
         "visible": false,
         "x": [
          "Retro Offroad",
          "Cushion",
          "Standard",
          "Roller",
          "Triforce Tires",
          "Blue Standard",
          "Hot Monster",
          "Button",
          "Crimson Slim",
          "Slick",
          "Retro Off-Road",
          "GLA Tires",
          "Ancient Tires",
          "Sponge",
          "Azure Roller",
          "Slim",
          "Off-Road",
          "Monster",
          "Cyber Slick",
          "Wood",
          "Metal"
         ],
         "y": [
          1.75,
          2.2777777777777777,
          2.6666666666666665,
          2.75,
          2.7777777777777777,
          2.8095238095238093,
          2.875,
          2.8947368421052633,
          2.9,
          3.09375,
          3.142857142857143,
          3.2083333333333335,
          3.3095238095238093,
          3.3333333333333335,
          3.6666666666666665,
          3.685185185185185,
          3.857142857142857,
          3.914285714285714,
          4,
          4.176470588235294,
          5.916666666666667
         ]
        },
        {
         "name": "Glider",
         "text": [
          2.8,
          2.9,
          3.1,
          3.1,
          3.2,
          3.3,
          3.4,
          3.4,
          3.5,
          3.6,
          3.6,
          3.7,
          3.8,
          3.9
         ],
         "textposition": "auto",
         "type": "bar",
         "visible": false,
         "x": [
          "Cloud Glider",
          "Flower Glider",
          "Parachute",
          "Hylian Kite",
          "Wario Wing",
          "Paper Glider",
          "Bowser Kite",
          "Paraglider",
          "MKTV Parafoil",
          "Waddle Wing",
          "Parafoil",
          "Peach Parasol",
          "Plane Glider",
          "Super Glider"
         ],
         "y": [
          2.765625,
          2.9,
          3.119047619047619,
          3.1363636363636362,
          3.238095238095238,
          3.2666666666666666,
          3.411764705882353,
          3.411764705882353,
          3.5454545454545454,
          3.576923076923077,
          3.6,
          3.7083333333333335,
          3.8333333333333335,
          3.8620689655172415
         ]
        },
        {
         "name": "Racer",
         "text": [
          1.7,
          3.3,
          3.7,
          3.9,
          4.3,
          7.4
         ],
         "textposition": "auto",
         "type": "bar",
         "visible": false,
         "x": [
          "Nick",
          "Benji",
          "Sofia",
          "Abby",
          "Kaima",
          "Jules"
         ],
         "y": [
          1.7467532467532467,
          3.2666666666666666,
          3.6802721088435373,
          3.857142857142857,
          4.298507462686567,
          7.4
         ]
        },
        {
         "name": "Controller Color",
         "text": [
          3.3,
          3.3
         ],
         "textposition": "auto",
         "type": "bar",
         "visible": false,
         "x": [
          "Blue",
          "Red"
         ],
         "y": [
          3.3092783505154637,
          3.349557522123894
         ]
        },
        {
         "name": "Map",
         "text": [
          2.2,
          2.3,
          2.3,
          2.3,
          2.5,
          2.5,
          2.6,
          2.7,
          2.7,
          2.7,
          2.7,
          2.7,
          2.8,
          2.9,
          3,
          3,
          3,
          3.1,
          3.2,
          3.2,
          3.2,
          3.2,
          3.2,
          3.3,
          3.4,
          3.5,
          3.5,
          3.5,
          3.5,
          3.6,
          3.6,
          3.6,
          3.6,
          3.6,
          3.6,
          3.6,
          3.7,
          3.9,
          3.9,
          4,
          4.4,
          4.6,
          4.7,
          4.7,
          4.8,
          5
         ],
         "textposition": "auto",
         "type": "bar",
         "visible": false,
         "x": [
          "Excitebike Arena",
          "Baby Park",
          "Sunshine Airport",
          "Tick-Tock Clock",
          "Yoshi Valley",
          "Moo Moo Meadows",
          "Bone Dry Dunes",
          "Bowser's Castle",
          "SNES Rainbow Road",
          "Hyrule Circuit",
          "Wario's Gold Mine",
          "Dragon Driftway",
          "Mario Circuit",
          "Mount Wario",
          "DK Jungle",
          "Mute City",
          "Sweet Sweet Canyon",
          "Toad Harbor",
          "Cheep Cheep Beach",
          "Super Bell Subway",
          "Music Park",
          "Dry Dry Desert",
          "Dolphin Shoals",
          "Wild Woods",
          "Water Park",
          "Royal Raceway",
          "Ribbon Road",
          "Cloudtop Cruise",
          "Toad's Turnpike",
          "Yoshi Circuit",
          "Ice Ice Outpost",
          "Big Blue",
          "Mario Kart Stadium",
          "Cheese Land",
          "Wario Stadium",
          "Thwomp Ruins",
          "Piranha Plant Slide",
          "Animal Crossing",
          "Twisted Mansion",
          "Shy Guy Falls",
          "Rainbow Road",
          "Donut Plains 3",
          "Neo Bowser City",
          "Electrodome",
          "Sherbet Land",
          "Grumble Volcano"
         ],
         "y": [
          2.1666666666666665,
          2.2857142857142856,
          2.2857142857142856,
          2.3333333333333335,
          2.4615384615384617,
          2.5384615384615383,
          2.642857142857143,
          2.6666666666666665,
          2.6666666666666665,
          2.6666666666666665,
          2.7,
          2.7058823529411766,
          2.789473684210526,
          2.875,
          3,
          3,
          3,
          3.111111111111111,
          3.1538461538461537,
          3.1666666666666665,
          3.1666666666666665,
          3.2,
          3.25,
          3.3076923076923075,
          3.375,
          3.466666666666667,
          3.5,
          3.5,
          3.526315789473684,
          3.5555555555555554,
          3.5714285714285716,
          3.5714285714285716,
          3.5833333333333335,
          3.588235294117647,
          3.6,
          3.625,
          3.7058823529411766,
          3.857142857142857,
          3.9444444444444446,
          4,
          4.428571428571429,
          4.625,
          4.666666666666667,
          4.7272727272727275,
          4.75,
          5
         ]
        },
        {
         "name": "CC",
         "text": [
          3.2,
          3.4
         ],
         "textposition": "auto",
         "type": "bar",
         "visible": false,
         "x": [
          150,
          100
         ],
         "y": [
          3.1594202898550723,
          3.387862796833773
         ]
        },
        {
         "name": "COM",
         "text": [
          3.2,
          4.2
         ],
         "textposition": "auto",
         "type": "bar",
         "visible": false,
         "x": [
          "Normal",
          "Hard"
         ],
         "y": [
          3.1753986332574033,
          4.17948717948718
         ]
        },
        {
         "name": "Auto Steering",
         "text": [
          3.2,
          3.5
         ],
         "textposition": "auto",
         "type": "bar",
         "visible": false,
         "x": [
          true,
          false
         ],
         "y": [
          3.1864406779661016,
          3.5135135135135136
         ]
        },
        {
         "name": "Stick Steering",
         "text": [
          3.3
         ],
         "textposition": "auto",
         "type": "bar",
         "visible": false,
         "x": [
          true
         ],
         "y": [
          3.3268858800773695
         ]
        },
        {
         "name": "Auto Drive",
         "text": [
          3.3
         ],
         "textposition": "auto",
         "type": "bar",
         "visible": false,
         "x": [
          true
         ],
         "y": [
          3.3268858800773695
         ]
        },
        {
         "name": "Date",
         "text": [
          1.9,
          2.4,
          2.7,
          2.9,
          3,
          3.1,
          3.3,
          3.4,
          3.5,
          3.5,
          3.7,
          3.9,
          3.9,
          3.9,
          4,
          4.2
         ],
         "textposition": "auto",
         "type": "bar",
         "visible": false,
         "x": [
          "2024-02-28T00:00:00",
          "2024-09-06T00:00:00",
          "2025-01-17T00:00:00",
          "2025-01-11T00:00:00",
          "2025-01-10T00:00:00",
          "2024-03-07T00:00:00",
          "2024-03-19T00:00:00",
          "2024-03-02T00:00:00",
          "2025-01-07T00:00:00",
          "2024-03-25T00:00:00",
          "2024-03-16T00:00:00",
          "2024-02-29T00:00:00",
          "2024-03-21T00:00:00",
          "2024-05-22T00:00:00",
          "2024-03-04T00:00:00",
          "2024-03-11T00:00:00"
         ],
         "y": [
          1.9411764705882353,
          2.423076923076923,
          2.65625,
          2.8518518518518516,
          3.0277777777777777,
          3.074074074074074,
          3.3461538461538463,
          3.4074074074074074,
          3.5,
          3.5416666666666665,
          3.7037037037037037,
          3.888888888888889,
          3.9375,
          3.9444444444444446,
          4,
          4.166666666666667
         ]
        },
        {
         "name": "Randomized",
         "text": [
          2.2,
          3.3
         ],
         "textposition": "auto",
         "type": "bar",
         "visible": false,
         "x": [
          false,
          true
         ],
         "y": [
          2.25,
          3.343811394891945
         ]
        },
        {
         "name": "Racer Count",
         "text": [
          1,
          2.6,
          3.2,
          3.4
         ],
         "textposition": "auto",
         "type": "bar",
         "visible": false,
         "x": [
          1,
          2,
          4,
          3
         ],
         "y": [
          1,
          2.641509433962264,
          3.242424242424242,
          3.438287153652393
         ]
        }
       ],
       "layout": {
        "autosize": true,
        "template": {
         "data": {
          "bar": [
           {
            "error_x": {
             "color": "#2a3f5f"
            },
            "error_y": {
             "color": "#2a3f5f"
            },
            "marker": {
             "line": {
              "color": "#E5ECF6",
              "width": 0.5
             }
            },
            "type": "bar"
           }
          ],
          "barpolar": [
           {
            "marker": {
             "line": {
              "color": "#E5ECF6",
              "width": 0.5
             }
            },
            "type": "barpolar"
           }
          ],
          "carpet": [
           {
            "aaxis": {
             "endlinecolor": "#2a3f5f",
             "gridcolor": "white",
             "linecolor": "white",
             "minorgridcolor": "white",
             "startlinecolor": "#2a3f5f"
            },
            "baxis": {
             "endlinecolor": "#2a3f5f",
             "gridcolor": "white",
             "linecolor": "white",
             "minorgridcolor": "white",
             "startlinecolor": "#2a3f5f"
            },
            "type": "carpet"
           }
          ],
          "choropleth": [
           {
            "colorbar": {
             "outlinewidth": 0,
             "ticks": ""
            },
            "type": "choropleth"
           }
          ],
          "contour": [
           {
            "colorbar": {
             "outlinewidth": 0,
             "ticks": ""
            },
            "colorscale": [
             [
              0,
              "#0d0887"
             ],
             [
              0.1111111111111111,
              "#46039f"
             ],
             [
              0.2222222222222222,
              "#7201a8"
             ],
             [
              0.3333333333333333,
              "#9c179e"
             ],
             [
              0.4444444444444444,
              "#bd3786"
             ],
             [
              0.5555555555555556,
              "#d8576b"
             ],
             [
              0.6666666666666666,
              "#ed7953"
             ],
             [
              0.7777777777777778,
              "#fb9f3a"
             ],
             [
              0.8888888888888888,
              "#fdca26"
             ],
             [
              1,
              "#f0f921"
             ]
            ],
            "type": "contour"
           }
          ],
          "contourcarpet": [
           {
            "colorbar": {
             "outlinewidth": 0,
             "ticks": ""
            },
            "type": "contourcarpet"
           }
          ],
          "heatmap": [
           {
            "colorbar": {
             "outlinewidth": 0,
             "ticks": ""
            },
            "colorscale": [
             [
              0,
              "#0d0887"
             ],
             [
              0.1111111111111111,
              "#46039f"
             ],
             [
              0.2222222222222222,
              "#7201a8"
             ],
             [
              0.3333333333333333,
              "#9c179e"
             ],
             [
              0.4444444444444444,
              "#bd3786"
             ],
             [
              0.5555555555555556,
              "#d8576b"
             ],
             [
              0.6666666666666666,
              "#ed7953"
             ],
             [
              0.7777777777777778,
              "#fb9f3a"
             ],
             [
              0.8888888888888888,
              "#fdca26"
             ],
             [
              1,
              "#f0f921"
             ]
            ],
            "type": "heatmap"
           }
          ],
          "heatmapgl": [
           {
            "colorbar": {
             "outlinewidth": 0,
             "ticks": ""
            },
            "colorscale": [
             [
              0,
              "#0d0887"
             ],
             [
              0.1111111111111111,
              "#46039f"
             ],
             [
              0.2222222222222222,
              "#7201a8"
             ],
             [
              0.3333333333333333,
              "#9c179e"
             ],
             [
              0.4444444444444444,
              "#bd3786"
             ],
             [
              0.5555555555555556,
              "#d8576b"
             ],
             [
              0.6666666666666666,
              "#ed7953"
             ],
             [
              0.7777777777777778,
              "#fb9f3a"
             ],
             [
              0.8888888888888888,
              "#fdca26"
             ],
             [
              1,
              "#f0f921"
             ]
            ],
            "type": "heatmapgl"
           }
          ],
          "histogram": [
           {
            "marker": {
             "colorbar": {
              "outlinewidth": 0,
              "ticks": ""
             }
            },
            "type": "histogram"
           }
          ],
          "histogram2d": [
           {
            "colorbar": {
             "outlinewidth": 0,
             "ticks": ""
            },
            "colorscale": [
             [
              0,
              "#0d0887"
             ],
             [
              0.1111111111111111,
              "#46039f"
             ],
             [
              0.2222222222222222,
              "#7201a8"
             ],
             [
              0.3333333333333333,
              "#9c179e"
             ],
             [
              0.4444444444444444,
              "#bd3786"
             ],
             [
              0.5555555555555556,
              "#d8576b"
             ],
             [
              0.6666666666666666,
              "#ed7953"
             ],
             [
              0.7777777777777778,
              "#fb9f3a"
             ],
             [
              0.8888888888888888,
              "#fdca26"
             ],
             [
              1,
              "#f0f921"
             ]
            ],
            "type": "histogram2d"
           }
          ],
          "histogram2dcontour": [
           {
            "colorbar": {
             "outlinewidth": 0,
             "ticks": ""
            },
            "colorscale": [
             [
              0,
              "#0d0887"
             ],
             [
              0.1111111111111111,
              "#46039f"
             ],
             [
              0.2222222222222222,
              "#7201a8"
             ],
             [
              0.3333333333333333,
              "#9c179e"
             ],
             [
              0.4444444444444444,
              "#bd3786"
             ],
             [
              0.5555555555555556,
              "#d8576b"
             ],
             [
              0.6666666666666666,
              "#ed7953"
             ],
             [
              0.7777777777777778,
              "#fb9f3a"
             ],
             [
              0.8888888888888888,
              "#fdca26"
             ],
             [
              1,
              "#f0f921"
             ]
            ],
            "type": "histogram2dcontour"
           }
          ],
          "mesh3d": [
           {
            "colorbar": {
             "outlinewidth": 0,
             "ticks": ""
            },
            "type": "mesh3d"
           }
          ],
          "parcoords": [
           {
            "line": {
             "colorbar": {
              "outlinewidth": 0,
              "ticks": ""
             }
            },
            "type": "parcoords"
           }
          ],
          "pie": [
           {
            "automargin": true,
            "type": "pie"
           }
          ],
          "scatter": [
           {
            "marker": {
             "colorbar": {
              "outlinewidth": 0,
              "ticks": ""
             }
            },
            "type": "scatter"
           }
          ],
          "scatter3d": [
           {
            "line": {
             "colorbar": {
              "outlinewidth": 0,
              "ticks": ""
             }
            },
            "marker": {
             "colorbar": {
              "outlinewidth": 0,
              "ticks": ""
             }
            },
            "type": "scatter3d"
           }
          ],
          "scattercarpet": [
           {
            "marker": {
             "colorbar": {
              "outlinewidth": 0,
              "ticks": ""
             }
            },
            "type": "scattercarpet"
           }
          ],
          "scattergeo": [
           {
            "marker": {
             "colorbar": {
              "outlinewidth": 0,
              "ticks": ""
             }
            },
            "type": "scattergeo"
           }
          ],
          "scattergl": [
           {
            "marker": {
             "colorbar": {
              "outlinewidth": 0,
              "ticks": ""
             }
            },
            "type": "scattergl"
           }
          ],
          "scattermapbox": [
           {
            "marker": {
             "colorbar": {
              "outlinewidth": 0,
              "ticks": ""
             }
            },
            "type": "scattermapbox"
           }
          ],
          "scatterpolar": [
           {
            "marker": {
             "colorbar": {
              "outlinewidth": 0,
              "ticks": ""
             }
            },
            "type": "scatterpolar"
           }
          ],
          "scatterpolargl": [
           {
            "marker": {
             "colorbar": {
              "outlinewidth": 0,
              "ticks": ""
             }
            },
            "type": "scatterpolargl"
           }
          ],
          "scatterternary": [
           {
            "marker": {
             "colorbar": {
              "outlinewidth": 0,
              "ticks": ""
             }
            },
            "type": "scatterternary"
           }
          ],
          "surface": [
           {
            "colorbar": {
             "outlinewidth": 0,
             "ticks": ""
            },
            "colorscale": [
             [
              0,
              "#0d0887"
             ],
             [
              0.1111111111111111,
              "#46039f"
             ],
             [
              0.2222222222222222,
              "#7201a8"
             ],
             [
              0.3333333333333333,
              "#9c179e"
             ],
             [
              0.4444444444444444,
              "#bd3786"
             ],
             [
              0.5555555555555556,
              "#d8576b"
             ],
             [
              0.6666666666666666,
              "#ed7953"
             ],
             [
              0.7777777777777778,
              "#fb9f3a"
             ],
             [
              0.8888888888888888,
              "#fdca26"
             ],
             [
              1,
              "#f0f921"
             ]
            ],
            "type": "surface"
           }
          ],
          "table": [
           {
            "cells": {
             "fill": {
              "color": "#EBF0F8"
             },
             "line": {
              "color": "white"
             }
            },
            "header": {
             "fill": {
              "color": "#C8D4E3"
             },
             "line": {
              "color": "white"
             }
            },
            "type": "table"
           }
          ]
         },
         "layout": {
          "annotationdefaults": {
           "arrowcolor": "#2a3f5f",
           "arrowhead": 0,
           "arrowwidth": 1
          },
          "autotypenumbers": "strict",
          "coloraxis": {
           "colorbar": {
            "outlinewidth": 0,
            "ticks": ""
           }
          },
          "colorscale": {
           "diverging": [
            [
             0,
             "#8e0152"
            ],
            [
             0.1,
             "#c51b7d"
            ],
            [
             0.2,
             "#de77ae"
            ],
            [
             0.3,
             "#f1b6da"
            ],
            [
             0.4,
             "#fde0ef"
            ],
            [
             0.5,
             "#f7f7f7"
            ],
            [
             0.6,
             "#e6f5d0"
            ],
            [
             0.7,
             "#b8e186"
            ],
            [
             0.8,
             "#7fbc41"
            ],
            [
             0.9,
             "#4d9221"
            ],
            [
             1,
             "#276419"
            ]
           ],
           "sequential": [
            [
             0,
             "#0d0887"
            ],
            [
             0.1111111111111111,
             "#46039f"
            ],
            [
             0.2222222222222222,
             "#7201a8"
            ],
            [
             0.3333333333333333,
             "#9c179e"
            ],
            [
             0.4444444444444444,
             "#bd3786"
            ],
            [
             0.5555555555555556,
             "#d8576b"
            ],
            [
             0.6666666666666666,
             "#ed7953"
            ],
            [
             0.7777777777777778,
             "#fb9f3a"
            ],
            [
             0.8888888888888888,
             "#fdca26"
            ],
            [
             1,
             "#f0f921"
            ]
           ],
           "sequentialminus": [
            [
             0,
             "#0d0887"
            ],
            [
             0.1111111111111111,
             "#46039f"
            ],
            [
             0.2222222222222222,
             "#7201a8"
            ],
            [
             0.3333333333333333,
             "#9c179e"
            ],
            [
             0.4444444444444444,
             "#bd3786"
            ],
            [
             0.5555555555555556,
             "#d8576b"
            ],
            [
             0.6666666666666666,
             "#ed7953"
            ],
            [
             0.7777777777777778,
             "#fb9f3a"
            ],
            [
             0.8888888888888888,
             "#fdca26"
            ],
            [
             1,
             "#f0f921"
            ]
           ]
          },
          "colorway": [
           "#636efa",
           "#EF553B",
           "#00cc96",
           "#ab63fa",
           "#FFA15A",
           "#19d3f3",
           "#FF6692",
           "#B6E880",
           "#FF97FF",
           "#FECB52"
          ],
          "font": {
           "color": "#2a3f5f"
          },
          "geo": {
           "bgcolor": "white",
           "lakecolor": "white",
           "landcolor": "#E5ECF6",
           "showlakes": true,
           "showland": true,
           "subunitcolor": "white"
          },
          "hoverlabel": {
           "align": "left"
          },
          "hovermode": "closest",
          "mapbox": {
           "style": "light"
          },
          "paper_bgcolor": "white",
          "plot_bgcolor": "#E5ECF6",
          "polar": {
           "angularaxis": {
            "gridcolor": "white",
            "linecolor": "white",
            "ticks": ""
           },
           "bgcolor": "#E5ECF6",
           "radialaxis": {
            "gridcolor": "white",
            "linecolor": "white",
            "ticks": ""
           }
          },
          "scene": {
           "xaxis": {
            "backgroundcolor": "#E5ECF6",
            "gridcolor": "white",
            "gridwidth": 2,
            "linecolor": "white",
            "showbackground": true,
            "ticks": "",
            "zerolinecolor": "white"
           },
           "yaxis": {
            "backgroundcolor": "#E5ECF6",
            "gridcolor": "white",
            "gridwidth": 2,
            "linecolor": "white",
            "showbackground": true,
            "ticks": "",
            "zerolinecolor": "white"
           },
           "zaxis": {
            "backgroundcolor": "#E5ECF6",
            "gridcolor": "white",
            "gridwidth": 2,
            "linecolor": "white",
            "showbackground": true,
            "ticks": "",
            "zerolinecolor": "white"
           }
          },
          "shapedefaults": {
           "line": {
            "color": "#2a3f5f"
           }
          },
          "ternary": {
           "aaxis": {
            "gridcolor": "white",
            "linecolor": "white",
            "ticks": ""
           },
           "baxis": {
            "gridcolor": "white",
            "linecolor": "white",
            "ticks": ""
           },
           "bgcolor": "#E5ECF6",
           "caxis": {
            "gridcolor": "white",
            "linecolor": "white",
            "ticks": ""
           }
          },
          "title": {
           "x": 0.05
          },
          "xaxis": {
           "automargin": true,
           "gridcolor": "white",
           "linecolor": "white",
           "ticks": "",
           "title": {
            "standoff": 15
           },
           "zerolinecolor": "white",
           "zerolinewidth": 2
          },
          "yaxis": {
           "automargin": true,
           "gridcolor": "white",
           "linecolor": "white",
           "ticks": "",
           "title": {
            "standoff": 15
           },
           "zerolinecolor": "white",
           "zerolinewidth": 2
          }
         }
        },
        "title": {
         "text": "Average Placements: All Players"
        },
        "updatemenus": [
         {
          "active": 0,
          "buttons": [
           {
            "args": [
             {
              "visible": [
               true,
               false,
               false,
               false,
               false,
               false,
               false,
               false,
               false,
               false,
               false,
               false,
               false,
               false,
               false
              ]
             }
            ],
            "label": "Character",
            "method": "update"
           },
           {
            "args": [
             {
              "visible": [
               false,
               true,
               false,
               false,
               false,
               false,
               false,
               false,
               false,
               false,
               false,
               false,
               false,
               false,
               false
              ]
             }
            ],
            "label": "Vehicle",
            "method": "update"
           },
           {
            "args": [
             {
              "visible": [
               false,
               false,
               true,
               false,
               false,
               false,
               false,
               false,
               false,
               false,
               false,
               false,
               false,
               false,
               false
              ]
             }
            ],
            "label": "Wheels",
            "method": "update"
           },
           {
            "args": [
             {
              "visible": [
               false,
               false,
               false,
               true,
               false,
               false,
               false,
               false,
               false,
               false,
               false,
               false,
               false,
               false,
               false
              ]
             }
            ],
            "label": "Glider",
            "method": "update"
           },
           {
            "args": [
             {
              "visible": [
               false,
               false,
               false,
               false,
               true,
               false,
               false,
               false,
               false,
               false,
               false,
               false,
               false,
               false,
               false
              ]
             }
            ],
            "label": "Racer",
            "method": "update"
           },
           {
            "args": [
             {
              "visible": [
               false,
               false,
               false,
               false,
               false,
               true,
               false,
               false,
               false,
               false,
               false,
               false,
               false,
               false,
               false
              ]
             }
            ],
            "label": "Controller Color",
            "method": "update"
           },
           {
            "args": [
             {
              "visible": [
               false,
               false,
               false,
               false,
               false,
               false,
               true,
               false,
               false,
               false,
               false,
               false,
               false,
               false,
               false
              ]
             }
            ],
            "label": "Map",
            "method": "update"
           },
           {
            "args": [
             {
              "visible": [
               false,
               false,
               false,
               false,
               false,
               false,
               false,
               true,
               false,
               false,
               false,
               false,
               false,
               false,
               false
              ]
             }
            ],
            "label": "CC",
            "method": "update"
           },
           {
            "args": [
             {
              "visible": [
               false,
               false,
               false,
               false,
               false,
               false,
               false,
               false,
               true,
               false,
               false,
               false,
               false,
               false,
               false
              ]
             }
            ],
            "label": "COM",
            "method": "update"
           },
           {
            "args": [
             {
              "visible": [
               false,
               false,
               false,
               false,
               false,
               false,
               false,
               false,
               false,
               true,
               false,
               false,
               false,
               false,
               false
              ]
             }
            ],
            "label": "Auto Steering",
            "method": "update"
           },
           {
            "args": [
             {
              "visible": [
               false,
               false,
               false,
               false,
               false,
               false,
               false,
               false,
               false,
               false,
               true,
               false,
               false,
               false,
               false
              ]
             }
            ],
            "label": "Stick Steering",
            "method": "update"
           },
           {
            "args": [
             {
              "visible": [
               false,
               false,
               false,
               false,
               false,
               false,
               false,
               false,
               false,
               false,
               false,
               true,
               false,
               false,
               false
              ]
             }
            ],
            "label": "Auto Drive",
            "method": "update"
           },
           {
            "args": [
             {
              "visible": [
               false,
               false,
               false,
               false,
               false,
               false,
               false,
               false,
               false,
               false,
               false,
               false,
               true,
               false,
               false
              ]
             }
            ],
            "label": "Date",
            "method": "update"
           },
           {
            "args": [
             {
              "visible": [
               false,
               false,
               false,
               false,
               false,
               false,
               false,
               false,
               false,
               false,
               false,
               false,
               false,
               true,
               false
              ]
             }
            ],
            "label": "Randomized",
            "method": "update"
           },
           {
            "args": [
             {
              "visible": [
               false,
               false,
               false,
               false,
               false,
               false,
               false,
               false,
               false,
               false,
               false,
               false,
               false,
               false,
               true
              ]
             }
            ],
            "label": "Racer Count",
            "method": "update"
           }
          ],
          "x": 0,
          "xanchor": "left",
          "y": 1.125,
          "yanchor": "top"
         }
        ],
        "yaxis": {
         "range": [
          0,
          12
         ]
        }
       }
      },
      "text/html": [
       "<div>                            <div id=\"5bcd8ab3-0a01-47dd-820f-e79ac431f44f\" class=\"plotly-graph-div\" style=\"height:525px; width:100%;\"></div>            <script type=\"text/javascript\">                require([\"plotly\"], function(Plotly) {                    window.PLOTLYENV=window.PLOTLYENV || {};                                    if (document.getElementById(\"5bcd8ab3-0a01-47dd-820f-e79ac431f44f\")) {                    Plotly.newPlot(                        \"5bcd8ab3-0a01-47dd-820f-e79ac431f44f\",                        [{\"name\": \"Character\", \"text\": [2.0, 2.2, 2.4, 2.5, 2.5, 2.6, 2.7, 2.7, 2.7, 2.7, 2.8, 2.8, 2.8, 2.8, 3.1, 3.1, 3.1, 3.2, 3.3, 3.3, 3.3, 3.3, 3.4, 3.5, 3.5, 3.6, 3.6, 3.6, 3.7, 3.8, 3.9, 4.2, 4.2, 4.3, 4.5, 4.6, 4.9], \"textposition\": \"auto\", \"type\": \"bar\", \"visible\": true, \"x\": [\"Link\", \"Roy\", \"Toadette\", \"Metal Mario\", \"Tanooki Mario\", \"Inkling Boy\", \"Wendy\", \"Baby Mario\", \"Iggy\", \"Donkey Kong\", \"Morton\", \"Inkling Girl\", \"Shy Guy\", \"Bowser\", \"Koopa Troopa\", \"Rosalina\", \"Bowser Jr.\", \"Isabelle\", \"Lakitu\", \"Toad\", \"Larry\", \"Wario\", \"Baby Daisy\", \"Villager (Girl)\", \"Yoshi\", \"Peach\", \"Daisy\", \"Baby Rosalina\", \"Lemmy\", \"Dry Bones\", \"Waluigi\", \"Pink Gold Peach\", \"Mario\", \"Villager (Boy)\", \"King Boo\", \"Ludwig\", \"Baby Peach\"], \"y\": [2.0, 2.1666666666666665, 2.4444444444444446, 2.4545454545454546, 2.5, 2.55, 2.6666666666666665, 2.6666666666666665, 2.6666666666666665, 2.7142857142857144, 2.7857142857142856, 2.8, 2.8333333333333335, 2.8333333333333335, 3.1, 3.1, 3.1153846153846154, 3.25, 3.3181818181818183, 3.323529411764706, 3.3333333333333335, 3.3333333333333335, 3.4166666666666665, 3.5, 3.5, 3.588235294117647, 3.625, 3.6363636363636362, 3.6666666666666665, 3.8, 3.875, 4.166666666666667, 4.25, 4.333333333333333, 4.5, 4.6, 4.875]}, {\"name\": \"Vehicle\", \"text\": [1.0, 1.7, 2.0, 2.3, 2.6, 2.7, 2.7, 2.7, 2.8, 2.8, 2.8, 2.8, 3.0, 3.0, 3.2, 3.2, 3.3, 3.3, 3.3, 3.4, 3.4, 3.6, 3.6, 3.7, 3.8, 3.8, 3.8, 3.9, 4.0, 4.2, 4.3, 4.4], \"textposition\": \"auto\", \"type\": \"bar\", \"visible\": false, \"x\": [\"Jet Bike\", \"300 SL Roadster\", \"Landship\", \"Standard Kart\", \"Biddybuggy\", \"Comet\", \"Teddy Buggy\", \"Yoshi Bike\", \"Sports Coupe\", \"Cat Cruiser\", \"Varmint\", \"W 25 Silver Arrow\", \"Standard ATV\", \"Standard Bike\", \"Master Cycle\", \"City Tripper\", \"Mr. Scooty\", \"B Dasher\", \"The Duke\", \"Circuit Special\", \"Streetle\", \"Pipe Frame\", \"P-Wing\", \"Splat Buggy\", \"Tri-Speeder\", \"Tanooki Cart\", \"Koopa Clown\", \"Sneeker\", \"Mach 8\", \"GLA\", \"Blue Falcon\", \"Steel Driver\"], \"y\": [1.0, 1.7, 2.0, 2.3333333333333335, 2.590909090909091, 2.6666666666666665, 2.676470588235294, 2.6875, 2.75, 2.7777777777777777, 2.8333333333333335, 2.8333333333333335, 3.0, 3.0, 3.1666666666666665, 3.1666666666666665, 3.3, 3.3181818181818183, 3.3461538461538463, 3.375, 3.4, 3.5833333333333335, 3.625, 3.6818181818181817, 3.78125, 3.8, 3.8076923076923075, 3.857142857142857, 4.0, 4.153846153846154, 4.3, 4.416666666666667]}, {\"name\": \"Wheels\", \"text\": [1.8, 2.3, 2.7, 2.8, 2.8, 2.8, 2.9, 2.9, 2.9, 3.1, 3.1, 3.2, 3.3, 3.3, 3.7, 3.7, 3.9, 3.9, 4.0, 4.2, 5.9], \"textposition\": \"auto\", \"type\": \"bar\", \"visible\": false, \"x\": [\"Retro Offroad\", \"Cushion\", \"Standard\", \"Roller\", \"Triforce Tires\", \"Blue Standard\", \"Hot Monster\", \"Button\", \"Crimson Slim\", \"Slick\", \"Retro Off-Road\", \"GLA Tires\", \"Ancient Tires\", \"Sponge\", \"Azure Roller\", \"Slim\", \"Off-Road\", \"Monster\", \"Cyber Slick\", \"Wood\", \"Metal\"], \"y\": [1.75, 2.2777777777777777, 2.6666666666666665, 2.75, 2.7777777777777777, 2.8095238095238093, 2.875, 2.8947368421052633, 2.9, 3.09375, 3.142857142857143, 3.2083333333333335, 3.3095238095238093, 3.3333333333333335, 3.6666666666666665, 3.685185185185185, 3.857142857142857, 3.914285714285714, 4.0, 4.176470588235294, 5.916666666666667]}, {\"name\": \"Glider\", \"text\": [2.8, 2.9, 3.1, 3.1, 3.2, 3.3, 3.4, 3.4, 3.5, 3.6, 3.6, 3.7, 3.8, 3.9], \"textposition\": \"auto\", \"type\": \"bar\", \"visible\": false, \"x\": [\"Cloud Glider\", \"Flower Glider\", \"Parachute\", \"Hylian Kite\", \"Wario Wing\", \"Paper Glider\", \"Bowser Kite\", \"Paraglider\", \"MKTV Parafoil\", \"Waddle Wing\", \"Parafoil\", \"Peach Parasol\", \"Plane Glider\", \"Super Glider\"], \"y\": [2.765625, 2.9, 3.119047619047619, 3.1363636363636362, 3.238095238095238, 3.2666666666666666, 3.411764705882353, 3.411764705882353, 3.5454545454545454, 3.576923076923077, 3.6, 3.7083333333333335, 3.8333333333333335, 3.8620689655172415]}, {\"name\": \"Racer\", \"text\": [1.7, 3.3, 3.7, 3.9, 4.3, 7.4], \"textposition\": \"auto\", \"type\": \"bar\", \"visible\": false, \"x\": [\"Nick\", \"Benji\", \"Sofia\", \"Abby\", \"Kaima\", \"Jules\"], \"y\": [1.7467532467532467, 3.2666666666666666, 3.6802721088435373, 3.857142857142857, 4.298507462686567, 7.4]}, {\"name\": \"Controller Color\", \"text\": [3.3, 3.3], \"textposition\": \"auto\", \"type\": \"bar\", \"visible\": false, \"x\": [\"Blue\", \"Red\"], \"y\": [3.3092783505154637, 3.349557522123894]}, {\"name\": \"Map\", \"text\": [2.2, 2.3, 2.3, 2.3, 2.5, 2.5, 2.6, 2.7, 2.7, 2.7, 2.7, 2.7, 2.8, 2.9, 3.0, 3.0, 3.0, 3.1, 3.2, 3.2, 3.2, 3.2, 3.2, 3.3, 3.4, 3.5, 3.5, 3.5, 3.5, 3.6, 3.6, 3.6, 3.6, 3.6, 3.6, 3.6, 3.7, 3.9, 3.9, 4.0, 4.4, 4.6, 4.7, 4.7, 4.8, 5.0], \"textposition\": \"auto\", \"type\": \"bar\", \"visible\": false, \"x\": [\"Excitebike Arena\", \"Baby Park\", \"Sunshine Airport\", \"Tick-Tock Clock\", \"Yoshi Valley\", \"Moo Moo Meadows\", \"Bone Dry Dunes\", \"Bowser's Castle\", \"SNES Rainbow Road\", \"Hyrule Circuit\", \"Wario's Gold Mine\", \"Dragon Driftway\", \"Mario Circuit\", \"Mount Wario\", \"DK Jungle\", \"Mute City\", \"Sweet Sweet Canyon\", \"Toad Harbor\", \"Cheep Cheep Beach\", \"Super Bell Subway\", \"Music Park\", \"Dry Dry Desert\", \"Dolphin Shoals\", \"Wild Woods\", \"Water Park\", \"Royal Raceway\", \"Ribbon Road\", \"Cloudtop Cruise\", \"Toad's Turnpike\", \"Yoshi Circuit\", \"Ice Ice Outpost\", \"Big Blue\", \"Mario Kart Stadium\", \"Cheese Land\", \"Wario Stadium\", \"Thwomp Ruins\", \"Piranha Plant Slide\", \"Animal Crossing\", \"Twisted Mansion\", \"Shy Guy Falls\", \"Rainbow Road\", \"Donut Plains 3\", \"Neo Bowser City\", \"Electrodome\", \"Sherbet Land\", \"Grumble Volcano\"], \"y\": [2.1666666666666665, 2.2857142857142856, 2.2857142857142856, 2.3333333333333335, 2.4615384615384617, 2.5384615384615383, 2.642857142857143, 2.6666666666666665, 2.6666666666666665, 2.6666666666666665, 2.7, 2.7058823529411766, 2.789473684210526, 2.875, 3.0, 3.0, 3.0, 3.111111111111111, 3.1538461538461537, 3.1666666666666665, 3.1666666666666665, 3.2, 3.25, 3.3076923076923075, 3.375, 3.466666666666667, 3.5, 3.5, 3.526315789473684, 3.5555555555555554, 3.5714285714285716, 3.5714285714285716, 3.5833333333333335, 3.588235294117647, 3.6, 3.625, 3.7058823529411766, 3.857142857142857, 3.9444444444444446, 4.0, 4.428571428571429, 4.625, 4.666666666666667, 4.7272727272727275, 4.75, 5.0]}, {\"name\": \"CC\", \"text\": [3.2, 3.4], \"textposition\": \"auto\", \"type\": \"bar\", \"visible\": false, \"x\": [150, 100], \"y\": [3.1594202898550723, 3.387862796833773]}, {\"name\": \"COM\", \"text\": [3.2, 4.2], \"textposition\": \"auto\", \"type\": \"bar\", \"visible\": false, \"x\": [\"Normal\", \"Hard\"], \"y\": [3.1753986332574033, 4.17948717948718]}, {\"name\": \"Auto Steering\", \"text\": [3.2, 3.5], \"textposition\": \"auto\", \"type\": \"bar\", \"visible\": false, \"x\": [true, false], \"y\": [3.1864406779661016, 3.5135135135135136]}, {\"name\": \"Stick Steering\", \"text\": [3.3], \"textposition\": \"auto\", \"type\": \"bar\", \"visible\": false, \"x\": [true], \"y\": [3.3268858800773695]}, {\"name\": \"Auto Drive\", \"text\": [3.3], \"textposition\": \"auto\", \"type\": \"bar\", \"visible\": false, \"x\": [true], \"y\": [3.3268858800773695]}, {\"name\": \"Date\", \"text\": [1.9, 2.4, 2.7, 2.9, 3.0, 3.1, 3.3, 3.4, 3.5, 3.5, 3.7, 3.9, 3.9, 3.9, 4.0, 4.2], \"textposition\": \"auto\", \"type\": \"bar\", \"visible\": false, \"x\": [\"2024-02-28T00:00:00\", \"2024-09-06T00:00:00\", \"2025-01-17T00:00:00\", \"2025-01-11T00:00:00\", \"2025-01-10T00:00:00\", \"2024-03-07T00:00:00\", \"2024-03-19T00:00:00\", \"2024-03-02T00:00:00\", \"2025-01-07T00:00:00\", \"2024-03-25T00:00:00\", \"2024-03-16T00:00:00\", \"2024-02-29T00:00:00\", \"2024-03-21T00:00:00\", \"2024-05-22T00:00:00\", \"2024-03-04T00:00:00\", \"2024-03-11T00:00:00\"], \"y\": [1.9411764705882353, 2.423076923076923, 2.65625, 2.8518518518518516, 3.0277777777777777, 3.074074074074074, 3.3461538461538463, 3.4074074074074074, 3.5, 3.5416666666666665, 3.7037037037037037, 3.888888888888889, 3.9375, 3.9444444444444446, 4.0, 4.166666666666667]}, {\"name\": \"Randomized\", \"text\": [2.2, 3.3], \"textposition\": \"auto\", \"type\": \"bar\", \"visible\": false, \"x\": [false, true], \"y\": [2.25, 3.343811394891945]}, {\"name\": \"Racer Count\", \"text\": [1.0, 2.6, 3.2, 3.4], \"textposition\": \"auto\", \"type\": \"bar\", \"visible\": false, \"x\": [1, 2, 4, 3], \"y\": [1.0, 2.641509433962264, 3.242424242424242, 3.438287153652393]}],                        {\"autosize\": true, \"template\": {\"data\": {\"bar\": [{\"error_x\": {\"color\": \"#2a3f5f\"}, \"error_y\": {\"color\": \"#2a3f5f\"}, \"marker\": {\"line\": {\"color\": \"#E5ECF6\", \"width\": 0.5}}, \"type\": \"bar\"}], \"barpolar\": [{\"marker\": {\"line\": {\"color\": \"#E5ECF6\", \"width\": 0.5}}, \"type\": \"barpolar\"}], \"carpet\": [{\"aaxis\": {\"endlinecolor\": \"#2a3f5f\", \"gridcolor\": \"white\", \"linecolor\": \"white\", \"minorgridcolor\": \"white\", \"startlinecolor\": \"#2a3f5f\"}, \"baxis\": {\"endlinecolor\": \"#2a3f5f\", \"gridcolor\": \"white\", \"linecolor\": \"white\", \"minorgridcolor\": \"white\", \"startlinecolor\": \"#2a3f5f\"}, \"type\": \"carpet\"}], \"choropleth\": [{\"colorbar\": {\"outlinewidth\": 0, \"ticks\": \"\"}, \"type\": \"choropleth\"}], \"contour\": [{\"colorbar\": {\"outlinewidth\": 0, \"ticks\": \"\"}, \"colorscale\": [[0.0, \"#0d0887\"], [0.1111111111111111, \"#46039f\"], [0.2222222222222222, \"#7201a8\"], [0.3333333333333333, \"#9c179e\"], [0.4444444444444444, \"#bd3786\"], [0.5555555555555556, \"#d8576b\"], [0.6666666666666666, \"#ed7953\"], [0.7777777777777778, \"#fb9f3a\"], [0.8888888888888888, \"#fdca26\"], [1.0, \"#f0f921\"]], \"type\": \"contour\"}], \"contourcarpet\": [{\"colorbar\": {\"outlinewidth\": 0, \"ticks\": \"\"}, \"type\": \"contourcarpet\"}], \"heatmap\": [{\"colorbar\": {\"outlinewidth\": 0, \"ticks\": \"\"}, \"colorscale\": [[0.0, \"#0d0887\"], [0.1111111111111111, \"#46039f\"], [0.2222222222222222, \"#7201a8\"], [0.3333333333333333, \"#9c179e\"], [0.4444444444444444, \"#bd3786\"], [0.5555555555555556, \"#d8576b\"], [0.6666666666666666, \"#ed7953\"], [0.7777777777777778, \"#fb9f3a\"], [0.8888888888888888, \"#fdca26\"], [1.0, \"#f0f921\"]], \"type\": \"heatmap\"}], \"heatmapgl\": [{\"colorbar\": {\"outlinewidth\": 0, \"ticks\": \"\"}, \"colorscale\": [[0.0, \"#0d0887\"], [0.1111111111111111, \"#46039f\"], [0.2222222222222222, \"#7201a8\"], [0.3333333333333333, \"#9c179e\"], [0.4444444444444444, \"#bd3786\"], [0.5555555555555556, \"#d8576b\"], [0.6666666666666666, \"#ed7953\"], [0.7777777777777778, \"#fb9f3a\"], [0.8888888888888888, \"#fdca26\"], [1.0, \"#f0f921\"]], \"type\": \"heatmapgl\"}], \"histogram\": [{\"marker\": {\"colorbar\": {\"outlinewidth\": 0, \"ticks\": \"\"}}, \"type\": \"histogram\"}], \"histogram2d\": [{\"colorbar\": {\"outlinewidth\": 0, \"ticks\": \"\"}, \"colorscale\": [[0.0, \"#0d0887\"], [0.1111111111111111, \"#46039f\"], [0.2222222222222222, \"#7201a8\"], [0.3333333333333333, \"#9c179e\"], [0.4444444444444444, \"#bd3786\"], [0.5555555555555556, \"#d8576b\"], [0.6666666666666666, \"#ed7953\"], [0.7777777777777778, \"#fb9f3a\"], [0.8888888888888888, \"#fdca26\"], [1.0, \"#f0f921\"]], \"type\": \"histogram2d\"}], \"histogram2dcontour\": [{\"colorbar\": {\"outlinewidth\": 0, \"ticks\": \"\"}, \"colorscale\": [[0.0, \"#0d0887\"], [0.1111111111111111, \"#46039f\"], [0.2222222222222222, \"#7201a8\"], [0.3333333333333333, \"#9c179e\"], [0.4444444444444444, \"#bd3786\"], [0.5555555555555556, \"#d8576b\"], [0.6666666666666666, \"#ed7953\"], [0.7777777777777778, \"#fb9f3a\"], [0.8888888888888888, \"#fdca26\"], [1.0, \"#f0f921\"]], \"type\": \"histogram2dcontour\"}], \"mesh3d\": [{\"colorbar\": {\"outlinewidth\": 0, \"ticks\": \"\"}, \"type\": \"mesh3d\"}], \"parcoords\": [{\"line\": {\"colorbar\": {\"outlinewidth\": 0, \"ticks\": \"\"}}, \"type\": \"parcoords\"}], \"pie\": [{\"automargin\": true, \"type\": \"pie\"}], \"scatter\": [{\"marker\": {\"colorbar\": {\"outlinewidth\": 0, \"ticks\": \"\"}}, \"type\": \"scatter\"}], \"scatter3d\": [{\"line\": {\"colorbar\": {\"outlinewidth\": 0, \"ticks\": \"\"}}, \"marker\": {\"colorbar\": {\"outlinewidth\": 0, \"ticks\": \"\"}}, \"type\": \"scatter3d\"}], \"scattercarpet\": [{\"marker\": {\"colorbar\": {\"outlinewidth\": 0, \"ticks\": \"\"}}, \"type\": \"scattercarpet\"}], \"scattergeo\": [{\"marker\": {\"colorbar\": {\"outlinewidth\": 0, \"ticks\": \"\"}}, \"type\": \"scattergeo\"}], \"scattergl\": [{\"marker\": {\"colorbar\": {\"outlinewidth\": 0, \"ticks\": \"\"}}, \"type\": \"scattergl\"}], \"scattermapbox\": [{\"marker\": {\"colorbar\": {\"outlinewidth\": 0, \"ticks\": \"\"}}, \"type\": \"scattermapbox\"}], \"scatterpolar\": [{\"marker\": {\"colorbar\": {\"outlinewidth\": 0, \"ticks\": \"\"}}, \"type\": \"scatterpolar\"}], \"scatterpolargl\": [{\"marker\": {\"colorbar\": {\"outlinewidth\": 0, \"ticks\": \"\"}}, \"type\": \"scatterpolargl\"}], \"scatterternary\": [{\"marker\": {\"colorbar\": {\"outlinewidth\": 0, \"ticks\": \"\"}}, \"type\": \"scatterternary\"}], \"surface\": [{\"colorbar\": {\"outlinewidth\": 0, \"ticks\": \"\"}, \"colorscale\": [[0.0, \"#0d0887\"], [0.1111111111111111, \"#46039f\"], [0.2222222222222222, \"#7201a8\"], [0.3333333333333333, \"#9c179e\"], [0.4444444444444444, \"#bd3786\"], [0.5555555555555556, \"#d8576b\"], [0.6666666666666666, \"#ed7953\"], [0.7777777777777778, \"#fb9f3a\"], [0.8888888888888888, \"#fdca26\"], [1.0, \"#f0f921\"]], \"type\": \"surface\"}], \"table\": [{\"cells\": {\"fill\": {\"color\": \"#EBF0F8\"}, \"line\": {\"color\": \"white\"}}, \"header\": {\"fill\": {\"color\": \"#C8D4E3\"}, \"line\": {\"color\": \"white\"}}, \"type\": \"table\"}]}, \"layout\": {\"annotationdefaults\": {\"arrowcolor\": \"#2a3f5f\", \"arrowhead\": 0, \"arrowwidth\": 1}, \"autotypenumbers\": \"strict\", \"coloraxis\": {\"colorbar\": {\"outlinewidth\": 0, \"ticks\": \"\"}}, \"colorscale\": {\"diverging\": [[0, \"#8e0152\"], [0.1, \"#c51b7d\"], [0.2, \"#de77ae\"], [0.3, \"#f1b6da\"], [0.4, \"#fde0ef\"], [0.5, \"#f7f7f7\"], [0.6, \"#e6f5d0\"], [0.7, \"#b8e186\"], [0.8, \"#7fbc41\"], [0.9, \"#4d9221\"], [1, \"#276419\"]], \"sequential\": [[0.0, \"#0d0887\"], [0.1111111111111111, \"#46039f\"], [0.2222222222222222, \"#7201a8\"], [0.3333333333333333, \"#9c179e\"], [0.4444444444444444, \"#bd3786\"], [0.5555555555555556, \"#d8576b\"], [0.6666666666666666, \"#ed7953\"], [0.7777777777777778, \"#fb9f3a\"], [0.8888888888888888, \"#fdca26\"], [1.0, \"#f0f921\"]], \"sequentialminus\": [[0.0, \"#0d0887\"], [0.1111111111111111, \"#46039f\"], [0.2222222222222222, \"#7201a8\"], [0.3333333333333333, \"#9c179e\"], [0.4444444444444444, \"#bd3786\"], [0.5555555555555556, \"#d8576b\"], [0.6666666666666666, \"#ed7953\"], [0.7777777777777778, \"#fb9f3a\"], [0.8888888888888888, \"#fdca26\"], [1.0, \"#f0f921\"]]}, \"colorway\": [\"#636efa\", \"#EF553B\", \"#00cc96\", \"#ab63fa\", \"#FFA15A\", \"#19d3f3\", \"#FF6692\", \"#B6E880\", \"#FF97FF\", \"#FECB52\"], \"font\": {\"color\": \"#2a3f5f\"}, \"geo\": {\"bgcolor\": \"white\", \"lakecolor\": \"white\", \"landcolor\": \"#E5ECF6\", \"showlakes\": true, \"showland\": true, \"subunitcolor\": \"white\"}, \"hoverlabel\": {\"align\": \"left\"}, \"hovermode\": \"closest\", \"mapbox\": {\"style\": \"light\"}, \"paper_bgcolor\": \"white\", \"plot_bgcolor\": \"#E5ECF6\", \"polar\": {\"angularaxis\": {\"gridcolor\": \"white\", \"linecolor\": \"white\", \"ticks\": \"\"}, \"bgcolor\": \"#E5ECF6\", \"radialaxis\": {\"gridcolor\": \"white\", \"linecolor\": \"white\", \"ticks\": \"\"}}, \"scene\": {\"xaxis\": {\"backgroundcolor\": \"#E5ECF6\", \"gridcolor\": \"white\", \"gridwidth\": 2, \"linecolor\": \"white\", \"showbackground\": true, \"ticks\": \"\", \"zerolinecolor\": \"white\"}, \"yaxis\": {\"backgroundcolor\": \"#E5ECF6\", \"gridcolor\": \"white\", \"gridwidth\": 2, \"linecolor\": \"white\", \"showbackground\": true, \"ticks\": \"\", \"zerolinecolor\": \"white\"}, \"zaxis\": {\"backgroundcolor\": \"#E5ECF6\", \"gridcolor\": \"white\", \"gridwidth\": 2, \"linecolor\": \"white\", \"showbackground\": true, \"ticks\": \"\", \"zerolinecolor\": \"white\"}}, \"shapedefaults\": {\"line\": {\"color\": \"#2a3f5f\"}}, \"ternary\": {\"aaxis\": {\"gridcolor\": \"white\", \"linecolor\": \"white\", \"ticks\": \"\"}, \"baxis\": {\"gridcolor\": \"white\", \"linecolor\": \"white\", \"ticks\": \"\"}, \"bgcolor\": \"#E5ECF6\", \"caxis\": {\"gridcolor\": \"white\", \"linecolor\": \"white\", \"ticks\": \"\"}}, \"title\": {\"x\": 0.05}, \"xaxis\": {\"automargin\": true, \"gridcolor\": \"white\", \"linecolor\": \"white\", \"ticks\": \"\", \"title\": {\"standoff\": 15}, \"zerolinecolor\": \"white\", \"zerolinewidth\": 2}, \"yaxis\": {\"automargin\": true, \"gridcolor\": \"white\", \"linecolor\": \"white\", \"ticks\": \"\", \"title\": {\"standoff\": 15}, \"zerolinecolor\": \"white\", \"zerolinewidth\": 2}}}, \"title\": {\"text\": \"Average Placements: All Players\"}, \"updatemenus\": [{\"active\": 0, \"buttons\": [{\"args\": [{\"visible\": [true, false, false, false, false, false, false, false, false, false, false, false, false, false, false]}], \"label\": \"Character\", \"method\": \"update\"}, {\"args\": [{\"visible\": [false, true, false, false, false, false, false, false, false, false, false, false, false, false, false]}], \"label\": \"Vehicle\", \"method\": \"update\"}, {\"args\": [{\"visible\": [false, false, true, false, false, false, false, false, false, false, false, false, false, false, false]}], \"label\": \"Wheels\", \"method\": \"update\"}, {\"args\": [{\"visible\": [false, false, false, true, false, false, false, false, false, false, false, false, false, false, false]}], \"label\": \"Glider\", \"method\": \"update\"}, {\"args\": [{\"visible\": [false, false, false, false, true, false, false, false, false, false, false, false, false, false, false]}], \"label\": \"Racer\", \"method\": \"update\"}, {\"args\": [{\"visible\": [false, false, false, false, false, true, false, false, false, false, false, false, false, false, false]}], \"label\": \"Controller Color\", \"method\": \"update\"}, {\"args\": [{\"visible\": [false, false, false, false, false, false, true, false, false, false, false, false, false, false, false]}], \"label\": \"Map\", \"method\": \"update\"}, {\"args\": [{\"visible\": [false, false, false, false, false, false, false, true, false, false, false, false, false, false, false]}], \"label\": \"CC\", \"method\": \"update\"}, {\"args\": [{\"visible\": [false, false, false, false, false, false, false, false, true, false, false, false, false, false, false]}], \"label\": \"COM\", \"method\": \"update\"}, {\"args\": [{\"visible\": [false, false, false, false, false, false, false, false, false, true, false, false, false, false, false]}], \"label\": \"Auto Steering\", \"method\": \"update\"}, {\"args\": [{\"visible\": [false, false, false, false, false, false, false, false, false, false, true, false, false, false, false]}], \"label\": \"Stick Steering\", \"method\": \"update\"}, {\"args\": [{\"visible\": [false, false, false, false, false, false, false, false, false, false, false, true, false, false, false]}], \"label\": \"Auto Drive\", \"method\": \"update\"}, {\"args\": [{\"visible\": [false, false, false, false, false, false, false, false, false, false, false, false, true, false, false]}], \"label\": \"Date\", \"method\": \"update\"}, {\"args\": [{\"visible\": [false, false, false, false, false, false, false, false, false, false, false, false, false, true, false]}], \"label\": \"Randomized\", \"method\": \"update\"}, {\"args\": [{\"visible\": [false, false, false, false, false, false, false, false, false, false, false, false, false, false, true]}], \"label\": \"Racer Count\", \"method\": \"update\"}], \"x\": 0, \"xanchor\": \"left\", \"y\": 1.125, \"yanchor\": \"top\"}], \"yaxis\": {\"range\": [0, 12]}},                        {\"responsive\": true}                    ).then(function(){\n",
       "                            \n",
       "var gd = document.getElementById('5bcd8ab3-0a01-47dd-820f-e79ac431f44f');\n",
       "var x = new MutationObserver(function (mutations, observer) {{\n",
       "        var display = window.getComputedStyle(gd).display;\n",
       "        if (!display || display === 'none') {{\n",
       "            console.log([gd, 'removed!']);\n",
       "            Plotly.purge(gd);\n",
       "            observer.disconnect();\n",
       "        }}\n",
       "}});\n",
       "\n",
       "// Listen for the removal of the full notebook cells\n",
       "var notebookContainer = gd.closest('#notebook-container');\n",
       "if (notebookContainer) {{\n",
       "    x.observe(notebookContainer, {childList: true});\n",
       "}}\n",
       "\n",
       "// Listen for the clearing of the current output cell\n",
       "var outputEl = gd.closest('.output');\n",
       "if (outputEl) {{\n",
       "    x.observe(outputEl, {childList: true});\n",
       "}}\n",
       "\n",
       "                        })                };                });            </script>        </div>"
      ]
     },
     "metadata": {},
     "output_type": "display_data"
    }
   ],
   "source": [
    "# AVERAGE PLACEMENTS\n",
    "fig = go.Figure()\n",
    "n=0\n",
    "buttons_list = []\n",
    "\n",
    "for column in df.columns:\n",
    "    if (column != \"Place\"):\n",
    "        avg_placements = df.groupby(column).mean()[\"Place\"]\n",
    "        avg_placements = avg_placements.sort_values()\n",
    "        fig.add_bar(x = avg_placements.index, \n",
    "                    y = avg_placements.values, \n",
    "                    name = column,\n",
    "                    text = avg_placements.values.round(1), \n",
    "                    textposition='auto'\n",
    "                   )\n",
    "        label = column\n",
    "        buttons_list.append({'method': 'update', 'label':label,'args':[{'visible': visibility_mask[n][:-1]}]})\n",
    "        fig.data[n].visible=False\n",
    "        n+=1\n",
    "\n",
    "\n",
    "fig.update_layout(updatemenus=[dict(active=0, buttons=buttons_list, x=0, xanchor=\"left\", y=1.125,yanchor=\"top\")],\n",
    "                title=\"Average Placements: All Players\", autosize=True, yaxis_range=[0,12])\n",
    "fig.data[0].visible=True\n",
    "fig.show()\n",
    "average_placements_graph = fig"
   ]
  },
  {
   "cell_type": "code",
   "execution_count": 21,
   "metadata": {},
   "outputs": [
    {
     "data": {
      "application/vnd.plotly.v1+json": {
       "config": {
        "plotlyServerURL": "https://plot.ly"
       },
       "data": [
        {
         "name": "Character",
         "text": [
          1,
          1,
          1.8,
          2,
          2,
          2.5,
          2.5,
          2.8,
          3,
          3,
          3,
          3,
          3,
          3.2,
          3.2,
          3.4,
          3.5,
          3.5,
          3.6,
          3.6,
          4,
          4,
          4.3,
          4.3,
          4.5,
          4.5,
          4.5,
          4.5,
          4.5,
          4.5,
          5.3,
          6.2,
          6.5,
          7.5
         ],
         "textposition": "auto",
         "type": "bar",
         "visible": true,
         "x": [
          "Villager (Girl)",
          "Link",
          "Metal Mario",
          "Donkey Kong",
          "Lemmy",
          "King Boo",
          "Inkling Boy",
          "Inkling Girl",
          "Toad",
          "Dry Bones",
          "Iggy",
          "Isabelle",
          "Morton",
          "Daisy",
          "Koopa Troopa",
          "Lakitu",
          "Toadette",
          "Shy Guy",
          "Bowser Jr.",
          "Baby Daisy",
          "Rosalina",
          "Wario",
          "Baby Rosalina",
          "Waluigi",
          "Wendy",
          "Tanooki Mario",
          "Bowser",
          "Baby Peach",
          "Mario",
          "Yoshi",
          "Peach",
          "Ludwig",
          "Larry",
          "Villager (Boy)"
         ],
         "xaxis": "x",
         "y": [
          1,
          1,
          1.8333333333333333,
          2,
          2,
          2.5,
          2.5,
          2.75,
          3,
          3,
          3,
          3,
          3,
          3.1666666666666665,
          3.1666666666666665,
          3.375,
          3.5,
          3.5,
          3.5555555555555554,
          3.5714285714285716,
          4,
          4,
          4.285714285714286,
          4.333333333333333,
          4.5,
          4.5,
          4.5,
          4.5,
          4.5,
          4.5,
          5.3,
          6.25,
          6.5,
          7.5
         ],
         "yaxis": "y"
        },
        {
         "name": "Vehicle",
         "text": [
          1,
          1,
          1.5,
          2,
          2.2,
          2.3,
          2.5,
          2.6,
          2.8,
          3,
          3,
          3,
          3,
          3.3,
          3.4,
          3.5,
          3.7,
          4,
          4,
          4.1,
          4.5,
          4.5,
          4.5,
          4.6,
          4.7,
          4.7,
          5,
          6,
          6.2,
          6.5
         ],
         "textposition": "auto",
         "type": "bar",
         "visible": false,
         "x": [
          "Landship",
          "Jet Bike",
          "300 SL Roadster",
          "Biddybuggy",
          "Standard ATV",
          "Standard Bike",
          "Varmint",
          "Teddy Buggy",
          "City Tripper",
          "Sports Coupe",
          "Mr. Scooty",
          "Cat Cruiser",
          "Circuit Special",
          "Master Cycle",
          "GLA",
          "Splat Buggy",
          "The Duke",
          "Streetle",
          "Comet",
          "Mach 8",
          "Blue Falcon",
          "Steel Driver",
          "Yoshi Bike",
          "Sneeker",
          "Tanooki Cart",
          "Tri-Speeder",
          "Pipe Frame",
          "B Dasher",
          "P-Wing",
          "Koopa Clown"
         ],
         "xaxis": "x",
         "y": [
          1,
          1,
          1.5,
          2,
          2.1666666666666665,
          2.3333333333333335,
          2.5,
          2.625,
          2.8333333333333335,
          3,
          3,
          3,
          3,
          3.3333333333333335,
          3.4444444444444446,
          3.5,
          3.7142857142857144,
          4,
          4,
          4.125,
          4.5,
          4.5,
          4.5,
          4.571428571428571,
          4.666666666666667,
          4.714285714285714,
          5,
          6,
          6.25,
          6.5
         ],
         "yaxis": "y"
        },
        {
         "name": "Wheels",
         "text": [
          1,
          2,
          2.3,
          2.5,
          2.5,
          3.3,
          3.5,
          3.5,
          3.5,
          3.6,
          3.6,
          3.7,
          3.8,
          4,
          4,
          4.3,
          4.8,
          5.2,
          5.2,
          7
         ],
         "textposition": "auto",
         "type": "bar",
         "visible": false,
         "x": [
          "Retro Offroad",
          "Retro Off-Road",
          "Triforce Tires",
          "Slick",
          "Standard",
          "Hot Monster",
          "Cushion",
          "GLA Tires",
          "Slim",
          "Blue Standard",
          "Button",
          "Ancient Tires",
          "Cyber Slick",
          "Crimson Slim",
          "Roller",
          "Wood",
          "Off-Road",
          "Azure Roller",
          "Monster",
          "Metal"
         ],
         "xaxis": "x",
         "y": [
          1,
          2,
          2.3333333333333335,
          2.4545454545454546,
          2.5,
          3.3333333333333335,
          3.5,
          3.5,
          3.5384615384615383,
          3.5833333333333335,
          3.6,
          3.7142857142857144,
          3.75,
          4,
          4,
          4.285714285714286,
          4.75,
          5.166666666666667,
          5.2,
          7
         ],
         "yaxis": "y"
        },
        {
         "name": "Glider",
         "text": [
          2.2,
          2.7,
          2.8,
          3.1,
          3.2,
          3.4,
          3.5,
          3.6,
          4,
          4.3,
          4.4,
          4.7,
          5,
          5.1
         ],
         "textposition": "auto",
         "type": "bar",
         "visible": false,
         "x": [
          "Wario Wing",
          "Waddle Wing",
          "Cloud Glider",
          "Parachute",
          "Flower Glider",
          "Hylian Kite",
          "Paper Glider",
          "Peach Parasol",
          "MKTV Parafoil",
          "Super Glider",
          "Bowser Kite",
          "Plane Glider",
          "Parafoil",
          "Paraglider"
         ],
         "xaxis": "x",
         "y": [
          2.25,
          2.7142857142857144,
          2.75,
          3.0588235294117645,
          3.1666666666666665,
          3.4285714285714284,
          3.526315789473684,
          3.625,
          4,
          4.333333333333333,
          4.4,
          4.714285714285714,
          5,
          5.1
         ],
         "yaxis": "y"
        },
        {
         "name": "Racer",
         "text": [
          3.7
         ],
         "textposition": "auto",
         "type": "bar",
         "visible": false,
         "x": [
          "Sofia"
         ],
         "xaxis": "x",
         "y": [
          3.6802721088435373
         ],
         "yaxis": "y"
        },
        {
         "name": "Controller Color",
         "text": [
          3.7,
          3.7
         ],
         "textposition": "auto",
         "type": "bar",
         "visible": false,
         "x": [
          "Red",
          "Blue"
         ],
         "xaxis": "x",
         "y": [
          3.661290322580645,
          3.6941176470588237
         ],
         "yaxis": "y"
        },
        {
         "name": "Map",
         "text": [
          1,
          1,
          1.3,
          1.5,
          2,
          2,
          2,
          2,
          2.5,
          2.8,
          3,
          3,
          3,
          3.2,
          3.2,
          3.2,
          3.3,
          3.3,
          3.3,
          3.4,
          3.5,
          3.5,
          3.5,
          3.6,
          3.8,
          3.8,
          4,
          4,
          4,
          4,
          4,
          4.2,
          4.2,
          4.5,
          4.6,
          4.8,
          5,
          5,
          5.3,
          5.3,
          5.5,
          5.5,
          5.8,
          6,
          6
         ],
         "textposition": "auto",
         "type": "bar",
         "visible": false,
         "x": [
          "Thwomp Ruins",
          "Baby Park",
          "Sunshine Airport",
          "Wild Woods",
          "Sherbet Land",
          "Dry Dry Desert",
          "Mount Wario",
          "Big Blue",
          "Hyrule Circuit",
          "Tick-Tock Clock",
          "Toad Harbor",
          "Dragon Driftway",
          "Mute City",
          "Cheese Land",
          "Bone Dry Dunes",
          "Cheep Cheep Beach",
          "Music Park",
          "Rainbow Road",
          "Yoshi Circuit",
          "Yoshi Valley",
          "Bowser's Castle",
          "Cloudtop Cruise",
          "Moo Moo Meadows",
          "Ribbon Road",
          "Mario Kart Stadium",
          "Mario Circuit",
          "Water Park",
          "Dolphin Shoals",
          "Super Bell Subway",
          "Piranha Plant Slide",
          "Ice Ice Outpost",
          "Grumble Volcano",
          "Twisted Mansion",
          "Wario's Gold Mine",
          "Toad's Turnpike",
          "Royal Raceway",
          "SNES Rainbow Road",
          "Animal Crossing",
          "Donut Plains 3",
          "Sweet Sweet Canyon",
          "Wario Stadium",
          "Neo Bowser City",
          "Electrodome",
          "Shy Guy Falls",
          "DK Jungle"
         ],
         "xaxis": "x",
         "y": [
          1,
          1,
          1.3333333333333333,
          1.5,
          2,
          2,
          2,
          2,
          2.5,
          2.75,
          3,
          3,
          3,
          3.1666666666666665,
          3.2,
          3.25,
          3.3333333333333335,
          3.3333333333333335,
          3.3333333333333335,
          3.4,
          3.5,
          3.5,
          3.5,
          3.5714285714285716,
          3.75,
          3.8,
          4,
          4,
          4,
          4,
          4,
          4.25,
          4.25,
          4.5,
          4.6,
          4.75,
          5,
          5,
          5.333333333333333,
          5.333333333333333,
          5.5,
          5.5,
          5.75,
          6,
          6
         ],
         "yaxis": "y"
        },
        {
         "name": "CC",
         "text": [
          3.5,
          4.4
         ],
         "textposition": "auto",
         "type": "bar",
         "visible": false,
         "x": [
          100,
          150
         ],
         "xaxis": "x",
         "y": [
          3.5126050420168067,
          4.392857142857143
         ],
         "yaxis": "y"
        },
        {
         "name": "COM",
         "text": [
          3.3,
          5.1
         ],
         "textposition": "auto",
         "type": "bar",
         "visible": false,
         "x": [
          "Normal",
          "Hard"
         ],
         "xaxis": "x",
         "y": [
          3.3076923076923075,
          5.133333333333334
         ],
         "yaxis": "y"
        },
        {
         "name": "Auto Steering",
         "text": [
          3.5,
          3.8
         ],
         "textposition": "auto",
         "type": "bar",
         "visible": false,
         "x": [
          true,
          false
         ],
         "xaxis": "x",
         "y": [
          3.533333333333333,
          3.8333333333333335
         ],
         "yaxis": "y"
        },
        {
         "name": "Stick Steering",
         "text": [
          3.7
         ],
         "textposition": "auto",
         "type": "bar",
         "visible": false,
         "x": [
          true
         ],
         "xaxis": "x",
         "y": [
          3.6802721088435373
         ],
         "yaxis": "y"
        },
        {
         "name": "Auto Drive",
         "text": [
          3.7
         ],
         "textposition": "auto",
         "type": "bar",
         "visible": false,
         "x": [
          true
         ],
         "xaxis": "x",
         "y": [
          3.6802721088435373
         ],
         "yaxis": "y"
        },
        {
         "mode": "lines+markers",
         "name": "Date (Sofia)",
         "type": "scatter",
         "visible": false,
         "x": [
          "2024-02-28T00:00:00",
          "2024-02-29T00:00:00",
          "2024-03-02T00:00:00",
          "2024-03-04T00:00:00",
          "2024-03-07T00:00:00",
          "2024-03-11T00:00:00",
          "2024-03-16T00:00:00",
          "2024-03-19T00:00:00",
          "2024-03-21T00:00:00",
          "2024-03-25T00:00:00",
          "2024-05-22T00:00:00",
          "2024-09-06T00:00:00",
          "2025-01-07T00:00:00",
          "2025-01-17T00:00:00"
         ],
         "xaxis": "x",
         "y": [
          1.4444444444444444,
          2.1666666666666665,
          3.611111111111111,
          4.75,
          3.611111111111111,
          3.9166666666666665,
          4.333333333333333,
          3.8,
          3.75,
          4.833333333333333,
          4.5,
          2.6,
          3.75,
          3
         ],
         "yaxis": "y"
        },
        {
         "name": "Randomized",
         "text": [
          1.8,
          3.7
         ],
         "textposition": "auto",
         "type": "bar",
         "visible": false,
         "x": [
          false,
          true
         ],
         "xaxis": "x",
         "y": [
          1.75,
          3.734265734265734
         ],
         "yaxis": "y"
        },
        {
         "name": "Racer Count",
         "text": [
          1,
          2.8,
          3.9,
          3.7
         ],
         "textposition": "auto",
         "type": "bar",
         "visible": false,
         "x": [
          1,
          2,
          3,
          4
         ],
         "xaxis": "x",
         "y": [
          1,
          2.7777777777777777,
          3.9411764705882355,
          3.7058823529411766
         ],
         "yaxis": "y"
        },
        {
         "name": "Character",
         "text": [
          1.5,
          1.5,
          2,
          2,
          2.2,
          2.3,
          2.5,
          2.5,
          3,
          3,
          3,
          3.2,
          3.7,
          4,
          4,
          4,
          4,
          4.2,
          4.4,
          4.5,
          4.5,
          4.5,
          4.7,
          4.9,
          5,
          5,
          5.2,
          5.3,
          6.5,
          6.5,
          6.5,
          7,
          7.2,
          8.5
         ],
         "textposition": "auto",
         "type": "bar",
         "visible": true,
         "x": [
          "Villager (Girl)",
          "Larry",
          "Tanooki Mario",
          "Bowser",
          "Toadette",
          "Morton",
          "Isabelle",
          "Wendy",
          "Metal Mario",
          "Dry Bones",
          "Iggy",
          "Shy Guy",
          "Baby Rosalina",
          "Ludwig",
          "Rosalina",
          "Bowser Jr.",
          "Link",
          "Peach",
          "Lakitu",
          "Inkling Boy",
          "Daisy",
          "Toad",
          "Wario",
          "Yoshi",
          "Donkey Kong",
          "Inkling Girl",
          "Koopa Troopa",
          "Baby Daisy",
          "Villager (Boy)",
          "King Boo",
          "Baby Peach",
          "Waluigi",
          "Mario",
          "Lemmy"
         ],
         "xaxis": "x2",
         "y": [
          1.5,
          1.5,
          2,
          2,
          2.25,
          2.3333333333333335,
          2.5,
          2.5,
          3,
          3,
          3,
          3.25,
          3.7142857142857144,
          4,
          4,
          4,
          4,
          4.2,
          4.428571428571429,
          4.5,
          4.5,
          4.5,
          4.666666666666667,
          4.9,
          5,
          5,
          5.166666666666667,
          5.333333333333333,
          6.5,
          6.5,
          6.5,
          7,
          7.25,
          8.5
         ],
         "yaxis": "y2"
        },
        {
         "name": "Vehicle",
         "text": [
          1,
          2,
          2,
          2.2,
          3,
          3.3,
          3.6,
          3.6,
          3.6,
          3.7,
          3.7,
          4,
          4,
          4,
          4,
          4.2,
          4.3,
          4.4,
          4.8,
          4.9,
          5,
          5,
          5.3,
          5.3,
          5.5,
          5.5,
          6.5,
          6.8,
          10
         ],
         "textposition": "auto",
         "type": "bar",
         "visible": false,
         "x": [
          "Comet",
          "300 SL Roadster",
          "P-Wing",
          "Yoshi Bike",
          "Teddy Buggy",
          "City Tripper",
          "Biddybuggy",
          "Sneeker",
          "Splat Buggy",
          "Circuit Special",
          "Streetle",
          "Tanooki Cart",
          "Landship",
          "Master Cycle",
          "Sports Coupe",
          "Standard Bike",
          "Cat Cruiser",
          "Pipe Frame",
          "Mr. Scooty",
          "Tri-Speeder",
          "The Duke",
          "Varmint",
          "GLA",
          "Koopa Clown",
          "Standard ATV",
          "Steel Driver",
          "Blue Falcon",
          "Mach 8",
          "B Dasher"
         ],
         "xaxis": "x2",
         "y": [
          1,
          2,
          2,
          2.25,
          3,
          3.3333333333333335,
          3.5714285714285716,
          3.5714285714285716,
          3.625,
          3.6666666666666665,
          3.6666666666666665,
          4,
          4,
          4,
          4,
          4.25,
          4.333333333333333,
          4.375,
          4.75,
          4.857142857142857,
          5,
          5,
          5.285714285714286,
          5.333333333333333,
          5.5,
          5.5,
          6.5,
          6.75,
          10
         ],
         "yaxis": "y2"
        },
        {
         "name": "Wheels",
         "text": [
          1.9,
          2.5,
          2.5,
          2.5,
          2.8,
          3.8,
          4,
          4,
          4.2,
          4.2,
          4.3,
          4.4,
          4.5,
          4.5,
          5,
          5.4,
          5.4,
          6,
          6.5,
          6.7
         ],
         "textposition": "auto",
         "type": "bar",
         "visible": false,
         "x": [
          "Button",
          "Cushion",
          "Retro Offroad",
          "Roller",
          "Blue Standard",
          "Hot Monster",
          "Ancient Tires",
          "Crimson Slim",
          "Off-Road",
          "Standard",
          "Slick",
          "GLA Tires",
          "Cyber Slick",
          "Triforce Tires",
          "Retro Off-Road",
          "Slim",
          "Wood",
          "Monster",
          "Metal",
          "Azure Roller"
         ],
         "xaxis": "x2",
         "y": [
          1.8888888888888888,
          2.5,
          2.5,
          2.5,
          2.8181818181818183,
          3.75,
          4,
          4,
          4.166666666666667,
          4.25,
          4.333333333333333,
          4.375,
          4.5,
          4.5,
          5,
          5.384615384615385,
          5.428571428571429,
          6,
          6.5,
          6.666666666666667
         ],
         "yaxis": "y2"
        },
        {
         "name": "Glider",
         "text": [
          2.6,
          3.2,
          3.3,
          3.6,
          3.8,
          4.1,
          4.4,
          4.5,
          4.6,
          4.6,
          4.6,
          5.4,
          6.7,
          7.7
         ],
         "textposition": "auto",
         "type": "bar",
         "visible": false,
         "x": [
          "Hylian Kite",
          "Cloud Glider",
          "Flower Glider",
          "Parachute",
          "Bowser Kite",
          "MKTV Parafoil",
          "Plane Glider",
          "Paper Glider",
          "Paraglider",
          "Super Glider",
          "Wario Wing",
          "Peach Parasol",
          "Parafoil",
          "Waddle Wing"
         ],
         "xaxis": "x2",
         "y": [
          2.5714285714285716,
          3.1666666666666665,
          3.3333333333333335,
          3.5714285714285716,
          3.8333333333333335,
          4.136363636363637,
          4.444444444444445,
          4.529411764705882,
          4.555555555555555,
          4.571428571428571,
          4.625,
          5.375,
          6.666666666666667,
          7.666666666666667
         ],
         "yaxis": "y2"
        },
        {
         "name": "Racer",
         "text": [
          4.3
         ],
         "textposition": "auto",
         "type": "bar",
         "visible": false,
         "x": [
          "Kaima"
         ],
         "xaxis": "x2",
         "y": [
          4.298507462686567
         ],
         "yaxis": "y2"
        },
        {
         "name": "Controller Color",
         "text": [
          3.8,
          4.7
         ],
         "textposition": "auto",
         "type": "bar",
         "visible": false,
         "x": [
          "Red",
          "Blue"
         ],
         "xaxis": "x2",
         "y": [
          3.783333333333333,
          4.716216216216216
         ],
         "yaxis": "y2"
        },
        {
         "name": "Map",
         "text": [
          1,
          1.5,
          2,
          2.5,
          2.5,
          2.5,
          2.5,
          2.6,
          2.8,
          2.8,
          3,
          3,
          3,
          3,
          3,
          3,
          3.5,
          3.5,
          3.7,
          3.7,
          4,
          4,
          4,
          4.3,
          4.3,
          4.5,
          4.5,
          4.8,
          5,
          5,
          5,
          5,
          5,
          5,
          5.2,
          5.3,
          5.3,
          5.5,
          6,
          6.5,
          6.5,
          7.3,
          7.5,
          9.5,
          10
         ],
         "textposition": "auto",
         "type": "bar",
         "visible": false,
         "x": [
          "SNES Rainbow Road",
          "Shy Guy Falls",
          "Sweet Sweet Canyon",
          "Bone Dry Dunes",
          "Dry Dry Desert",
          "Tick-Tock Clock",
          "Moo Moo Meadows",
          "Mario Circuit",
          "Yoshi Valley",
          "Dragon Driftway",
          "Sunshine Airport",
          "Mount Wario",
          "Water Park",
          "Big Blue",
          "Baby Park",
          "DK Jungle",
          "Cheep Cheep Beach",
          "Bowser's Castle",
          "Super Bell Subway",
          "Thwomp Ruins",
          "Wario's Gold Mine",
          "Mute City",
          "Dolphin Shoals",
          "Rainbow Road",
          "Royal Raceway",
          "Wario Stadium",
          "Hyrule Circuit",
          "Toad's Turnpike",
          "Yoshi Circuit",
          "Cheese Land",
          "Cloudtop Cruise",
          "Animal Crossing",
          "Ribbon Road",
          "Ice Ice Outpost",
          "Mario Kart Stadium",
          "Music Park",
          "Electrodome",
          "Toad Harbor",
          "Twisted Mansion",
          "Donut Plains 3",
          "Neo Bowser City",
          "Piranha Plant Slide",
          "Wild Woods",
          "Grumble Volcano",
          "Sherbet Land"
         ],
         "xaxis": "x2",
         "y": [
          1,
          1.5,
          2,
          2.5,
          2.5,
          2.5,
          2.5,
          2.6,
          2.75,
          2.8333333333333335,
          3,
          3,
          3,
          3,
          3,
          3,
          3.5,
          3.5,
          3.6666666666666665,
          3.6666666666666665,
          4,
          4,
          4,
          4.333333333333333,
          4.333333333333333,
          4.5,
          4.5,
          4.75,
          5,
          5,
          5,
          5,
          5,
          5,
          5.25,
          5.333333333333333,
          5.333333333333333,
          5.5,
          6,
          6.5,
          6.5,
          7.333333333333333,
          7.5,
          9.5,
          10
         ],
         "yaxis": "y2"
        },
        {
         "name": "CC",
         "text": [
          4.1,
          4.3
         ],
         "textposition": "auto",
         "type": "bar",
         "visible": false,
         "x": [
          150,
          100
         ],
         "xaxis": "x2",
         "y": [
          4.1,
          4.333333333333333
         ],
         "yaxis": "y2"
        },
        {
         "name": "COM",
         "text": [
          4.1,
          5.4
         ],
         "textposition": "auto",
         "type": "bar",
         "visible": false,
         "x": [
          "Normal",
          "Hard"
         ],
         "xaxis": "x2",
         "y": [
          4.129310344827586,
          5.388888888888889
         ],
         "yaxis": "y2"
        },
        {
         "name": "Auto Steering",
         "text": [
          3.6,
          5.1
         ],
         "textposition": "auto",
         "type": "bar",
         "visible": false,
         "x": [
          true,
          false
         ],
         "xaxis": "x2",
         "y": [
          3.6,
          5.0625
         ],
         "yaxis": "y2"
        },
        {
         "name": "Stick Steering",
         "text": [
          4.3
         ],
         "textposition": "auto",
         "type": "bar",
         "visible": false,
         "x": [
          true
         ],
         "xaxis": "x2",
         "y": [
          4.298507462686567
         ],
         "yaxis": "y2"
        },
        {
         "name": "Auto Drive",
         "text": [
          4.3
         ],
         "textposition": "auto",
         "type": "bar",
         "visible": false,
         "x": [
          true
         ],
         "xaxis": "x2",
         "y": [
          4.298507462686567
         ],
         "yaxis": "y2"
        },
        {
         "mode": "lines+markers",
         "name": "Date (Kaima)",
         "type": "scatter",
         "visible": false,
         "x": [
          "2024-02-28T00:00:00",
          "2024-02-29T00:00:00",
          "2024-03-02T00:00:00",
          "2024-03-04T00:00:00",
          "2024-03-07T00:00:00",
          "2024-03-11T00:00:00",
          "2024-03-16T00:00:00",
          "2024-03-19T00:00:00",
          "2024-03-21T00:00:00",
          "2024-05-22T00:00:00",
          "2024-09-06T00:00:00",
          "2025-01-07T00:00:00",
          "2025-01-17T00:00:00"
         ],
         "xaxis": "x2",
         "y": [
          2.5,
          2.6666666666666665,
          4,
          5.416666666666667,
          4.388888888888889,
          6.583333333333333,
          4.611111111111111,
          4,
          2.25,
          6.333333333333333,
          2.6,
          4.5,
          3.875
         ],
         "yaxis": "y2"
        },
        {
         "name": "Randomized",
         "text": [
          2.8,
          4.3
         ],
         "textposition": "auto",
         "type": "bar",
         "visible": false,
         "x": [
          false,
          true
         ],
         "xaxis": "x2",
         "y": [
          2.75,
          4.346153846153846
         ],
         "yaxis": "y2"
        },
        {
         "name": "Racer Count",
         "text": [
          2.6,
          4.7,
          3.6
         ],
         "textposition": "auto",
         "type": "bar",
         "visible": false,
         "x": [
          2,
          3,
          4
         ],
         "xaxis": "x2",
         "y": [
          2.6,
          4.650485436893204,
          3.625
         ],
         "yaxis": "y2"
        },
        {
         "name": "Character",
         "text": [
          5.5,
          6.5,
          7,
          8,
          8,
          12
         ],
         "textposition": "auto",
         "type": "bar",
         "visible": true,
         "x": [
          "Toad",
          "Isabelle",
          "Dry Bones",
          "Morton",
          "Villager (Girl)",
          "Baby Rosalina"
         ],
         "xaxis": "x3",
         "y": [
          5.5,
          6.5,
          7,
          8,
          8,
          12
         ],
         "yaxis": "y3"
        },
        {
         "name": "Vehicle",
         "text": [
          5,
          6.3,
          8,
          8,
          8.7
         ],
         "textposition": "auto",
         "type": "bar",
         "visible": false,
         "x": [
          "Streetle",
          "Sneeker",
          "Splat Buggy",
          "Tri-Speeder",
          "GLA"
         ],
         "xaxis": "x3",
         "y": [
          5,
          6.333333333333333,
          8,
          8,
          8.666666666666666
         ],
         "yaxis": "y3"
        },
        {
         "name": "Wheels",
         "text": [
          5,
          5.5,
          7,
          8,
          8,
          12
         ],
         "textposition": "auto",
         "type": "bar",
         "visible": false,
         "x": [
          "Monster",
          "Slick",
          "Slim",
          "Ancient Tires",
          "Button",
          "Wood"
         ],
         "xaxis": "x3",
         "y": [
          5,
          5.5,
          7,
          8,
          8,
          12
         ],
         "yaxis": "y3"
        },
        {
         "name": "Glider",
         "text": [
          5,
          5.5,
          7.3,
          8,
          8,
          12
         ],
         "textposition": "auto",
         "type": "bar",
         "visible": false,
         "x": [
          "Paper Glider",
          "Wario Wing",
          "MKTV Parafoil",
          "Parachute",
          "Parafoil",
          "Hylian Kite"
         ],
         "xaxis": "x3",
         "y": [
          5,
          5.5,
          7.333333333333333,
          8,
          8,
          12
         ],
         "yaxis": "y3"
        },
        {
         "name": "Racer",
         "text": [
          7.4
         ],
         "textposition": "auto",
         "type": "bar",
         "visible": false,
         "x": [
          "Jules"
         ],
         "xaxis": "x3",
         "y": [
          7.4
         ],
         "yaxis": "y3"
        },
        {
         "name": "Controller Color",
         "text": [
          6.3,
          9
         ],
         "textposition": "auto",
         "type": "bar",
         "visible": false,
         "x": [
          "Blue",
          "Red"
         ],
         "xaxis": "x3",
         "y": [
          6.333333333333333,
          9
         ],
         "yaxis": "y3"
        },
        {
         "name": "Map",
         "text": [
          4,
          5,
          6,
          7,
          7,
          8,
          8,
          10,
          12
         ],
         "textposition": "auto",
         "type": "bar",
         "visible": false,
         "x": [
          "Mario Circuit",
          "Yoshi Circuit",
          "Thwomp Ruins",
          "Big Blue",
          "Dragon Driftway",
          "Cheese Land",
          "Toad's Turnpike",
          "Dry Dry Desert",
          "Water Park"
         ],
         "xaxis": "x3",
         "y": [
          4,
          5,
          6,
          7,
          7,
          8,
          8,
          10,
          12
         ],
         "yaxis": "y3"
        },
        {
         "name": "CC",
         "text": [
          7.4
         ],
         "textposition": "auto",
         "type": "bar",
         "visible": false,
         "x": [
          100
         ],
         "xaxis": "x3",
         "y": [
          7.4
         ],
         "yaxis": "y3"
        },
        {
         "name": "COM",
         "text": [
          7.4
         ],
         "textposition": "auto",
         "type": "bar",
         "visible": false,
         "x": [
          "Normal"
         ],
         "xaxis": "x3",
         "y": [
          7.4
         ],
         "yaxis": "y3"
        },
        {
         "name": "Auto Steering",
         "text": [
          7.4
         ],
         "textposition": "auto",
         "type": "bar",
         "visible": false,
         "x": [
          true
         ],
         "xaxis": "x3",
         "y": [
          7.4
         ],
         "yaxis": "y3"
        },
        {
         "name": "Stick Steering",
         "text": [
          7.4
         ],
         "textposition": "auto",
         "type": "bar",
         "visible": false,
         "x": [
          true
         ],
         "xaxis": "x3",
         "y": [
          7.4
         ],
         "yaxis": "y3"
        },
        {
         "name": "Auto Drive",
         "text": [
          7.4
         ],
         "textposition": "auto",
         "type": "bar",
         "visible": false,
         "x": [
          true
         ],
         "xaxis": "x3",
         "y": [
          7.4
         ],
         "yaxis": "y3"
        },
        {
         "mode": "lines+markers",
         "name": "Date (Jules)",
         "type": "scatter",
         "visible": false,
         "x": [
          "2024-02-29T00:00:00",
          "2024-03-21T00:00:00"
         ],
         "xaxis": "x3",
         "y": [
          6.833333333333333,
          8.25
         ],
         "yaxis": "y3"
        },
        {
         "name": "Randomized",
         "text": [
          7.4
         ],
         "textposition": "auto",
         "type": "bar",
         "visible": false,
         "x": [
          true
         ],
         "xaxis": "x3",
         "y": [
          7.4
         ],
         "yaxis": "y3"
        },
        {
         "name": "Racer Count",
         "text": [
          6.8,
          8.2
         ],
         "textposition": "auto",
         "type": "bar",
         "visible": false,
         "x": [
          3,
          4
         ],
         "xaxis": "x3",
         "y": [
          6.833333333333333,
          8.25
         ],
         "yaxis": "y3"
        },
        {
         "name": "Character",
         "text": [
          1,
          1,
          1,
          1,
          1,
          1,
          1,
          1,
          1,
          1,
          1,
          1,
          1,
          1.1,
          1.1,
          1.4,
          1.4,
          1.5,
          1.5,
          1.5,
          1.7,
          1.8,
          1.8,
          1.8,
          2,
          2,
          2,
          2,
          2,
          2.1,
          2.5,
          2.8,
          3.1,
          3.2,
          4.5,
          4.5
         ],
         "textposition": "auto",
         "type": "bar",
         "visible": true,
         "x": [
          "Baby Mario",
          "Wario",
          "Waluigi",
          "Tanooki Mario",
          "Roy",
          "Rosalina",
          "Morton",
          "Dry Bones",
          "Mario",
          "Inkling Boy",
          "Link",
          "Isabelle",
          "Wendy",
          "Yoshi",
          "Baby Daisy",
          "Peach",
          "Bowser Jr.",
          "Villager (Boy)",
          "Donkey Kong",
          "Koopa Troopa",
          "Baby Rosalina",
          "Inkling Girl",
          "Metal Mario",
          "Shy Guy",
          "Larry",
          "Iggy",
          "Bowser",
          "Toad",
          "Toadette",
          "Lakitu",
          "Pink Gold Peach",
          "Lemmy",
          "Daisy",
          "Ludwig",
          "King Boo",
          "Baby Peach"
         ],
         "xaxis": "x4",
         "y": [
          1,
          1,
          1,
          1,
          1,
          1,
          1,
          1,
          1,
          1,
          1,
          1,
          1,
          1.1,
          1.1428571428571428,
          1.4,
          1.4285714285714286,
          1.5,
          1.5,
          1.5,
          1.7142857142857142,
          1.75,
          1.75,
          1.75,
          2,
          2,
          2,
          2,
          2,
          2.142857142857143,
          2.5,
          2.75,
          3.125,
          3.25,
          4.5,
          4.5
         ],
         "yaxis": "y4"
        },
        {
         "name": "Vehicle",
         "text": [
          1,
          1,
          1,
          1,
          1,
          1,
          1,
          1,
          1,
          1,
          1.1,
          1.2,
          1.2,
          1.4,
          1.4,
          1.5,
          1.5,
          1.5,
          1.7,
          1.8,
          2,
          2,
          2,
          2.2,
          2.3,
          2.4,
          2.8,
          3,
          3,
          3.2,
          3.8
         ],
         "textposition": "auto",
         "type": "bar",
         "visible": false,
         "x": [
          "B Dasher",
          "Varmint",
          "Cat Cruiser",
          "Circuit Special",
          "Tanooki Cart",
          "Standard Kart",
          "Sports Coupe",
          "Landship",
          "Master Cycle",
          "Mr. Scooty",
          "Mach 8",
          "Yoshi Bike",
          "Teddy Buggy",
          "The Duke",
          "Pipe Frame",
          "Koopa Clown",
          "Standard ATV",
          "300 SL Roadster",
          "Sneeker",
          "W 25 Silver Arrow",
          "Splat Buggy",
          "GLA",
          "Streetle",
          "Tri-Speeder",
          "Biddybuggy",
          "Standard Bike",
          "P-Wing",
          "Comet",
          "Blue Falcon",
          "Steel Driver",
          "City Tripper"
         ],
         "xaxis": "x4",
         "y": [
          1,
          1,
          1,
          1,
          1,
          1,
          1,
          1,
          1,
          1,
          1.125,
          1.1666666666666667,
          1.2,
          1.375,
          1.375,
          1.5,
          1.5,
          1.5,
          1.7142857142857142,
          1.75,
          2,
          2,
          2,
          2.230769230769231,
          2.2857142857142856,
          2.4,
          2.8333333333333335,
          3,
          3,
          3.25,
          3.75
         ],
         "yaxis": "y4"
        },
        {
         "name": "Wheels",
         "text": [
          1,
          1,
          1,
          1,
          1.2,
          1.3,
          1.3,
          1.3,
          1.3,
          1.4,
          1.4,
          1.5,
          1.5,
          1.8,
          1.9,
          2.1,
          2.5,
          2.6,
          3.8,
          4.2
         ],
         "textposition": "auto",
         "type": "bar",
         "visible": false,
         "x": [
          "Azure Roller",
          "Crimson Slim",
          "Cushion",
          "Retro Off-Road",
          "Roller",
          "Monster",
          "Hot Monster",
          "Slick",
          "Ancient Tires",
          "Blue Standard",
          "Standard",
          "Triforce Tires",
          "Sponge",
          "GLA Tires",
          "Slim",
          "Button",
          "Off-Road",
          "Wood",
          "Cyber Slick",
          "Metal"
         ],
         "xaxis": "x4",
         "y": [
          1,
          1,
          1,
          1,
          1.25,
          1.2727272727272727,
          1.2857142857142858,
          1.2857142857142858,
          1.3,
          1.3846153846153846,
          1.4,
          1.5,
          1.5,
          1.75,
          1.9333333333333333,
          2.076923076923077,
          2.5,
          2.6363636363636362,
          3.75,
          4.25
         ],
         "yaxis": "y4"
        },
        {
         "name": "Glider",
         "text": [
          1,
          1.1,
          1.2,
          1.4,
          1.4,
          1.4,
          1.6,
          1.8,
          1.8,
          1.8,
          2,
          2.4,
          2.7,
          3.1
         ],
         "textposition": "auto",
         "type": "bar",
         "visible": false,
         "x": [
          "Paraglider",
          "Parafoil",
          "Flower Glider",
          "MKTV Parafoil",
          "Parachute",
          "Cloud Glider",
          "Hylian Kite",
          "Wario Wing",
          "Waddle Wing",
          "Paper Glider",
          "Peach Parasol",
          "Plane Glider",
          "Bowser Kite",
          "Super Glider"
         ],
         "xaxis": "x4",
         "y": [
          1,
          1.1428571428571428,
          1.2,
          1.375,
          1.4444444444444444,
          1.45,
          1.6,
          1.75,
          1.8181818181818181,
          1.8421052631578947,
          2,
          2.375,
          2.6666666666666665,
          3.111111111111111
         ],
         "yaxis": "y4"
        },
        {
         "name": "Racer",
         "text": [
          1.7
         ],
         "textposition": "auto",
         "type": "bar",
         "visible": false,
         "x": [
          "Nick"
         ],
         "xaxis": "x4",
         "y": [
          1.7467532467532467
         ],
         "yaxis": "y4"
        },
        {
         "name": "Controller Color",
         "text": [
          1.6,
          2
         ],
         "textposition": "auto",
         "type": "bar",
         "visible": false,
         "x": [
          "Blue",
          "Red"
         ],
         "xaxis": "x4",
         "y": [
          1.5681818181818181,
          1.9848484848484849
         ],
         "yaxis": "y4"
        },
        {
         "name": "Map",
         "text": [
          1,
          1,
          1,
          1,
          1,
          1,
          1,
          1,
          1,
          1,
          1,
          1,
          1,
          1,
          1,
          1,
          1.2,
          1.2,
          1.3,
          1.3,
          1.4,
          1.5,
          1.5,
          1.5,
          1.5,
          1.6,
          1.6,
          1.7,
          1.7,
          1.8,
          1.8,
          1.8,
          2,
          2,
          2.2,
          2.5,
          2.7,
          2.8,
          3,
          3,
          3,
          3.2,
          3.3,
          3.8,
          4,
          9
         ],
         "textposition": "auto",
         "type": "bar",
         "visible": false,
         "x": [
          "Animal Crossing",
          "Twisted Mansion",
          "Toad Harbor",
          "Super Bell Subway",
          "Sherbet Land",
          "Yoshi Circuit",
          "Mount Wario",
          "Hyrule Circuit",
          "Excitebike Arena",
          "Dragon Driftway",
          "Yoshi Valley",
          "Dolphin Shoals",
          "DK Jungle",
          "Big Blue",
          "Cheese Land",
          "Bowser's Castle",
          "Grumble Volcano",
          "Ice Ice Outpost",
          "Wario's Gold Mine",
          "Sweet Sweet Canyon",
          "Water Park",
          "Wild Woods",
          "Moo Moo Meadows",
          "SNES Rainbow Road",
          "Piranha Plant Slide",
          "Royal Raceway",
          "Mario Circuit",
          "Ribbon Road",
          "Toad's Turnpike",
          "Music Park",
          "Tick-Tock Clock",
          "Mario Kart Stadium",
          "Cloudtop Cruise",
          "Neo Bowser City",
          "Bone Dry Dunes",
          "Mute City",
          "Donut Plains 3",
          "Cheep Cheep Beach",
          "Sunshine Airport",
          "Baby Park",
          "Wario Stadium",
          "Electrodome",
          "Shy Guy Falls",
          "Rainbow Road",
          "Dry Dry Desert",
          "Thwomp Ruins"
         ],
         "xaxis": "x4",
         "y": [
          1,
          1,
          1,
          1,
          1,
          1,
          1,
          1,
          1,
          1,
          1,
          1,
          1,
          1,
          1,
          1,
          1.25,
          1.25,
          1.2857142857142858,
          1.3333333333333333,
          1.4,
          1.5,
          1.5,
          1.5,
          1.5,
          1.6,
          1.6,
          1.6666666666666667,
          1.6666666666666667,
          1.75,
          1.75,
          1.75,
          2,
          2,
          2.2,
          2.5,
          2.6666666666666665,
          2.75,
          3,
          3,
          3,
          3.25,
          3.3333333333333335,
          3.75,
          4,
          9
         ],
         "yaxis": "y4"
        },
        {
         "name": "CC",
         "text": [
          1.7,
          1.8
         ],
         "textposition": "auto",
         "type": "bar",
         "visible": false,
         "x": [
          100,
          150
         ],
         "xaxis": "x4",
         "y": [
          1.7407407407407407,
          1.7608695652173914
         ],
         "yaxis": "y4"
        },
        {
         "name": "COM",
         "text": [
          1.6,
          2.5
         ],
         "textposition": "auto",
         "type": "bar",
         "visible": false,
         "x": [
          "Normal",
          "Hard"
         ],
         "xaxis": "x4",
         "y": [
          1.564516129032258,
          2.5
         ],
         "yaxis": "y4"
        },
        {
         "name": "Auto Steering",
         "text": [
          1.7,
          1.8
         ],
         "textposition": "auto",
         "type": "bar",
         "visible": false,
         "x": [
          false,
          true
         ],
         "xaxis": "x4",
         "y": [
          1.7297297297297298,
          1.7625
         ],
         "yaxis": "y4"
        },
        {
         "name": "Stick Steering",
         "text": [
          1.7
         ],
         "textposition": "auto",
         "type": "bar",
         "visible": false,
         "x": [
          true
         ],
         "xaxis": "x4",
         "y": [
          1.7467532467532467
         ],
         "yaxis": "y4"
        },
        {
         "name": "Auto Drive",
         "text": [
          1.7
         ],
         "textposition": "auto",
         "type": "bar",
         "visible": false,
         "x": [
          true
         ],
         "xaxis": "x4",
         "y": [
          1.7467532467532467
         ],
         "yaxis": "y4"
        },
        {
         "mode": "lines+markers",
         "name": "Date (Nick)",
         "type": "scatter",
         "visible": false,
         "x": [
          "2024-03-02T00:00:00",
          "2024-03-04T00:00:00",
          "2024-03-07T00:00:00",
          "2024-03-11T00:00:00",
          "2024-03-16T00:00:00",
          "2024-03-19T00:00:00",
          "2024-03-21T00:00:00",
          "2024-03-25T00:00:00",
          "2024-05-22T00:00:00",
          "2024-09-06T00:00:00",
          "2025-01-07T00:00:00",
          "2025-01-10T00:00:00",
          "2025-01-11T00:00:00",
          "2025-01-17T00:00:00"
         ],
         "xaxis": "x4",
         "y": [
          2.611111111111111,
          1.8333333333333333,
          1.2222222222222223,
          2,
          2.1666666666666665,
          1.5,
          1.5,
          2.25,
          1,
          1.8333333333333333,
          1,
          1.5,
          1.4444444444444444,
          1
         ],
         "yaxis": "y4"
        },
        {
         "name": "Randomized",
         "text": [
          1.7
         ],
         "textposition": "auto",
         "type": "bar",
         "visible": false,
         "x": [
          true
         ],
         "xaxis": "x4",
         "y": [
          1.7467532467532467
         ],
         "yaxis": "y4"
        },
        {
         "name": "Racer Count",
         "text": [
          2.4,
          1.8,
          1.1
         ],
         "textposition": "auto",
         "type": "bar",
         "visible": false,
         "x": [
          2,
          3,
          4
         ],
         "xaxis": "x4",
         "y": [
          2.3636363636363638,
          1.7777777777777777,
          1.1176470588235294
         ],
         "yaxis": "y4"
        },
        {
         "name": "Character",
         "text": [
          2,
          2,
          2.5,
          2.5,
          3,
          3,
          3.5,
          4,
          4,
          4.2,
          4.5,
          4.5,
          4.5,
          4.7,
          5.3,
          5.5,
          6.5
         ],
         "textposition": "auto",
         "type": "bar",
         "visible": true,
         "x": [
          "Toadette",
          "Roy",
          "Toad",
          "Inkling Boy",
          "Metal Mario",
          "Daisy",
          "Bowser Jr.",
          "Dry Bones",
          "Lemmy",
          "Baby Daisy",
          "Baby Peach",
          "Baby Mario",
          "Morton",
          "Waluigi",
          "Rosalina",
          "Pink Gold Peach",
          "Villager (Boy)"
         ],
         "xaxis": "x5",
         "y": [
          2,
          2,
          2.5,
          2.5,
          3,
          3,
          3.5,
          4,
          4,
          4.25,
          4.5,
          4.5,
          4.5,
          4.666666666666667,
          5.333333333333333,
          5.5,
          6.5
         ],
         "yaxis": "y5"
        },
        {
         "name": "Vehicle",
         "text": [
          2,
          2.5,
          2.5,
          2.5,
          2.8,
          3.2,
          4,
          4,
          4.2,
          4.5,
          4.5,
          4.8,
          4.8,
          5.5,
          6
         ],
         "textposition": "auto",
         "type": "bar",
         "visible": false,
         "x": [
          "Standard ATV",
          "City Tripper",
          "Standard Kart",
          "The Duke",
          "Koopa Clown",
          "Sports Coupe",
          "P-Wing",
          "W 25 Silver Arrow",
          "Tri-Speeder",
          "Sneeker",
          "Standard Bike",
          "Teddy Buggy",
          "B Dasher",
          "Steel Driver",
          "Circuit Special"
         ],
         "xaxis": "x5",
         "y": [
          2,
          2.5,
          2.5,
          2.5,
          2.75,
          3.25,
          4,
          4,
          4.25,
          4.5,
          4.5,
          4.75,
          4.8,
          5.5,
          6
         ],
         "yaxis": "y5"
        },
        {
         "name": "Wheels",
         "text": [
          2,
          2,
          2.5,
          2.8,
          3.5,
          3.9,
          4.2,
          4.5,
          4.5,
          5,
          5,
          5.2
         ],
         "textposition": "auto",
         "type": "bar",
         "visible": false,
         "x": [
          "Azure Roller",
          "Cushion",
          "Monster",
          "Standard",
          "Ancient Tires",
          "Slim",
          "Sponge",
          "Off-Road",
          "Wood",
          "Button",
          "Crimson Slim",
          "Blue Standard"
         ],
         "xaxis": "x5",
         "y": [
          2,
          2,
          2.5,
          2.75,
          3.5,
          3.857142857142857,
          4.25,
          4.5,
          4.5,
          5,
          5,
          5.25
         ],
         "yaxis": "y5"
        },
        {
         "name": "Glider",
         "text": [
          2,
          2.5,
          2.5,
          3,
          3.5,
          3.7,
          3.7,
          4,
          4,
          4.7,
          5.5
         ],
         "textposition": "auto",
         "type": "bar",
         "visible": false,
         "x": [
          "Parafoil",
          "Bowser Kite",
          "Peach Parasol",
          "Paraglider",
          "Hylian Kite",
          "MKTV Parafoil",
          "Wario Wing",
          "Paper Glider",
          "Waddle Wing",
          "Cloud Glider",
          "Flower Glider"
         ],
         "xaxis": "x5",
         "y": [
          2,
          2.5,
          2.5,
          3,
          3.5,
          3.6666666666666665,
          3.6666666666666665,
          4,
          4,
          4.666666666666667,
          5.5
         ],
         "yaxis": "y5"
        },
        {
         "name": "Racer",
         "text": [
          3.9
         ],
         "textposition": "auto",
         "type": "bar",
         "visible": false,
         "x": [
          "Abby"
         ],
         "xaxis": "x5",
         "y": [
          3.857142857142857
         ],
         "yaxis": "y5"
        },
        {
         "name": "Controller Color",
         "text": [
          3.7,
          4
         ],
         "textposition": "auto",
         "type": "bar",
         "visible": false,
         "x": [
          "Blue",
          "Red"
         ],
         "xaxis": "x5",
         "y": [
          3.727272727272727,
          4
         ],
         "yaxis": "y5"
        },
        {
         "name": "Map",
         "text": [
          1,
          2,
          2,
          2.5,
          2.5,
          2.5,
          2.5,
          3,
          3,
          3,
          3,
          3,
          3,
          3.7,
          4,
          4,
          5,
          5,
          5,
          5,
          6,
          6,
          6,
          7,
          7,
          7.5
         ],
         "textposition": "auto",
         "type": "bar",
         "visible": false,
         "x": [
          "Baby Park",
          "DK Jungle",
          "Mario Circuit",
          "Excitebike Arena",
          "Toad's Turnpike",
          "Royal Raceway",
          "Super Bell Subway",
          "Cheep Cheep Beach",
          "Moo Moo Meadows",
          "Music Park",
          "Wario Stadium",
          "Piranha Plant Slide",
          "Tick-Tock Clock",
          "Wario's Gold Mine",
          "Wild Woods",
          "Water Park",
          "Animal Crossing",
          "SNES Rainbow Road",
          "Mute City",
          "Ribbon Road",
          "Sherbet Land",
          "Toad Harbor",
          "Mount Wario",
          "Rainbow Road",
          "Shy Guy Falls",
          "Twisted Mansion"
         ],
         "xaxis": "x5",
         "y": [
          1,
          2,
          2,
          2.5,
          2.5,
          2.5,
          2.5,
          3,
          3,
          3,
          3,
          3,
          3,
          3.6666666666666665,
          4,
          4,
          5,
          5,
          5,
          5,
          6,
          6,
          6,
          7,
          7,
          7.5
         ],
         "yaxis": "y5"
        },
        {
         "name": "CC",
         "text": [
          3.4,
          4.6
         ],
         "textposition": "auto",
         "type": "bar",
         "visible": false,
         "x": [
          150,
          100
         ],
         "xaxis": "x5",
         "y": [
          3.3846153846153846,
          4.625
         ],
         "yaxis": "y5"
        },
        {
         "name": "COM",
         "text": [
          3.9
         ],
         "textposition": "auto",
         "type": "bar",
         "visible": false,
         "x": [
          "Normal"
         ],
         "xaxis": "x5",
         "y": [
          3.857142857142857
         ],
         "yaxis": "y5"
        },
        {
         "name": "Auto Steering",
         "text": [
          3.6,
          5.7
         ],
         "textposition": "auto",
         "type": "bar",
         "visible": false,
         "x": [
          true,
          false
         ],
         "xaxis": "x5",
         "y": [
          3.5555555555555554,
          5.666666666666667
         ],
         "yaxis": "y5"
        },
        {
         "name": "Stick Steering",
         "text": [
          3.9
         ],
         "textposition": "auto",
         "type": "bar",
         "visible": false,
         "x": [
          true
         ],
         "xaxis": "x5",
         "y": [
          3.857142857142857
         ],
         "yaxis": "y5"
        },
        {
         "name": "Auto Drive",
         "text": [
          3.9
         ],
         "textposition": "auto",
         "type": "bar",
         "visible": false,
         "x": [
          true
         ],
         "xaxis": "x5",
         "y": [
          3.857142857142857
         ],
         "yaxis": "y5"
        },
        {
         "mode": "lines+markers",
         "name": "Date (Abby)",
         "type": "scatter",
         "visible": false,
         "x": [
          "2025-01-07T00:00:00",
          "2025-01-10T00:00:00",
          "2025-01-11T00:00:00",
          "2025-01-17T00:00:00"
         ],
         "xaxis": "x5",
         "y": [
          4.75,
          4.583333333333333,
          3.6666666666666665,
          2.75
         ],
         "yaxis": "y5"
        },
        {
         "name": "Randomized",
         "text": [
          3.9
         ],
         "textposition": "auto",
         "type": "bar",
         "visible": false,
         "x": [
          true
         ],
         "xaxis": "x5",
         "y": [
          3.857142857142857
         ],
         "yaxis": "y5"
        },
        {
         "name": "Racer Count",
         "text": [
          4,
          3.4
         ],
         "textposition": "auto",
         "type": "bar",
         "visible": false,
         "x": [
          3,
          4
         ],
         "xaxis": "x5",
         "y": [
          4.033333333333333,
          3.4166666666666665
         ],
         "yaxis": "y5"
        },
        {
         "name": "Character",
         "text": [
          1.5,
          2,
          2,
          2.5,
          2.5,
          2.5,
          3,
          3.2,
          3.5,
          3.5,
          4.5,
          4.5,
          5,
          5.5
         ],
         "textposition": "auto",
         "type": "bar",
         "visible": true,
         "x": [
          "Morton",
          "Lemmy",
          "Rosalina",
          "Baby Mario",
          "Toadette",
          "Villager (Boy)",
          "Metal Mario",
          "Peach",
          "Inkling Boy",
          "Roy",
          "Pink Gold Peach",
          "Waluigi",
          "Daisy",
          "Baby Peach"
         ],
         "xaxis": "x6",
         "y": [
          1.5,
          2,
          2,
          2.5,
          2.5,
          2.5,
          3,
          3.25,
          3.5,
          3.5,
          4.5,
          4.5,
          5,
          5.5
         ],
         "yaxis": "y6"
        },
        {
         "name": "Vehicle",
         "text": [
          1.5,
          2,
          2.5,
          2.8,
          3.2,
          3.5,
          3.5,
          3.8,
          4.5,
          5.5
         ],
         "textposition": "auto",
         "type": "bar",
         "visible": false,
         "x": [
          "Standard Bike",
          "P-Wing",
          "Koopa Clown",
          "W 25 Silver Arrow",
          "B Dasher",
          "Standard ATV",
          "Standard Kart",
          "Teddy Buggy",
          "Steel Driver",
          "Sneeker"
         ],
         "xaxis": "x6",
         "y": [
          1.5,
          2,
          2.5,
          2.75,
          3.25,
          3.5,
          3.5,
          3.75,
          4.5,
          5.5
         ],
         "yaxis": "y6"
        },
        {
         "name": "Wheels",
         "text": [
          1.5,
          2,
          2.5,
          2.5,
          2.5,
          3.2,
          3.5,
          3.5,
          3.8,
          3.8,
          5.5
         ],
         "textposition": "auto",
         "type": "bar",
         "visible": false,
         "x": [
          "Crimson Slim",
          "Button",
          "Ancient Tires",
          "Azure Roller",
          "Blue Standard",
          "Slim",
          "Cushion",
          "Monster",
          "Wood",
          "Standard",
          "Off-Road"
         ],
         "xaxis": "x6",
         "y": [
          1.5,
          2,
          2.5,
          2.5,
          2.5,
          3.25,
          3.5,
          3.5,
          3.75,
          3.8333333333333335,
          5.5
         ],
         "yaxis": "y6"
        },
        {
         "name": "Glider",
         "text": [
          2,
          2.5,
          2.6,
          3.2,
          3.5,
          3.5,
          3.5,
          4.5
         ],
         "textposition": "auto",
         "type": "bar",
         "visible": false,
         "x": [
          "Paper Glider",
          "Paraglider",
          "Cloud Glider",
          "Super Glider",
          "Bowser Kite",
          "Flower Glider",
          "Parafoil",
          "Wario Wing"
         ],
         "xaxis": "x6",
         "y": [
          2,
          2.5,
          2.625,
          3.25,
          3.5,
          3.5,
          3.5,
          4.5
         ],
         "yaxis": "y6"
        },
        {
         "name": "Racer",
         "text": [
          3.3
         ],
         "textposition": "auto",
         "type": "bar",
         "visible": false,
         "x": [
          "Benji"
         ],
         "xaxis": "x6",
         "y": [
          3.2666666666666666
         ],
         "yaxis": "y6"
        },
        {
         "name": "Controller Color",
         "text": [
          2.6,
          4
         ],
         "textposition": "auto",
         "type": "bar",
         "visible": false,
         "x": [
          "Blue",
          "Red"
         ],
         "xaxis": "x6",
         "y": [
          2.625,
          4
         ],
         "yaxis": "y6"
        },
        {
         "name": "Map",
         "text": [
          1,
          1,
          1.3,
          1.5,
          2,
          2,
          2,
          2,
          2,
          3,
          3,
          3.5,
          4,
          4,
          4,
          4.5,
          5,
          5,
          5,
          7,
          7
         ],
         "textposition": "auto",
         "type": "bar",
         "visible": false,
         "x": [
          "Wario Stadium",
          "Mute City",
          "Wario's Gold Mine",
          "Tick-Tock Clock",
          "SNES Rainbow Road",
          "Toad's Turnpike",
          "Music Park",
          "Toad Harbor",
          "Shy Guy Falls",
          "Excitebike Arena",
          "Water Park",
          "Wild Woods",
          "Mount Wario",
          "DK Jungle",
          "Baby Park",
          "Twisted Mansion",
          "Rainbow Road",
          "Piranha Plant Slide",
          "Mario Circuit",
          "Super Bell Subway",
          "Royal Raceway"
         ],
         "xaxis": "x6",
         "y": [
          1,
          1,
          1.3333333333333333,
          1.5,
          2,
          2,
          2,
          2,
          2,
          3,
          3,
          3.5,
          4,
          4,
          4,
          4.5,
          5,
          5,
          5,
          7,
          7
         ],
         "yaxis": "y6"
        },
        {
         "name": "CC",
         "text": [
          3,
          3.4
         ],
         "textposition": "auto",
         "type": "bar",
         "visible": false,
         "x": [
          100,
          150
         ],
         "xaxis": "x6",
         "y": [
          3,
          3.4444444444444446
         ],
         "yaxis": "y6"
        },
        {
         "name": "COM",
         "text": [
          3.3
         ],
         "textposition": "auto",
         "type": "bar",
         "visible": false,
         "x": [
          "Normal"
         ],
         "xaxis": "x6",
         "y": [
          3.2666666666666666
         ],
         "yaxis": "y6"
        },
        {
         "name": "Auto Steering",
         "text": [
          3,
          3.3
         ],
         "textposition": "auto",
         "type": "bar",
         "visible": false,
         "x": [
          false,
          true
         ],
         "xaxis": "x6",
         "y": [
          3,
          3.3333333333333335
         ],
         "yaxis": "y6"
        },
        {
         "name": "Stick Steering",
         "text": [
          3.3
         ],
         "textposition": "auto",
         "type": "bar",
         "visible": false,
         "x": [
          true
         ],
         "xaxis": "x6",
         "y": [
          3.2666666666666666
         ],
         "yaxis": "y6"
        },
        {
         "name": "Auto Drive",
         "text": [
          3.3
         ],
         "textposition": "auto",
         "type": "bar",
         "visible": false,
         "x": [
          true
         ],
         "xaxis": "x6",
         "y": [
          3.2666666666666666
         ],
         "yaxis": "y6"
        },
        {
         "mode": "lines+markers",
         "name": "Date (Benji)",
         "type": "scatter",
         "visible": false,
         "x": [
          "2025-01-10T00:00:00",
          "2025-01-11T00:00:00"
         ],
         "xaxis": "x6",
         "y": [
          3,
          3.4444444444444446
         ],
         "yaxis": "y6"
        },
        {
         "name": "Randomized",
         "text": [
          3.3
         ],
         "textposition": "auto",
         "type": "bar",
         "visible": false,
         "x": [
          true
         ],
         "xaxis": "x6",
         "y": [
          3.2666666666666666
         ],
         "yaxis": "y6"
        },
        {
         "name": "Racer Count",
         "text": [
          3.3
         ],
         "textposition": "auto",
         "type": "bar",
         "visible": false,
         "x": [
          3
         ],
         "xaxis": "x6",
         "y": [
          3.2666666666666666
         ],
         "yaxis": "y6"
        }
       ],
       "layout": {
        "annotations": [
         {
          "font": {
           "size": 16
          },
          "showarrow": false,
          "text": "Sofia",
          "x": 0.14444444444444446,
          "xanchor": "center",
          "xref": "paper",
          "y": 1,
          "yanchor": "bottom",
          "yref": "paper"
         },
         {
          "font": {
           "size": 16
          },
          "showarrow": false,
          "text": "Kaima",
          "x": 0.5,
          "xanchor": "center",
          "xref": "paper",
          "y": 1,
          "yanchor": "bottom",
          "yref": "paper"
         },
         {
          "font": {
           "size": 16
          },
          "showarrow": false,
          "text": "Jules",
          "x": 0.8555555555555556,
          "xanchor": "center",
          "xref": "paper",
          "y": 1,
          "yanchor": "bottom",
          "yref": "paper"
         },
         {
          "font": {
           "size": 16
          },
          "showarrow": false,
          "text": "Nick",
          "x": 0.14444444444444446,
          "xanchor": "center",
          "xref": "paper",
          "y": 0.375,
          "yanchor": "bottom",
          "yref": "paper"
         },
         {
          "font": {
           "size": 16
          },
          "showarrow": false,
          "text": "Abby",
          "x": 0.5,
          "xanchor": "center",
          "xref": "paper",
          "y": 0.375,
          "yanchor": "bottom",
          "yref": "paper"
         },
         {
          "font": {
           "size": 16
          },
          "showarrow": false,
          "text": "Benji",
          "x": 0.8555555555555556,
          "xanchor": "center",
          "xref": "paper",
          "y": 0.375,
          "yanchor": "bottom",
          "yref": "paper"
         }
        ],
        "height": 800,
        "showlegend": false,
        "template": {
         "data": {
          "bar": [
           {
            "error_x": {
             "color": "#2a3f5f"
            },
            "error_y": {
             "color": "#2a3f5f"
            },
            "marker": {
             "line": {
              "color": "#E5ECF6",
              "width": 0.5
             }
            },
            "type": "bar"
           }
          ],
          "barpolar": [
           {
            "marker": {
             "line": {
              "color": "#E5ECF6",
              "width": 0.5
             }
            },
            "type": "barpolar"
           }
          ],
          "carpet": [
           {
            "aaxis": {
             "endlinecolor": "#2a3f5f",
             "gridcolor": "white",
             "linecolor": "white",
             "minorgridcolor": "white",
             "startlinecolor": "#2a3f5f"
            },
            "baxis": {
             "endlinecolor": "#2a3f5f",
             "gridcolor": "white",
             "linecolor": "white",
             "minorgridcolor": "white",
             "startlinecolor": "#2a3f5f"
            },
            "type": "carpet"
           }
          ],
          "choropleth": [
           {
            "colorbar": {
             "outlinewidth": 0,
             "ticks": ""
            },
            "type": "choropleth"
           }
          ],
          "contour": [
           {
            "colorbar": {
             "outlinewidth": 0,
             "ticks": ""
            },
            "colorscale": [
             [
              0,
              "#0d0887"
             ],
             [
              0.1111111111111111,
              "#46039f"
             ],
             [
              0.2222222222222222,
              "#7201a8"
             ],
             [
              0.3333333333333333,
              "#9c179e"
             ],
             [
              0.4444444444444444,
              "#bd3786"
             ],
             [
              0.5555555555555556,
              "#d8576b"
             ],
             [
              0.6666666666666666,
              "#ed7953"
             ],
             [
              0.7777777777777778,
              "#fb9f3a"
             ],
             [
              0.8888888888888888,
              "#fdca26"
             ],
             [
              1,
              "#f0f921"
             ]
            ],
            "type": "contour"
           }
          ],
          "contourcarpet": [
           {
            "colorbar": {
             "outlinewidth": 0,
             "ticks": ""
            },
            "type": "contourcarpet"
           }
          ],
          "heatmap": [
           {
            "colorbar": {
             "outlinewidth": 0,
             "ticks": ""
            },
            "colorscale": [
             [
              0,
              "#0d0887"
             ],
             [
              0.1111111111111111,
              "#46039f"
             ],
             [
              0.2222222222222222,
              "#7201a8"
             ],
             [
              0.3333333333333333,
              "#9c179e"
             ],
             [
              0.4444444444444444,
              "#bd3786"
             ],
             [
              0.5555555555555556,
              "#d8576b"
             ],
             [
              0.6666666666666666,
              "#ed7953"
             ],
             [
              0.7777777777777778,
              "#fb9f3a"
             ],
             [
              0.8888888888888888,
              "#fdca26"
             ],
             [
              1,
              "#f0f921"
             ]
            ],
            "type": "heatmap"
           }
          ],
          "heatmapgl": [
           {
            "colorbar": {
             "outlinewidth": 0,
             "ticks": ""
            },
            "colorscale": [
             [
              0,
              "#0d0887"
             ],
             [
              0.1111111111111111,
              "#46039f"
             ],
             [
              0.2222222222222222,
              "#7201a8"
             ],
             [
              0.3333333333333333,
              "#9c179e"
             ],
             [
              0.4444444444444444,
              "#bd3786"
             ],
             [
              0.5555555555555556,
              "#d8576b"
             ],
             [
              0.6666666666666666,
              "#ed7953"
             ],
             [
              0.7777777777777778,
              "#fb9f3a"
             ],
             [
              0.8888888888888888,
              "#fdca26"
             ],
             [
              1,
              "#f0f921"
             ]
            ],
            "type": "heatmapgl"
           }
          ],
          "histogram": [
           {
            "marker": {
             "colorbar": {
              "outlinewidth": 0,
              "ticks": ""
             }
            },
            "type": "histogram"
           }
          ],
          "histogram2d": [
           {
            "colorbar": {
             "outlinewidth": 0,
             "ticks": ""
            },
            "colorscale": [
             [
              0,
              "#0d0887"
             ],
             [
              0.1111111111111111,
              "#46039f"
             ],
             [
              0.2222222222222222,
              "#7201a8"
             ],
             [
              0.3333333333333333,
              "#9c179e"
             ],
             [
              0.4444444444444444,
              "#bd3786"
             ],
             [
              0.5555555555555556,
              "#d8576b"
             ],
             [
              0.6666666666666666,
              "#ed7953"
             ],
             [
              0.7777777777777778,
              "#fb9f3a"
             ],
             [
              0.8888888888888888,
              "#fdca26"
             ],
             [
              1,
              "#f0f921"
             ]
            ],
            "type": "histogram2d"
           }
          ],
          "histogram2dcontour": [
           {
            "colorbar": {
             "outlinewidth": 0,
             "ticks": ""
            },
            "colorscale": [
             [
              0,
              "#0d0887"
             ],
             [
              0.1111111111111111,
              "#46039f"
             ],
             [
              0.2222222222222222,
              "#7201a8"
             ],
             [
              0.3333333333333333,
              "#9c179e"
             ],
             [
              0.4444444444444444,
              "#bd3786"
             ],
             [
              0.5555555555555556,
              "#d8576b"
             ],
             [
              0.6666666666666666,
              "#ed7953"
             ],
             [
              0.7777777777777778,
              "#fb9f3a"
             ],
             [
              0.8888888888888888,
              "#fdca26"
             ],
             [
              1,
              "#f0f921"
             ]
            ],
            "type": "histogram2dcontour"
           }
          ],
          "mesh3d": [
           {
            "colorbar": {
             "outlinewidth": 0,
             "ticks": ""
            },
            "type": "mesh3d"
           }
          ],
          "parcoords": [
           {
            "line": {
             "colorbar": {
              "outlinewidth": 0,
              "ticks": ""
             }
            },
            "type": "parcoords"
           }
          ],
          "pie": [
           {
            "automargin": true,
            "type": "pie"
           }
          ],
          "scatter": [
           {
            "marker": {
             "colorbar": {
              "outlinewidth": 0,
              "ticks": ""
             }
            },
            "type": "scatter"
           }
          ],
          "scatter3d": [
           {
            "line": {
             "colorbar": {
              "outlinewidth": 0,
              "ticks": ""
             }
            },
            "marker": {
             "colorbar": {
              "outlinewidth": 0,
              "ticks": ""
             }
            },
            "type": "scatter3d"
           }
          ],
          "scattercarpet": [
           {
            "marker": {
             "colorbar": {
              "outlinewidth": 0,
              "ticks": ""
             }
            },
            "type": "scattercarpet"
           }
          ],
          "scattergeo": [
           {
            "marker": {
             "colorbar": {
              "outlinewidth": 0,
              "ticks": ""
             }
            },
            "type": "scattergeo"
           }
          ],
          "scattergl": [
           {
            "marker": {
             "colorbar": {
              "outlinewidth": 0,
              "ticks": ""
             }
            },
            "type": "scattergl"
           }
          ],
          "scattermapbox": [
           {
            "marker": {
             "colorbar": {
              "outlinewidth": 0,
              "ticks": ""
             }
            },
            "type": "scattermapbox"
           }
          ],
          "scatterpolar": [
           {
            "marker": {
             "colorbar": {
              "outlinewidth": 0,
              "ticks": ""
             }
            },
            "type": "scatterpolar"
           }
          ],
          "scatterpolargl": [
           {
            "marker": {
             "colorbar": {
              "outlinewidth": 0,
              "ticks": ""
             }
            },
            "type": "scatterpolargl"
           }
          ],
          "scatterternary": [
           {
            "marker": {
             "colorbar": {
              "outlinewidth": 0,
              "ticks": ""
             }
            },
            "type": "scatterternary"
           }
          ],
          "surface": [
           {
            "colorbar": {
             "outlinewidth": 0,
             "ticks": ""
            },
            "colorscale": [
             [
              0,
              "#0d0887"
             ],
             [
              0.1111111111111111,
              "#46039f"
             ],
             [
              0.2222222222222222,
              "#7201a8"
             ],
             [
              0.3333333333333333,
              "#9c179e"
             ],
             [
              0.4444444444444444,
              "#bd3786"
             ],
             [
              0.5555555555555556,
              "#d8576b"
             ],
             [
              0.6666666666666666,
              "#ed7953"
             ],
             [
              0.7777777777777778,
              "#fb9f3a"
             ],
             [
              0.8888888888888888,
              "#fdca26"
             ],
             [
              1,
              "#f0f921"
             ]
            ],
            "type": "surface"
           }
          ],
          "table": [
           {
            "cells": {
             "fill": {
              "color": "#EBF0F8"
             },
             "line": {
              "color": "white"
             }
            },
            "header": {
             "fill": {
              "color": "#C8D4E3"
             },
             "line": {
              "color": "white"
             }
            },
            "type": "table"
           }
          ]
         },
         "layout": {
          "annotationdefaults": {
           "arrowcolor": "#2a3f5f",
           "arrowhead": 0,
           "arrowwidth": 1
          },
          "autotypenumbers": "strict",
          "coloraxis": {
           "colorbar": {
            "outlinewidth": 0,
            "ticks": ""
           }
          },
          "colorscale": {
           "diverging": [
            [
             0,
             "#8e0152"
            ],
            [
             0.1,
             "#c51b7d"
            ],
            [
             0.2,
             "#de77ae"
            ],
            [
             0.3,
             "#f1b6da"
            ],
            [
             0.4,
             "#fde0ef"
            ],
            [
             0.5,
             "#f7f7f7"
            ],
            [
             0.6,
             "#e6f5d0"
            ],
            [
             0.7,
             "#b8e186"
            ],
            [
             0.8,
             "#7fbc41"
            ],
            [
             0.9,
             "#4d9221"
            ],
            [
             1,
             "#276419"
            ]
           ],
           "sequential": [
            [
             0,
             "#0d0887"
            ],
            [
             0.1111111111111111,
             "#46039f"
            ],
            [
             0.2222222222222222,
             "#7201a8"
            ],
            [
             0.3333333333333333,
             "#9c179e"
            ],
            [
             0.4444444444444444,
             "#bd3786"
            ],
            [
             0.5555555555555556,
             "#d8576b"
            ],
            [
             0.6666666666666666,
             "#ed7953"
            ],
            [
             0.7777777777777778,
             "#fb9f3a"
            ],
            [
             0.8888888888888888,
             "#fdca26"
            ],
            [
             1,
             "#f0f921"
            ]
           ],
           "sequentialminus": [
            [
             0,
             "#0d0887"
            ],
            [
             0.1111111111111111,
             "#46039f"
            ],
            [
             0.2222222222222222,
             "#7201a8"
            ],
            [
             0.3333333333333333,
             "#9c179e"
            ],
            [
             0.4444444444444444,
             "#bd3786"
            ],
            [
             0.5555555555555556,
             "#d8576b"
            ],
            [
             0.6666666666666666,
             "#ed7953"
            ],
            [
             0.7777777777777778,
             "#fb9f3a"
            ],
            [
             0.8888888888888888,
             "#fdca26"
            ],
            [
             1,
             "#f0f921"
            ]
           ]
          },
          "colorway": [
           "#636efa",
           "#EF553B",
           "#00cc96",
           "#ab63fa",
           "#FFA15A",
           "#19d3f3",
           "#FF6692",
           "#B6E880",
           "#FF97FF",
           "#FECB52"
          ],
          "font": {
           "color": "#2a3f5f"
          },
          "geo": {
           "bgcolor": "white",
           "lakecolor": "white",
           "landcolor": "#E5ECF6",
           "showlakes": true,
           "showland": true,
           "subunitcolor": "white"
          },
          "hoverlabel": {
           "align": "left"
          },
          "hovermode": "closest",
          "mapbox": {
           "style": "light"
          },
          "paper_bgcolor": "white",
          "plot_bgcolor": "#E5ECF6",
          "polar": {
           "angularaxis": {
            "gridcolor": "white",
            "linecolor": "white",
            "ticks": ""
           },
           "bgcolor": "#E5ECF6",
           "radialaxis": {
            "gridcolor": "white",
            "linecolor": "white",
            "ticks": ""
           }
          },
          "scene": {
           "xaxis": {
            "backgroundcolor": "#E5ECF6",
            "gridcolor": "white",
            "gridwidth": 2,
            "linecolor": "white",
            "showbackground": true,
            "ticks": "",
            "zerolinecolor": "white"
           },
           "yaxis": {
            "backgroundcolor": "#E5ECF6",
            "gridcolor": "white",
            "gridwidth": 2,
            "linecolor": "white",
            "showbackground": true,
            "ticks": "",
            "zerolinecolor": "white"
           },
           "zaxis": {
            "backgroundcolor": "#E5ECF6",
            "gridcolor": "white",
            "gridwidth": 2,
            "linecolor": "white",
            "showbackground": true,
            "ticks": "",
            "zerolinecolor": "white"
           }
          },
          "shapedefaults": {
           "line": {
            "color": "#2a3f5f"
           }
          },
          "ternary": {
           "aaxis": {
            "gridcolor": "white",
            "linecolor": "white",
            "ticks": ""
           },
           "baxis": {
            "gridcolor": "white",
            "linecolor": "white",
            "ticks": ""
           },
           "bgcolor": "#E5ECF6",
           "caxis": {
            "gridcolor": "white",
            "linecolor": "white",
            "ticks": ""
           }
          },
          "title": {
           "x": 0.05
          },
          "xaxis": {
           "automargin": true,
           "gridcolor": "white",
           "linecolor": "white",
           "ticks": "",
           "title": {
            "standoff": 15
           },
           "zerolinecolor": "white",
           "zerolinewidth": 2
          },
          "yaxis": {
           "automargin": true,
           "gridcolor": "white",
           "linecolor": "white",
           "ticks": "",
           "title": {
            "standoff": 15
           },
           "zerolinecolor": "white",
           "zerolinewidth": 2
          }
         }
        },
        "title": {
         "text": "Player Average Placements for"
        },
        "updatemenus": [
         {
          "active": 0,
          "buttons": [
           {
            "args": [
             {
              "visible": [
               true,
               false,
               false,
               false,
               false,
               false,
               false,
               false,
               false,
               false,
               false,
               false,
               false,
               false,
               false
              ]
             }
            ],
            "label": "Character",
            "method": "update"
           },
           {
            "args": [
             {
              "visible": [
               false,
               true,
               false,
               false,
               false,
               false,
               false,
               false,
               false,
               false,
               false,
               false,
               false,
               false,
               false
              ]
             }
            ],
            "label": "Vehicle",
            "method": "update"
           },
           {
            "args": [
             {
              "visible": [
               false,
               false,
               true,
               false,
               false,
               false,
               false,
               false,
               false,
               false,
               false,
               false,
               false,
               false,
               false
              ]
             }
            ],
            "label": "Wheels",
            "method": "update"
           },
           {
            "args": [
             {
              "visible": [
               false,
               false,
               false,
               true,
               false,
               false,
               false,
               false,
               false,
               false,
               false,
               false,
               false,
               false,
               false
              ]
             }
            ],
            "label": "Glider",
            "method": "update"
           },
           {
            "args": [
             {
              "visible": [
               false,
               false,
               false,
               false,
               true,
               false,
               false,
               false,
               false,
               false,
               false,
               false,
               false,
               false,
               false
              ]
             }
            ],
            "label": "Racer",
            "method": "update"
           },
           {
            "args": [
             {
              "visible": [
               false,
               false,
               false,
               false,
               false,
               true,
               false,
               false,
               false,
               false,
               false,
               false,
               false,
               false,
               false
              ]
             }
            ],
            "label": "Controller Color",
            "method": "update"
           },
           {
            "args": [
             {
              "visible": [
               false,
               false,
               false,
               false,
               false,
               false,
               true,
               false,
               false,
               false,
               false,
               false,
               false,
               false,
               false
              ]
             }
            ],
            "label": "Map",
            "method": "update"
           },
           {
            "args": [
             {
              "visible": [
               false,
               false,
               false,
               false,
               false,
               false,
               false,
               true,
               false,
               false,
               false,
               false,
               false,
               false,
               false
              ]
             }
            ],
            "label": "CC",
            "method": "update"
           },
           {
            "args": [
             {
              "visible": [
               false,
               false,
               false,
               false,
               false,
               false,
               false,
               false,
               true,
               false,
               false,
               false,
               false,
               false,
               false
              ]
             }
            ],
            "label": "COM",
            "method": "update"
           },
           {
            "args": [
             {
              "visible": [
               false,
               false,
               false,
               false,
               false,
               false,
               false,
               false,
               false,
               true,
               false,
               false,
               false,
               false,
               false
              ]
             }
            ],
            "label": "Auto Steering",
            "method": "update"
           },
           {
            "args": [
             {
              "visible": [
               false,
               false,
               false,
               false,
               false,
               false,
               false,
               false,
               false,
               false,
               true,
               false,
               false,
               false,
               false
              ]
             }
            ],
            "label": "Stick Steering",
            "method": "update"
           },
           {
            "args": [
             {
              "visible": [
               false,
               false,
               false,
               false,
               false,
               false,
               false,
               false,
               false,
               false,
               false,
               true,
               false,
               false,
               false
              ]
             }
            ],
            "label": "Auto Drive",
            "method": "update"
           },
           {
            "args": [
             {
              "visible": [
               false,
               false,
               false,
               false,
               false,
               false,
               false,
               false,
               false,
               false,
               false,
               false,
               true,
               false,
               false
              ]
             }
            ],
            "label": "Date",
            "method": "update"
           },
           {
            "args": [
             {
              "visible": [
               false,
               false,
               false,
               false,
               false,
               false,
               false,
               false,
               false,
               false,
               false,
               false,
               false,
               true,
               false
              ]
             }
            ],
            "label": "Randomized",
            "method": "update"
           },
           {
            "args": [
             {
              "visible": [
               false,
               false,
               false,
               false,
               false,
               false,
               false,
               false,
               false,
               false,
               false,
               false,
               false,
               false,
               true
              ]
             }
            ],
            "label": "Racer Count",
            "method": "update"
           }
          ],
          "x": 0.32,
          "xanchor": "left",
          "y": 1.12,
          "yanchor": "top"
         }
        ],
        "width": 1000,
        "xaxis": {
         "anchor": "y",
         "domain": [
          0,
          0.2888888888888889
         ]
        },
        "xaxis2": {
         "anchor": "y2",
         "domain": [
          0.35555555555555557,
          0.6444444444444445
         ]
        },
        "xaxis3": {
         "anchor": "y3",
         "domain": [
          0.7111111111111111,
          1
         ]
        },
        "xaxis4": {
         "anchor": "y4",
         "domain": [
          0,
          0.2888888888888889
         ]
        },
        "xaxis5": {
         "anchor": "y5",
         "domain": [
          0.35555555555555557,
          0.6444444444444445
         ]
        },
        "xaxis6": {
         "anchor": "y6",
         "domain": [
          0.7111111111111111,
          1
         ]
        },
        "yaxis": {
         "anchor": "x",
         "domain": [
          0.625,
          1
         ],
         "range": [
          0,
          12
         ]
        },
        "yaxis2": {
         "anchor": "x2",
         "domain": [
          0.625,
          1
         ],
         "range": [
          0,
          12
         ]
        },
        "yaxis3": {
         "anchor": "x3",
         "domain": [
          0.625,
          1
         ],
         "range": [
          0,
          12
         ]
        },
        "yaxis4": {
         "anchor": "x4",
         "domain": [
          0,
          0.375
         ],
         "range": [
          0,
          12
         ]
        },
        "yaxis5": {
         "anchor": "x5",
         "domain": [
          0,
          0.375
         ],
         "range": [
          0,
          12
         ]
        },
        "yaxis6": {
         "anchor": "x6",
         "domain": [
          0,
          0.375
         ],
         "range": [
          0,
          12
         ]
        }
       }
      },
      "text/html": [
       "<div>                            <div id=\"ff71fe50-814c-4caa-94ca-9c7d411bc075\" class=\"plotly-graph-div\" style=\"height:800px; width:1000px;\"></div>            <script type=\"text/javascript\">                require([\"plotly\"], function(Plotly) {                    window.PLOTLYENV=window.PLOTLYENV || {};                                    if (document.getElementById(\"ff71fe50-814c-4caa-94ca-9c7d411bc075\")) {                    Plotly.newPlot(                        \"ff71fe50-814c-4caa-94ca-9c7d411bc075\",                        [{\"name\": \"Character\", \"text\": [1.0, 1.0, 1.8, 2.0, 2.0, 2.5, 2.5, 2.8, 3.0, 3.0, 3.0, 3.0, 3.0, 3.2, 3.2, 3.4, 3.5, 3.5, 3.6, 3.6, 4.0, 4.0, 4.3, 4.3, 4.5, 4.5, 4.5, 4.5, 4.5, 4.5, 5.3, 6.2, 6.5, 7.5], \"textposition\": \"auto\", \"type\": \"bar\", \"visible\": true, \"x\": [\"Villager (Girl)\", \"Link\", \"Metal Mario\", \"Donkey Kong\", \"Lemmy\", \"King Boo\", \"Inkling Boy\", \"Inkling Girl\", \"Toad\", \"Dry Bones\", \"Iggy\", \"Isabelle\", \"Morton\", \"Daisy\", \"Koopa Troopa\", \"Lakitu\", \"Toadette\", \"Shy Guy\", \"Bowser Jr.\", \"Baby Daisy\", \"Rosalina\", \"Wario\", \"Baby Rosalina\", \"Waluigi\", \"Wendy\", \"Tanooki Mario\", \"Bowser\", \"Baby Peach\", \"Mario\", \"Yoshi\", \"Peach\", \"Ludwig\", \"Larry\", \"Villager (Boy)\"], \"xaxis\": \"x\", \"y\": [1.0, 1.0, 1.8333333333333333, 2.0, 2.0, 2.5, 2.5, 2.75, 3.0, 3.0, 3.0, 3.0, 3.0, 3.1666666666666665, 3.1666666666666665, 3.375, 3.5, 3.5, 3.5555555555555554, 3.5714285714285716, 4.0, 4.0, 4.285714285714286, 4.333333333333333, 4.5, 4.5, 4.5, 4.5, 4.5, 4.5, 5.3, 6.25, 6.5, 7.5], \"yaxis\": \"y\"}, {\"name\": \"Vehicle\", \"text\": [1.0, 1.0, 1.5, 2.0, 2.2, 2.3, 2.5, 2.6, 2.8, 3.0, 3.0, 3.0, 3.0, 3.3, 3.4, 3.5, 3.7, 4.0, 4.0, 4.1, 4.5, 4.5, 4.5, 4.6, 4.7, 4.7, 5.0, 6.0, 6.2, 6.5], \"textposition\": \"auto\", \"type\": \"bar\", \"visible\": false, \"x\": [\"Landship\", \"Jet Bike\", \"300 SL Roadster\", \"Biddybuggy\", \"Standard ATV\", \"Standard Bike\", \"Varmint\", \"Teddy Buggy\", \"City Tripper\", \"Sports Coupe\", \"Mr. Scooty\", \"Cat Cruiser\", \"Circuit Special\", \"Master Cycle\", \"GLA\", \"Splat Buggy\", \"The Duke\", \"Streetle\", \"Comet\", \"Mach 8\", \"Blue Falcon\", \"Steel Driver\", \"Yoshi Bike\", \"Sneeker\", \"Tanooki Cart\", \"Tri-Speeder\", \"Pipe Frame\", \"B Dasher\", \"P-Wing\", \"Koopa Clown\"], \"xaxis\": \"x\", \"y\": [1.0, 1.0, 1.5, 2.0, 2.1666666666666665, 2.3333333333333335, 2.5, 2.625, 2.8333333333333335, 3.0, 3.0, 3.0, 3.0, 3.3333333333333335, 3.4444444444444446, 3.5, 3.7142857142857144, 4.0, 4.0, 4.125, 4.5, 4.5, 4.5, 4.571428571428571, 4.666666666666667, 4.714285714285714, 5.0, 6.0, 6.25, 6.5], \"yaxis\": \"y\"}, {\"name\": \"Wheels\", \"text\": [1.0, 2.0, 2.3, 2.5, 2.5, 3.3, 3.5, 3.5, 3.5, 3.6, 3.6, 3.7, 3.8, 4.0, 4.0, 4.3, 4.8, 5.2, 5.2, 7.0], \"textposition\": \"auto\", \"type\": \"bar\", \"visible\": false, \"x\": [\"Retro Offroad\", \"Retro Off-Road\", \"Triforce Tires\", \"Slick\", \"Standard\", \"Hot Monster\", \"Cushion\", \"GLA Tires\", \"Slim\", \"Blue Standard\", \"Button\", \"Ancient Tires\", \"Cyber Slick\", \"Crimson Slim\", \"Roller\", \"Wood\", \"Off-Road\", \"Azure Roller\", \"Monster\", \"Metal\"], \"xaxis\": \"x\", \"y\": [1.0, 2.0, 2.3333333333333335, 2.4545454545454546, 2.5, 3.3333333333333335, 3.5, 3.5, 3.5384615384615383, 3.5833333333333335, 3.6, 3.7142857142857144, 3.75, 4.0, 4.0, 4.285714285714286, 4.75, 5.166666666666667, 5.2, 7.0], \"yaxis\": \"y\"}, {\"name\": \"Glider\", \"text\": [2.2, 2.7, 2.8, 3.1, 3.2, 3.4, 3.5, 3.6, 4.0, 4.3, 4.4, 4.7, 5.0, 5.1], \"textposition\": \"auto\", \"type\": \"bar\", \"visible\": false, \"x\": [\"Wario Wing\", \"Waddle Wing\", \"Cloud Glider\", \"Parachute\", \"Flower Glider\", \"Hylian Kite\", \"Paper Glider\", \"Peach Parasol\", \"MKTV Parafoil\", \"Super Glider\", \"Bowser Kite\", \"Plane Glider\", \"Parafoil\", \"Paraglider\"], \"xaxis\": \"x\", \"y\": [2.25, 2.7142857142857144, 2.75, 3.0588235294117645, 3.1666666666666665, 3.4285714285714284, 3.526315789473684, 3.625, 4.0, 4.333333333333333, 4.4, 4.714285714285714, 5.0, 5.1], \"yaxis\": \"y\"}, {\"name\": \"Racer\", \"text\": [3.7], \"textposition\": \"auto\", \"type\": \"bar\", \"visible\": false, \"x\": [\"Sofia\"], \"xaxis\": \"x\", \"y\": [3.6802721088435373], \"yaxis\": \"y\"}, {\"name\": \"Controller Color\", \"text\": [3.7, 3.7], \"textposition\": \"auto\", \"type\": \"bar\", \"visible\": false, \"x\": [\"Red\", \"Blue\"], \"xaxis\": \"x\", \"y\": [3.661290322580645, 3.6941176470588237], \"yaxis\": \"y\"}, {\"name\": \"Map\", \"text\": [1.0, 1.0, 1.3, 1.5, 2.0, 2.0, 2.0, 2.0, 2.5, 2.8, 3.0, 3.0, 3.0, 3.2, 3.2, 3.2, 3.3, 3.3, 3.3, 3.4, 3.5, 3.5, 3.5, 3.6, 3.8, 3.8, 4.0, 4.0, 4.0, 4.0, 4.0, 4.2, 4.2, 4.5, 4.6, 4.8, 5.0, 5.0, 5.3, 5.3, 5.5, 5.5, 5.8, 6.0, 6.0], \"textposition\": \"auto\", \"type\": \"bar\", \"visible\": false, \"x\": [\"Thwomp Ruins\", \"Baby Park\", \"Sunshine Airport\", \"Wild Woods\", \"Sherbet Land\", \"Dry Dry Desert\", \"Mount Wario\", \"Big Blue\", \"Hyrule Circuit\", \"Tick-Tock Clock\", \"Toad Harbor\", \"Dragon Driftway\", \"Mute City\", \"Cheese Land\", \"Bone Dry Dunes\", \"Cheep Cheep Beach\", \"Music Park\", \"Rainbow Road\", \"Yoshi Circuit\", \"Yoshi Valley\", \"Bowser's Castle\", \"Cloudtop Cruise\", \"Moo Moo Meadows\", \"Ribbon Road\", \"Mario Kart Stadium\", \"Mario Circuit\", \"Water Park\", \"Dolphin Shoals\", \"Super Bell Subway\", \"Piranha Plant Slide\", \"Ice Ice Outpost\", \"Grumble Volcano\", \"Twisted Mansion\", \"Wario's Gold Mine\", \"Toad's Turnpike\", \"Royal Raceway\", \"SNES Rainbow Road\", \"Animal Crossing\", \"Donut Plains 3\", \"Sweet Sweet Canyon\", \"Wario Stadium\", \"Neo Bowser City\", \"Electrodome\", \"Shy Guy Falls\", \"DK Jungle\"], \"xaxis\": \"x\", \"y\": [1.0, 1.0, 1.3333333333333333, 1.5, 2.0, 2.0, 2.0, 2.0, 2.5, 2.75, 3.0, 3.0, 3.0, 3.1666666666666665, 3.2, 3.25, 3.3333333333333335, 3.3333333333333335, 3.3333333333333335, 3.4, 3.5, 3.5, 3.5, 3.5714285714285716, 3.75, 3.8, 4.0, 4.0, 4.0, 4.0, 4.0, 4.25, 4.25, 4.5, 4.6, 4.75, 5.0, 5.0, 5.333333333333333, 5.333333333333333, 5.5, 5.5, 5.75, 6.0, 6.0], \"yaxis\": \"y\"}, {\"name\": \"CC\", \"text\": [3.5, 4.4], \"textposition\": \"auto\", \"type\": \"bar\", \"visible\": false, \"x\": [100, 150], \"xaxis\": \"x\", \"y\": [3.5126050420168067, 4.392857142857143], \"yaxis\": \"y\"}, {\"name\": \"COM\", \"text\": [3.3, 5.1], \"textposition\": \"auto\", \"type\": \"bar\", \"visible\": false, \"x\": [\"Normal\", \"Hard\"], \"xaxis\": \"x\", \"y\": [3.3076923076923075, 5.133333333333334], \"yaxis\": \"y\"}, {\"name\": \"Auto Steering\", \"text\": [3.5, 3.8], \"textposition\": \"auto\", \"type\": \"bar\", \"visible\": false, \"x\": [true, false], \"xaxis\": \"x\", \"y\": [3.533333333333333, 3.8333333333333335], \"yaxis\": \"y\"}, {\"name\": \"Stick Steering\", \"text\": [3.7], \"textposition\": \"auto\", \"type\": \"bar\", \"visible\": false, \"x\": [true], \"xaxis\": \"x\", \"y\": [3.6802721088435373], \"yaxis\": \"y\"}, {\"name\": \"Auto Drive\", \"text\": [3.7], \"textposition\": \"auto\", \"type\": \"bar\", \"visible\": false, \"x\": [true], \"xaxis\": \"x\", \"y\": [3.6802721088435373], \"yaxis\": \"y\"}, {\"mode\": \"lines+markers\", \"name\": \"Date (Sofia)\", \"type\": \"scatter\", \"visible\": false, \"x\": [\"2024-02-28T00:00:00\", \"2024-02-29T00:00:00\", \"2024-03-02T00:00:00\", \"2024-03-04T00:00:00\", \"2024-03-07T00:00:00\", \"2024-03-11T00:00:00\", \"2024-03-16T00:00:00\", \"2024-03-19T00:00:00\", \"2024-03-21T00:00:00\", \"2024-03-25T00:00:00\", \"2024-05-22T00:00:00\", \"2024-09-06T00:00:00\", \"2025-01-07T00:00:00\", \"2025-01-17T00:00:00\"], \"xaxis\": \"x\", \"y\": [1.4444444444444444, 2.1666666666666665, 3.611111111111111, 4.75, 3.611111111111111, 3.9166666666666665, 4.333333333333333, 3.8, 3.75, 4.833333333333333, 4.5, 2.6, 3.75, 3.0], \"yaxis\": \"y\"}, {\"name\": \"Randomized\", \"text\": [1.8, 3.7], \"textposition\": \"auto\", \"type\": \"bar\", \"visible\": false, \"x\": [false, true], \"xaxis\": \"x\", \"y\": [1.75, 3.734265734265734], \"yaxis\": \"y\"}, {\"name\": \"Racer Count\", \"text\": [1.0, 2.8, 3.9, 3.7], \"textposition\": \"auto\", \"type\": \"bar\", \"visible\": false, \"x\": [1, 2, 3, 4], \"xaxis\": \"x\", \"y\": [1.0, 2.7777777777777777, 3.9411764705882355, 3.7058823529411766], \"yaxis\": \"y\"}, {\"name\": \"Character\", \"text\": [1.5, 1.5, 2.0, 2.0, 2.2, 2.3, 2.5, 2.5, 3.0, 3.0, 3.0, 3.2, 3.7, 4.0, 4.0, 4.0, 4.0, 4.2, 4.4, 4.5, 4.5, 4.5, 4.7, 4.9, 5.0, 5.0, 5.2, 5.3, 6.5, 6.5, 6.5, 7.0, 7.2, 8.5], \"textposition\": \"auto\", \"type\": \"bar\", \"visible\": true, \"x\": [\"Villager (Girl)\", \"Larry\", \"Tanooki Mario\", \"Bowser\", \"Toadette\", \"Morton\", \"Isabelle\", \"Wendy\", \"Metal Mario\", \"Dry Bones\", \"Iggy\", \"Shy Guy\", \"Baby Rosalina\", \"Ludwig\", \"Rosalina\", \"Bowser Jr.\", \"Link\", \"Peach\", \"Lakitu\", \"Inkling Boy\", \"Daisy\", \"Toad\", \"Wario\", \"Yoshi\", \"Donkey Kong\", \"Inkling Girl\", \"Koopa Troopa\", \"Baby Daisy\", \"Villager (Boy)\", \"King Boo\", \"Baby Peach\", \"Waluigi\", \"Mario\", \"Lemmy\"], \"xaxis\": \"x2\", \"y\": [1.5, 1.5, 2.0, 2.0, 2.25, 2.3333333333333335, 2.5, 2.5, 3.0, 3.0, 3.0, 3.25, 3.7142857142857144, 4.0, 4.0, 4.0, 4.0, 4.2, 4.428571428571429, 4.5, 4.5, 4.5, 4.666666666666667, 4.9, 5.0, 5.0, 5.166666666666667, 5.333333333333333, 6.5, 6.5, 6.5, 7.0, 7.25, 8.5], \"yaxis\": \"y2\"}, {\"name\": \"Vehicle\", \"text\": [1.0, 2.0, 2.0, 2.2, 3.0, 3.3, 3.6, 3.6, 3.6, 3.7, 3.7, 4.0, 4.0, 4.0, 4.0, 4.2, 4.3, 4.4, 4.8, 4.9, 5.0, 5.0, 5.3, 5.3, 5.5, 5.5, 6.5, 6.8, 10.0], \"textposition\": \"auto\", \"type\": \"bar\", \"visible\": false, \"x\": [\"Comet\", \"300 SL Roadster\", \"P-Wing\", \"Yoshi Bike\", \"Teddy Buggy\", \"City Tripper\", \"Biddybuggy\", \"Sneeker\", \"Splat Buggy\", \"Circuit Special\", \"Streetle\", \"Tanooki Cart\", \"Landship\", \"Master Cycle\", \"Sports Coupe\", \"Standard Bike\", \"Cat Cruiser\", \"Pipe Frame\", \"Mr. Scooty\", \"Tri-Speeder\", \"The Duke\", \"Varmint\", \"GLA\", \"Koopa Clown\", \"Standard ATV\", \"Steel Driver\", \"Blue Falcon\", \"Mach 8\", \"B Dasher\"], \"xaxis\": \"x2\", \"y\": [1.0, 2.0, 2.0, 2.25, 3.0, 3.3333333333333335, 3.5714285714285716, 3.5714285714285716, 3.625, 3.6666666666666665, 3.6666666666666665, 4.0, 4.0, 4.0, 4.0, 4.25, 4.333333333333333, 4.375, 4.75, 4.857142857142857, 5.0, 5.0, 5.285714285714286, 5.333333333333333, 5.5, 5.5, 6.5, 6.75, 10.0], \"yaxis\": \"y2\"}, {\"name\": \"Wheels\", \"text\": [1.9, 2.5, 2.5, 2.5, 2.8, 3.8, 4.0, 4.0, 4.2, 4.2, 4.3, 4.4, 4.5, 4.5, 5.0, 5.4, 5.4, 6.0, 6.5, 6.7], \"textposition\": \"auto\", \"type\": \"bar\", \"visible\": false, \"x\": [\"Button\", \"Cushion\", \"Retro Offroad\", \"Roller\", \"Blue Standard\", \"Hot Monster\", \"Ancient Tires\", \"Crimson Slim\", \"Off-Road\", \"Standard\", \"Slick\", \"GLA Tires\", \"Cyber Slick\", \"Triforce Tires\", \"Retro Off-Road\", \"Slim\", \"Wood\", \"Monster\", \"Metal\", \"Azure Roller\"], \"xaxis\": \"x2\", \"y\": [1.8888888888888888, 2.5, 2.5, 2.5, 2.8181818181818183, 3.75, 4.0, 4.0, 4.166666666666667, 4.25, 4.333333333333333, 4.375, 4.5, 4.5, 5.0, 5.384615384615385, 5.428571428571429, 6.0, 6.5, 6.666666666666667], \"yaxis\": \"y2\"}, {\"name\": \"Glider\", \"text\": [2.6, 3.2, 3.3, 3.6, 3.8, 4.1, 4.4, 4.5, 4.6, 4.6, 4.6, 5.4, 6.7, 7.7], \"textposition\": \"auto\", \"type\": \"bar\", \"visible\": false, \"x\": [\"Hylian Kite\", \"Cloud Glider\", \"Flower Glider\", \"Parachute\", \"Bowser Kite\", \"MKTV Parafoil\", \"Plane Glider\", \"Paper Glider\", \"Paraglider\", \"Super Glider\", \"Wario Wing\", \"Peach Parasol\", \"Parafoil\", \"Waddle Wing\"], \"xaxis\": \"x2\", \"y\": [2.5714285714285716, 3.1666666666666665, 3.3333333333333335, 3.5714285714285716, 3.8333333333333335, 4.136363636363637, 4.444444444444445, 4.529411764705882, 4.555555555555555, 4.571428571428571, 4.625, 5.375, 6.666666666666667, 7.666666666666667], \"yaxis\": \"y2\"}, {\"name\": \"Racer\", \"text\": [4.3], \"textposition\": \"auto\", \"type\": \"bar\", \"visible\": false, \"x\": [\"Kaima\"], \"xaxis\": \"x2\", \"y\": [4.298507462686567], \"yaxis\": \"y2\"}, {\"name\": \"Controller Color\", \"text\": [3.8, 4.7], \"textposition\": \"auto\", \"type\": \"bar\", \"visible\": false, \"x\": [\"Red\", \"Blue\"], \"xaxis\": \"x2\", \"y\": [3.783333333333333, 4.716216216216216], \"yaxis\": \"y2\"}, {\"name\": \"Map\", \"text\": [1.0, 1.5, 2.0, 2.5, 2.5, 2.5, 2.5, 2.6, 2.8, 2.8, 3.0, 3.0, 3.0, 3.0, 3.0, 3.0, 3.5, 3.5, 3.7, 3.7, 4.0, 4.0, 4.0, 4.3, 4.3, 4.5, 4.5, 4.8, 5.0, 5.0, 5.0, 5.0, 5.0, 5.0, 5.2, 5.3, 5.3, 5.5, 6.0, 6.5, 6.5, 7.3, 7.5, 9.5, 10.0], \"textposition\": \"auto\", \"type\": \"bar\", \"visible\": false, \"x\": [\"SNES Rainbow Road\", \"Shy Guy Falls\", \"Sweet Sweet Canyon\", \"Bone Dry Dunes\", \"Dry Dry Desert\", \"Tick-Tock Clock\", \"Moo Moo Meadows\", \"Mario Circuit\", \"Yoshi Valley\", \"Dragon Driftway\", \"Sunshine Airport\", \"Mount Wario\", \"Water Park\", \"Big Blue\", \"Baby Park\", \"DK Jungle\", \"Cheep Cheep Beach\", \"Bowser's Castle\", \"Super Bell Subway\", \"Thwomp Ruins\", \"Wario's Gold Mine\", \"Mute City\", \"Dolphin Shoals\", \"Rainbow Road\", \"Royal Raceway\", \"Wario Stadium\", \"Hyrule Circuit\", \"Toad's Turnpike\", \"Yoshi Circuit\", \"Cheese Land\", \"Cloudtop Cruise\", \"Animal Crossing\", \"Ribbon Road\", \"Ice Ice Outpost\", \"Mario Kart Stadium\", \"Music Park\", \"Electrodome\", \"Toad Harbor\", \"Twisted Mansion\", \"Donut Plains 3\", \"Neo Bowser City\", \"Piranha Plant Slide\", \"Wild Woods\", \"Grumble Volcano\", \"Sherbet Land\"], \"xaxis\": \"x2\", \"y\": [1.0, 1.5, 2.0, 2.5, 2.5, 2.5, 2.5, 2.6, 2.75, 2.8333333333333335, 3.0, 3.0, 3.0, 3.0, 3.0, 3.0, 3.5, 3.5, 3.6666666666666665, 3.6666666666666665, 4.0, 4.0, 4.0, 4.333333333333333, 4.333333333333333, 4.5, 4.5, 4.75, 5.0, 5.0, 5.0, 5.0, 5.0, 5.0, 5.25, 5.333333333333333, 5.333333333333333, 5.5, 6.0, 6.5, 6.5, 7.333333333333333, 7.5, 9.5, 10.0], \"yaxis\": \"y2\"}, {\"name\": \"CC\", \"text\": [4.1, 4.3], \"textposition\": \"auto\", \"type\": \"bar\", \"visible\": false, \"x\": [150, 100], \"xaxis\": \"x2\", \"y\": [4.1, 4.333333333333333], \"yaxis\": \"y2\"}, {\"name\": \"COM\", \"text\": [4.1, 5.4], \"textposition\": \"auto\", \"type\": \"bar\", \"visible\": false, \"x\": [\"Normal\", \"Hard\"], \"xaxis\": \"x2\", \"y\": [4.129310344827586, 5.388888888888889], \"yaxis\": \"y2\"}, {\"name\": \"Auto Steering\", \"text\": [3.6, 5.1], \"textposition\": \"auto\", \"type\": \"bar\", \"visible\": false, \"x\": [true, false], \"xaxis\": \"x2\", \"y\": [3.6, 5.0625], \"yaxis\": \"y2\"}, {\"name\": \"Stick Steering\", \"text\": [4.3], \"textposition\": \"auto\", \"type\": \"bar\", \"visible\": false, \"x\": [true], \"xaxis\": \"x2\", \"y\": [4.298507462686567], \"yaxis\": \"y2\"}, {\"name\": \"Auto Drive\", \"text\": [4.3], \"textposition\": \"auto\", \"type\": \"bar\", \"visible\": false, \"x\": [true], \"xaxis\": \"x2\", \"y\": [4.298507462686567], \"yaxis\": \"y2\"}, {\"mode\": \"lines+markers\", \"name\": \"Date (Kaima)\", \"type\": \"scatter\", \"visible\": false, \"x\": [\"2024-02-28T00:00:00\", \"2024-02-29T00:00:00\", \"2024-03-02T00:00:00\", \"2024-03-04T00:00:00\", \"2024-03-07T00:00:00\", \"2024-03-11T00:00:00\", \"2024-03-16T00:00:00\", \"2024-03-19T00:00:00\", \"2024-03-21T00:00:00\", \"2024-05-22T00:00:00\", \"2024-09-06T00:00:00\", \"2025-01-07T00:00:00\", \"2025-01-17T00:00:00\"], \"xaxis\": \"x2\", \"y\": [2.5, 2.6666666666666665, 4.0, 5.416666666666667, 4.388888888888889, 6.583333333333333, 4.611111111111111, 4.0, 2.25, 6.333333333333333, 2.6, 4.5, 3.875], \"yaxis\": \"y2\"}, {\"name\": \"Randomized\", \"text\": [2.8, 4.3], \"textposition\": \"auto\", \"type\": \"bar\", \"visible\": false, \"x\": [false, true], \"xaxis\": \"x2\", \"y\": [2.75, 4.346153846153846], \"yaxis\": \"y2\"}, {\"name\": \"Racer Count\", \"text\": [2.6, 4.7, 3.6], \"textposition\": \"auto\", \"type\": \"bar\", \"visible\": false, \"x\": [2, 3, 4], \"xaxis\": \"x2\", \"y\": [2.6, 4.650485436893204, 3.625], \"yaxis\": \"y2\"}, {\"name\": \"Character\", \"text\": [5.5, 6.5, 7.0, 8.0, 8.0, 12.0], \"textposition\": \"auto\", \"type\": \"bar\", \"visible\": true, \"x\": [\"Toad\", \"Isabelle\", \"Dry Bones\", \"Morton\", \"Villager (Girl)\", \"Baby Rosalina\"], \"xaxis\": \"x3\", \"y\": [5.5, 6.5, 7.0, 8.0, 8.0, 12.0], \"yaxis\": \"y3\"}, {\"name\": \"Vehicle\", \"text\": [5.0, 6.3, 8.0, 8.0, 8.7], \"textposition\": \"auto\", \"type\": \"bar\", \"visible\": false, \"x\": [\"Streetle\", \"Sneeker\", \"Splat Buggy\", \"Tri-Speeder\", \"GLA\"], \"xaxis\": \"x3\", \"y\": [5.0, 6.333333333333333, 8.0, 8.0, 8.666666666666666], \"yaxis\": \"y3\"}, {\"name\": \"Wheels\", \"text\": [5.0, 5.5, 7.0, 8.0, 8.0, 12.0], \"textposition\": \"auto\", \"type\": \"bar\", \"visible\": false, \"x\": [\"Monster\", \"Slick\", \"Slim\", \"Ancient Tires\", \"Button\", \"Wood\"], \"xaxis\": \"x3\", \"y\": [5.0, 5.5, 7.0, 8.0, 8.0, 12.0], \"yaxis\": \"y3\"}, {\"name\": \"Glider\", \"text\": [5.0, 5.5, 7.3, 8.0, 8.0, 12.0], \"textposition\": \"auto\", \"type\": \"bar\", \"visible\": false, \"x\": [\"Paper Glider\", \"Wario Wing\", \"MKTV Parafoil\", \"Parachute\", \"Parafoil\", \"Hylian Kite\"], \"xaxis\": \"x3\", \"y\": [5.0, 5.5, 7.333333333333333, 8.0, 8.0, 12.0], \"yaxis\": \"y3\"}, {\"name\": \"Racer\", \"text\": [7.4], \"textposition\": \"auto\", \"type\": \"bar\", \"visible\": false, \"x\": [\"Jules\"], \"xaxis\": \"x3\", \"y\": [7.4], \"yaxis\": \"y3\"}, {\"name\": \"Controller Color\", \"text\": [6.3, 9.0], \"textposition\": \"auto\", \"type\": \"bar\", \"visible\": false, \"x\": [\"Blue\", \"Red\"], \"xaxis\": \"x3\", \"y\": [6.333333333333333, 9.0], \"yaxis\": \"y3\"}, {\"name\": \"Map\", \"text\": [4.0, 5.0, 6.0, 7.0, 7.0, 8.0, 8.0, 10.0, 12.0], \"textposition\": \"auto\", \"type\": \"bar\", \"visible\": false, \"x\": [\"Mario Circuit\", \"Yoshi Circuit\", \"Thwomp Ruins\", \"Big Blue\", \"Dragon Driftway\", \"Cheese Land\", \"Toad's Turnpike\", \"Dry Dry Desert\", \"Water Park\"], \"xaxis\": \"x3\", \"y\": [4.0, 5.0, 6.0, 7.0, 7.0, 8.0, 8.0, 10.0, 12.0], \"yaxis\": \"y3\"}, {\"name\": \"CC\", \"text\": [7.4], \"textposition\": \"auto\", \"type\": \"bar\", \"visible\": false, \"x\": [100], \"xaxis\": \"x3\", \"y\": [7.4], \"yaxis\": \"y3\"}, {\"name\": \"COM\", \"text\": [7.4], \"textposition\": \"auto\", \"type\": \"bar\", \"visible\": false, \"x\": [\"Normal\"], \"xaxis\": \"x3\", \"y\": [7.4], \"yaxis\": \"y3\"}, {\"name\": \"Auto Steering\", \"text\": [7.4], \"textposition\": \"auto\", \"type\": \"bar\", \"visible\": false, \"x\": [true], \"xaxis\": \"x3\", \"y\": [7.4], \"yaxis\": \"y3\"}, {\"name\": \"Stick Steering\", \"text\": [7.4], \"textposition\": \"auto\", \"type\": \"bar\", \"visible\": false, \"x\": [true], \"xaxis\": \"x3\", \"y\": [7.4], \"yaxis\": \"y3\"}, {\"name\": \"Auto Drive\", \"text\": [7.4], \"textposition\": \"auto\", \"type\": \"bar\", \"visible\": false, \"x\": [true], \"xaxis\": \"x3\", \"y\": [7.4], \"yaxis\": \"y3\"}, {\"mode\": \"lines+markers\", \"name\": \"Date (Jules)\", \"type\": \"scatter\", \"visible\": false, \"x\": [\"2024-02-29T00:00:00\", \"2024-03-21T00:00:00\"], \"xaxis\": \"x3\", \"y\": [6.833333333333333, 8.25], \"yaxis\": \"y3\"}, {\"name\": \"Randomized\", \"text\": [7.4], \"textposition\": \"auto\", \"type\": \"bar\", \"visible\": false, \"x\": [true], \"xaxis\": \"x3\", \"y\": [7.4], \"yaxis\": \"y3\"}, {\"name\": \"Racer Count\", \"text\": [6.8, 8.2], \"textposition\": \"auto\", \"type\": \"bar\", \"visible\": false, \"x\": [3, 4], \"xaxis\": \"x3\", \"y\": [6.833333333333333, 8.25], \"yaxis\": \"y3\"}, {\"name\": \"Character\", \"text\": [1.0, 1.0, 1.0, 1.0, 1.0, 1.0, 1.0, 1.0, 1.0, 1.0, 1.0, 1.0, 1.0, 1.1, 1.1, 1.4, 1.4, 1.5, 1.5, 1.5, 1.7, 1.8, 1.8, 1.8, 2.0, 2.0, 2.0, 2.0, 2.0, 2.1, 2.5, 2.8, 3.1, 3.2, 4.5, 4.5], \"textposition\": \"auto\", \"type\": \"bar\", \"visible\": true, \"x\": [\"Baby Mario\", \"Wario\", \"Waluigi\", \"Tanooki Mario\", \"Roy\", \"Rosalina\", \"Morton\", \"Dry Bones\", \"Mario\", \"Inkling Boy\", \"Link\", \"Isabelle\", \"Wendy\", \"Yoshi\", \"Baby Daisy\", \"Peach\", \"Bowser Jr.\", \"Villager (Boy)\", \"Donkey Kong\", \"Koopa Troopa\", \"Baby Rosalina\", \"Inkling Girl\", \"Metal Mario\", \"Shy Guy\", \"Larry\", \"Iggy\", \"Bowser\", \"Toad\", \"Toadette\", \"Lakitu\", \"Pink Gold Peach\", \"Lemmy\", \"Daisy\", \"Ludwig\", \"King Boo\", \"Baby Peach\"], \"xaxis\": \"x4\", \"y\": [1.0, 1.0, 1.0, 1.0, 1.0, 1.0, 1.0, 1.0, 1.0, 1.0, 1.0, 1.0, 1.0, 1.1, 1.1428571428571428, 1.4, 1.4285714285714286, 1.5, 1.5, 1.5, 1.7142857142857142, 1.75, 1.75, 1.75, 2.0, 2.0, 2.0, 2.0, 2.0, 2.142857142857143, 2.5, 2.75, 3.125, 3.25, 4.5, 4.5], \"yaxis\": \"y4\"}, {\"name\": \"Vehicle\", \"text\": [1.0, 1.0, 1.0, 1.0, 1.0, 1.0, 1.0, 1.0, 1.0, 1.0, 1.1, 1.2, 1.2, 1.4, 1.4, 1.5, 1.5, 1.5, 1.7, 1.8, 2.0, 2.0, 2.0, 2.2, 2.3, 2.4, 2.8, 3.0, 3.0, 3.2, 3.8], \"textposition\": \"auto\", \"type\": \"bar\", \"visible\": false, \"x\": [\"B Dasher\", \"Varmint\", \"Cat Cruiser\", \"Circuit Special\", \"Tanooki Cart\", \"Standard Kart\", \"Sports Coupe\", \"Landship\", \"Master Cycle\", \"Mr. Scooty\", \"Mach 8\", \"Yoshi Bike\", \"Teddy Buggy\", \"The Duke\", \"Pipe Frame\", \"Koopa Clown\", \"Standard ATV\", \"300 SL Roadster\", \"Sneeker\", \"W 25 Silver Arrow\", \"Splat Buggy\", \"GLA\", \"Streetle\", \"Tri-Speeder\", \"Biddybuggy\", \"Standard Bike\", \"P-Wing\", \"Comet\", \"Blue Falcon\", \"Steel Driver\", \"City Tripper\"], \"xaxis\": \"x4\", \"y\": [1.0, 1.0, 1.0, 1.0, 1.0, 1.0, 1.0, 1.0, 1.0, 1.0, 1.125, 1.1666666666666667, 1.2, 1.375, 1.375, 1.5, 1.5, 1.5, 1.7142857142857142, 1.75, 2.0, 2.0, 2.0, 2.230769230769231, 2.2857142857142856, 2.4, 2.8333333333333335, 3.0, 3.0, 3.25, 3.75], \"yaxis\": \"y4\"}, {\"name\": \"Wheels\", \"text\": [1.0, 1.0, 1.0, 1.0, 1.2, 1.3, 1.3, 1.3, 1.3, 1.4, 1.4, 1.5, 1.5, 1.8, 1.9, 2.1, 2.5, 2.6, 3.8, 4.2], \"textposition\": \"auto\", \"type\": \"bar\", \"visible\": false, \"x\": [\"Azure Roller\", \"Crimson Slim\", \"Cushion\", \"Retro Off-Road\", \"Roller\", \"Monster\", \"Hot Monster\", \"Slick\", \"Ancient Tires\", \"Blue Standard\", \"Standard\", \"Triforce Tires\", \"Sponge\", \"GLA Tires\", \"Slim\", \"Button\", \"Off-Road\", \"Wood\", \"Cyber Slick\", \"Metal\"], \"xaxis\": \"x4\", \"y\": [1.0, 1.0, 1.0, 1.0, 1.25, 1.2727272727272727, 1.2857142857142858, 1.2857142857142858, 1.3, 1.3846153846153846, 1.4, 1.5, 1.5, 1.75, 1.9333333333333333, 2.076923076923077, 2.5, 2.6363636363636362, 3.75, 4.25], \"yaxis\": \"y4\"}, {\"name\": \"Glider\", \"text\": [1.0, 1.1, 1.2, 1.4, 1.4, 1.4, 1.6, 1.8, 1.8, 1.8, 2.0, 2.4, 2.7, 3.1], \"textposition\": \"auto\", \"type\": \"bar\", \"visible\": false, \"x\": [\"Paraglider\", \"Parafoil\", \"Flower Glider\", \"MKTV Parafoil\", \"Parachute\", \"Cloud Glider\", \"Hylian Kite\", \"Wario Wing\", \"Waddle Wing\", \"Paper Glider\", \"Peach Parasol\", \"Plane Glider\", \"Bowser Kite\", \"Super Glider\"], \"xaxis\": \"x4\", \"y\": [1.0, 1.1428571428571428, 1.2, 1.375, 1.4444444444444444, 1.45, 1.6, 1.75, 1.8181818181818181, 1.8421052631578947, 2.0, 2.375, 2.6666666666666665, 3.111111111111111], \"yaxis\": \"y4\"}, {\"name\": \"Racer\", \"text\": [1.7], \"textposition\": \"auto\", \"type\": \"bar\", \"visible\": false, \"x\": [\"Nick\"], \"xaxis\": \"x4\", \"y\": [1.7467532467532467], \"yaxis\": \"y4\"}, {\"name\": \"Controller Color\", \"text\": [1.6, 2.0], \"textposition\": \"auto\", \"type\": \"bar\", \"visible\": false, \"x\": [\"Blue\", \"Red\"], \"xaxis\": \"x4\", \"y\": [1.5681818181818181, 1.9848484848484849], \"yaxis\": \"y4\"}, {\"name\": \"Map\", \"text\": [1.0, 1.0, 1.0, 1.0, 1.0, 1.0, 1.0, 1.0, 1.0, 1.0, 1.0, 1.0, 1.0, 1.0, 1.0, 1.0, 1.2, 1.2, 1.3, 1.3, 1.4, 1.5, 1.5, 1.5, 1.5, 1.6, 1.6, 1.7, 1.7, 1.8, 1.8, 1.8, 2.0, 2.0, 2.2, 2.5, 2.7, 2.8, 3.0, 3.0, 3.0, 3.2, 3.3, 3.8, 4.0, 9.0], \"textposition\": \"auto\", \"type\": \"bar\", \"visible\": false, \"x\": [\"Animal Crossing\", \"Twisted Mansion\", \"Toad Harbor\", \"Super Bell Subway\", \"Sherbet Land\", \"Yoshi Circuit\", \"Mount Wario\", \"Hyrule Circuit\", \"Excitebike Arena\", \"Dragon Driftway\", \"Yoshi Valley\", \"Dolphin Shoals\", \"DK Jungle\", \"Big Blue\", \"Cheese Land\", \"Bowser's Castle\", \"Grumble Volcano\", \"Ice Ice Outpost\", \"Wario's Gold Mine\", \"Sweet Sweet Canyon\", \"Water Park\", \"Wild Woods\", \"Moo Moo Meadows\", \"SNES Rainbow Road\", \"Piranha Plant Slide\", \"Royal Raceway\", \"Mario Circuit\", \"Ribbon Road\", \"Toad's Turnpike\", \"Music Park\", \"Tick-Tock Clock\", \"Mario Kart Stadium\", \"Cloudtop Cruise\", \"Neo Bowser City\", \"Bone Dry Dunes\", \"Mute City\", \"Donut Plains 3\", \"Cheep Cheep Beach\", \"Sunshine Airport\", \"Baby Park\", \"Wario Stadium\", \"Electrodome\", \"Shy Guy Falls\", \"Rainbow Road\", \"Dry Dry Desert\", \"Thwomp Ruins\"], \"xaxis\": \"x4\", \"y\": [1.0, 1.0, 1.0, 1.0, 1.0, 1.0, 1.0, 1.0, 1.0, 1.0, 1.0, 1.0, 1.0, 1.0, 1.0, 1.0, 1.25, 1.25, 1.2857142857142858, 1.3333333333333333, 1.4, 1.5, 1.5, 1.5, 1.5, 1.6, 1.6, 1.6666666666666667, 1.6666666666666667, 1.75, 1.75, 1.75, 2.0, 2.0, 2.2, 2.5, 2.6666666666666665, 2.75, 3.0, 3.0, 3.0, 3.25, 3.3333333333333335, 3.75, 4.0, 9.0], \"yaxis\": \"y4\"}, {\"name\": \"CC\", \"text\": [1.7, 1.8], \"textposition\": \"auto\", \"type\": \"bar\", \"visible\": false, \"x\": [100, 150], \"xaxis\": \"x4\", \"y\": [1.7407407407407407, 1.7608695652173914], \"yaxis\": \"y4\"}, {\"name\": \"COM\", \"text\": [1.6, 2.5], \"textposition\": \"auto\", \"type\": \"bar\", \"visible\": false, \"x\": [\"Normal\", \"Hard\"], \"xaxis\": \"x4\", \"y\": [1.564516129032258, 2.5], \"yaxis\": \"y4\"}, {\"name\": \"Auto Steering\", \"text\": [1.7, 1.8], \"textposition\": \"auto\", \"type\": \"bar\", \"visible\": false, \"x\": [false, true], \"xaxis\": \"x4\", \"y\": [1.7297297297297298, 1.7625], \"yaxis\": \"y4\"}, {\"name\": \"Stick Steering\", \"text\": [1.7], \"textposition\": \"auto\", \"type\": \"bar\", \"visible\": false, \"x\": [true], \"xaxis\": \"x4\", \"y\": [1.7467532467532467], \"yaxis\": \"y4\"}, {\"name\": \"Auto Drive\", \"text\": [1.7], \"textposition\": \"auto\", \"type\": \"bar\", \"visible\": false, \"x\": [true], \"xaxis\": \"x4\", \"y\": [1.7467532467532467], \"yaxis\": \"y4\"}, {\"mode\": \"lines+markers\", \"name\": \"Date (Nick)\", \"type\": \"scatter\", \"visible\": false, \"x\": [\"2024-03-02T00:00:00\", \"2024-03-04T00:00:00\", \"2024-03-07T00:00:00\", \"2024-03-11T00:00:00\", \"2024-03-16T00:00:00\", \"2024-03-19T00:00:00\", \"2024-03-21T00:00:00\", \"2024-03-25T00:00:00\", \"2024-05-22T00:00:00\", \"2024-09-06T00:00:00\", \"2025-01-07T00:00:00\", \"2025-01-10T00:00:00\", \"2025-01-11T00:00:00\", \"2025-01-17T00:00:00\"], \"xaxis\": \"x4\", \"y\": [2.611111111111111, 1.8333333333333333, 1.2222222222222223, 2.0, 2.1666666666666665, 1.5, 1.5, 2.25, 1.0, 1.8333333333333333, 1.0, 1.5, 1.4444444444444444, 1.0], \"yaxis\": \"y4\"}, {\"name\": \"Randomized\", \"text\": [1.7], \"textposition\": \"auto\", \"type\": \"bar\", \"visible\": false, \"x\": [true], \"xaxis\": \"x4\", \"y\": [1.7467532467532467], \"yaxis\": \"y4\"}, {\"name\": \"Racer Count\", \"text\": [2.4, 1.8, 1.1], \"textposition\": \"auto\", \"type\": \"bar\", \"visible\": false, \"x\": [2, 3, 4], \"xaxis\": \"x4\", \"y\": [2.3636363636363638, 1.7777777777777777, 1.1176470588235294], \"yaxis\": \"y4\"}, {\"name\": \"Character\", \"text\": [2.0, 2.0, 2.5, 2.5, 3.0, 3.0, 3.5, 4.0, 4.0, 4.2, 4.5, 4.5, 4.5, 4.7, 5.3, 5.5, 6.5], \"textposition\": \"auto\", \"type\": \"bar\", \"visible\": true, \"x\": [\"Toadette\", \"Roy\", \"Toad\", \"Inkling Boy\", \"Metal Mario\", \"Daisy\", \"Bowser Jr.\", \"Dry Bones\", \"Lemmy\", \"Baby Daisy\", \"Baby Peach\", \"Baby Mario\", \"Morton\", \"Waluigi\", \"Rosalina\", \"Pink Gold Peach\", \"Villager (Boy)\"], \"xaxis\": \"x5\", \"y\": [2.0, 2.0, 2.5, 2.5, 3.0, 3.0, 3.5, 4.0, 4.0, 4.25, 4.5, 4.5, 4.5, 4.666666666666667, 5.333333333333333, 5.5, 6.5], \"yaxis\": \"y5\"}, {\"name\": \"Vehicle\", \"text\": [2.0, 2.5, 2.5, 2.5, 2.8, 3.2, 4.0, 4.0, 4.2, 4.5, 4.5, 4.8, 4.8, 5.5, 6.0], \"textposition\": \"auto\", \"type\": \"bar\", \"visible\": false, \"x\": [\"Standard ATV\", \"City Tripper\", \"Standard Kart\", \"The Duke\", \"Koopa Clown\", \"Sports Coupe\", \"P-Wing\", \"W 25 Silver Arrow\", \"Tri-Speeder\", \"Sneeker\", \"Standard Bike\", \"Teddy Buggy\", \"B Dasher\", \"Steel Driver\", \"Circuit Special\"], \"xaxis\": \"x5\", \"y\": [2.0, 2.5, 2.5, 2.5, 2.75, 3.25, 4.0, 4.0, 4.25, 4.5, 4.5, 4.75, 4.8, 5.5, 6.0], \"yaxis\": \"y5\"}, {\"name\": \"Wheels\", \"text\": [2.0, 2.0, 2.5, 2.8, 3.5, 3.9, 4.2, 4.5, 4.5, 5.0, 5.0, 5.2], \"textposition\": \"auto\", \"type\": \"bar\", \"visible\": false, \"x\": [\"Azure Roller\", \"Cushion\", \"Monster\", \"Standard\", \"Ancient Tires\", \"Slim\", \"Sponge\", \"Off-Road\", \"Wood\", \"Button\", \"Crimson Slim\", \"Blue Standard\"], \"xaxis\": \"x5\", \"y\": [2.0, 2.0, 2.5, 2.75, 3.5, 3.857142857142857, 4.25, 4.5, 4.5, 5.0, 5.0, 5.25], \"yaxis\": \"y5\"}, {\"name\": \"Glider\", \"text\": [2.0, 2.5, 2.5, 3.0, 3.5, 3.7, 3.7, 4.0, 4.0, 4.7, 5.5], \"textposition\": \"auto\", \"type\": \"bar\", \"visible\": false, \"x\": [\"Parafoil\", \"Bowser Kite\", \"Peach Parasol\", \"Paraglider\", \"Hylian Kite\", \"MKTV Parafoil\", \"Wario Wing\", \"Paper Glider\", \"Waddle Wing\", \"Cloud Glider\", \"Flower Glider\"], \"xaxis\": \"x5\", \"y\": [2.0, 2.5, 2.5, 3.0, 3.5, 3.6666666666666665, 3.6666666666666665, 4.0, 4.0, 4.666666666666667, 5.5], \"yaxis\": \"y5\"}, {\"name\": \"Racer\", \"text\": [3.9], \"textposition\": \"auto\", \"type\": \"bar\", \"visible\": false, \"x\": [\"Abby\"], \"xaxis\": \"x5\", \"y\": [3.857142857142857], \"yaxis\": \"y5\"}, {\"name\": \"Controller Color\", \"text\": [3.7, 4.0], \"textposition\": \"auto\", \"type\": \"bar\", \"visible\": false, \"x\": [\"Blue\", \"Red\"], \"xaxis\": \"x5\", \"y\": [3.727272727272727, 4.0], \"yaxis\": \"y5\"}, {\"name\": \"Map\", \"text\": [1.0, 2.0, 2.0, 2.5, 2.5, 2.5, 2.5, 3.0, 3.0, 3.0, 3.0, 3.0, 3.0, 3.7, 4.0, 4.0, 5.0, 5.0, 5.0, 5.0, 6.0, 6.0, 6.0, 7.0, 7.0, 7.5], \"textposition\": \"auto\", \"type\": \"bar\", \"visible\": false, \"x\": [\"Baby Park\", \"DK Jungle\", \"Mario Circuit\", \"Excitebike Arena\", \"Toad's Turnpike\", \"Royal Raceway\", \"Super Bell Subway\", \"Cheep Cheep Beach\", \"Moo Moo Meadows\", \"Music Park\", \"Wario Stadium\", \"Piranha Plant Slide\", \"Tick-Tock Clock\", \"Wario's Gold Mine\", \"Wild Woods\", \"Water Park\", \"Animal Crossing\", \"SNES Rainbow Road\", \"Mute City\", \"Ribbon Road\", \"Sherbet Land\", \"Toad Harbor\", \"Mount Wario\", \"Rainbow Road\", \"Shy Guy Falls\", \"Twisted Mansion\"], \"xaxis\": \"x5\", \"y\": [1.0, 2.0, 2.0, 2.5, 2.5, 2.5, 2.5, 3.0, 3.0, 3.0, 3.0, 3.0, 3.0, 3.6666666666666665, 4.0, 4.0, 5.0, 5.0, 5.0, 5.0, 6.0, 6.0, 6.0, 7.0, 7.0, 7.5], \"yaxis\": \"y5\"}, {\"name\": \"CC\", \"text\": [3.4, 4.6], \"textposition\": \"auto\", \"type\": \"bar\", \"visible\": false, \"x\": [150, 100], \"xaxis\": \"x5\", \"y\": [3.3846153846153846, 4.625], \"yaxis\": \"y5\"}, {\"name\": \"COM\", \"text\": [3.9], \"textposition\": \"auto\", \"type\": \"bar\", \"visible\": false, \"x\": [\"Normal\"], \"xaxis\": \"x5\", \"y\": [3.857142857142857], \"yaxis\": \"y5\"}, {\"name\": \"Auto Steering\", \"text\": [3.6, 5.7], \"textposition\": \"auto\", \"type\": \"bar\", \"visible\": false, \"x\": [true, false], \"xaxis\": \"x5\", \"y\": [3.5555555555555554, 5.666666666666667], \"yaxis\": \"y5\"}, {\"name\": \"Stick Steering\", \"text\": [3.9], \"textposition\": \"auto\", \"type\": \"bar\", \"visible\": false, \"x\": [true], \"xaxis\": \"x5\", \"y\": [3.857142857142857], \"yaxis\": \"y5\"}, {\"name\": \"Auto Drive\", \"text\": [3.9], \"textposition\": \"auto\", \"type\": \"bar\", \"visible\": false, \"x\": [true], \"xaxis\": \"x5\", \"y\": [3.857142857142857], \"yaxis\": \"y5\"}, {\"mode\": \"lines+markers\", \"name\": \"Date (Abby)\", \"type\": \"scatter\", \"visible\": false, \"x\": [\"2025-01-07T00:00:00\", \"2025-01-10T00:00:00\", \"2025-01-11T00:00:00\", \"2025-01-17T00:00:00\"], \"xaxis\": \"x5\", \"y\": [4.75, 4.583333333333333, 3.6666666666666665, 2.75], \"yaxis\": \"y5\"}, {\"name\": \"Randomized\", \"text\": [3.9], \"textposition\": \"auto\", \"type\": \"bar\", \"visible\": false, \"x\": [true], \"xaxis\": \"x5\", \"y\": [3.857142857142857], \"yaxis\": \"y5\"}, {\"name\": \"Racer Count\", \"text\": [4.0, 3.4], \"textposition\": \"auto\", \"type\": \"bar\", \"visible\": false, \"x\": [3, 4], \"xaxis\": \"x5\", \"y\": [4.033333333333333, 3.4166666666666665], \"yaxis\": \"y5\"}, {\"name\": \"Character\", \"text\": [1.5, 2.0, 2.0, 2.5, 2.5, 2.5, 3.0, 3.2, 3.5, 3.5, 4.5, 4.5, 5.0, 5.5], \"textposition\": \"auto\", \"type\": \"bar\", \"visible\": true, \"x\": [\"Morton\", \"Lemmy\", \"Rosalina\", \"Baby Mario\", \"Toadette\", \"Villager (Boy)\", \"Metal Mario\", \"Peach\", \"Inkling Boy\", \"Roy\", \"Pink Gold Peach\", \"Waluigi\", \"Daisy\", \"Baby Peach\"], \"xaxis\": \"x6\", \"y\": [1.5, 2.0, 2.0, 2.5, 2.5, 2.5, 3.0, 3.25, 3.5, 3.5, 4.5, 4.5, 5.0, 5.5], \"yaxis\": \"y6\"}, {\"name\": \"Vehicle\", \"text\": [1.5, 2.0, 2.5, 2.8, 3.2, 3.5, 3.5, 3.8, 4.5, 5.5], \"textposition\": \"auto\", \"type\": \"bar\", \"visible\": false, \"x\": [\"Standard Bike\", \"P-Wing\", \"Koopa Clown\", \"W 25 Silver Arrow\", \"B Dasher\", \"Standard ATV\", \"Standard Kart\", \"Teddy Buggy\", \"Steel Driver\", \"Sneeker\"], \"xaxis\": \"x6\", \"y\": [1.5, 2.0, 2.5, 2.75, 3.25, 3.5, 3.5, 3.75, 4.5, 5.5], \"yaxis\": \"y6\"}, {\"name\": \"Wheels\", \"text\": [1.5, 2.0, 2.5, 2.5, 2.5, 3.2, 3.5, 3.5, 3.8, 3.8, 5.5], \"textposition\": \"auto\", \"type\": \"bar\", \"visible\": false, \"x\": [\"Crimson Slim\", \"Button\", \"Ancient Tires\", \"Azure Roller\", \"Blue Standard\", \"Slim\", \"Cushion\", \"Monster\", \"Wood\", \"Standard\", \"Off-Road\"], \"xaxis\": \"x6\", \"y\": [1.5, 2.0, 2.5, 2.5, 2.5, 3.25, 3.5, 3.5, 3.75, 3.8333333333333335, 5.5], \"yaxis\": \"y6\"}, {\"name\": \"Glider\", \"text\": [2.0, 2.5, 2.6, 3.2, 3.5, 3.5, 3.5, 4.5], \"textposition\": \"auto\", \"type\": \"bar\", \"visible\": false, \"x\": [\"Paper Glider\", \"Paraglider\", \"Cloud Glider\", \"Super Glider\", \"Bowser Kite\", \"Flower Glider\", \"Parafoil\", \"Wario Wing\"], \"xaxis\": \"x6\", \"y\": [2.0, 2.5, 2.625, 3.25, 3.5, 3.5, 3.5, 4.5], \"yaxis\": \"y6\"}, {\"name\": \"Racer\", \"text\": [3.3], \"textposition\": \"auto\", \"type\": \"bar\", \"visible\": false, \"x\": [\"Benji\"], \"xaxis\": \"x6\", \"y\": [3.2666666666666666], \"yaxis\": \"y6\"}, {\"name\": \"Controller Color\", \"text\": [2.6, 4.0], \"textposition\": \"auto\", \"type\": \"bar\", \"visible\": false, \"x\": [\"Blue\", \"Red\"], \"xaxis\": \"x6\", \"y\": [2.625, 4.0], \"yaxis\": \"y6\"}, {\"name\": \"Map\", \"text\": [1.0, 1.0, 1.3, 1.5, 2.0, 2.0, 2.0, 2.0, 2.0, 3.0, 3.0, 3.5, 4.0, 4.0, 4.0, 4.5, 5.0, 5.0, 5.0, 7.0, 7.0], \"textposition\": \"auto\", \"type\": \"bar\", \"visible\": false, \"x\": [\"Wario Stadium\", \"Mute City\", \"Wario's Gold Mine\", \"Tick-Tock Clock\", \"SNES Rainbow Road\", \"Toad's Turnpike\", \"Music Park\", \"Toad Harbor\", \"Shy Guy Falls\", \"Excitebike Arena\", \"Water Park\", \"Wild Woods\", \"Mount Wario\", \"DK Jungle\", \"Baby Park\", \"Twisted Mansion\", \"Rainbow Road\", \"Piranha Plant Slide\", \"Mario Circuit\", \"Super Bell Subway\", \"Royal Raceway\"], \"xaxis\": \"x6\", \"y\": [1.0, 1.0, 1.3333333333333333, 1.5, 2.0, 2.0, 2.0, 2.0, 2.0, 3.0, 3.0, 3.5, 4.0, 4.0, 4.0, 4.5, 5.0, 5.0, 5.0, 7.0, 7.0], \"yaxis\": \"y6\"}, {\"name\": \"CC\", \"text\": [3.0, 3.4], \"textposition\": \"auto\", \"type\": \"bar\", \"visible\": false, \"x\": [100, 150], \"xaxis\": \"x6\", \"y\": [3.0, 3.4444444444444446], \"yaxis\": \"y6\"}, {\"name\": \"COM\", \"text\": [3.3], \"textposition\": \"auto\", \"type\": \"bar\", \"visible\": false, \"x\": [\"Normal\"], \"xaxis\": \"x6\", \"y\": [3.2666666666666666], \"yaxis\": \"y6\"}, {\"name\": \"Auto Steering\", \"text\": [3.0, 3.3], \"textposition\": \"auto\", \"type\": \"bar\", \"visible\": false, \"x\": [false, true], \"xaxis\": \"x6\", \"y\": [3.0, 3.3333333333333335], \"yaxis\": \"y6\"}, {\"name\": \"Stick Steering\", \"text\": [3.3], \"textposition\": \"auto\", \"type\": \"bar\", \"visible\": false, \"x\": [true], \"xaxis\": \"x6\", \"y\": [3.2666666666666666], \"yaxis\": \"y6\"}, {\"name\": \"Auto Drive\", \"text\": [3.3], \"textposition\": \"auto\", \"type\": \"bar\", \"visible\": false, \"x\": [true], \"xaxis\": \"x6\", \"y\": [3.2666666666666666], \"yaxis\": \"y6\"}, {\"mode\": \"lines+markers\", \"name\": \"Date (Benji)\", \"type\": \"scatter\", \"visible\": false, \"x\": [\"2025-01-10T00:00:00\", \"2025-01-11T00:00:00\"], \"xaxis\": \"x6\", \"y\": [3.0, 3.4444444444444446], \"yaxis\": \"y6\"}, {\"name\": \"Randomized\", \"text\": [3.3], \"textposition\": \"auto\", \"type\": \"bar\", \"visible\": false, \"x\": [true], \"xaxis\": \"x6\", \"y\": [3.2666666666666666], \"yaxis\": \"y6\"}, {\"name\": \"Racer Count\", \"text\": [3.3], \"textposition\": \"auto\", \"type\": \"bar\", \"visible\": false, \"x\": [3], \"xaxis\": \"x6\", \"y\": [3.2666666666666666], \"yaxis\": \"y6\"}],                        {\"annotations\": [{\"font\": {\"size\": 16}, \"showarrow\": false, \"text\": \"Sofia\", \"x\": 0.14444444444444446, \"xanchor\": \"center\", \"xref\": \"paper\", \"y\": 1.0, \"yanchor\": \"bottom\", \"yref\": \"paper\"}, {\"font\": {\"size\": 16}, \"showarrow\": false, \"text\": \"Kaima\", \"x\": 0.5, \"xanchor\": \"center\", \"xref\": \"paper\", \"y\": 1.0, \"yanchor\": \"bottom\", \"yref\": \"paper\"}, {\"font\": {\"size\": 16}, \"showarrow\": false, \"text\": \"Jules\", \"x\": 0.8555555555555556, \"xanchor\": \"center\", \"xref\": \"paper\", \"y\": 1.0, \"yanchor\": \"bottom\", \"yref\": \"paper\"}, {\"font\": {\"size\": 16}, \"showarrow\": false, \"text\": \"Nick\", \"x\": 0.14444444444444446, \"xanchor\": \"center\", \"xref\": \"paper\", \"y\": 0.375, \"yanchor\": \"bottom\", \"yref\": \"paper\"}, {\"font\": {\"size\": 16}, \"showarrow\": false, \"text\": \"Abby\", \"x\": 0.5, \"xanchor\": \"center\", \"xref\": \"paper\", \"y\": 0.375, \"yanchor\": \"bottom\", \"yref\": \"paper\"}, {\"font\": {\"size\": 16}, \"showarrow\": false, \"text\": \"Benji\", \"x\": 0.8555555555555556, \"xanchor\": \"center\", \"xref\": \"paper\", \"y\": 0.375, \"yanchor\": \"bottom\", \"yref\": \"paper\"}], \"height\": 800, \"showlegend\": false, \"template\": {\"data\": {\"bar\": [{\"error_x\": {\"color\": \"#2a3f5f\"}, \"error_y\": {\"color\": \"#2a3f5f\"}, \"marker\": {\"line\": {\"color\": \"#E5ECF6\", \"width\": 0.5}}, \"type\": \"bar\"}], \"barpolar\": [{\"marker\": {\"line\": {\"color\": \"#E5ECF6\", \"width\": 0.5}}, \"type\": \"barpolar\"}], \"carpet\": [{\"aaxis\": {\"endlinecolor\": \"#2a3f5f\", \"gridcolor\": \"white\", \"linecolor\": \"white\", \"minorgridcolor\": \"white\", \"startlinecolor\": \"#2a3f5f\"}, \"baxis\": {\"endlinecolor\": \"#2a3f5f\", \"gridcolor\": \"white\", \"linecolor\": \"white\", \"minorgridcolor\": \"white\", \"startlinecolor\": \"#2a3f5f\"}, \"type\": \"carpet\"}], \"choropleth\": [{\"colorbar\": {\"outlinewidth\": 0, \"ticks\": \"\"}, \"type\": \"choropleth\"}], \"contour\": [{\"colorbar\": {\"outlinewidth\": 0, \"ticks\": \"\"}, \"colorscale\": [[0.0, \"#0d0887\"], [0.1111111111111111, \"#46039f\"], [0.2222222222222222, \"#7201a8\"], [0.3333333333333333, \"#9c179e\"], [0.4444444444444444, \"#bd3786\"], [0.5555555555555556, \"#d8576b\"], [0.6666666666666666, \"#ed7953\"], [0.7777777777777778, \"#fb9f3a\"], [0.8888888888888888, \"#fdca26\"], [1.0, \"#f0f921\"]], \"type\": \"contour\"}], \"contourcarpet\": [{\"colorbar\": {\"outlinewidth\": 0, \"ticks\": \"\"}, \"type\": \"contourcarpet\"}], \"heatmap\": [{\"colorbar\": {\"outlinewidth\": 0, \"ticks\": \"\"}, \"colorscale\": [[0.0, \"#0d0887\"], [0.1111111111111111, \"#46039f\"], [0.2222222222222222, \"#7201a8\"], [0.3333333333333333, \"#9c179e\"], [0.4444444444444444, \"#bd3786\"], [0.5555555555555556, \"#d8576b\"], [0.6666666666666666, \"#ed7953\"], [0.7777777777777778, \"#fb9f3a\"], [0.8888888888888888, \"#fdca26\"], [1.0, \"#f0f921\"]], \"type\": \"heatmap\"}], \"heatmapgl\": [{\"colorbar\": {\"outlinewidth\": 0, \"ticks\": \"\"}, \"colorscale\": [[0.0, \"#0d0887\"], [0.1111111111111111, \"#46039f\"], [0.2222222222222222, \"#7201a8\"], [0.3333333333333333, \"#9c179e\"], [0.4444444444444444, \"#bd3786\"], [0.5555555555555556, \"#d8576b\"], [0.6666666666666666, \"#ed7953\"], [0.7777777777777778, \"#fb9f3a\"], [0.8888888888888888, \"#fdca26\"], [1.0, \"#f0f921\"]], \"type\": \"heatmapgl\"}], \"histogram\": [{\"marker\": {\"colorbar\": {\"outlinewidth\": 0, \"ticks\": \"\"}}, \"type\": \"histogram\"}], \"histogram2d\": [{\"colorbar\": {\"outlinewidth\": 0, \"ticks\": \"\"}, \"colorscale\": [[0.0, \"#0d0887\"], [0.1111111111111111, \"#46039f\"], [0.2222222222222222, \"#7201a8\"], [0.3333333333333333, \"#9c179e\"], [0.4444444444444444, \"#bd3786\"], [0.5555555555555556, \"#d8576b\"], [0.6666666666666666, \"#ed7953\"], [0.7777777777777778, \"#fb9f3a\"], [0.8888888888888888, \"#fdca26\"], [1.0, \"#f0f921\"]], \"type\": \"histogram2d\"}], \"histogram2dcontour\": [{\"colorbar\": {\"outlinewidth\": 0, \"ticks\": \"\"}, \"colorscale\": [[0.0, \"#0d0887\"], [0.1111111111111111, \"#46039f\"], [0.2222222222222222, \"#7201a8\"], [0.3333333333333333, \"#9c179e\"], [0.4444444444444444, \"#bd3786\"], [0.5555555555555556, \"#d8576b\"], [0.6666666666666666, \"#ed7953\"], [0.7777777777777778, \"#fb9f3a\"], [0.8888888888888888, \"#fdca26\"], [1.0, \"#f0f921\"]], \"type\": \"histogram2dcontour\"}], \"mesh3d\": [{\"colorbar\": {\"outlinewidth\": 0, \"ticks\": \"\"}, \"type\": \"mesh3d\"}], \"parcoords\": [{\"line\": {\"colorbar\": {\"outlinewidth\": 0, \"ticks\": \"\"}}, \"type\": \"parcoords\"}], \"pie\": [{\"automargin\": true, \"type\": \"pie\"}], \"scatter\": [{\"marker\": {\"colorbar\": {\"outlinewidth\": 0, \"ticks\": \"\"}}, \"type\": \"scatter\"}], \"scatter3d\": [{\"line\": {\"colorbar\": {\"outlinewidth\": 0, \"ticks\": \"\"}}, \"marker\": {\"colorbar\": {\"outlinewidth\": 0, \"ticks\": \"\"}}, \"type\": \"scatter3d\"}], \"scattercarpet\": [{\"marker\": {\"colorbar\": {\"outlinewidth\": 0, \"ticks\": \"\"}}, \"type\": \"scattercarpet\"}], \"scattergeo\": [{\"marker\": {\"colorbar\": {\"outlinewidth\": 0, \"ticks\": \"\"}}, \"type\": \"scattergeo\"}], \"scattergl\": [{\"marker\": {\"colorbar\": {\"outlinewidth\": 0, \"ticks\": \"\"}}, \"type\": \"scattergl\"}], \"scattermapbox\": [{\"marker\": {\"colorbar\": {\"outlinewidth\": 0, \"ticks\": \"\"}}, \"type\": \"scattermapbox\"}], \"scatterpolar\": [{\"marker\": {\"colorbar\": {\"outlinewidth\": 0, \"ticks\": \"\"}}, \"type\": \"scatterpolar\"}], \"scatterpolargl\": [{\"marker\": {\"colorbar\": {\"outlinewidth\": 0, \"ticks\": \"\"}}, \"type\": \"scatterpolargl\"}], \"scatterternary\": [{\"marker\": {\"colorbar\": {\"outlinewidth\": 0, \"ticks\": \"\"}}, \"type\": \"scatterternary\"}], \"surface\": [{\"colorbar\": {\"outlinewidth\": 0, \"ticks\": \"\"}, \"colorscale\": [[0.0, \"#0d0887\"], [0.1111111111111111, \"#46039f\"], [0.2222222222222222, \"#7201a8\"], [0.3333333333333333, \"#9c179e\"], [0.4444444444444444, \"#bd3786\"], [0.5555555555555556, \"#d8576b\"], [0.6666666666666666, \"#ed7953\"], [0.7777777777777778, \"#fb9f3a\"], [0.8888888888888888, \"#fdca26\"], [1.0, \"#f0f921\"]], \"type\": \"surface\"}], \"table\": [{\"cells\": {\"fill\": {\"color\": \"#EBF0F8\"}, \"line\": {\"color\": \"white\"}}, \"header\": {\"fill\": {\"color\": \"#C8D4E3\"}, \"line\": {\"color\": \"white\"}}, \"type\": \"table\"}]}, \"layout\": {\"annotationdefaults\": {\"arrowcolor\": \"#2a3f5f\", \"arrowhead\": 0, \"arrowwidth\": 1}, \"autotypenumbers\": \"strict\", \"coloraxis\": {\"colorbar\": {\"outlinewidth\": 0, \"ticks\": \"\"}}, \"colorscale\": {\"diverging\": [[0, \"#8e0152\"], [0.1, \"#c51b7d\"], [0.2, \"#de77ae\"], [0.3, \"#f1b6da\"], [0.4, \"#fde0ef\"], [0.5, \"#f7f7f7\"], [0.6, \"#e6f5d0\"], [0.7, \"#b8e186\"], [0.8, \"#7fbc41\"], [0.9, \"#4d9221\"], [1, \"#276419\"]], \"sequential\": [[0.0, \"#0d0887\"], [0.1111111111111111, \"#46039f\"], [0.2222222222222222, \"#7201a8\"], [0.3333333333333333, \"#9c179e\"], [0.4444444444444444, \"#bd3786\"], [0.5555555555555556, \"#d8576b\"], [0.6666666666666666, \"#ed7953\"], [0.7777777777777778, \"#fb9f3a\"], [0.8888888888888888, \"#fdca26\"], [1.0, \"#f0f921\"]], \"sequentialminus\": [[0.0, \"#0d0887\"], [0.1111111111111111, \"#46039f\"], [0.2222222222222222, \"#7201a8\"], [0.3333333333333333, \"#9c179e\"], [0.4444444444444444, \"#bd3786\"], [0.5555555555555556, \"#d8576b\"], [0.6666666666666666, \"#ed7953\"], [0.7777777777777778, \"#fb9f3a\"], [0.8888888888888888, \"#fdca26\"], [1.0, \"#f0f921\"]]}, \"colorway\": [\"#636efa\", \"#EF553B\", \"#00cc96\", \"#ab63fa\", \"#FFA15A\", \"#19d3f3\", \"#FF6692\", \"#B6E880\", \"#FF97FF\", \"#FECB52\"], \"font\": {\"color\": \"#2a3f5f\"}, \"geo\": {\"bgcolor\": \"white\", \"lakecolor\": \"white\", \"landcolor\": \"#E5ECF6\", \"showlakes\": true, \"showland\": true, \"subunitcolor\": \"white\"}, \"hoverlabel\": {\"align\": \"left\"}, \"hovermode\": \"closest\", \"mapbox\": {\"style\": \"light\"}, \"paper_bgcolor\": \"white\", \"plot_bgcolor\": \"#E5ECF6\", \"polar\": {\"angularaxis\": {\"gridcolor\": \"white\", \"linecolor\": \"white\", \"ticks\": \"\"}, \"bgcolor\": \"#E5ECF6\", \"radialaxis\": {\"gridcolor\": \"white\", \"linecolor\": \"white\", \"ticks\": \"\"}}, \"scene\": {\"xaxis\": {\"backgroundcolor\": \"#E5ECF6\", \"gridcolor\": \"white\", \"gridwidth\": 2, \"linecolor\": \"white\", \"showbackground\": true, \"ticks\": \"\", \"zerolinecolor\": \"white\"}, \"yaxis\": {\"backgroundcolor\": \"#E5ECF6\", \"gridcolor\": \"white\", \"gridwidth\": 2, \"linecolor\": \"white\", \"showbackground\": true, \"ticks\": \"\", \"zerolinecolor\": \"white\"}, \"zaxis\": {\"backgroundcolor\": \"#E5ECF6\", \"gridcolor\": \"white\", \"gridwidth\": 2, \"linecolor\": \"white\", \"showbackground\": true, \"ticks\": \"\", \"zerolinecolor\": \"white\"}}, \"shapedefaults\": {\"line\": {\"color\": \"#2a3f5f\"}}, \"ternary\": {\"aaxis\": {\"gridcolor\": \"white\", \"linecolor\": \"white\", \"ticks\": \"\"}, \"baxis\": {\"gridcolor\": \"white\", \"linecolor\": \"white\", \"ticks\": \"\"}, \"bgcolor\": \"#E5ECF6\", \"caxis\": {\"gridcolor\": \"white\", \"linecolor\": \"white\", \"ticks\": \"\"}}, \"title\": {\"x\": 0.05}, \"xaxis\": {\"automargin\": true, \"gridcolor\": \"white\", \"linecolor\": \"white\", \"ticks\": \"\", \"title\": {\"standoff\": 15}, \"zerolinecolor\": \"white\", \"zerolinewidth\": 2}, \"yaxis\": {\"automargin\": true, \"gridcolor\": \"white\", \"linecolor\": \"white\", \"ticks\": \"\", \"title\": {\"standoff\": 15}, \"zerolinecolor\": \"white\", \"zerolinewidth\": 2}}}, \"title\": {\"text\": \"Player Average Placements for\"}, \"updatemenus\": [{\"active\": 0, \"buttons\": [{\"args\": [{\"visible\": [true, false, false, false, false, false, false, false, false, false, false, false, false, false, false]}], \"label\": \"Character\", \"method\": \"update\"}, {\"args\": [{\"visible\": [false, true, false, false, false, false, false, false, false, false, false, false, false, false, false]}], \"label\": \"Vehicle\", \"method\": \"update\"}, {\"args\": [{\"visible\": [false, false, true, false, false, false, false, false, false, false, false, false, false, false, false]}], \"label\": \"Wheels\", \"method\": \"update\"}, {\"args\": [{\"visible\": [false, false, false, true, false, false, false, false, false, false, false, false, false, false, false]}], \"label\": \"Glider\", \"method\": \"update\"}, {\"args\": [{\"visible\": [false, false, false, false, true, false, false, false, false, false, false, false, false, false, false]}], \"label\": \"Racer\", \"method\": \"update\"}, {\"args\": [{\"visible\": [false, false, false, false, false, true, false, false, false, false, false, false, false, false, false]}], \"label\": \"Controller Color\", \"method\": \"update\"}, {\"args\": [{\"visible\": [false, false, false, false, false, false, true, false, false, false, false, false, false, false, false]}], \"label\": \"Map\", \"method\": \"update\"}, {\"args\": [{\"visible\": [false, false, false, false, false, false, false, true, false, false, false, false, false, false, false]}], \"label\": \"CC\", \"method\": \"update\"}, {\"args\": [{\"visible\": [false, false, false, false, false, false, false, false, true, false, false, false, false, false, false]}], \"label\": \"COM\", \"method\": \"update\"}, {\"args\": [{\"visible\": [false, false, false, false, false, false, false, false, false, true, false, false, false, false, false]}], \"label\": \"Auto Steering\", \"method\": \"update\"}, {\"args\": [{\"visible\": [false, false, false, false, false, false, false, false, false, false, true, false, false, false, false]}], \"label\": \"Stick Steering\", \"method\": \"update\"}, {\"args\": [{\"visible\": [false, false, false, false, false, false, false, false, false, false, false, true, false, false, false]}], \"label\": \"Auto Drive\", \"method\": \"update\"}, {\"args\": [{\"visible\": [false, false, false, false, false, false, false, false, false, false, false, false, true, false, false]}], \"label\": \"Date\", \"method\": \"update\"}, {\"args\": [{\"visible\": [false, false, false, false, false, false, false, false, false, false, false, false, false, true, false]}], \"label\": \"Randomized\", \"method\": \"update\"}, {\"args\": [{\"visible\": [false, false, false, false, false, false, false, false, false, false, false, false, false, false, true]}], \"label\": \"Racer Count\", \"method\": \"update\"}], \"x\": 0.32, \"xanchor\": \"left\", \"y\": 1.12, \"yanchor\": \"top\"}], \"width\": 1000, \"xaxis\": {\"anchor\": \"y\", \"domain\": [0.0, 0.2888888888888889]}, \"xaxis2\": {\"anchor\": \"y2\", \"domain\": [0.35555555555555557, 0.6444444444444445]}, \"xaxis3\": {\"anchor\": \"y3\", \"domain\": [0.7111111111111111, 1.0]}, \"xaxis4\": {\"anchor\": \"y4\", \"domain\": [0.0, 0.2888888888888889]}, \"xaxis5\": {\"anchor\": \"y5\", \"domain\": [0.35555555555555557, 0.6444444444444445]}, \"xaxis6\": {\"anchor\": \"y6\", \"domain\": [0.7111111111111111, 1.0]}, \"yaxis\": {\"anchor\": \"x\", \"domain\": [0.625, 1.0], \"range\": [0, 12]}, \"yaxis2\": {\"anchor\": \"x2\", \"domain\": [0.625, 1.0], \"range\": [0, 12]}, \"yaxis3\": {\"anchor\": \"x3\", \"domain\": [0.625, 1.0], \"range\": [0, 12]}, \"yaxis4\": {\"anchor\": \"x4\", \"domain\": [0.0, 0.375], \"range\": [0, 12]}, \"yaxis5\": {\"anchor\": \"x5\", \"domain\": [0.0, 0.375], \"range\": [0, 12]}, \"yaxis6\": {\"anchor\": \"x6\", \"domain\": [0.0, 0.375], \"range\": [0, 12]}},                        {\"responsive\": true}                    ).then(function(){\n",
       "                            \n",
       "var gd = document.getElementById('ff71fe50-814c-4caa-94ca-9c7d411bc075');\n",
       "var x = new MutationObserver(function (mutations, observer) {{\n",
       "        var display = window.getComputedStyle(gd).display;\n",
       "        if (!display || display === 'none') {{\n",
       "            console.log([gd, 'removed!']);\n",
       "            Plotly.purge(gd);\n",
       "            observer.disconnect();\n",
       "        }}\n",
       "}});\n",
       "\n",
       "// Listen for the removal of the full notebook cells\n",
       "var notebookContainer = gd.closest('#notebook-container');\n",
       "if (notebookContainer) {{\n",
       "    x.observe(notebookContainer, {childList: true});\n",
       "}}\n",
       "\n",
       "// Listen for the clearing of the current output cell\n",
       "var outputEl = gd.closest('.output');\n",
       "if (outputEl) {{\n",
       "    x.observe(outputEl, {childList: true});\n",
       "}}\n",
       "\n",
       "                        })                };                });            </script>        </div>"
      ]
     },
     "metadata": {},
     "output_type": "display_data"
    }
   ],
   "source": [
    "# AVERAGES BY RACER\n",
    "racers = df[\"Racer\"].unique()\n",
    "fig = make_subplots(rows = 2, cols = 3, subplot_titles = (racers))\n",
    "index = 0\n",
    "subplot_row = 1\n",
    "subplot_col = 1\n",
    "buttons_list = []\n",
    "\n",
    "for racer in racers:\n",
    "    if (index == 1):\n",
    "        subplot_col = 2\n",
    "    if (index == 2):\n",
    "        subplot_col = 3\n",
    "    if (index == 3):\n",
    "        subplot_row = 2\n",
    "        subplot_col = 1\n",
    "    if (index == 4):\n",
    "        subplot_row = 2\n",
    "        subplot_col = 2\n",
    "    if (index == 5):\n",
    "        subplot_row = 2\n",
    "        subplot_col = 3\n",
    "        \n",
    "    n=0\n",
    "    racer_df = df.loc[df[\"Racer\"] == racer]\n",
    "    for column in racer_df.columns:\n",
    "        if (column != \"Place\"):\n",
    "            avg_placements = racer_df.groupby(column).mean()[\"Place\"]\n",
    "            if (column != \"Racer Count\" and column != \"Date\"):\n",
    "                avg_placements = avg_placements.sort_values()\n",
    "            if (column == \"Date\"):\n",
    "                fig.add_trace(go.Scatter(x = avg_placements.index, \n",
    "                                y = avg_placements.values, \n",
    "                                mode = \"lines+markers\",\n",
    "                                name = \"{columnName} ({racerName})\".format(columnName = column, racerName = racer),\n",
    "                                visible = (n == 0)\n",
    "                                ),\n",
    "                              row = subplot_row, col = subplot_col,\n",
    "                            )\n",
    "            else :\n",
    "                fig.add_trace(go.Bar(x = avg_placements.index, \n",
    "                            y = avg_placements.values, \n",
    "                            name = column,\n",
    "                            text = avg_placements.values.round(1), \n",
    "                            textposition='auto',\n",
    "                            visible = (n == 0),\n",
    "                           ),\n",
    "                          row = subplot_row, col = subplot_col,\n",
    "                         )\n",
    "            label = column\n",
    "            if (index == 0):\n",
    "                buttons_list.append({'method': 'update', 'label':label,'args':[{'visible': visibility_mask[n][:-1]}]})\n",
    "            fig.data[n].visible=False\n",
    "            n+=1\n",
    "    fig.data[0].visible=True\n",
    "    index += 1\n",
    "\n",
    "\n",
    "fig.update_layout(updatemenus=[dict(active=0, buttons=buttons_list, x=0.32, xanchor=\"left\", y=1.12,yanchor=\"top\")],\n",
    "                title=\"Player Average Placements for\", \n",
    "                  yaxis_range=[0,12], yaxis2_range=[0,12], yaxis3_range=[0,12], yaxis4_range=[0,12], yaxis5_range=[0,12], yaxis6_range=[0,12],\n",
    "                  height=800, width=1000,\n",
    "                  showlegend=False\n",
    "                 )\n",
    "fig.show()\n",
    "average_by_racer_graph = fig"
   ]
  },
  {
   "cell_type": "code",
   "execution_count": 27,
   "metadata": {},
   "outputs": [
    {
     "data": {
      "application/vnd.plotly.v1+json": {
       "config": {
        "plotlyServerURL": "https://plot.ly"
       },
       "data": [
        {
         "mode": "lines+markers",
         "name": "Blue Controller",
         "type": "scatter",
         "x": [
          "2024-02-28T00:00:00",
          "2024-02-29T00:00:00",
          "2024-03-02T00:00:00",
          "2024-03-04T00:00:00",
          "2024-03-07T00:00:00",
          "2024-03-11T00:00:00",
          "2024-03-16T00:00:00",
          "2024-03-19T00:00:00",
          "2024-03-21T00:00:00",
          "2024-03-25T00:00:00",
          "2024-05-22T00:00:00",
          "2024-09-06T00:00:00",
          "2025-01-07T00:00:00",
          "2025-01-10T00:00:00",
          "2025-01-11T00:00:00",
          "2025-01-17T00:00:00"
         ],
         "y": [
          1.625,
          4.083333333333333,
          3.1666666666666665,
          4.583333333333333,
          3.111111111111111,
          4.25,
          3.4722222222222223,
          3.3684210526315788,
          3.375,
          3.5416666666666665,
          4.833333333333333,
          2.5,
          4.625,
          2.8333333333333335,
          2.5277777777777777,
          2.6875
         ]
        },
        {
         "mode": "lines+markers",
         "name": "Red Controller",
         "type": "scatter",
         "x": [
          "2024-02-28T00:00:00",
          "2024-02-29T00:00:00",
          "2024-03-02T00:00:00",
          "2024-03-04T00:00:00",
          "2024-03-07T00:00:00",
          "2024-03-11T00:00:00",
          "2024-03-16T00:00:00",
          "2024-03-19T00:00:00",
          "2024-03-21T00:00:00",
          "2024-05-22T00:00:00",
          "2024-09-06T00:00:00",
          "2025-01-07T00:00:00",
          "2025-01-10T00:00:00",
          "2025-01-11T00:00:00",
          "2025-01-17T00:00:00"
         ],
         "y": [
          2.2222222222222223,
          3.5,
          3.5277777777777777,
          3.7083333333333335,
          3,
          4,
          4.166666666666667,
          3.2857142857142856,
          4.5,
          3.5,
          2.3,
          2.375,
          3.125,
          3.5,
          2.625
         ]
        },
        {
         "mode": "lines+markers",
         "name": "Average",
         "type": "scatter",
         "x": [
          "2024-02-28T00:00:00",
          "2024-02-29T00:00:00",
          "2024-03-02T00:00:00",
          "2024-03-04T00:00:00",
          "2024-03-07T00:00:00",
          "2024-03-11T00:00:00",
          "2024-03-16T00:00:00",
          "2024-03-19T00:00:00",
          "2024-03-21T00:00:00",
          "2024-03-25T00:00:00",
          "2024-05-22T00:00:00",
          "2024-09-06T00:00:00",
          "2025-01-07T00:00:00",
          "2025-01-10T00:00:00",
          "2025-01-11T00:00:00",
          "2025-01-17T00:00:00"
         ],
         "y": [
          1.9411764705882353,
          3.888888888888889,
          3.4074074074074074,
          4,
          3.074074074074074,
          4.166666666666667,
          3.7037037037037037,
          3.3461538461538463,
          3.9375,
          3.5416666666666665,
          3.9444444444444446,
          2.423076923076923,
          3.5,
          3.0277777777777777,
          2.8518518518518516,
          2.65625
         ]
        }
       ],
       "layout": {
        "autosize": true,
        "template": {
         "data": {
          "bar": [
           {
            "error_x": {
             "color": "#2a3f5f"
            },
            "error_y": {
             "color": "#2a3f5f"
            },
            "marker": {
             "line": {
              "color": "#E5ECF6",
              "width": 0.5
             }
            },
            "type": "bar"
           }
          ],
          "barpolar": [
           {
            "marker": {
             "line": {
              "color": "#E5ECF6",
              "width": 0.5
             }
            },
            "type": "barpolar"
           }
          ],
          "carpet": [
           {
            "aaxis": {
             "endlinecolor": "#2a3f5f",
             "gridcolor": "white",
             "linecolor": "white",
             "minorgridcolor": "white",
             "startlinecolor": "#2a3f5f"
            },
            "baxis": {
             "endlinecolor": "#2a3f5f",
             "gridcolor": "white",
             "linecolor": "white",
             "minorgridcolor": "white",
             "startlinecolor": "#2a3f5f"
            },
            "type": "carpet"
           }
          ],
          "choropleth": [
           {
            "colorbar": {
             "outlinewidth": 0,
             "ticks": ""
            },
            "type": "choropleth"
           }
          ],
          "contour": [
           {
            "colorbar": {
             "outlinewidth": 0,
             "ticks": ""
            },
            "colorscale": [
             [
              0,
              "#0d0887"
             ],
             [
              0.1111111111111111,
              "#46039f"
             ],
             [
              0.2222222222222222,
              "#7201a8"
             ],
             [
              0.3333333333333333,
              "#9c179e"
             ],
             [
              0.4444444444444444,
              "#bd3786"
             ],
             [
              0.5555555555555556,
              "#d8576b"
             ],
             [
              0.6666666666666666,
              "#ed7953"
             ],
             [
              0.7777777777777778,
              "#fb9f3a"
             ],
             [
              0.8888888888888888,
              "#fdca26"
             ],
             [
              1,
              "#f0f921"
             ]
            ],
            "type": "contour"
           }
          ],
          "contourcarpet": [
           {
            "colorbar": {
             "outlinewidth": 0,
             "ticks": ""
            },
            "type": "contourcarpet"
           }
          ],
          "heatmap": [
           {
            "colorbar": {
             "outlinewidth": 0,
             "ticks": ""
            },
            "colorscale": [
             [
              0,
              "#0d0887"
             ],
             [
              0.1111111111111111,
              "#46039f"
             ],
             [
              0.2222222222222222,
              "#7201a8"
             ],
             [
              0.3333333333333333,
              "#9c179e"
             ],
             [
              0.4444444444444444,
              "#bd3786"
             ],
             [
              0.5555555555555556,
              "#d8576b"
             ],
             [
              0.6666666666666666,
              "#ed7953"
             ],
             [
              0.7777777777777778,
              "#fb9f3a"
             ],
             [
              0.8888888888888888,
              "#fdca26"
             ],
             [
              1,
              "#f0f921"
             ]
            ],
            "type": "heatmap"
           }
          ],
          "heatmapgl": [
           {
            "colorbar": {
             "outlinewidth": 0,
             "ticks": ""
            },
            "colorscale": [
             [
              0,
              "#0d0887"
             ],
             [
              0.1111111111111111,
              "#46039f"
             ],
             [
              0.2222222222222222,
              "#7201a8"
             ],
             [
              0.3333333333333333,
              "#9c179e"
             ],
             [
              0.4444444444444444,
              "#bd3786"
             ],
             [
              0.5555555555555556,
              "#d8576b"
             ],
             [
              0.6666666666666666,
              "#ed7953"
             ],
             [
              0.7777777777777778,
              "#fb9f3a"
             ],
             [
              0.8888888888888888,
              "#fdca26"
             ],
             [
              1,
              "#f0f921"
             ]
            ],
            "type": "heatmapgl"
           }
          ],
          "histogram": [
           {
            "marker": {
             "colorbar": {
              "outlinewidth": 0,
              "ticks": ""
             }
            },
            "type": "histogram"
           }
          ],
          "histogram2d": [
           {
            "colorbar": {
             "outlinewidth": 0,
             "ticks": ""
            },
            "colorscale": [
             [
              0,
              "#0d0887"
             ],
             [
              0.1111111111111111,
              "#46039f"
             ],
             [
              0.2222222222222222,
              "#7201a8"
             ],
             [
              0.3333333333333333,
              "#9c179e"
             ],
             [
              0.4444444444444444,
              "#bd3786"
             ],
             [
              0.5555555555555556,
              "#d8576b"
             ],
             [
              0.6666666666666666,
              "#ed7953"
             ],
             [
              0.7777777777777778,
              "#fb9f3a"
             ],
             [
              0.8888888888888888,
              "#fdca26"
             ],
             [
              1,
              "#f0f921"
             ]
            ],
            "type": "histogram2d"
           }
          ],
          "histogram2dcontour": [
           {
            "colorbar": {
             "outlinewidth": 0,
             "ticks": ""
            },
            "colorscale": [
             [
              0,
              "#0d0887"
             ],
             [
              0.1111111111111111,
              "#46039f"
             ],
             [
              0.2222222222222222,
              "#7201a8"
             ],
             [
              0.3333333333333333,
              "#9c179e"
             ],
             [
              0.4444444444444444,
              "#bd3786"
             ],
             [
              0.5555555555555556,
              "#d8576b"
             ],
             [
              0.6666666666666666,
              "#ed7953"
             ],
             [
              0.7777777777777778,
              "#fb9f3a"
             ],
             [
              0.8888888888888888,
              "#fdca26"
             ],
             [
              1,
              "#f0f921"
             ]
            ],
            "type": "histogram2dcontour"
           }
          ],
          "mesh3d": [
           {
            "colorbar": {
             "outlinewidth": 0,
             "ticks": ""
            },
            "type": "mesh3d"
           }
          ],
          "parcoords": [
           {
            "line": {
             "colorbar": {
              "outlinewidth": 0,
              "ticks": ""
             }
            },
            "type": "parcoords"
           }
          ],
          "pie": [
           {
            "automargin": true,
            "type": "pie"
           }
          ],
          "scatter": [
           {
            "marker": {
             "colorbar": {
              "outlinewidth": 0,
              "ticks": ""
             }
            },
            "type": "scatter"
           }
          ],
          "scatter3d": [
           {
            "line": {
             "colorbar": {
              "outlinewidth": 0,
              "ticks": ""
             }
            },
            "marker": {
             "colorbar": {
              "outlinewidth": 0,
              "ticks": ""
             }
            },
            "type": "scatter3d"
           }
          ],
          "scattercarpet": [
           {
            "marker": {
             "colorbar": {
              "outlinewidth": 0,
              "ticks": ""
             }
            },
            "type": "scattercarpet"
           }
          ],
          "scattergeo": [
           {
            "marker": {
             "colorbar": {
              "outlinewidth": 0,
              "ticks": ""
             }
            },
            "type": "scattergeo"
           }
          ],
          "scattergl": [
           {
            "marker": {
             "colorbar": {
              "outlinewidth": 0,
              "ticks": ""
             }
            },
            "type": "scattergl"
           }
          ],
          "scattermapbox": [
           {
            "marker": {
             "colorbar": {
              "outlinewidth": 0,
              "ticks": ""
             }
            },
            "type": "scattermapbox"
           }
          ],
          "scatterpolar": [
           {
            "marker": {
             "colorbar": {
              "outlinewidth": 0,
              "ticks": ""
             }
            },
            "type": "scatterpolar"
           }
          ],
          "scatterpolargl": [
           {
            "marker": {
             "colorbar": {
              "outlinewidth": 0,
              "ticks": ""
             }
            },
            "type": "scatterpolargl"
           }
          ],
          "scatterternary": [
           {
            "marker": {
             "colorbar": {
              "outlinewidth": 0,
              "ticks": ""
             }
            },
            "type": "scatterternary"
           }
          ],
          "surface": [
           {
            "colorbar": {
             "outlinewidth": 0,
             "ticks": ""
            },
            "colorscale": [
             [
              0,
              "#0d0887"
             ],
             [
              0.1111111111111111,
              "#46039f"
             ],
             [
              0.2222222222222222,
              "#7201a8"
             ],
             [
              0.3333333333333333,
              "#9c179e"
             ],
             [
              0.4444444444444444,
              "#bd3786"
             ],
             [
              0.5555555555555556,
              "#d8576b"
             ],
             [
              0.6666666666666666,
              "#ed7953"
             ],
             [
              0.7777777777777778,
              "#fb9f3a"
             ],
             [
              0.8888888888888888,
              "#fdca26"
             ],
             [
              1,
              "#f0f921"
             ]
            ],
            "type": "surface"
           }
          ],
          "table": [
           {
            "cells": {
             "fill": {
              "color": "#EBF0F8"
             },
             "line": {
              "color": "white"
             }
            },
            "header": {
             "fill": {
              "color": "#C8D4E3"
             },
             "line": {
              "color": "white"
             }
            },
            "type": "table"
           }
          ]
         },
         "layout": {
          "annotationdefaults": {
           "arrowcolor": "#2a3f5f",
           "arrowhead": 0,
           "arrowwidth": 1
          },
          "autotypenumbers": "strict",
          "coloraxis": {
           "colorbar": {
            "outlinewidth": 0,
            "ticks": ""
           }
          },
          "colorscale": {
           "diverging": [
            [
             0,
             "#8e0152"
            ],
            [
             0.1,
             "#c51b7d"
            ],
            [
             0.2,
             "#de77ae"
            ],
            [
             0.3,
             "#f1b6da"
            ],
            [
             0.4,
             "#fde0ef"
            ],
            [
             0.5,
             "#f7f7f7"
            ],
            [
             0.6,
             "#e6f5d0"
            ],
            [
             0.7,
             "#b8e186"
            ],
            [
             0.8,
             "#7fbc41"
            ],
            [
             0.9,
             "#4d9221"
            ],
            [
             1,
             "#276419"
            ]
           ],
           "sequential": [
            [
             0,
             "#0d0887"
            ],
            [
             0.1111111111111111,
             "#46039f"
            ],
            [
             0.2222222222222222,
             "#7201a8"
            ],
            [
             0.3333333333333333,
             "#9c179e"
            ],
            [
             0.4444444444444444,
             "#bd3786"
            ],
            [
             0.5555555555555556,
             "#d8576b"
            ],
            [
             0.6666666666666666,
             "#ed7953"
            ],
            [
             0.7777777777777778,
             "#fb9f3a"
            ],
            [
             0.8888888888888888,
             "#fdca26"
            ],
            [
             1,
             "#f0f921"
            ]
           ],
           "sequentialminus": [
            [
             0,
             "#0d0887"
            ],
            [
             0.1111111111111111,
             "#46039f"
            ],
            [
             0.2222222222222222,
             "#7201a8"
            ],
            [
             0.3333333333333333,
             "#9c179e"
            ],
            [
             0.4444444444444444,
             "#bd3786"
            ],
            [
             0.5555555555555556,
             "#d8576b"
            ],
            [
             0.6666666666666666,
             "#ed7953"
            ],
            [
             0.7777777777777778,
             "#fb9f3a"
            ],
            [
             0.8888888888888888,
             "#fdca26"
            ],
            [
             1,
             "#f0f921"
            ]
           ]
          },
          "colorway": [
           "#636efa",
           "#EF553B",
           "#00cc96",
           "#ab63fa",
           "#FFA15A",
           "#19d3f3",
           "#FF6692",
           "#B6E880",
           "#FF97FF",
           "#FECB52"
          ],
          "font": {
           "color": "#2a3f5f"
          },
          "geo": {
           "bgcolor": "white",
           "lakecolor": "white",
           "landcolor": "#E5ECF6",
           "showlakes": true,
           "showland": true,
           "subunitcolor": "white"
          },
          "hoverlabel": {
           "align": "left"
          },
          "hovermode": "closest",
          "mapbox": {
           "style": "light"
          },
          "paper_bgcolor": "white",
          "plot_bgcolor": "#E5ECF6",
          "polar": {
           "angularaxis": {
            "gridcolor": "white",
            "linecolor": "white",
            "ticks": ""
           },
           "bgcolor": "#E5ECF6",
           "radialaxis": {
            "gridcolor": "white",
            "linecolor": "white",
            "ticks": ""
           }
          },
          "scene": {
           "xaxis": {
            "backgroundcolor": "#E5ECF6",
            "gridcolor": "white",
            "gridwidth": 2,
            "linecolor": "white",
            "showbackground": true,
            "ticks": "",
            "zerolinecolor": "white"
           },
           "yaxis": {
            "backgroundcolor": "#E5ECF6",
            "gridcolor": "white",
            "gridwidth": 2,
            "linecolor": "white",
            "showbackground": true,
            "ticks": "",
            "zerolinecolor": "white"
           },
           "zaxis": {
            "backgroundcolor": "#E5ECF6",
            "gridcolor": "white",
            "gridwidth": 2,
            "linecolor": "white",
            "showbackground": true,
            "ticks": "",
            "zerolinecolor": "white"
           }
          },
          "shapedefaults": {
           "line": {
            "color": "#2a3f5f"
           }
          },
          "ternary": {
           "aaxis": {
            "gridcolor": "white",
            "linecolor": "white",
            "ticks": ""
           },
           "baxis": {
            "gridcolor": "white",
            "linecolor": "white",
            "ticks": ""
           },
           "bgcolor": "#E5ECF6",
           "caxis": {
            "gridcolor": "white",
            "linecolor": "white",
            "ticks": ""
           }
          },
          "title": {
           "x": 0.05
          },
          "xaxis": {
           "automargin": true,
           "gridcolor": "white",
           "linecolor": "white",
           "ticks": "",
           "title": {
            "standoff": 15
           },
           "zerolinecolor": "white",
           "zerolinewidth": 2
          },
          "yaxis": {
           "automargin": true,
           "gridcolor": "white",
           "linecolor": "white",
           "ticks": "",
           "title": {
            "standoff": 15
           },
           "zerolinecolor": "white",
           "zerolinewidth": 2
          }
         }
        },
        "title": {
         "text": "Controller Average Placements Over Time"
        },
        "yaxis": {
         "range": [
          0,
          12
         ]
        }
       }
      },
      "text/html": [
       "<div>                            <div id=\"2b2f26b1-9f36-416c-9406-8504b3caa3a9\" class=\"plotly-graph-div\" style=\"height:525px; width:100%;\"></div>            <script type=\"text/javascript\">                require([\"plotly\"], function(Plotly) {                    window.PLOTLYENV=window.PLOTLYENV || {};                                    if (document.getElementById(\"2b2f26b1-9f36-416c-9406-8504b3caa3a9\")) {                    Plotly.newPlot(                        \"2b2f26b1-9f36-416c-9406-8504b3caa3a9\",                        [{\"mode\": \"lines+markers\", \"name\": \"Blue Controller\", \"type\": \"scatter\", \"x\": [\"2024-02-28T00:00:00\", \"2024-02-29T00:00:00\", \"2024-03-02T00:00:00\", \"2024-03-04T00:00:00\", \"2024-03-07T00:00:00\", \"2024-03-11T00:00:00\", \"2024-03-16T00:00:00\", \"2024-03-19T00:00:00\", \"2024-03-21T00:00:00\", \"2024-03-25T00:00:00\", \"2024-05-22T00:00:00\", \"2024-09-06T00:00:00\", \"2025-01-07T00:00:00\", \"2025-01-10T00:00:00\", \"2025-01-11T00:00:00\", \"2025-01-17T00:00:00\"], \"y\": [1.625, 4.083333333333333, 3.1666666666666665, 4.583333333333333, 3.111111111111111, 4.25, 3.4722222222222223, 3.3684210526315788, 3.375, 3.5416666666666665, 4.833333333333333, 2.5, 4.625, 2.8333333333333335, 2.5277777777777777, 2.6875]}, {\"mode\": \"lines+markers\", \"name\": \"Red Controller\", \"type\": \"scatter\", \"x\": [\"2024-02-28T00:00:00\", \"2024-02-29T00:00:00\", \"2024-03-02T00:00:00\", \"2024-03-04T00:00:00\", \"2024-03-07T00:00:00\", \"2024-03-11T00:00:00\", \"2024-03-16T00:00:00\", \"2024-03-19T00:00:00\", \"2024-03-21T00:00:00\", \"2024-05-22T00:00:00\", \"2024-09-06T00:00:00\", \"2025-01-07T00:00:00\", \"2025-01-10T00:00:00\", \"2025-01-11T00:00:00\", \"2025-01-17T00:00:00\"], \"y\": [2.2222222222222223, 3.5, 3.5277777777777777, 3.7083333333333335, 3.0, 4.0, 4.166666666666667, 3.2857142857142856, 4.5, 3.5, 2.3, 2.375, 3.125, 3.5, 2.625]}, {\"mode\": \"lines+markers\", \"name\": \"Average\", \"type\": \"scatter\", \"x\": [\"2024-02-28T00:00:00\", \"2024-02-29T00:00:00\", \"2024-03-02T00:00:00\", \"2024-03-04T00:00:00\", \"2024-03-07T00:00:00\", \"2024-03-11T00:00:00\", \"2024-03-16T00:00:00\", \"2024-03-19T00:00:00\", \"2024-03-21T00:00:00\", \"2024-03-25T00:00:00\", \"2024-05-22T00:00:00\", \"2024-09-06T00:00:00\", \"2025-01-07T00:00:00\", \"2025-01-10T00:00:00\", \"2025-01-11T00:00:00\", \"2025-01-17T00:00:00\"], \"y\": [1.9411764705882353, 3.888888888888889, 3.4074074074074074, 4.0, 3.074074074074074, 4.166666666666667, 3.7037037037037037, 3.3461538461538463, 3.9375, 3.5416666666666665, 3.9444444444444446, 2.423076923076923, 3.5, 3.0277777777777777, 2.8518518518518516, 2.65625]}],                        {\"autosize\": true, \"template\": {\"data\": {\"bar\": [{\"error_x\": {\"color\": \"#2a3f5f\"}, \"error_y\": {\"color\": \"#2a3f5f\"}, \"marker\": {\"line\": {\"color\": \"#E5ECF6\", \"width\": 0.5}}, \"type\": \"bar\"}], \"barpolar\": [{\"marker\": {\"line\": {\"color\": \"#E5ECF6\", \"width\": 0.5}}, \"type\": \"barpolar\"}], \"carpet\": [{\"aaxis\": {\"endlinecolor\": \"#2a3f5f\", \"gridcolor\": \"white\", \"linecolor\": \"white\", \"minorgridcolor\": \"white\", \"startlinecolor\": \"#2a3f5f\"}, \"baxis\": {\"endlinecolor\": \"#2a3f5f\", \"gridcolor\": \"white\", \"linecolor\": \"white\", \"minorgridcolor\": \"white\", \"startlinecolor\": \"#2a3f5f\"}, \"type\": \"carpet\"}], \"choropleth\": [{\"colorbar\": {\"outlinewidth\": 0, \"ticks\": \"\"}, \"type\": \"choropleth\"}], \"contour\": [{\"colorbar\": {\"outlinewidth\": 0, \"ticks\": \"\"}, \"colorscale\": [[0.0, \"#0d0887\"], [0.1111111111111111, \"#46039f\"], [0.2222222222222222, \"#7201a8\"], [0.3333333333333333, \"#9c179e\"], [0.4444444444444444, \"#bd3786\"], [0.5555555555555556, \"#d8576b\"], [0.6666666666666666, \"#ed7953\"], [0.7777777777777778, \"#fb9f3a\"], [0.8888888888888888, \"#fdca26\"], [1.0, \"#f0f921\"]], \"type\": \"contour\"}], \"contourcarpet\": [{\"colorbar\": {\"outlinewidth\": 0, \"ticks\": \"\"}, \"type\": \"contourcarpet\"}], \"heatmap\": [{\"colorbar\": {\"outlinewidth\": 0, \"ticks\": \"\"}, \"colorscale\": [[0.0, \"#0d0887\"], [0.1111111111111111, \"#46039f\"], [0.2222222222222222, \"#7201a8\"], [0.3333333333333333, \"#9c179e\"], [0.4444444444444444, \"#bd3786\"], [0.5555555555555556, \"#d8576b\"], [0.6666666666666666, \"#ed7953\"], [0.7777777777777778, \"#fb9f3a\"], [0.8888888888888888, \"#fdca26\"], [1.0, \"#f0f921\"]], \"type\": \"heatmap\"}], \"heatmapgl\": [{\"colorbar\": {\"outlinewidth\": 0, \"ticks\": \"\"}, \"colorscale\": [[0.0, \"#0d0887\"], [0.1111111111111111, \"#46039f\"], [0.2222222222222222, \"#7201a8\"], [0.3333333333333333, \"#9c179e\"], [0.4444444444444444, \"#bd3786\"], [0.5555555555555556, \"#d8576b\"], [0.6666666666666666, \"#ed7953\"], [0.7777777777777778, \"#fb9f3a\"], [0.8888888888888888, \"#fdca26\"], [1.0, \"#f0f921\"]], \"type\": \"heatmapgl\"}], \"histogram\": [{\"marker\": {\"colorbar\": {\"outlinewidth\": 0, \"ticks\": \"\"}}, \"type\": \"histogram\"}], \"histogram2d\": [{\"colorbar\": {\"outlinewidth\": 0, \"ticks\": \"\"}, \"colorscale\": [[0.0, \"#0d0887\"], [0.1111111111111111, \"#46039f\"], [0.2222222222222222, \"#7201a8\"], [0.3333333333333333, \"#9c179e\"], [0.4444444444444444, \"#bd3786\"], [0.5555555555555556, \"#d8576b\"], [0.6666666666666666, \"#ed7953\"], [0.7777777777777778, \"#fb9f3a\"], [0.8888888888888888, \"#fdca26\"], [1.0, \"#f0f921\"]], \"type\": \"histogram2d\"}], \"histogram2dcontour\": [{\"colorbar\": {\"outlinewidth\": 0, \"ticks\": \"\"}, \"colorscale\": [[0.0, \"#0d0887\"], [0.1111111111111111, \"#46039f\"], [0.2222222222222222, \"#7201a8\"], [0.3333333333333333, \"#9c179e\"], [0.4444444444444444, \"#bd3786\"], [0.5555555555555556, \"#d8576b\"], [0.6666666666666666, \"#ed7953\"], [0.7777777777777778, \"#fb9f3a\"], [0.8888888888888888, \"#fdca26\"], [1.0, \"#f0f921\"]], \"type\": \"histogram2dcontour\"}], \"mesh3d\": [{\"colorbar\": {\"outlinewidth\": 0, \"ticks\": \"\"}, \"type\": \"mesh3d\"}], \"parcoords\": [{\"line\": {\"colorbar\": {\"outlinewidth\": 0, \"ticks\": \"\"}}, \"type\": \"parcoords\"}], \"pie\": [{\"automargin\": true, \"type\": \"pie\"}], \"scatter\": [{\"marker\": {\"colorbar\": {\"outlinewidth\": 0, \"ticks\": \"\"}}, \"type\": \"scatter\"}], \"scatter3d\": [{\"line\": {\"colorbar\": {\"outlinewidth\": 0, \"ticks\": \"\"}}, \"marker\": {\"colorbar\": {\"outlinewidth\": 0, \"ticks\": \"\"}}, \"type\": \"scatter3d\"}], \"scattercarpet\": [{\"marker\": {\"colorbar\": {\"outlinewidth\": 0, \"ticks\": \"\"}}, \"type\": \"scattercarpet\"}], \"scattergeo\": [{\"marker\": {\"colorbar\": {\"outlinewidth\": 0, \"ticks\": \"\"}}, \"type\": \"scattergeo\"}], \"scattergl\": [{\"marker\": {\"colorbar\": {\"outlinewidth\": 0, \"ticks\": \"\"}}, \"type\": \"scattergl\"}], \"scattermapbox\": [{\"marker\": {\"colorbar\": {\"outlinewidth\": 0, \"ticks\": \"\"}}, \"type\": \"scattermapbox\"}], \"scatterpolar\": [{\"marker\": {\"colorbar\": {\"outlinewidth\": 0, \"ticks\": \"\"}}, \"type\": \"scatterpolar\"}], \"scatterpolargl\": [{\"marker\": {\"colorbar\": {\"outlinewidth\": 0, \"ticks\": \"\"}}, \"type\": \"scatterpolargl\"}], \"scatterternary\": [{\"marker\": {\"colorbar\": {\"outlinewidth\": 0, \"ticks\": \"\"}}, \"type\": \"scatterternary\"}], \"surface\": [{\"colorbar\": {\"outlinewidth\": 0, \"ticks\": \"\"}, \"colorscale\": [[0.0, \"#0d0887\"], [0.1111111111111111, \"#46039f\"], [0.2222222222222222, \"#7201a8\"], [0.3333333333333333, \"#9c179e\"], [0.4444444444444444, \"#bd3786\"], [0.5555555555555556, \"#d8576b\"], [0.6666666666666666, \"#ed7953\"], [0.7777777777777778, \"#fb9f3a\"], [0.8888888888888888, \"#fdca26\"], [1.0, \"#f0f921\"]], \"type\": \"surface\"}], \"table\": [{\"cells\": {\"fill\": {\"color\": \"#EBF0F8\"}, \"line\": {\"color\": \"white\"}}, \"header\": {\"fill\": {\"color\": \"#C8D4E3\"}, \"line\": {\"color\": \"white\"}}, \"type\": \"table\"}]}, \"layout\": {\"annotationdefaults\": {\"arrowcolor\": \"#2a3f5f\", \"arrowhead\": 0, \"arrowwidth\": 1}, \"autotypenumbers\": \"strict\", \"coloraxis\": {\"colorbar\": {\"outlinewidth\": 0, \"ticks\": \"\"}}, \"colorscale\": {\"diverging\": [[0, \"#8e0152\"], [0.1, \"#c51b7d\"], [0.2, \"#de77ae\"], [0.3, \"#f1b6da\"], [0.4, \"#fde0ef\"], [0.5, \"#f7f7f7\"], [0.6, \"#e6f5d0\"], [0.7, \"#b8e186\"], [0.8, \"#7fbc41\"], [0.9, \"#4d9221\"], [1, \"#276419\"]], \"sequential\": [[0.0, \"#0d0887\"], [0.1111111111111111, \"#46039f\"], [0.2222222222222222, \"#7201a8\"], [0.3333333333333333, \"#9c179e\"], [0.4444444444444444, \"#bd3786\"], [0.5555555555555556, \"#d8576b\"], [0.6666666666666666, \"#ed7953\"], [0.7777777777777778, \"#fb9f3a\"], [0.8888888888888888, \"#fdca26\"], [1.0, \"#f0f921\"]], \"sequentialminus\": [[0.0, \"#0d0887\"], [0.1111111111111111, \"#46039f\"], [0.2222222222222222, \"#7201a8\"], [0.3333333333333333, \"#9c179e\"], [0.4444444444444444, \"#bd3786\"], [0.5555555555555556, \"#d8576b\"], [0.6666666666666666, \"#ed7953\"], [0.7777777777777778, \"#fb9f3a\"], [0.8888888888888888, \"#fdca26\"], [1.0, \"#f0f921\"]]}, \"colorway\": [\"#636efa\", \"#EF553B\", \"#00cc96\", \"#ab63fa\", \"#FFA15A\", \"#19d3f3\", \"#FF6692\", \"#B6E880\", \"#FF97FF\", \"#FECB52\"], \"font\": {\"color\": \"#2a3f5f\"}, \"geo\": {\"bgcolor\": \"white\", \"lakecolor\": \"white\", \"landcolor\": \"#E5ECF6\", \"showlakes\": true, \"showland\": true, \"subunitcolor\": \"white\"}, \"hoverlabel\": {\"align\": \"left\"}, \"hovermode\": \"closest\", \"mapbox\": {\"style\": \"light\"}, \"paper_bgcolor\": \"white\", \"plot_bgcolor\": \"#E5ECF6\", \"polar\": {\"angularaxis\": {\"gridcolor\": \"white\", \"linecolor\": \"white\", \"ticks\": \"\"}, \"bgcolor\": \"#E5ECF6\", \"radialaxis\": {\"gridcolor\": \"white\", \"linecolor\": \"white\", \"ticks\": \"\"}}, \"scene\": {\"xaxis\": {\"backgroundcolor\": \"#E5ECF6\", \"gridcolor\": \"white\", \"gridwidth\": 2, \"linecolor\": \"white\", \"showbackground\": true, \"ticks\": \"\", \"zerolinecolor\": \"white\"}, \"yaxis\": {\"backgroundcolor\": \"#E5ECF6\", \"gridcolor\": \"white\", \"gridwidth\": 2, \"linecolor\": \"white\", \"showbackground\": true, \"ticks\": \"\", \"zerolinecolor\": \"white\"}, \"zaxis\": {\"backgroundcolor\": \"#E5ECF6\", \"gridcolor\": \"white\", \"gridwidth\": 2, \"linecolor\": \"white\", \"showbackground\": true, \"ticks\": \"\", \"zerolinecolor\": \"white\"}}, \"shapedefaults\": {\"line\": {\"color\": \"#2a3f5f\"}}, \"ternary\": {\"aaxis\": {\"gridcolor\": \"white\", \"linecolor\": \"white\", \"ticks\": \"\"}, \"baxis\": {\"gridcolor\": \"white\", \"linecolor\": \"white\", \"ticks\": \"\"}, \"bgcolor\": \"#E5ECF6\", \"caxis\": {\"gridcolor\": \"white\", \"linecolor\": \"white\", \"ticks\": \"\"}}, \"title\": {\"x\": 0.05}, \"xaxis\": {\"automargin\": true, \"gridcolor\": \"white\", \"linecolor\": \"white\", \"ticks\": \"\", \"title\": {\"standoff\": 15}, \"zerolinecolor\": \"white\", \"zerolinewidth\": 2}, \"yaxis\": {\"automargin\": true, \"gridcolor\": \"white\", \"linecolor\": \"white\", \"ticks\": \"\", \"title\": {\"standoff\": 15}, \"zerolinecolor\": \"white\", \"zerolinewidth\": 2}}}, \"title\": {\"text\": \"Controller Average Placements Over Time\"}, \"yaxis\": {\"range\": [0, 12]}},                        {\"responsive\": true}                    ).then(function(){\n",
       "                            \n",
       "var gd = document.getElementById('2b2f26b1-9f36-416c-9406-8504b3caa3a9');\n",
       "var x = new MutationObserver(function (mutations, observer) {{\n",
       "        var display = window.getComputedStyle(gd).display;\n",
       "        if (!display || display === 'none') {{\n",
       "            console.log([gd, 'removed!']);\n",
       "            Plotly.purge(gd);\n",
       "            observer.disconnect();\n",
       "        }}\n",
       "}});\n",
       "\n",
       "// Listen for the removal of the full notebook cells\n",
       "var notebookContainer = gd.closest('#notebook-container');\n",
       "if (notebookContainer) {{\n",
       "    x.observe(notebookContainer, {childList: true});\n",
       "}}\n",
       "\n",
       "// Listen for the clearing of the current output cell\n",
       "var outputEl = gd.closest('.output');\n",
       "if (outputEl) {{\n",
       "    x.observe(outputEl, {childList: true});\n",
       "}}\n",
       "\n",
       "                        })                };                });            </script>        </div>"
      ]
     },
     "metadata": {},
     "output_type": "display_data"
    }
   ],
   "source": [
    "# CONTROLLER AVERAGES OVER TIME\n",
    "fig = go.Figure()\n",
    "\n",
    "avg_blue = df.loc[df[\"Controller Color\"] == \"Blue\"].groupby(\"Date\").mean()[\"Place\"]\n",
    "fig.add_scatter(x = avg_blue.index, y = avg_blue.values,  name = \"Blue Controller\", mode='lines+markers')\n",
    "avg_red = df.loc[df[\"Controller Color\"] == \"Red\"].groupby(\"Date\").mean()[\"Place\"]\n",
    "fig.add_scatter(x = avg_red.index, y = avg_red.values,  name = \"Red Controller\", mode='lines+markers')\n",
    "avg_controllers = df.groupby(\"Date\").mean()[\"Place\"]\n",
    "fig.add_scatter(x = avg_controllers.index, y = avg_controllers.values,  name = \"Average\", mode='lines+markers')\n",
    "\n",
    "fig.update_layout(title=\"Controller Average Placements Over Time\", autosize=True, yaxis_range=[0,12])\n",
    "fig.show()"
   ]
  },
  {
   "cell_type": "code",
   "execution_count": 22,
   "metadata": {},
   "outputs": [
    {
     "data": {
      "application/vnd.plotly.v1+json": {
       "config": {
        "plotlyServerURL": "https://plot.ly"
       },
       "data": [
        {
         "name": "Normal COM",
         "text": [
          1,
          2.1,
          3.3,
          3.2
         ],
         "textposition": "auto",
         "type": "bar",
         "x": [
          1,
          2,
          3,
          4
         ],
         "y": [
          1,
          2.096774193548387,
          3.2769679300291545,
          3.1875
         ]
        },
        {
         "name": "Hard COM",
         "text": [
          3.4,
          4.5,
          5
         ],
         "textposition": "auto",
         "type": "bar",
         "x": [
          2,
          3,
          4
         ],
         "y": [
          3.409090909090909,
          4.462962962962963,
          5
         ]
        }
       ],
       "layout": {
        "autosize": true,
        "template": {
         "data": {
          "bar": [
           {
            "error_x": {
             "color": "#2a3f5f"
            },
            "error_y": {
             "color": "#2a3f5f"
            },
            "marker": {
             "line": {
              "color": "#E5ECF6",
              "width": 0.5
             }
            },
            "type": "bar"
           }
          ],
          "barpolar": [
           {
            "marker": {
             "line": {
              "color": "#E5ECF6",
              "width": 0.5
             }
            },
            "type": "barpolar"
           }
          ],
          "carpet": [
           {
            "aaxis": {
             "endlinecolor": "#2a3f5f",
             "gridcolor": "white",
             "linecolor": "white",
             "minorgridcolor": "white",
             "startlinecolor": "#2a3f5f"
            },
            "baxis": {
             "endlinecolor": "#2a3f5f",
             "gridcolor": "white",
             "linecolor": "white",
             "minorgridcolor": "white",
             "startlinecolor": "#2a3f5f"
            },
            "type": "carpet"
           }
          ],
          "choropleth": [
           {
            "colorbar": {
             "outlinewidth": 0,
             "ticks": ""
            },
            "type": "choropleth"
           }
          ],
          "contour": [
           {
            "colorbar": {
             "outlinewidth": 0,
             "ticks": ""
            },
            "colorscale": [
             [
              0,
              "#0d0887"
             ],
             [
              0.1111111111111111,
              "#46039f"
             ],
             [
              0.2222222222222222,
              "#7201a8"
             ],
             [
              0.3333333333333333,
              "#9c179e"
             ],
             [
              0.4444444444444444,
              "#bd3786"
             ],
             [
              0.5555555555555556,
              "#d8576b"
             ],
             [
              0.6666666666666666,
              "#ed7953"
             ],
             [
              0.7777777777777778,
              "#fb9f3a"
             ],
             [
              0.8888888888888888,
              "#fdca26"
             ],
             [
              1,
              "#f0f921"
             ]
            ],
            "type": "contour"
           }
          ],
          "contourcarpet": [
           {
            "colorbar": {
             "outlinewidth": 0,
             "ticks": ""
            },
            "type": "contourcarpet"
           }
          ],
          "heatmap": [
           {
            "colorbar": {
             "outlinewidth": 0,
             "ticks": ""
            },
            "colorscale": [
             [
              0,
              "#0d0887"
             ],
             [
              0.1111111111111111,
              "#46039f"
             ],
             [
              0.2222222222222222,
              "#7201a8"
             ],
             [
              0.3333333333333333,
              "#9c179e"
             ],
             [
              0.4444444444444444,
              "#bd3786"
             ],
             [
              0.5555555555555556,
              "#d8576b"
             ],
             [
              0.6666666666666666,
              "#ed7953"
             ],
             [
              0.7777777777777778,
              "#fb9f3a"
             ],
             [
              0.8888888888888888,
              "#fdca26"
             ],
             [
              1,
              "#f0f921"
             ]
            ],
            "type": "heatmap"
           }
          ],
          "heatmapgl": [
           {
            "colorbar": {
             "outlinewidth": 0,
             "ticks": ""
            },
            "colorscale": [
             [
              0,
              "#0d0887"
             ],
             [
              0.1111111111111111,
              "#46039f"
             ],
             [
              0.2222222222222222,
              "#7201a8"
             ],
             [
              0.3333333333333333,
              "#9c179e"
             ],
             [
              0.4444444444444444,
              "#bd3786"
             ],
             [
              0.5555555555555556,
              "#d8576b"
             ],
             [
              0.6666666666666666,
              "#ed7953"
             ],
             [
              0.7777777777777778,
              "#fb9f3a"
             ],
             [
              0.8888888888888888,
              "#fdca26"
             ],
             [
              1,
              "#f0f921"
             ]
            ],
            "type": "heatmapgl"
           }
          ],
          "histogram": [
           {
            "marker": {
             "colorbar": {
              "outlinewidth": 0,
              "ticks": ""
             }
            },
            "type": "histogram"
           }
          ],
          "histogram2d": [
           {
            "colorbar": {
             "outlinewidth": 0,
             "ticks": ""
            },
            "colorscale": [
             [
              0,
              "#0d0887"
             ],
             [
              0.1111111111111111,
              "#46039f"
             ],
             [
              0.2222222222222222,
              "#7201a8"
             ],
             [
              0.3333333333333333,
              "#9c179e"
             ],
             [
              0.4444444444444444,
              "#bd3786"
             ],
             [
              0.5555555555555556,
              "#d8576b"
             ],
             [
              0.6666666666666666,
              "#ed7953"
             ],
             [
              0.7777777777777778,
              "#fb9f3a"
             ],
             [
              0.8888888888888888,
              "#fdca26"
             ],
             [
              1,
              "#f0f921"
             ]
            ],
            "type": "histogram2d"
           }
          ],
          "histogram2dcontour": [
           {
            "colorbar": {
             "outlinewidth": 0,
             "ticks": ""
            },
            "colorscale": [
             [
              0,
              "#0d0887"
             ],
             [
              0.1111111111111111,
              "#46039f"
             ],
             [
              0.2222222222222222,
              "#7201a8"
             ],
             [
              0.3333333333333333,
              "#9c179e"
             ],
             [
              0.4444444444444444,
              "#bd3786"
             ],
             [
              0.5555555555555556,
              "#d8576b"
             ],
             [
              0.6666666666666666,
              "#ed7953"
             ],
             [
              0.7777777777777778,
              "#fb9f3a"
             ],
             [
              0.8888888888888888,
              "#fdca26"
             ],
             [
              1,
              "#f0f921"
             ]
            ],
            "type": "histogram2dcontour"
           }
          ],
          "mesh3d": [
           {
            "colorbar": {
             "outlinewidth": 0,
             "ticks": ""
            },
            "type": "mesh3d"
           }
          ],
          "parcoords": [
           {
            "line": {
             "colorbar": {
              "outlinewidth": 0,
              "ticks": ""
             }
            },
            "type": "parcoords"
           }
          ],
          "pie": [
           {
            "automargin": true,
            "type": "pie"
           }
          ],
          "scatter": [
           {
            "marker": {
             "colorbar": {
              "outlinewidth": 0,
              "ticks": ""
             }
            },
            "type": "scatter"
           }
          ],
          "scatter3d": [
           {
            "line": {
             "colorbar": {
              "outlinewidth": 0,
              "ticks": ""
             }
            },
            "marker": {
             "colorbar": {
              "outlinewidth": 0,
              "ticks": ""
             }
            },
            "type": "scatter3d"
           }
          ],
          "scattercarpet": [
           {
            "marker": {
             "colorbar": {
              "outlinewidth": 0,
              "ticks": ""
             }
            },
            "type": "scattercarpet"
           }
          ],
          "scattergeo": [
           {
            "marker": {
             "colorbar": {
              "outlinewidth": 0,
              "ticks": ""
             }
            },
            "type": "scattergeo"
           }
          ],
          "scattergl": [
           {
            "marker": {
             "colorbar": {
              "outlinewidth": 0,
              "ticks": ""
             }
            },
            "type": "scattergl"
           }
          ],
          "scattermapbox": [
           {
            "marker": {
             "colorbar": {
              "outlinewidth": 0,
              "ticks": ""
             }
            },
            "type": "scattermapbox"
           }
          ],
          "scatterpolar": [
           {
            "marker": {
             "colorbar": {
              "outlinewidth": 0,
              "ticks": ""
             }
            },
            "type": "scatterpolar"
           }
          ],
          "scatterpolargl": [
           {
            "marker": {
             "colorbar": {
              "outlinewidth": 0,
              "ticks": ""
             }
            },
            "type": "scatterpolargl"
           }
          ],
          "scatterternary": [
           {
            "marker": {
             "colorbar": {
              "outlinewidth": 0,
              "ticks": ""
             }
            },
            "type": "scatterternary"
           }
          ],
          "surface": [
           {
            "colorbar": {
             "outlinewidth": 0,
             "ticks": ""
            },
            "colorscale": [
             [
              0,
              "#0d0887"
             ],
             [
              0.1111111111111111,
              "#46039f"
             ],
             [
              0.2222222222222222,
              "#7201a8"
             ],
             [
              0.3333333333333333,
              "#9c179e"
             ],
             [
              0.4444444444444444,
              "#bd3786"
             ],
             [
              0.5555555555555556,
              "#d8576b"
             ],
             [
              0.6666666666666666,
              "#ed7953"
             ],
             [
              0.7777777777777778,
              "#fb9f3a"
             ],
             [
              0.8888888888888888,
              "#fdca26"
             ],
             [
              1,
              "#f0f921"
             ]
            ],
            "type": "surface"
           }
          ],
          "table": [
           {
            "cells": {
             "fill": {
              "color": "#EBF0F8"
             },
             "line": {
              "color": "white"
             }
            },
            "header": {
             "fill": {
              "color": "#C8D4E3"
             },
             "line": {
              "color": "white"
             }
            },
            "type": "table"
           }
          ]
         },
         "layout": {
          "annotationdefaults": {
           "arrowcolor": "#2a3f5f",
           "arrowhead": 0,
           "arrowwidth": 1
          },
          "autotypenumbers": "strict",
          "coloraxis": {
           "colorbar": {
            "outlinewidth": 0,
            "ticks": ""
           }
          },
          "colorscale": {
           "diverging": [
            [
             0,
             "#8e0152"
            ],
            [
             0.1,
             "#c51b7d"
            ],
            [
             0.2,
             "#de77ae"
            ],
            [
             0.3,
             "#f1b6da"
            ],
            [
             0.4,
             "#fde0ef"
            ],
            [
             0.5,
             "#f7f7f7"
            ],
            [
             0.6,
             "#e6f5d0"
            ],
            [
             0.7,
             "#b8e186"
            ],
            [
             0.8,
             "#7fbc41"
            ],
            [
             0.9,
             "#4d9221"
            ],
            [
             1,
             "#276419"
            ]
           ],
           "sequential": [
            [
             0,
             "#0d0887"
            ],
            [
             0.1111111111111111,
             "#46039f"
            ],
            [
             0.2222222222222222,
             "#7201a8"
            ],
            [
             0.3333333333333333,
             "#9c179e"
            ],
            [
             0.4444444444444444,
             "#bd3786"
            ],
            [
             0.5555555555555556,
             "#d8576b"
            ],
            [
             0.6666666666666666,
             "#ed7953"
            ],
            [
             0.7777777777777778,
             "#fb9f3a"
            ],
            [
             0.8888888888888888,
             "#fdca26"
            ],
            [
             1,
             "#f0f921"
            ]
           ],
           "sequentialminus": [
            [
             0,
             "#0d0887"
            ],
            [
             0.1111111111111111,
             "#46039f"
            ],
            [
             0.2222222222222222,
             "#7201a8"
            ],
            [
             0.3333333333333333,
             "#9c179e"
            ],
            [
             0.4444444444444444,
             "#bd3786"
            ],
            [
             0.5555555555555556,
             "#d8576b"
            ],
            [
             0.6666666666666666,
             "#ed7953"
            ],
            [
             0.7777777777777778,
             "#fb9f3a"
            ],
            [
             0.8888888888888888,
             "#fdca26"
            ],
            [
             1,
             "#f0f921"
            ]
           ]
          },
          "colorway": [
           "#636efa",
           "#EF553B",
           "#00cc96",
           "#ab63fa",
           "#FFA15A",
           "#19d3f3",
           "#FF6692",
           "#B6E880",
           "#FF97FF",
           "#FECB52"
          ],
          "font": {
           "color": "#2a3f5f"
          },
          "geo": {
           "bgcolor": "white",
           "lakecolor": "white",
           "landcolor": "#E5ECF6",
           "showlakes": true,
           "showland": true,
           "subunitcolor": "white"
          },
          "hoverlabel": {
           "align": "left"
          },
          "hovermode": "closest",
          "mapbox": {
           "style": "light"
          },
          "paper_bgcolor": "white",
          "plot_bgcolor": "#E5ECF6",
          "polar": {
           "angularaxis": {
            "gridcolor": "white",
            "linecolor": "white",
            "ticks": ""
           },
           "bgcolor": "#E5ECF6",
           "radialaxis": {
            "gridcolor": "white",
            "linecolor": "white",
            "ticks": ""
           }
          },
          "scene": {
           "xaxis": {
            "backgroundcolor": "#E5ECF6",
            "gridcolor": "white",
            "gridwidth": 2,
            "linecolor": "white",
            "showbackground": true,
            "ticks": "",
            "zerolinecolor": "white"
           },
           "yaxis": {
            "backgroundcolor": "#E5ECF6",
            "gridcolor": "white",
            "gridwidth": 2,
            "linecolor": "white",
            "showbackground": true,
            "ticks": "",
            "zerolinecolor": "white"
           },
           "zaxis": {
            "backgroundcolor": "#E5ECF6",
            "gridcolor": "white",
            "gridwidth": 2,
            "linecolor": "white",
            "showbackground": true,
            "ticks": "",
            "zerolinecolor": "white"
           }
          },
          "shapedefaults": {
           "line": {
            "color": "#2a3f5f"
           }
          },
          "ternary": {
           "aaxis": {
            "gridcolor": "white",
            "linecolor": "white",
            "ticks": ""
           },
           "baxis": {
            "gridcolor": "white",
            "linecolor": "white",
            "ticks": ""
           },
           "bgcolor": "#E5ECF6",
           "caxis": {
            "gridcolor": "white",
            "linecolor": "white",
            "ticks": ""
           }
          },
          "title": {
           "x": 0.05
          },
          "xaxis": {
           "automargin": true,
           "gridcolor": "white",
           "linecolor": "white",
           "ticks": "",
           "title": {
            "standoff": 15
           },
           "zerolinecolor": "white",
           "zerolinewidth": 2
          },
          "yaxis": {
           "automargin": true,
           "gridcolor": "white",
           "linecolor": "white",
           "ticks": "",
           "title": {
            "standoff": 15
           },
           "zerolinecolor": "white",
           "zerolinewidth": 2
          }
         }
        },
        "title": {
         "text": "Average Placements: Racer Count & COM Difficulty"
        }
       }
      },
      "text/html": [
       "<div>                            <div id=\"3cb3865c-6f60-4279-8699-8014515e6964\" class=\"plotly-graph-div\" style=\"height:525px; width:100%;\"></div>            <script type=\"text/javascript\">                require([\"plotly\"], function(Plotly) {                    window.PLOTLYENV=window.PLOTLYENV || {};                                    if (document.getElementById(\"3cb3865c-6f60-4279-8699-8014515e6964\")) {                    Plotly.newPlot(                        \"3cb3865c-6f60-4279-8699-8014515e6964\",                        [{\"name\": \"Normal COM\", \"text\": [1.0, 2.1, 3.3, 3.2], \"textposition\": \"auto\", \"type\": \"bar\", \"x\": [1, 2, 3, 4], \"y\": [1.0, 2.096774193548387, 3.2769679300291545, 3.1875]}, {\"name\": \"Hard COM\", \"text\": [3.4, 4.5, 5.0], \"textposition\": \"auto\", \"type\": \"bar\", \"x\": [2, 3, 4], \"y\": [3.409090909090909, 4.462962962962963, 5.0]}],                        {\"autosize\": true, \"template\": {\"data\": {\"bar\": [{\"error_x\": {\"color\": \"#2a3f5f\"}, \"error_y\": {\"color\": \"#2a3f5f\"}, \"marker\": {\"line\": {\"color\": \"#E5ECF6\", \"width\": 0.5}}, \"type\": \"bar\"}], \"barpolar\": [{\"marker\": {\"line\": {\"color\": \"#E5ECF6\", \"width\": 0.5}}, \"type\": \"barpolar\"}], \"carpet\": [{\"aaxis\": {\"endlinecolor\": \"#2a3f5f\", \"gridcolor\": \"white\", \"linecolor\": \"white\", \"minorgridcolor\": \"white\", \"startlinecolor\": \"#2a3f5f\"}, \"baxis\": {\"endlinecolor\": \"#2a3f5f\", \"gridcolor\": \"white\", \"linecolor\": \"white\", \"minorgridcolor\": \"white\", \"startlinecolor\": \"#2a3f5f\"}, \"type\": \"carpet\"}], \"choropleth\": [{\"colorbar\": {\"outlinewidth\": 0, \"ticks\": \"\"}, \"type\": \"choropleth\"}], \"contour\": [{\"colorbar\": {\"outlinewidth\": 0, \"ticks\": \"\"}, \"colorscale\": [[0.0, \"#0d0887\"], [0.1111111111111111, \"#46039f\"], [0.2222222222222222, \"#7201a8\"], [0.3333333333333333, \"#9c179e\"], [0.4444444444444444, \"#bd3786\"], [0.5555555555555556, \"#d8576b\"], [0.6666666666666666, \"#ed7953\"], [0.7777777777777778, \"#fb9f3a\"], [0.8888888888888888, \"#fdca26\"], [1.0, \"#f0f921\"]], \"type\": \"contour\"}], \"contourcarpet\": [{\"colorbar\": {\"outlinewidth\": 0, \"ticks\": \"\"}, \"type\": \"contourcarpet\"}], \"heatmap\": [{\"colorbar\": {\"outlinewidth\": 0, \"ticks\": \"\"}, \"colorscale\": [[0.0, \"#0d0887\"], [0.1111111111111111, \"#46039f\"], [0.2222222222222222, \"#7201a8\"], [0.3333333333333333, \"#9c179e\"], [0.4444444444444444, \"#bd3786\"], [0.5555555555555556, \"#d8576b\"], [0.6666666666666666, \"#ed7953\"], [0.7777777777777778, \"#fb9f3a\"], [0.8888888888888888, \"#fdca26\"], [1.0, \"#f0f921\"]], \"type\": \"heatmap\"}], \"heatmapgl\": [{\"colorbar\": {\"outlinewidth\": 0, \"ticks\": \"\"}, \"colorscale\": [[0.0, \"#0d0887\"], [0.1111111111111111, \"#46039f\"], [0.2222222222222222, \"#7201a8\"], [0.3333333333333333, \"#9c179e\"], [0.4444444444444444, \"#bd3786\"], [0.5555555555555556, \"#d8576b\"], [0.6666666666666666, \"#ed7953\"], [0.7777777777777778, \"#fb9f3a\"], [0.8888888888888888, \"#fdca26\"], [1.0, \"#f0f921\"]], \"type\": \"heatmapgl\"}], \"histogram\": [{\"marker\": {\"colorbar\": {\"outlinewidth\": 0, \"ticks\": \"\"}}, \"type\": \"histogram\"}], \"histogram2d\": [{\"colorbar\": {\"outlinewidth\": 0, \"ticks\": \"\"}, \"colorscale\": [[0.0, \"#0d0887\"], [0.1111111111111111, \"#46039f\"], [0.2222222222222222, \"#7201a8\"], [0.3333333333333333, \"#9c179e\"], [0.4444444444444444, \"#bd3786\"], [0.5555555555555556, \"#d8576b\"], [0.6666666666666666, \"#ed7953\"], [0.7777777777777778, \"#fb9f3a\"], [0.8888888888888888, \"#fdca26\"], [1.0, \"#f0f921\"]], \"type\": \"histogram2d\"}], \"histogram2dcontour\": [{\"colorbar\": {\"outlinewidth\": 0, \"ticks\": \"\"}, \"colorscale\": [[0.0, \"#0d0887\"], [0.1111111111111111, \"#46039f\"], [0.2222222222222222, \"#7201a8\"], [0.3333333333333333, \"#9c179e\"], [0.4444444444444444, \"#bd3786\"], [0.5555555555555556, \"#d8576b\"], [0.6666666666666666, \"#ed7953\"], [0.7777777777777778, \"#fb9f3a\"], [0.8888888888888888, \"#fdca26\"], [1.0, \"#f0f921\"]], \"type\": \"histogram2dcontour\"}], \"mesh3d\": [{\"colorbar\": {\"outlinewidth\": 0, \"ticks\": \"\"}, \"type\": \"mesh3d\"}], \"parcoords\": [{\"line\": {\"colorbar\": {\"outlinewidth\": 0, \"ticks\": \"\"}}, \"type\": \"parcoords\"}], \"pie\": [{\"automargin\": true, \"type\": \"pie\"}], \"scatter\": [{\"marker\": {\"colorbar\": {\"outlinewidth\": 0, \"ticks\": \"\"}}, \"type\": \"scatter\"}], \"scatter3d\": [{\"line\": {\"colorbar\": {\"outlinewidth\": 0, \"ticks\": \"\"}}, \"marker\": {\"colorbar\": {\"outlinewidth\": 0, \"ticks\": \"\"}}, \"type\": \"scatter3d\"}], \"scattercarpet\": [{\"marker\": {\"colorbar\": {\"outlinewidth\": 0, \"ticks\": \"\"}}, \"type\": \"scattercarpet\"}], \"scattergeo\": [{\"marker\": {\"colorbar\": {\"outlinewidth\": 0, \"ticks\": \"\"}}, \"type\": \"scattergeo\"}], \"scattergl\": [{\"marker\": {\"colorbar\": {\"outlinewidth\": 0, \"ticks\": \"\"}}, \"type\": \"scattergl\"}], \"scattermapbox\": [{\"marker\": {\"colorbar\": {\"outlinewidth\": 0, \"ticks\": \"\"}}, \"type\": \"scattermapbox\"}], \"scatterpolar\": [{\"marker\": {\"colorbar\": {\"outlinewidth\": 0, \"ticks\": \"\"}}, \"type\": \"scatterpolar\"}], \"scatterpolargl\": [{\"marker\": {\"colorbar\": {\"outlinewidth\": 0, \"ticks\": \"\"}}, \"type\": \"scatterpolargl\"}], \"scatterternary\": [{\"marker\": {\"colorbar\": {\"outlinewidth\": 0, \"ticks\": \"\"}}, \"type\": \"scatterternary\"}], \"surface\": [{\"colorbar\": {\"outlinewidth\": 0, \"ticks\": \"\"}, \"colorscale\": [[0.0, \"#0d0887\"], [0.1111111111111111, \"#46039f\"], [0.2222222222222222, \"#7201a8\"], [0.3333333333333333, \"#9c179e\"], [0.4444444444444444, \"#bd3786\"], [0.5555555555555556, \"#d8576b\"], [0.6666666666666666, \"#ed7953\"], [0.7777777777777778, \"#fb9f3a\"], [0.8888888888888888, \"#fdca26\"], [1.0, \"#f0f921\"]], \"type\": \"surface\"}], \"table\": [{\"cells\": {\"fill\": {\"color\": \"#EBF0F8\"}, \"line\": {\"color\": \"white\"}}, \"header\": {\"fill\": {\"color\": \"#C8D4E3\"}, \"line\": {\"color\": \"white\"}}, \"type\": \"table\"}]}, \"layout\": {\"annotationdefaults\": {\"arrowcolor\": \"#2a3f5f\", \"arrowhead\": 0, \"arrowwidth\": 1}, \"autotypenumbers\": \"strict\", \"coloraxis\": {\"colorbar\": {\"outlinewidth\": 0, \"ticks\": \"\"}}, \"colorscale\": {\"diverging\": [[0, \"#8e0152\"], [0.1, \"#c51b7d\"], [0.2, \"#de77ae\"], [0.3, \"#f1b6da\"], [0.4, \"#fde0ef\"], [0.5, \"#f7f7f7\"], [0.6, \"#e6f5d0\"], [0.7, \"#b8e186\"], [0.8, \"#7fbc41\"], [0.9, \"#4d9221\"], [1, \"#276419\"]], \"sequential\": [[0.0, \"#0d0887\"], [0.1111111111111111, \"#46039f\"], [0.2222222222222222, \"#7201a8\"], [0.3333333333333333, \"#9c179e\"], [0.4444444444444444, \"#bd3786\"], [0.5555555555555556, \"#d8576b\"], [0.6666666666666666, \"#ed7953\"], [0.7777777777777778, \"#fb9f3a\"], [0.8888888888888888, \"#fdca26\"], [1.0, \"#f0f921\"]], \"sequentialminus\": [[0.0, \"#0d0887\"], [0.1111111111111111, \"#46039f\"], [0.2222222222222222, \"#7201a8\"], [0.3333333333333333, \"#9c179e\"], [0.4444444444444444, \"#bd3786\"], [0.5555555555555556, \"#d8576b\"], [0.6666666666666666, \"#ed7953\"], [0.7777777777777778, \"#fb9f3a\"], [0.8888888888888888, \"#fdca26\"], [1.0, \"#f0f921\"]]}, \"colorway\": [\"#636efa\", \"#EF553B\", \"#00cc96\", \"#ab63fa\", \"#FFA15A\", \"#19d3f3\", \"#FF6692\", \"#B6E880\", \"#FF97FF\", \"#FECB52\"], \"font\": {\"color\": \"#2a3f5f\"}, \"geo\": {\"bgcolor\": \"white\", \"lakecolor\": \"white\", \"landcolor\": \"#E5ECF6\", \"showlakes\": true, \"showland\": true, \"subunitcolor\": \"white\"}, \"hoverlabel\": {\"align\": \"left\"}, \"hovermode\": \"closest\", \"mapbox\": {\"style\": \"light\"}, \"paper_bgcolor\": \"white\", \"plot_bgcolor\": \"#E5ECF6\", \"polar\": {\"angularaxis\": {\"gridcolor\": \"white\", \"linecolor\": \"white\", \"ticks\": \"\"}, \"bgcolor\": \"#E5ECF6\", \"radialaxis\": {\"gridcolor\": \"white\", \"linecolor\": \"white\", \"ticks\": \"\"}}, \"scene\": {\"xaxis\": {\"backgroundcolor\": \"#E5ECF6\", \"gridcolor\": \"white\", \"gridwidth\": 2, \"linecolor\": \"white\", \"showbackground\": true, \"ticks\": \"\", \"zerolinecolor\": \"white\"}, \"yaxis\": {\"backgroundcolor\": \"#E5ECF6\", \"gridcolor\": \"white\", \"gridwidth\": 2, \"linecolor\": \"white\", \"showbackground\": true, \"ticks\": \"\", \"zerolinecolor\": \"white\"}, \"zaxis\": {\"backgroundcolor\": \"#E5ECF6\", \"gridcolor\": \"white\", \"gridwidth\": 2, \"linecolor\": \"white\", \"showbackground\": true, \"ticks\": \"\", \"zerolinecolor\": \"white\"}}, \"shapedefaults\": {\"line\": {\"color\": \"#2a3f5f\"}}, \"ternary\": {\"aaxis\": {\"gridcolor\": \"white\", \"linecolor\": \"white\", \"ticks\": \"\"}, \"baxis\": {\"gridcolor\": \"white\", \"linecolor\": \"white\", \"ticks\": \"\"}, \"bgcolor\": \"#E5ECF6\", \"caxis\": {\"gridcolor\": \"white\", \"linecolor\": \"white\", \"ticks\": \"\"}}, \"title\": {\"x\": 0.05}, \"xaxis\": {\"automargin\": true, \"gridcolor\": \"white\", \"linecolor\": \"white\", \"ticks\": \"\", \"title\": {\"standoff\": 15}, \"zerolinecolor\": \"white\", \"zerolinewidth\": 2}, \"yaxis\": {\"automargin\": true, \"gridcolor\": \"white\", \"linecolor\": \"white\", \"ticks\": \"\", \"title\": {\"standoff\": 15}, \"zerolinecolor\": \"white\", \"zerolinewidth\": 2}}}, \"title\": {\"text\": \"Average Placements: Racer Count & COM Difficulty\"}},                        {\"responsive\": true}                    ).then(function(){\n",
       "                            \n",
       "var gd = document.getElementById('3cb3865c-6f60-4279-8699-8014515e6964');\n",
       "var x = new MutationObserver(function (mutations, observer) {{\n",
       "        var display = window.getComputedStyle(gd).display;\n",
       "        if (!display || display === 'none') {{\n",
       "            console.log([gd, 'removed!']);\n",
       "            Plotly.purge(gd);\n",
       "            observer.disconnect();\n",
       "        }}\n",
       "}});\n",
       "\n",
       "// Listen for the removal of the full notebook cells\n",
       "var notebookContainer = gd.closest('#notebook-container');\n",
       "if (notebookContainer) {{\n",
       "    x.observe(notebookContainer, {childList: true});\n",
       "}}\n",
       "\n",
       "// Listen for the clearing of the current output cell\n",
       "var outputEl = gd.closest('.output');\n",
       "if (outputEl) {{\n",
       "    x.observe(outputEl, {childList: true});\n",
       "}}\n",
       "\n",
       "                        })                };                });            </script>        </div>"
      ]
     },
     "metadata": {},
     "output_type": "display_data"
    }
   ],
   "source": [
    "# DIFFICULTY AVERAGE PLACEMENTS\n",
    "fig = go.Figure()\n",
    "\n",
    "avg_blue = df.loc[df[\"COM\"] == \"Normal\"].groupby(\"Racer Count\").mean()[\"Place\"]\n",
    "fig.add_bar(x = avg_blue.index, y = avg_blue.values,  name = \"Normal COM\", text = avg_blue.values.round(1), textposition='auto')\n",
    "avg_red = df.loc[df[\"COM\"] == \"Hard\"].groupby(\"Racer Count\").mean()[\"Place\"]\n",
    "fig.add_bar(x = avg_red.index, y = avg_red.values,  name = \"Hard COM\", text = avg_red.values.round(1), textposition='auto')\n",
    "\n",
    "fig.update_layout(title=\"Average Placements: Racer Count & COM Difficulty\", autosize=True)\n",
    "fig.show()"
   ]
  },
  {
   "cell_type": "code",
   "execution_count": null,
   "metadata": {},
   "outputs": [],
   "source": [
    "# INSERT ALL GRAPHS\n",
    "from jinja2 import Template\n",
    "\n",
    "output_html_path=r\"index.html\"\n",
    "input_template_path = r\"index_template.html\"\n",
    "\n",
    "templateUpdated = false\n",
    "\n",
    "plotly_jinja_data = {\"total_counts\":total_counts.to_html(full_html=False),\n",
    "                     \"average_placements\": average_placements.to_html(fill_html=False)\n",
    "                    }\n",
    "#consider also defining the include_plotlyjs parameter to point to an external Plotly.js as described above\n",
    "\n",
    "if (templateUpdated):\n",
    "    with open(output_html_path, \"w\", encoding=\"utf-8\") as output_file:\n",
    "        with open(input_template_path) as template_file:\n",
    "            j2_template = Template(template_file.read())\n",
    "            output_file.write(j2_template.render(plotly_jinja_data))"
   ]
  },
  {
   "cell_type": "markdown",
   "metadata": {},
   "source": [
    "# Loadout Display & Analysis #"
   ]
  },
  {
   "cell_type": "code",
   "execution_count": 23,
   "metadata": {},
   "outputs": [],
   "source": [
    "# Data compiled by DovahderpOG\n",
    "character_stats = pd.read_csv(\"Data/Character Stats.csv\").set_index(\"Character\")\n",
    "vehicle_stats = pd.read_csv(\"Data/Vehicle Stats.csv\").set_index(\"Vehicle\")\n",
    "wheel_stats = pd.read_csv(\"Data/Wheel Stats.csv\").set_index(\"Wheels\")\n",
    "glider_stats = pd.read_csv(\"Data/Glider Stats.csv\").set_index(\"Glider\")"
   ]
  },
  {
   "cell_type": "code",
   "execution_count": 24,
   "metadata": {},
   "outputs": [
    {
     "data": {
      "application/vnd.plotly.v1+json": {
       "config": {
        "plotlyServerURL": "https://plot.ly"
       },
       "data": [
        {
         "name": "Character",
         "type": "bar",
         "x": [
          "Weight",
          "Acceleration",
          "On-Road Traction",
          "Off-Road Traction",
          "Mini-Turbo",
          "Ground Speed",
          "Water Speed",
          "Anti-Gravity Speed",
          "Air Speed",
          "Ground Handling",
          "Water Handling",
          "Anti-Gravity Handling",
          "Air Handling",
          "Invincibility"
         ],
         "y": [
          4,
          3,
          3,
          3,
          4,
          6,
          6,
          6,
          6,
          5,
          5,
          5,
          5,
          1
         ]
        },
        {
         "name": "Vehicle",
         "type": "bar",
         "x": [
          "Weight",
          "Acceleration",
          "On-Road Traction",
          "Off-Road Traction",
          "Mini-Turbo",
          "Ground Speed",
          "Water Speed",
          "Anti-Gravity Speed",
          "Air Speed",
          "Ground Handling",
          "Water Handling",
          "Anti-Gravity Handling",
          "Air Handling",
          "Invincibility"
         ],
         "y": [
          1,
          6,
          3,
          4,
          6,
          2,
          3,
          1,
          1,
          5,
          4,
          4,
          2,
          3
         ]
        },
        {
         "name": "Wheels",
         "type": "bar",
         "x": [
          "Weight",
          "Acceleration",
          "On-Road Traction",
          "Off-Road Traction",
          "Mini-Turbo",
          "Ground Speed",
          "Water Speed",
          "Anti-Gravity Speed",
          "Air Speed",
          "Ground Handling",
          "Water Handling",
          "Anti-Gravity Handling",
          "Air Handling",
          "Invincibility"
         ],
         "y": [
          2,
          2,
          4,
          1,
          3,
          3,
          2,
          4,
          2,
          4,
          4,
          3,
          4,
          5
         ]
        },
        {
         "name": "Glider",
         "type": "bar",
         "x": [
          "Weight",
          "Acceleration",
          "On-Road Traction",
          "Off-Road Traction",
          "Mini-Turbo",
          "Ground Speed",
          "Water Speed",
          "Anti-Gravity Speed",
          "Air Speed",
          "Ground Handling",
          "Water Handling",
          "Anti-Gravity Handling",
          "Air Handling",
          "Invincibility"
         ],
         "y": [
          1,
          2,
          2,
          0,
          2,
          0,
          0,
          1,
          1,
          1,
          1,
          0,
          2,
          0
         ]
        }
       ],
       "layout": {
        "barmode": "stack",
        "template": {
         "data": {
          "bar": [
           {
            "error_x": {
             "color": "#2a3f5f"
            },
            "error_y": {
             "color": "#2a3f5f"
            },
            "marker": {
             "line": {
              "color": "#E5ECF6",
              "width": 0.5
             }
            },
            "type": "bar"
           }
          ],
          "barpolar": [
           {
            "marker": {
             "line": {
              "color": "#E5ECF6",
              "width": 0.5
             }
            },
            "type": "barpolar"
           }
          ],
          "carpet": [
           {
            "aaxis": {
             "endlinecolor": "#2a3f5f",
             "gridcolor": "white",
             "linecolor": "white",
             "minorgridcolor": "white",
             "startlinecolor": "#2a3f5f"
            },
            "baxis": {
             "endlinecolor": "#2a3f5f",
             "gridcolor": "white",
             "linecolor": "white",
             "minorgridcolor": "white",
             "startlinecolor": "#2a3f5f"
            },
            "type": "carpet"
           }
          ],
          "choropleth": [
           {
            "colorbar": {
             "outlinewidth": 0,
             "ticks": ""
            },
            "type": "choropleth"
           }
          ],
          "contour": [
           {
            "colorbar": {
             "outlinewidth": 0,
             "ticks": ""
            },
            "colorscale": [
             [
              0,
              "#0d0887"
             ],
             [
              0.1111111111111111,
              "#46039f"
             ],
             [
              0.2222222222222222,
              "#7201a8"
             ],
             [
              0.3333333333333333,
              "#9c179e"
             ],
             [
              0.4444444444444444,
              "#bd3786"
             ],
             [
              0.5555555555555556,
              "#d8576b"
             ],
             [
              0.6666666666666666,
              "#ed7953"
             ],
             [
              0.7777777777777778,
              "#fb9f3a"
             ],
             [
              0.8888888888888888,
              "#fdca26"
             ],
             [
              1,
              "#f0f921"
             ]
            ],
            "type": "contour"
           }
          ],
          "contourcarpet": [
           {
            "colorbar": {
             "outlinewidth": 0,
             "ticks": ""
            },
            "type": "contourcarpet"
           }
          ],
          "heatmap": [
           {
            "colorbar": {
             "outlinewidth": 0,
             "ticks": ""
            },
            "colorscale": [
             [
              0,
              "#0d0887"
             ],
             [
              0.1111111111111111,
              "#46039f"
             ],
             [
              0.2222222222222222,
              "#7201a8"
             ],
             [
              0.3333333333333333,
              "#9c179e"
             ],
             [
              0.4444444444444444,
              "#bd3786"
             ],
             [
              0.5555555555555556,
              "#d8576b"
             ],
             [
              0.6666666666666666,
              "#ed7953"
             ],
             [
              0.7777777777777778,
              "#fb9f3a"
             ],
             [
              0.8888888888888888,
              "#fdca26"
             ],
             [
              1,
              "#f0f921"
             ]
            ],
            "type": "heatmap"
           }
          ],
          "heatmapgl": [
           {
            "colorbar": {
             "outlinewidth": 0,
             "ticks": ""
            },
            "colorscale": [
             [
              0,
              "#0d0887"
             ],
             [
              0.1111111111111111,
              "#46039f"
             ],
             [
              0.2222222222222222,
              "#7201a8"
             ],
             [
              0.3333333333333333,
              "#9c179e"
             ],
             [
              0.4444444444444444,
              "#bd3786"
             ],
             [
              0.5555555555555556,
              "#d8576b"
             ],
             [
              0.6666666666666666,
              "#ed7953"
             ],
             [
              0.7777777777777778,
              "#fb9f3a"
             ],
             [
              0.8888888888888888,
              "#fdca26"
             ],
             [
              1,
              "#f0f921"
             ]
            ],
            "type": "heatmapgl"
           }
          ],
          "histogram": [
           {
            "marker": {
             "colorbar": {
              "outlinewidth": 0,
              "ticks": ""
             }
            },
            "type": "histogram"
           }
          ],
          "histogram2d": [
           {
            "colorbar": {
             "outlinewidth": 0,
             "ticks": ""
            },
            "colorscale": [
             [
              0,
              "#0d0887"
             ],
             [
              0.1111111111111111,
              "#46039f"
             ],
             [
              0.2222222222222222,
              "#7201a8"
             ],
             [
              0.3333333333333333,
              "#9c179e"
             ],
             [
              0.4444444444444444,
              "#bd3786"
             ],
             [
              0.5555555555555556,
              "#d8576b"
             ],
             [
              0.6666666666666666,
              "#ed7953"
             ],
             [
              0.7777777777777778,
              "#fb9f3a"
             ],
             [
              0.8888888888888888,
              "#fdca26"
             ],
             [
              1,
              "#f0f921"
             ]
            ],
            "type": "histogram2d"
           }
          ],
          "histogram2dcontour": [
           {
            "colorbar": {
             "outlinewidth": 0,
             "ticks": ""
            },
            "colorscale": [
             [
              0,
              "#0d0887"
             ],
             [
              0.1111111111111111,
              "#46039f"
             ],
             [
              0.2222222222222222,
              "#7201a8"
             ],
             [
              0.3333333333333333,
              "#9c179e"
             ],
             [
              0.4444444444444444,
              "#bd3786"
             ],
             [
              0.5555555555555556,
              "#d8576b"
             ],
             [
              0.6666666666666666,
              "#ed7953"
             ],
             [
              0.7777777777777778,
              "#fb9f3a"
             ],
             [
              0.8888888888888888,
              "#fdca26"
             ],
             [
              1,
              "#f0f921"
             ]
            ],
            "type": "histogram2dcontour"
           }
          ],
          "mesh3d": [
           {
            "colorbar": {
             "outlinewidth": 0,
             "ticks": ""
            },
            "type": "mesh3d"
           }
          ],
          "parcoords": [
           {
            "line": {
             "colorbar": {
              "outlinewidth": 0,
              "ticks": ""
             }
            },
            "type": "parcoords"
           }
          ],
          "pie": [
           {
            "automargin": true,
            "type": "pie"
           }
          ],
          "scatter": [
           {
            "marker": {
             "colorbar": {
              "outlinewidth": 0,
              "ticks": ""
             }
            },
            "type": "scatter"
           }
          ],
          "scatter3d": [
           {
            "line": {
             "colorbar": {
              "outlinewidth": 0,
              "ticks": ""
             }
            },
            "marker": {
             "colorbar": {
              "outlinewidth": 0,
              "ticks": ""
             }
            },
            "type": "scatter3d"
           }
          ],
          "scattercarpet": [
           {
            "marker": {
             "colorbar": {
              "outlinewidth": 0,
              "ticks": ""
             }
            },
            "type": "scattercarpet"
           }
          ],
          "scattergeo": [
           {
            "marker": {
             "colorbar": {
              "outlinewidth": 0,
              "ticks": ""
             }
            },
            "type": "scattergeo"
           }
          ],
          "scattergl": [
           {
            "marker": {
             "colorbar": {
              "outlinewidth": 0,
              "ticks": ""
             }
            },
            "type": "scattergl"
           }
          ],
          "scattermapbox": [
           {
            "marker": {
             "colorbar": {
              "outlinewidth": 0,
              "ticks": ""
             }
            },
            "type": "scattermapbox"
           }
          ],
          "scatterpolar": [
           {
            "marker": {
             "colorbar": {
              "outlinewidth": 0,
              "ticks": ""
             }
            },
            "type": "scatterpolar"
           }
          ],
          "scatterpolargl": [
           {
            "marker": {
             "colorbar": {
              "outlinewidth": 0,
              "ticks": ""
             }
            },
            "type": "scatterpolargl"
           }
          ],
          "scatterternary": [
           {
            "marker": {
             "colorbar": {
              "outlinewidth": 0,
              "ticks": ""
             }
            },
            "type": "scatterternary"
           }
          ],
          "surface": [
           {
            "colorbar": {
             "outlinewidth": 0,
             "ticks": ""
            },
            "colorscale": [
             [
              0,
              "#0d0887"
             ],
             [
              0.1111111111111111,
              "#46039f"
             ],
             [
              0.2222222222222222,
              "#7201a8"
             ],
             [
              0.3333333333333333,
              "#9c179e"
             ],
             [
              0.4444444444444444,
              "#bd3786"
             ],
             [
              0.5555555555555556,
              "#d8576b"
             ],
             [
              0.6666666666666666,
              "#ed7953"
             ],
             [
              0.7777777777777778,
              "#fb9f3a"
             ],
             [
              0.8888888888888888,
              "#fdca26"
             ],
             [
              1,
              "#f0f921"
             ]
            ],
            "type": "surface"
           }
          ],
          "table": [
           {
            "cells": {
             "fill": {
              "color": "#EBF0F8"
             },
             "line": {
              "color": "white"
             }
            },
            "header": {
             "fill": {
              "color": "#C8D4E3"
             },
             "line": {
              "color": "white"
             }
            },
            "type": "table"
           }
          ]
         },
         "layout": {
          "annotationdefaults": {
           "arrowcolor": "#2a3f5f",
           "arrowhead": 0,
           "arrowwidth": 1
          },
          "autotypenumbers": "strict",
          "coloraxis": {
           "colorbar": {
            "outlinewidth": 0,
            "ticks": ""
           }
          },
          "colorscale": {
           "diverging": [
            [
             0,
             "#8e0152"
            ],
            [
             0.1,
             "#c51b7d"
            ],
            [
             0.2,
             "#de77ae"
            ],
            [
             0.3,
             "#f1b6da"
            ],
            [
             0.4,
             "#fde0ef"
            ],
            [
             0.5,
             "#f7f7f7"
            ],
            [
             0.6,
             "#e6f5d0"
            ],
            [
             0.7,
             "#b8e186"
            ],
            [
             0.8,
             "#7fbc41"
            ],
            [
             0.9,
             "#4d9221"
            ],
            [
             1,
             "#276419"
            ]
           ],
           "sequential": [
            [
             0,
             "#0d0887"
            ],
            [
             0.1111111111111111,
             "#46039f"
            ],
            [
             0.2222222222222222,
             "#7201a8"
            ],
            [
             0.3333333333333333,
             "#9c179e"
            ],
            [
             0.4444444444444444,
             "#bd3786"
            ],
            [
             0.5555555555555556,
             "#d8576b"
            ],
            [
             0.6666666666666666,
             "#ed7953"
            ],
            [
             0.7777777777777778,
             "#fb9f3a"
            ],
            [
             0.8888888888888888,
             "#fdca26"
            ],
            [
             1,
             "#f0f921"
            ]
           ],
           "sequentialminus": [
            [
             0,
             "#0d0887"
            ],
            [
             0.1111111111111111,
             "#46039f"
            ],
            [
             0.2222222222222222,
             "#7201a8"
            ],
            [
             0.3333333333333333,
             "#9c179e"
            ],
            [
             0.4444444444444444,
             "#bd3786"
            ],
            [
             0.5555555555555556,
             "#d8576b"
            ],
            [
             0.6666666666666666,
             "#ed7953"
            ],
            [
             0.7777777777777778,
             "#fb9f3a"
            ],
            [
             0.8888888888888888,
             "#fdca26"
            ],
            [
             1,
             "#f0f921"
            ]
           ]
          },
          "colorway": [
           "#636efa",
           "#EF553B",
           "#00cc96",
           "#ab63fa",
           "#FFA15A",
           "#19d3f3",
           "#FF6692",
           "#B6E880",
           "#FF97FF",
           "#FECB52"
          ],
          "font": {
           "color": "#2a3f5f"
          },
          "geo": {
           "bgcolor": "white",
           "lakecolor": "white",
           "landcolor": "#E5ECF6",
           "showlakes": true,
           "showland": true,
           "subunitcolor": "white"
          },
          "hoverlabel": {
           "align": "left"
          },
          "hovermode": "closest",
          "mapbox": {
           "style": "light"
          },
          "paper_bgcolor": "white",
          "plot_bgcolor": "#E5ECF6",
          "polar": {
           "angularaxis": {
            "gridcolor": "white",
            "linecolor": "white",
            "ticks": ""
           },
           "bgcolor": "#E5ECF6",
           "radialaxis": {
            "gridcolor": "white",
            "linecolor": "white",
            "ticks": ""
           }
          },
          "scene": {
           "xaxis": {
            "backgroundcolor": "#E5ECF6",
            "gridcolor": "white",
            "gridwidth": 2,
            "linecolor": "white",
            "showbackground": true,
            "ticks": "",
            "zerolinecolor": "white"
           },
           "yaxis": {
            "backgroundcolor": "#E5ECF6",
            "gridcolor": "white",
            "gridwidth": 2,
            "linecolor": "white",
            "showbackground": true,
            "ticks": "",
            "zerolinecolor": "white"
           },
           "zaxis": {
            "backgroundcolor": "#E5ECF6",
            "gridcolor": "white",
            "gridwidth": 2,
            "linecolor": "white",
            "showbackground": true,
            "ticks": "",
            "zerolinecolor": "white"
           }
          },
          "shapedefaults": {
           "line": {
            "color": "#2a3f5f"
           }
          },
          "ternary": {
           "aaxis": {
            "gridcolor": "white",
            "linecolor": "white",
            "ticks": ""
           },
           "baxis": {
            "gridcolor": "white",
            "linecolor": "white",
            "ticks": ""
           },
           "bgcolor": "#E5ECF6",
           "caxis": {
            "gridcolor": "white",
            "linecolor": "white",
            "ticks": ""
           }
          },
          "title": {
           "x": 0.05
          },
          "xaxis": {
           "automargin": true,
           "gridcolor": "white",
           "linecolor": "white",
           "ticks": "",
           "title": {
            "standoff": 15
           },
           "zerolinecolor": "white",
           "zerolinewidth": 2
          },
          "yaxis": {
           "automargin": true,
           "gridcolor": "white",
           "linecolor": "white",
           "ticks": "",
           "title": {
            "standoff": 15
           },
           "zerolinecolor": "white",
           "zerolinewidth": 2
          }
         }
        },
        "title": {
         "text": "LOADOUT: Peach + Pipe Frame + Wood + Bowser Kite"
        }
       }
      },
      "text/html": [
       "<div>                            <div id=\"b1893bd3-bcf4-457a-ba3c-a5cee99f53d1\" class=\"plotly-graph-div\" style=\"height:525px; width:100%;\"></div>            <script type=\"text/javascript\">                require([\"plotly\"], function(Plotly) {                    window.PLOTLYENV=window.PLOTLYENV || {};                                    if (document.getElementById(\"b1893bd3-bcf4-457a-ba3c-a5cee99f53d1\")) {                    Plotly.newPlot(                        \"b1893bd3-bcf4-457a-ba3c-a5cee99f53d1\",                        [{\"name\": \"Character\", \"type\": \"bar\", \"x\": [\"Weight\", \"Acceleration\", \"On-Road Traction\", \"Off-Road Traction\", \"Mini-Turbo\", \"Ground Speed\", \"Water Speed\", \"Anti-Gravity Speed\", \"Air Speed\", \"Ground Handling\", \"Water Handling\", \"Anti-Gravity Handling\", \"Air Handling\", \"Invincibility\"], \"y\": [4, 3, 3, 3, 4, 6, 6, 6, 6, 5, 5, 5, 5, 1]}, {\"name\": \"Vehicle\", \"type\": \"bar\", \"x\": [\"Weight\", \"Acceleration\", \"On-Road Traction\", \"Off-Road Traction\", \"Mini-Turbo\", \"Ground Speed\", \"Water Speed\", \"Anti-Gravity Speed\", \"Air Speed\", \"Ground Handling\", \"Water Handling\", \"Anti-Gravity Handling\", \"Air Handling\", \"Invincibility\"], \"y\": [1, 6, 3, 4, 6, 2, 3, 1, 1, 5, 4, 4, 2, 3]}, {\"name\": \"Wheels\", \"type\": \"bar\", \"x\": [\"Weight\", \"Acceleration\", \"On-Road Traction\", \"Off-Road Traction\", \"Mini-Turbo\", \"Ground Speed\", \"Water Speed\", \"Anti-Gravity Speed\", \"Air Speed\", \"Ground Handling\", \"Water Handling\", \"Anti-Gravity Handling\", \"Air Handling\", \"Invincibility\"], \"y\": [2, 2, 4, 1, 3, 3, 2, 4, 2, 4, 4, 3, 4, 5]}, {\"name\": \"Glider\", \"type\": \"bar\", \"x\": [\"Weight\", \"Acceleration\", \"On-Road Traction\", \"Off-Road Traction\", \"Mini-Turbo\", \"Ground Speed\", \"Water Speed\", \"Anti-Gravity Speed\", \"Air Speed\", \"Ground Handling\", \"Water Handling\", \"Anti-Gravity Handling\", \"Air Handling\", \"Invincibility\"], \"y\": [1, 2, 2, 0, 2, 0, 0, 1, 1, 1, 1, 0, 2, 0]}],                        {\"barmode\": \"stack\", \"template\": {\"data\": {\"bar\": [{\"error_x\": {\"color\": \"#2a3f5f\"}, \"error_y\": {\"color\": \"#2a3f5f\"}, \"marker\": {\"line\": {\"color\": \"#E5ECF6\", \"width\": 0.5}}, \"type\": \"bar\"}], \"barpolar\": [{\"marker\": {\"line\": {\"color\": \"#E5ECF6\", \"width\": 0.5}}, \"type\": \"barpolar\"}], \"carpet\": [{\"aaxis\": {\"endlinecolor\": \"#2a3f5f\", \"gridcolor\": \"white\", \"linecolor\": \"white\", \"minorgridcolor\": \"white\", \"startlinecolor\": \"#2a3f5f\"}, \"baxis\": {\"endlinecolor\": \"#2a3f5f\", \"gridcolor\": \"white\", \"linecolor\": \"white\", \"minorgridcolor\": \"white\", \"startlinecolor\": \"#2a3f5f\"}, \"type\": \"carpet\"}], \"choropleth\": [{\"colorbar\": {\"outlinewidth\": 0, \"ticks\": \"\"}, \"type\": \"choropleth\"}], \"contour\": [{\"colorbar\": {\"outlinewidth\": 0, \"ticks\": \"\"}, \"colorscale\": [[0.0, \"#0d0887\"], [0.1111111111111111, \"#46039f\"], [0.2222222222222222, \"#7201a8\"], [0.3333333333333333, \"#9c179e\"], [0.4444444444444444, \"#bd3786\"], [0.5555555555555556, \"#d8576b\"], [0.6666666666666666, \"#ed7953\"], [0.7777777777777778, \"#fb9f3a\"], [0.8888888888888888, \"#fdca26\"], [1.0, \"#f0f921\"]], \"type\": \"contour\"}], \"contourcarpet\": [{\"colorbar\": {\"outlinewidth\": 0, \"ticks\": \"\"}, \"type\": \"contourcarpet\"}], \"heatmap\": [{\"colorbar\": {\"outlinewidth\": 0, \"ticks\": \"\"}, \"colorscale\": [[0.0, \"#0d0887\"], [0.1111111111111111, \"#46039f\"], [0.2222222222222222, \"#7201a8\"], [0.3333333333333333, \"#9c179e\"], [0.4444444444444444, \"#bd3786\"], [0.5555555555555556, \"#d8576b\"], [0.6666666666666666, \"#ed7953\"], [0.7777777777777778, \"#fb9f3a\"], [0.8888888888888888, \"#fdca26\"], [1.0, \"#f0f921\"]], \"type\": \"heatmap\"}], \"heatmapgl\": [{\"colorbar\": {\"outlinewidth\": 0, \"ticks\": \"\"}, \"colorscale\": [[0.0, \"#0d0887\"], [0.1111111111111111, \"#46039f\"], [0.2222222222222222, \"#7201a8\"], [0.3333333333333333, \"#9c179e\"], [0.4444444444444444, \"#bd3786\"], [0.5555555555555556, \"#d8576b\"], [0.6666666666666666, \"#ed7953\"], [0.7777777777777778, \"#fb9f3a\"], [0.8888888888888888, \"#fdca26\"], [1.0, \"#f0f921\"]], \"type\": \"heatmapgl\"}], \"histogram\": [{\"marker\": {\"colorbar\": {\"outlinewidth\": 0, \"ticks\": \"\"}}, \"type\": \"histogram\"}], \"histogram2d\": [{\"colorbar\": {\"outlinewidth\": 0, \"ticks\": \"\"}, \"colorscale\": [[0.0, \"#0d0887\"], [0.1111111111111111, \"#46039f\"], [0.2222222222222222, \"#7201a8\"], [0.3333333333333333, \"#9c179e\"], [0.4444444444444444, \"#bd3786\"], [0.5555555555555556, \"#d8576b\"], [0.6666666666666666, \"#ed7953\"], [0.7777777777777778, \"#fb9f3a\"], [0.8888888888888888, \"#fdca26\"], [1.0, \"#f0f921\"]], \"type\": \"histogram2d\"}], \"histogram2dcontour\": [{\"colorbar\": {\"outlinewidth\": 0, \"ticks\": \"\"}, \"colorscale\": [[0.0, \"#0d0887\"], [0.1111111111111111, \"#46039f\"], [0.2222222222222222, \"#7201a8\"], [0.3333333333333333, \"#9c179e\"], [0.4444444444444444, \"#bd3786\"], [0.5555555555555556, \"#d8576b\"], [0.6666666666666666, \"#ed7953\"], [0.7777777777777778, \"#fb9f3a\"], [0.8888888888888888, \"#fdca26\"], [1.0, \"#f0f921\"]], \"type\": \"histogram2dcontour\"}], \"mesh3d\": [{\"colorbar\": {\"outlinewidth\": 0, \"ticks\": \"\"}, \"type\": \"mesh3d\"}], \"parcoords\": [{\"line\": {\"colorbar\": {\"outlinewidth\": 0, \"ticks\": \"\"}}, \"type\": \"parcoords\"}], \"pie\": [{\"automargin\": true, \"type\": \"pie\"}], \"scatter\": [{\"marker\": {\"colorbar\": {\"outlinewidth\": 0, \"ticks\": \"\"}}, \"type\": \"scatter\"}], \"scatter3d\": [{\"line\": {\"colorbar\": {\"outlinewidth\": 0, \"ticks\": \"\"}}, \"marker\": {\"colorbar\": {\"outlinewidth\": 0, \"ticks\": \"\"}}, \"type\": \"scatter3d\"}], \"scattercarpet\": [{\"marker\": {\"colorbar\": {\"outlinewidth\": 0, \"ticks\": \"\"}}, \"type\": \"scattercarpet\"}], \"scattergeo\": [{\"marker\": {\"colorbar\": {\"outlinewidth\": 0, \"ticks\": \"\"}}, \"type\": \"scattergeo\"}], \"scattergl\": [{\"marker\": {\"colorbar\": {\"outlinewidth\": 0, \"ticks\": \"\"}}, \"type\": \"scattergl\"}], \"scattermapbox\": [{\"marker\": {\"colorbar\": {\"outlinewidth\": 0, \"ticks\": \"\"}}, \"type\": \"scattermapbox\"}], \"scatterpolar\": [{\"marker\": {\"colorbar\": {\"outlinewidth\": 0, \"ticks\": \"\"}}, \"type\": \"scatterpolar\"}], \"scatterpolargl\": [{\"marker\": {\"colorbar\": {\"outlinewidth\": 0, \"ticks\": \"\"}}, \"type\": \"scatterpolargl\"}], \"scatterternary\": [{\"marker\": {\"colorbar\": {\"outlinewidth\": 0, \"ticks\": \"\"}}, \"type\": \"scatterternary\"}], \"surface\": [{\"colorbar\": {\"outlinewidth\": 0, \"ticks\": \"\"}, \"colorscale\": [[0.0, \"#0d0887\"], [0.1111111111111111, \"#46039f\"], [0.2222222222222222, \"#7201a8\"], [0.3333333333333333, \"#9c179e\"], [0.4444444444444444, \"#bd3786\"], [0.5555555555555556, \"#d8576b\"], [0.6666666666666666, \"#ed7953\"], [0.7777777777777778, \"#fb9f3a\"], [0.8888888888888888, \"#fdca26\"], [1.0, \"#f0f921\"]], \"type\": \"surface\"}], \"table\": [{\"cells\": {\"fill\": {\"color\": \"#EBF0F8\"}, \"line\": {\"color\": \"white\"}}, \"header\": {\"fill\": {\"color\": \"#C8D4E3\"}, \"line\": {\"color\": \"white\"}}, \"type\": \"table\"}]}, \"layout\": {\"annotationdefaults\": {\"arrowcolor\": \"#2a3f5f\", \"arrowhead\": 0, \"arrowwidth\": 1}, \"autotypenumbers\": \"strict\", \"coloraxis\": {\"colorbar\": {\"outlinewidth\": 0, \"ticks\": \"\"}}, \"colorscale\": {\"diverging\": [[0, \"#8e0152\"], [0.1, \"#c51b7d\"], [0.2, \"#de77ae\"], [0.3, \"#f1b6da\"], [0.4, \"#fde0ef\"], [0.5, \"#f7f7f7\"], [0.6, \"#e6f5d0\"], [0.7, \"#b8e186\"], [0.8, \"#7fbc41\"], [0.9, \"#4d9221\"], [1, \"#276419\"]], \"sequential\": [[0.0, \"#0d0887\"], [0.1111111111111111, \"#46039f\"], [0.2222222222222222, \"#7201a8\"], [0.3333333333333333, \"#9c179e\"], [0.4444444444444444, \"#bd3786\"], [0.5555555555555556, \"#d8576b\"], [0.6666666666666666, \"#ed7953\"], [0.7777777777777778, \"#fb9f3a\"], [0.8888888888888888, \"#fdca26\"], [1.0, \"#f0f921\"]], \"sequentialminus\": [[0.0, \"#0d0887\"], [0.1111111111111111, \"#46039f\"], [0.2222222222222222, \"#7201a8\"], [0.3333333333333333, \"#9c179e\"], [0.4444444444444444, \"#bd3786\"], [0.5555555555555556, \"#d8576b\"], [0.6666666666666666, \"#ed7953\"], [0.7777777777777778, \"#fb9f3a\"], [0.8888888888888888, \"#fdca26\"], [1.0, \"#f0f921\"]]}, \"colorway\": [\"#636efa\", \"#EF553B\", \"#00cc96\", \"#ab63fa\", \"#FFA15A\", \"#19d3f3\", \"#FF6692\", \"#B6E880\", \"#FF97FF\", \"#FECB52\"], \"font\": {\"color\": \"#2a3f5f\"}, \"geo\": {\"bgcolor\": \"white\", \"lakecolor\": \"white\", \"landcolor\": \"#E5ECF6\", \"showlakes\": true, \"showland\": true, \"subunitcolor\": \"white\"}, \"hoverlabel\": {\"align\": \"left\"}, \"hovermode\": \"closest\", \"mapbox\": {\"style\": \"light\"}, \"paper_bgcolor\": \"white\", \"plot_bgcolor\": \"#E5ECF6\", \"polar\": {\"angularaxis\": {\"gridcolor\": \"white\", \"linecolor\": \"white\", \"ticks\": \"\"}, \"bgcolor\": \"#E5ECF6\", \"radialaxis\": {\"gridcolor\": \"white\", \"linecolor\": \"white\", \"ticks\": \"\"}}, \"scene\": {\"xaxis\": {\"backgroundcolor\": \"#E5ECF6\", \"gridcolor\": \"white\", \"gridwidth\": 2, \"linecolor\": \"white\", \"showbackground\": true, \"ticks\": \"\", \"zerolinecolor\": \"white\"}, \"yaxis\": {\"backgroundcolor\": \"#E5ECF6\", \"gridcolor\": \"white\", \"gridwidth\": 2, \"linecolor\": \"white\", \"showbackground\": true, \"ticks\": \"\", \"zerolinecolor\": \"white\"}, \"zaxis\": {\"backgroundcolor\": \"#E5ECF6\", \"gridcolor\": \"white\", \"gridwidth\": 2, \"linecolor\": \"white\", \"showbackground\": true, \"ticks\": \"\", \"zerolinecolor\": \"white\"}}, \"shapedefaults\": {\"line\": {\"color\": \"#2a3f5f\"}}, \"ternary\": {\"aaxis\": {\"gridcolor\": \"white\", \"linecolor\": \"white\", \"ticks\": \"\"}, \"baxis\": {\"gridcolor\": \"white\", \"linecolor\": \"white\", \"ticks\": \"\"}, \"bgcolor\": \"#E5ECF6\", \"caxis\": {\"gridcolor\": \"white\", \"linecolor\": \"white\", \"ticks\": \"\"}}, \"title\": {\"x\": 0.05}, \"xaxis\": {\"automargin\": true, \"gridcolor\": \"white\", \"linecolor\": \"white\", \"ticks\": \"\", \"title\": {\"standoff\": 15}, \"zerolinecolor\": \"white\", \"zerolinewidth\": 2}, \"yaxis\": {\"automargin\": true, \"gridcolor\": \"white\", \"linecolor\": \"white\", \"ticks\": \"\", \"title\": {\"standoff\": 15}, \"zerolinecolor\": \"white\", \"zerolinewidth\": 2}}}, \"title\": {\"text\": \"LOADOUT: Peach + Pipe Frame + Wood + Bowser Kite\"}},                        {\"responsive\": true}                    ).then(function(){\n",
       "                            \n",
       "var gd = document.getElementById('b1893bd3-bcf4-457a-ba3c-a5cee99f53d1');\n",
       "var x = new MutationObserver(function (mutations, observer) {{\n",
       "        var display = window.getComputedStyle(gd).display;\n",
       "        if (!display || display === 'none') {{\n",
       "            console.log([gd, 'removed!']);\n",
       "            Plotly.purge(gd);\n",
       "            observer.disconnect();\n",
       "        }}\n",
       "}});\n",
       "\n",
       "// Listen for the removal of the full notebook cells\n",
       "var notebookContainer = gd.closest('#notebook-container');\n",
       "if (notebookContainer) {{\n",
       "    x.observe(notebookContainer, {childList: true});\n",
       "}}\n",
       "\n",
       "// Listen for the clearing of the current output cell\n",
       "var outputEl = gd.closest('.output');\n",
       "if (outputEl) {{\n",
       "    x.observe(outputEl, {childList: true});\n",
       "}}\n",
       "\n",
       "                        })                };                });            </script>        </div>"
      ]
     },
     "metadata": {},
     "output_type": "display_data"
    }
   ],
   "source": [
    "def calculateLoadout(character, vehicle, wheel, glider):\n",
    "    character = character_stats.loc[character].drop(\"Weight Class\")\n",
    "    vehicle = vehicle_stats.loc[vehicle]\n",
    "    wheels = wheel_stats.loc[wheel]\n",
    "    glider = glider_stats.loc[glider]\n",
    "    fig = go.Figure()\n",
    "    fig.add_trace(go.Bar(x=character.keys(), y=character.values, name=\"Character\"))\n",
    "    fig.add_trace(go.Bar(x=vehicle.keys(), y=vehicle.values, name=\"Vehicle\"))\n",
    "    fig.add_trace(go.Bar(x=wheels.keys(), y=wheels.values, name=\"Wheels\"))\n",
    "    fig.add_trace(go.Bar(x=glider.keys(), y=glider.values, name=\"Glider\"))\n",
    "    fig.update_layout(title=\"LOADOUT: {0} + {1} + {2} + {3}\".format(character.name, vehicle.name, wheels.name, glider.name), barmode='stack')\n",
    "    fig.show()\n",
    "\n",
    "calculateLoadout(\"Peach\", \"Pipe Frame\", \"Wood\", \"Bowser Kite\")"
   ]
  },
  {
   "cell_type": "code",
   "execution_count": 25,
   "metadata": {},
   "outputs": [
    {
     "ename": "NameError",
     "evalue": "name 'character' is not defined",
     "output_type": "error",
     "traceback": [
      "\u001b[0;31m---------------------------------------------------------------------------\u001b[0m",
      "\u001b[0;31mNameError\u001b[0m                                 Traceback (most recent call last)",
      "\u001b[0;32m<ipython-input-25-2baef4e77e70>\u001b[0m in \u001b[0;36m<module>\u001b[0;34m\u001b[0m\n\u001b[1;32m      2\u001b[0m \u001b[0mkeys\u001b[0m \u001b[0;34m=\u001b[0m \u001b[0;34m[\u001b[0m\u001b[0;34m\"Ground Speed\"\u001b[0m\u001b[0;34m,\u001b[0m \u001b[0;34m\"Acceleration\"\u001b[0m\u001b[0;34m,\u001b[0m \u001b[0;34m\"Weight\"\u001b[0m\u001b[0;34m,\u001b[0m \u001b[0;34m\"Ground Handling\"\u001b[0m\u001b[0;34m,\u001b[0m \u001b[0;34m\"On-Road Traction\"\u001b[0m\u001b[0;34m]\u001b[0m\u001b[0;34m\u001b[0m\u001b[0;34m\u001b[0m\u001b[0m\n\u001b[1;32m      3\u001b[0m \u001b[0mfig\u001b[0m \u001b[0;34m=\u001b[0m \u001b[0mgo\u001b[0m\u001b[0;34m.\u001b[0m\u001b[0mFigure\u001b[0m\u001b[0;34m(\u001b[0m\u001b[0;34m)\u001b[0m\u001b[0;34m\u001b[0m\u001b[0;34m\u001b[0m\u001b[0m\n\u001b[0;32m----> 4\u001b[0;31m \u001b[0mfig\u001b[0m\u001b[0;34m.\u001b[0m\u001b[0madd_trace\u001b[0m\u001b[0;34m(\u001b[0m\u001b[0mgo\u001b[0m\u001b[0;34m.\u001b[0m\u001b[0mBar\u001b[0m\u001b[0;34m(\u001b[0m\u001b[0mx\u001b[0m\u001b[0;34m=\u001b[0m\u001b[0mkeys\u001b[0m\u001b[0;34m,\u001b[0m \u001b[0my\u001b[0m\u001b[0;34m=\u001b[0m\u001b[0mcharacter\u001b[0m\u001b[0;34m.\u001b[0m\u001b[0mvalues\u001b[0m\u001b[0;34m,\u001b[0m \u001b[0mname\u001b[0m\u001b[0;34m=\u001b[0m\u001b[0;34m\"Character\"\u001b[0m\u001b[0;34m)\u001b[0m\u001b[0;34m)\u001b[0m\u001b[0;34m\u001b[0m\u001b[0;34m\u001b[0m\u001b[0m\n\u001b[0m\u001b[1;32m      5\u001b[0m \u001b[0mfig\u001b[0m\u001b[0;34m.\u001b[0m\u001b[0madd_trace\u001b[0m\u001b[0;34m(\u001b[0m\u001b[0mgo\u001b[0m\u001b[0;34m.\u001b[0m\u001b[0mBar\u001b[0m\u001b[0;34m(\u001b[0m\u001b[0mx\u001b[0m\u001b[0;34m=\u001b[0m\u001b[0mkeys\u001b[0m\u001b[0;34m,\u001b[0m \u001b[0my\u001b[0m\u001b[0;34m=\u001b[0m\u001b[0mvehicle\u001b[0m\u001b[0;34m.\u001b[0m\u001b[0mvalues\u001b[0m\u001b[0;34m,\u001b[0m \u001b[0mname\u001b[0m\u001b[0;34m=\u001b[0m\u001b[0;34m\"Vehicle\"\u001b[0m\u001b[0;34m)\u001b[0m\u001b[0;34m)\u001b[0m\u001b[0;34m\u001b[0m\u001b[0;34m\u001b[0m\u001b[0m\n\u001b[1;32m      6\u001b[0m \u001b[0mfig\u001b[0m\u001b[0;34m.\u001b[0m\u001b[0madd_trace\u001b[0m\u001b[0;34m(\u001b[0m\u001b[0mgo\u001b[0m\u001b[0;34m.\u001b[0m\u001b[0mBar\u001b[0m\u001b[0;34m(\u001b[0m\u001b[0mx\u001b[0m\u001b[0;34m=\u001b[0m\u001b[0mkeys\u001b[0m\u001b[0;34m,\u001b[0m \u001b[0my\u001b[0m\u001b[0;34m=\u001b[0m\u001b[0mwheels\u001b[0m\u001b[0;34m.\u001b[0m\u001b[0mvalues\u001b[0m\u001b[0;34m,\u001b[0m \u001b[0mname\u001b[0m\u001b[0;34m=\u001b[0m\u001b[0;34m\"Wheels\"\u001b[0m\u001b[0;34m)\u001b[0m\u001b[0;34m)\u001b[0m\u001b[0;34m\u001b[0m\u001b[0;34m\u001b[0m\u001b[0m\n",
      "\u001b[0;31mNameError\u001b[0m: name 'character' is not defined"
     ]
    }
   ],
   "source": [
    "# LOADOUT DISPLAY\n",
    "keys = [\"Ground Speed\", \"Acceleration\", \"Weight\", \"Ground Handling\", \"On-Road Traction\"]\n",
    "fig = go.Figure()\n",
    "fig.add_trace(go.Bar(x=keys, y=character.values, name=\"Character\"))\n",
    "fig.add_trace(go.Bar(x=keys, y=vehicle.values, name=\"Vehicle\"))\n",
    "fig.add_trace(go.Bar(x=keys, y=wheels.values, name=\"Wheels\"))\n",
    "fig.add_trace(go.Bar(x=keys, y=glider.values, name=\"Glider\"))\n",
    "fig.update_layout(title=\"LOADOUT: {0} + {1} + {2} + {3}\".format(character.name, vehicle.name, wheels.name, glider.name), barmode='stack')\n",
    "fig.show()"
   ]
  },
  {
   "cell_type": "markdown",
   "metadata": {},
   "source": [
    "# Statistical Analysis #"
   ]
  },
  {
   "cell_type": "code",
   "execution_count": 12,
   "metadata": {},
   "outputs": [],
   "source": [
    "from scipy import stats"
   ]
  },
  {
   "cell_type": "code",
   "execution_count": 13,
   "metadata": {},
   "outputs": [
    {
     "name": "stdout",
     "output_type": "stream",
     "text": [
      "0.26007299406370843 0.7949182961179944\n"
     ]
    }
   ],
   "source": [
    "#Controller Color Statistical Difference (ALL PLAYERS)\n",
    "red_controller = df[df[\"Controller Color\"] == \"Red\"][\"Place\"]\n",
    "blue_controller = df[df[\"Controller Color\"] == \"Blue\"][\"Place\"]\n",
    "t_stat, p_value = stats.ttest_ind(red_controller, blue_controller)\n",
    "print(t_stat,p_value)"
   ]
  },
  {
   "cell_type": "code",
   "execution_count": 14,
   "metadata": {},
   "outputs": [
    {
     "name": "stdout",
     "output_type": "stream",
     "text": [
      "1.6018112051161113 0.11138878924488489\n"
     ]
    }
   ],
   "source": [
    "#Controller Color Statistical Difference (Nick)\n",
    "df_nick = df[df[\"Racer\"] == \"Nick\"]\n",
    "red_controller = df_nick[df_nick[\"Controller Color\"] == \"Red\"][\"Place\"]\n",
    "blue_controller = df_nick[df_nick[\"Controller Color\"] == \"Blue\"][\"Place\"]\n",
    "t_stat, p_value = stats.ttest_ind(red_controller, blue_controller)\n",
    "print(t_stat,p_value)"
   ]
  },
  {
   "cell_type": "code",
   "execution_count": 15,
   "metadata": {},
   "outputs": [
    {
     "ename": "NameError",
     "evalue": "name 'character' is not defined",
     "output_type": "error",
     "traceback": [
      "\u001b[0;31m---------------------------------------------------------------------------\u001b[0m",
      "\u001b[0;31mNameError\u001b[0m                                 Traceback (most recent call last)",
      "\u001b[0;32m<ipython-input-15-dcca0c9098b7>\u001b[0m in \u001b[0;36m<module>\u001b[0;34m\u001b[0m\n\u001b[1;32m      1\u001b[0m \u001b[0mfig\u001b[0m \u001b[0;34m=\u001b[0m \u001b[0mgo\u001b[0m\u001b[0;34m.\u001b[0m\u001b[0mFigure\u001b[0m\u001b[0;34m(\u001b[0m\u001b[0;34m)\u001b[0m\u001b[0;34m\u001b[0m\u001b[0;34m\u001b[0m\u001b[0m\n\u001b[0;32m----> 2\u001b[0;31m \u001b[0mfig\u001b[0m\u001b[0;34m.\u001b[0m\u001b[0madd_trace\u001b[0m\u001b[0;34m(\u001b[0m\u001b[0mgo\u001b[0m\u001b[0;34m.\u001b[0m\u001b[0mBar\u001b[0m\u001b[0;34m(\u001b[0m\u001b[0mx\u001b[0m\u001b[0;34m=\u001b[0m\u001b[0mdf\u001b[0m\u001b[0;34m[\u001b[0m\u001b[0;34m\"Racer\"\u001b[0m\u001b[0;34m]\u001b[0m\u001b[0;34m.\u001b[0m\u001b[0munique\u001b[0m\u001b[0;34m,\u001b[0m \u001b[0my\u001b[0m\u001b[0;34m=\u001b[0m\u001b[0mcharacter\u001b[0m\u001b[0;34m.\u001b[0m\u001b[0mvalues\u001b[0m\u001b[0;34m,\u001b[0m \u001b[0mname\u001b[0m\u001b[0;34m=\u001b[0m\u001b[0;34m\"Character\"\u001b[0m\u001b[0;34m)\u001b[0m\u001b[0;34m)\u001b[0m\u001b[0;34m\u001b[0m\u001b[0;34m\u001b[0m\u001b[0m\n\u001b[0m\u001b[1;32m      3\u001b[0m \u001b[0mfig\u001b[0m\u001b[0;34m.\u001b[0m\u001b[0madd_trace\u001b[0m\u001b[0;34m(\u001b[0m\u001b[0mgo\u001b[0m\u001b[0;34m.\u001b[0m\u001b[0mBar\u001b[0m\u001b[0;34m(\u001b[0m\u001b[0mx\u001b[0m\u001b[0;34m=\u001b[0m\u001b[0mvehicle\u001b[0m\u001b[0;34m.\u001b[0m\u001b[0mkeys\u001b[0m\u001b[0;34m(\u001b[0m\u001b[0;34m)\u001b[0m\u001b[0;34m,\u001b[0m \u001b[0my\u001b[0m\u001b[0;34m=\u001b[0m\u001b[0mvehicle\u001b[0m\u001b[0;34m.\u001b[0m\u001b[0mvalues\u001b[0m\u001b[0;34m,\u001b[0m \u001b[0mname\u001b[0m\u001b[0;34m=\u001b[0m\u001b[0;34m\"Vehicle\"\u001b[0m\u001b[0;34m)\u001b[0m\u001b[0;34m)\u001b[0m\u001b[0;34m\u001b[0m\u001b[0;34m\u001b[0m\u001b[0m\n\u001b[1;32m      4\u001b[0m \u001b[0mfig\u001b[0m\u001b[0;34m.\u001b[0m\u001b[0mupdate_layout\u001b[0m\u001b[0;34m(\u001b[0m\u001b[0mtitle\u001b[0m\u001b[0;34m=\u001b[0m\u001b[0;34m\"LOADOUT: {0} + {1} + {2} + {3}\"\u001b[0m\u001b[0;34m.\u001b[0m\u001b[0mformat\u001b[0m\u001b[0;34m(\u001b[0m\u001b[0mcharacter\u001b[0m\u001b[0;34m.\u001b[0m\u001b[0mname\u001b[0m\u001b[0;34m,\u001b[0m \u001b[0mvehicle\u001b[0m\u001b[0;34m.\u001b[0m\u001b[0mname\u001b[0m\u001b[0;34m,\u001b[0m \u001b[0mwheels\u001b[0m\u001b[0;34m.\u001b[0m\u001b[0mname\u001b[0m\u001b[0;34m,\u001b[0m \u001b[0mglider\u001b[0m\u001b[0;34m.\u001b[0m\u001b[0mname\u001b[0m\u001b[0;34m)\u001b[0m\u001b[0;34m,\u001b[0m \u001b[0mbarmode\u001b[0m\u001b[0;34m=\u001b[0m\u001b[0;34m'stack'\u001b[0m\u001b[0;34m)\u001b[0m\u001b[0;34m\u001b[0m\u001b[0;34m\u001b[0m\u001b[0m\n\u001b[1;32m      5\u001b[0m \u001b[0mfig\u001b[0m\u001b[0;34m.\u001b[0m\u001b[0mshow\u001b[0m\u001b[0;34m(\u001b[0m\u001b[0;34m)\u001b[0m\u001b[0;34m\u001b[0m\u001b[0;34m\u001b[0m\u001b[0m\n",
      "\u001b[0;31mNameError\u001b[0m: name 'character' is not defined"
     ]
    }
   ],
   "source": [
    "fig = go.Figure()\n",
    "fig.add_trace(go.Bar(x=df[\"Racer\"].unique, y=character.values, name=\"Character\"))\n",
    "fig.add_trace(go.Bar(x=vehicle.keys(), y=vehicle.values, name=\"Vehicle\"))\n",
    "fig.update_layout(title=\"LOADOUT: {0} + {1} + {2} + {3}\".format(character.name, vehicle.name, wheels.name, glider.name), barmode='stack')\n",
    "fig.show()"
   ]
  },
  {
   "cell_type": "code",
   "execution_count": null,
   "metadata": {},
   "outputs": [],
   "source": []
  }
 ],
 "metadata": {
  "kernelspec": {
   "display_name": "Python 3",
   "language": "python",
   "name": "python3"
  },
  "language_info": {
   "codemirror_mode": {
    "name": "ipython",
    "version": 3
   },
   "file_extension": ".py",
   "mimetype": "text/x-python",
   "name": "python",
   "nbconvert_exporter": "python",
   "pygments_lexer": "ipython3",
   "version": "3.8.5"
  }
 },
 "nbformat": 4,
 "nbformat_minor": 4
}
