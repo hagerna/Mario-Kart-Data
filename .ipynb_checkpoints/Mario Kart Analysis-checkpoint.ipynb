{
 "cells": [
  {
   "cell_type": "code",
   "execution_count": 5,
   "metadata": {},
   "outputs": [],
   "source": [
    "import random\n",
    "import pandas as pd\n",
    "import matplotlib.pyplot as plt"
   ]
  },
  {
   "cell_type": "code",
   "execution_count": 2,
   "metadata": {},
   "outputs": [],
   "source": [
    "# All Characters, Vehicles, Wheels, and Gliders to allow for random loadout generation\n",
    "\n",
    "characters = [\"Mario\", \"Luigi\", \"Peach\", \"Daisy\", \"Rosalina\", \"Tanooki Mario\", \"Yoshi\", \"Toad\", \"Koopa Troopa\", \n",
    "            \"Shy Guy\", \"Lakitu\", \"Toadette\", \"King Boo\", \"Baby Mario\", \"Baby Luigi\", \"Baby Peach\", \"Baby Daisy\",\n",
    "            \"Baby Rosalina\", \"Metal Mario\", \"Metal Daisy\", \"Wario\", \"Waluigi\", \"Donkey Kong\", \"Bowser\", \"Dry Bones\", \n",
    "            \"Bowser Jr.\", \"Lemmy\", \"Larry\", \"Wendy\", \"Ludwig\", \"Iggy\", \"Roy\", \"Morton\", \"Inkling Girl\", \"Inkling Boy\", \n",
    "            \"Link\", \"Villager (Boy)\", \"Villager (Girl)\", \"Isabelle\"]\n",
    "vehicles = [\"Standard Kart\", \"Pipe Frame\", \"Mach 8\", \"Steel Driver\", \"Cat Cruiser\", \"Circuit Special\", \"Tri-Speeder\",\n",
    "           \"Badwagon\", \"Prancer\", \"Biddybuggy\", \"Landship\", \"Sneeker\", \"Sports Coupe\", \"GLA\", \"W 25 Silver Arrow\", \"300 SL Roadster\",\n",
    "            \"Blue Falcon\", \"Tanooki Cart\", \"B Dasher\", \"Streetle\", \"P-Wing\", \"Koopa Clown\", \"Standard Bike\", \"Comet\", \"The Duke\", \n",
    "            \"Varmint\", \"Mr. Scooty\", \"Jet Bike\", \"Yoshi Bike\", \"Master Cycle\", \"Master Cycle Zero\", \"City Tripper\", \"Standard ATV\", \n",
    "            \"Teddy Buggy\", \"Bone Rattler\", \"Splat Buggy\"]\n",
    "wheels = [\"Standard\", \"Monster\", \"Roller\", \"Slim\", \"Slick\", \"Metal\", \"Button\", \"Off-Road\", \"Sponge\", \"Wood\", \"Cushion\",\n",
    "            \"Blue Standard\", \"Hot Monster\", \"Azure Roller\", \"Crimson Slim\", \"Cyber Slick\", \"Retro Off-Road\", \"GLA Tires\",\n",
    "            \"Triforce Tires\", \"Ancient Tires\"]\n",
    "gliders = [\"Super Glider\", \"Cloud Glider\", \"Wario Wing\", \"Waddle Wing\", \"Peach Parasol\", \"Parachute\", \"Parafoil\",\n",
    "            \"Flower Glider\", \"Bowser Kite\", \"Plane Glider\", \"MKTV Parafoil\", \"Hylian Kite\", \"Paraglider\", \"Paper Glider\"]"
   ]
  },
  {
   "cell_type": "code",
   "execution_count": 3,
   "metadata": {},
   "outputs": [],
   "source": [
    "def randomLoadout(players):\n",
    "    for i in range(0,players):\n",
    "        setup = [random.choice(characters), random.choice(vehicles), random.choice(wheels), random.choice(gliders)]\n",
    "        print(setup)"
   ]
  },
  {
   "cell_type": "code",
   "execution_count": 8,
   "metadata": {},
   "outputs": [
    {
     "name": "stdout",
     "output_type": "stream",
     "text": [
      "['Toad', 'Sneeker', 'Slick', 'Wario Wing']\n",
      "['Villager (Girl)', 'Splat Buggy', 'Ancient Tires', 'Parachute']\n",
      "['Dry Bones', 'GLA', 'Slim', 'MKTV Parafoil']\n"
     ]
    }
   ],
   "source": [
    "# RANDOMLY GENERATE X NUMBER OF LOADOUTS\n",
    "randomLoadout(3)"
   ]
  },
  {
   "cell_type": "code",
   "execution_count": 4,
   "metadata": {},
   "outputs": [],
   "source": [
    "# LOAD DATA FROM GOOGLE SHEETS\n",
    "sheet_id = \"1_wTvmPVDOWBvTV3idi_Fl-mZ8AtT-xffsqA1OhtnLe4\"\n",
    "df = pd.read_csv(f\"https://docs.google.com/spreadsheets/d/{sheet_id}/export?format=csv\")"
   ]
  },
  {
   "cell_type": "code",
   "execution_count": null,
   "metadata": {},
   "outputs": [],
   "source": []
  }
 ],
 "metadata": {
  "kernelspec": {
   "display_name": "Python 3",
   "language": "python",
   "name": "python3"
  },
  "language_info": {
   "codemirror_mode": {
    "name": "ipython",
    "version": 3
   },
   "file_extension": ".py",
   "mimetype": "text/x-python",
   "name": "python",
   "nbconvert_exporter": "python",
   "pygments_lexer": "ipython3",
   "version": "3.8.5"
  }
 },
 "nbformat": 4,
 "nbformat_minor": 4
}
