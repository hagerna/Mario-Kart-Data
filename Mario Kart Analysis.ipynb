{
 "cells": [
  {
   "cell_type": "code",
   "execution_count": 13,
   "metadata": {},
   "outputs": [],
   "source": [
    "import random\n",
    "import pandas as pd\n",
    "import numpy as np\n",
    "import matplotlib.pyplot as plt\n",
    "import plotly.express as px"
   ]
  },
  {
   "cell_type": "code",
   "execution_count": 2,
   "metadata": {},
   "outputs": [],
   "source": [
    "# All Characters, Vehicles, Wheels, and Gliders to allow for random loadout generation\n",
    "\n",
    "characters = [\"Mario\", \"Luigi\", \"Peach\", \"Daisy\", \"Rosalina\", \"Tanooki Mario\", \"Yoshi\", \"Toad\", \"Koopa Troopa\", \n",
    "            \"Shy Guy\", \"Lakitu\", \"Toadette\", \"King Boo\", \"Baby Mario\", \"Baby Luigi\", \"Baby Peach\", \"Baby Daisy\",\n",
    "            \"Baby Rosalina\", \"Metal Mario\", \"Metal Daisy\", \"Wario\", \"Waluigi\", \"Donkey Kong\", \"Bowser\", \"Dry Bones\", \n",
    "            \"Bowser Jr.\", \"Lemmy\", \"Larry\", \"Wendy\", \"Ludwig\", \"Iggy\", \"Roy\", \"Morton\", \"Inkling Girl\", \"Inkling Boy\", \n",
    "            \"Link\", \"Villager (Boy)\", \"Villager (Girl)\", \"Isabelle\"]\n",
    "vehicles = [\"Standard Kart\", \"Pipe Frame\", \"Mach 8\", \"Steel Driver\", \"Cat Cruiser\", \"Circuit Special\", \"Tri-Speeder\",\n",
    "           \"Badwagon\", \"Prancer\", \"Biddybuggy\", \"Landship\", \"Sneeker\", \"Sports Coupe\", \"GLA\", \"W 25 Silver Arrow\", \"300 SL Roadster\",\n",
    "            \"Blue Falcon\", \"Tanooki Cart\", \"B Dasher\", \"Streetle\", \"P-Wing\", \"Koopa Clown\", \"Standard Bike\", \"Comet\", \"The Duke\", \n",
    "            \"Varmint\", \"Mr. Scooty\", \"Jet Bike\", \"Yoshi Bike\", \"Master Cycle\", \"Master Cycle Zero\", \"City Tripper\", \"Standard ATV\", \n",
    "            \"Teddy Buggy\", \"Bone Rattler\", \"Splat Buggy\"]\n",
    "wheels = [\"Standard\", \"Monster\", \"Roller\", \"Slim\", \"Slick\", \"Metal\", \"Button\", \"Off-Road\", \"Sponge\", \"Wood\", \"Cushion\",\n",
    "            \"Blue Standard\", \"Hot Monster\", \"Azure Roller\", \"Crimson Slim\", \"Cyber Slick\", \"Retro Off-Road\", \"GLA Tires\",\n",
    "            \"Triforce Tires\", \"Ancient Tires\"]\n",
    "gliders = [\"Super Glider\", \"Cloud Glider\", \"Wario Wing\", \"Waddle Wing\", \"Peach Parasol\", \"Parachute\", \"Parafoil\",\n",
    "            \"Flower Glider\", \"Bowser Kite\", \"Plane Glider\", \"MKTV Parafoil\", \"Hylian Kite\", \"Paraglider\", \"Paper Glider\"]"
   ]
  },
  {
   "cell_type": "code",
   "execution_count": 3,
   "metadata": {},
   "outputs": [],
   "source": [
    "def randomLoadout(players):\n",
    "    for i in range(0,players):\n",
    "        setup = [random.choice(characters), random.choice(vehicles), random.choice(wheels), random.choice(gliders)]\n",
    "        print(setup)"
   ]
  },
  {
   "cell_type": "code",
   "execution_count": 8,
   "metadata": {},
   "outputs": [
    {
     "name": "stdout",
     "output_type": "stream",
     "text": [
      "['Toad', 'Sneeker', 'Slick', 'Wario Wing']\n",
      "['Villager (Girl)', 'Splat Buggy', 'Ancient Tires', 'Parachute']\n",
      "['Dry Bones', 'GLA', 'Slim', 'MKTV Parafoil']\n"
     ]
    }
   ],
   "source": [
    "# RANDOMLY GENERATE X NUMBER OF LOADOUTS\n",
    "randomLoadout(3)"
   ]
  },
  {
   "cell_type": "code",
   "execution_count": 7,
   "metadata": {},
   "outputs": [],
   "source": [
    "# LOAD DATA FROM GOOGLE SHEETS\n",
    "sheet_id = \"1_wTvmPVDOWBvTV3idi_Fl-mZ8AtT-xffsqA1OhtnLe4\"\n",
    "df = pd.read_csv(f\"https://docs.google.com/spreadsheets/d/{sheet_id}/export?format=csv\")"
   ]
  },
  {
   "cell_type": "code",
   "execution_count": 33,
   "metadata": {},
   "outputs": [
    {
     "data": {
      "application/vnd.plotly.v1+json": {
       "config": {
        "plotlyServerURL": "https://plot.ly"
       },
       "data": [
        {
         "alignmentgroup": "True",
         "bingroup": "x",
         "hovertemplate": "Date=%{x}<br>count=%{y}<extra></extra>",
         "legendgroup": "",
         "marker": {
          "color": "#636efa"
         },
         "name": "",
         "offsetgroup": "",
         "orientation": "v",
         "showlegend": false,
         "type": "histogram",
         "x": [
          "2/28/2024",
          "2/28/2024",
          "2/28/2024",
          "2/28/2024",
          "2/28/2024",
          "2/28/2024",
          "2/28/2024",
          "2/28/2024",
          "2/28/2024",
          "2/28/2024",
          "2/28/2024",
          "2/28/2024",
          "2/28/2024",
          "2/28/2024",
          "2/28/2024",
          "2/28/2024",
          "2/28/2024",
          "2/29/2024",
          "2/29/2024",
          "2/29/2024",
          "2/29/2024",
          "2/29/2024",
          "2/29/2024",
          "2/29/2024",
          "2/29/2024",
          "2/29/2024",
          "2/29/2024",
          "2/29/2024",
          "2/29/2024",
          "2/29/2024",
          "2/29/2024",
          "2/29/2024",
          "2/29/2024",
          "2/29/2024",
          "2/29/2024",
          "3/2/2024",
          "3/2/2024",
          "3/2/2024",
          "3/2/2024",
          "3/2/2024",
          "3/2/2024",
          "3/2/2024",
          "3/2/2024",
          "3/2/2024",
          "3/2/2024",
          "3/2/2024",
          "3/2/2024",
          "3/2/2024",
          "3/2/2024",
          "3/2/2024",
          "3/2/2024",
          "3/2/2024",
          "3/2/2024",
          "3/2/2024",
          "3/2/2024",
          "3/2/2024",
          "3/2/2024",
          "3/2/2024",
          "3/2/2024",
          "3/2/2024",
          "3/2/2024",
          "3/2/2024",
          "3/2/2024",
          "3/2/2024",
          "3/2/2024",
          "3/2/2024",
          "3/2/2024",
          "3/2/2024",
          "3/2/2024",
          "3/2/2024",
          "3/2/2024",
          "3/2/2024",
          "3/2/2024",
          "3/2/2024",
          "3/2/2024",
          "3/2/2024",
          "3/2/2024",
          "3/2/2024",
          "3/2/2024",
          "3/2/2024",
          "3/2/2024",
          "3/2/2024",
          "3/2/2024",
          "3/2/2024",
          "3/2/2024",
          "3/2/2024",
          "3/2/2024",
          "3/2/2024",
          "3/2/2024"
         ],
         "xaxis": "x",
         "yaxis": "y"
        }
       ],
       "layout": {
        "barmode": "relative",
        "legend": {
         "tracegroupgap": 0
        },
        "margin": {
         "t": 60
        },
        "template": {
         "data": {
          "bar": [
           {
            "error_x": {
             "color": "#2a3f5f"
            },
            "error_y": {
             "color": "#2a3f5f"
            },
            "marker": {
             "line": {
              "color": "#E5ECF6",
              "width": 0.5
             }
            },
            "type": "bar"
           }
          ],
          "barpolar": [
           {
            "marker": {
             "line": {
              "color": "#E5ECF6",
              "width": 0.5
             }
            },
            "type": "barpolar"
           }
          ],
          "carpet": [
           {
            "aaxis": {
             "endlinecolor": "#2a3f5f",
             "gridcolor": "white",
             "linecolor": "white",
             "minorgridcolor": "white",
             "startlinecolor": "#2a3f5f"
            },
            "baxis": {
             "endlinecolor": "#2a3f5f",
             "gridcolor": "white",
             "linecolor": "white",
             "minorgridcolor": "white",
             "startlinecolor": "#2a3f5f"
            },
            "type": "carpet"
           }
          ],
          "choropleth": [
           {
            "colorbar": {
             "outlinewidth": 0,
             "ticks": ""
            },
            "type": "choropleth"
           }
          ],
          "contour": [
           {
            "colorbar": {
             "outlinewidth": 0,
             "ticks": ""
            },
            "colorscale": [
             [
              0,
              "#0d0887"
             ],
             [
              0.1111111111111111,
              "#46039f"
             ],
             [
              0.2222222222222222,
              "#7201a8"
             ],
             [
              0.3333333333333333,
              "#9c179e"
             ],
             [
              0.4444444444444444,
              "#bd3786"
             ],
             [
              0.5555555555555556,
              "#d8576b"
             ],
             [
              0.6666666666666666,
              "#ed7953"
             ],
             [
              0.7777777777777778,
              "#fb9f3a"
             ],
             [
              0.8888888888888888,
              "#fdca26"
             ],
             [
              1,
              "#f0f921"
             ]
            ],
            "type": "contour"
           }
          ],
          "contourcarpet": [
           {
            "colorbar": {
             "outlinewidth": 0,
             "ticks": ""
            },
            "type": "contourcarpet"
           }
          ],
          "heatmap": [
           {
            "colorbar": {
             "outlinewidth": 0,
             "ticks": ""
            },
            "colorscale": [
             [
              0,
              "#0d0887"
             ],
             [
              0.1111111111111111,
              "#46039f"
             ],
             [
              0.2222222222222222,
              "#7201a8"
             ],
             [
              0.3333333333333333,
              "#9c179e"
             ],
             [
              0.4444444444444444,
              "#bd3786"
             ],
             [
              0.5555555555555556,
              "#d8576b"
             ],
             [
              0.6666666666666666,
              "#ed7953"
             ],
             [
              0.7777777777777778,
              "#fb9f3a"
             ],
             [
              0.8888888888888888,
              "#fdca26"
             ],
             [
              1,
              "#f0f921"
             ]
            ],
            "type": "heatmap"
           }
          ],
          "heatmapgl": [
           {
            "colorbar": {
             "outlinewidth": 0,
             "ticks": ""
            },
            "colorscale": [
             [
              0,
              "#0d0887"
             ],
             [
              0.1111111111111111,
              "#46039f"
             ],
             [
              0.2222222222222222,
              "#7201a8"
             ],
             [
              0.3333333333333333,
              "#9c179e"
             ],
             [
              0.4444444444444444,
              "#bd3786"
             ],
             [
              0.5555555555555556,
              "#d8576b"
             ],
             [
              0.6666666666666666,
              "#ed7953"
             ],
             [
              0.7777777777777778,
              "#fb9f3a"
             ],
             [
              0.8888888888888888,
              "#fdca26"
             ],
             [
              1,
              "#f0f921"
             ]
            ],
            "type": "heatmapgl"
           }
          ],
          "histogram": [
           {
            "marker": {
             "colorbar": {
              "outlinewidth": 0,
              "ticks": ""
             }
            },
            "type": "histogram"
           }
          ],
          "histogram2d": [
           {
            "colorbar": {
             "outlinewidth": 0,
             "ticks": ""
            },
            "colorscale": [
             [
              0,
              "#0d0887"
             ],
             [
              0.1111111111111111,
              "#46039f"
             ],
             [
              0.2222222222222222,
              "#7201a8"
             ],
             [
              0.3333333333333333,
              "#9c179e"
             ],
             [
              0.4444444444444444,
              "#bd3786"
             ],
             [
              0.5555555555555556,
              "#d8576b"
             ],
             [
              0.6666666666666666,
              "#ed7953"
             ],
             [
              0.7777777777777778,
              "#fb9f3a"
             ],
             [
              0.8888888888888888,
              "#fdca26"
             ],
             [
              1,
              "#f0f921"
             ]
            ],
            "type": "histogram2d"
           }
          ],
          "histogram2dcontour": [
           {
            "colorbar": {
             "outlinewidth": 0,
             "ticks": ""
            },
            "colorscale": [
             [
              0,
              "#0d0887"
             ],
             [
              0.1111111111111111,
              "#46039f"
             ],
             [
              0.2222222222222222,
              "#7201a8"
             ],
             [
              0.3333333333333333,
              "#9c179e"
             ],
             [
              0.4444444444444444,
              "#bd3786"
             ],
             [
              0.5555555555555556,
              "#d8576b"
             ],
             [
              0.6666666666666666,
              "#ed7953"
             ],
             [
              0.7777777777777778,
              "#fb9f3a"
             ],
             [
              0.8888888888888888,
              "#fdca26"
             ],
             [
              1,
              "#f0f921"
             ]
            ],
            "type": "histogram2dcontour"
           }
          ],
          "mesh3d": [
           {
            "colorbar": {
             "outlinewidth": 0,
             "ticks": ""
            },
            "type": "mesh3d"
           }
          ],
          "parcoords": [
           {
            "line": {
             "colorbar": {
              "outlinewidth": 0,
              "ticks": ""
             }
            },
            "type": "parcoords"
           }
          ],
          "pie": [
           {
            "automargin": true,
            "type": "pie"
           }
          ],
          "scatter": [
           {
            "marker": {
             "colorbar": {
              "outlinewidth": 0,
              "ticks": ""
             }
            },
            "type": "scatter"
           }
          ],
          "scatter3d": [
           {
            "line": {
             "colorbar": {
              "outlinewidth": 0,
              "ticks": ""
             }
            },
            "marker": {
             "colorbar": {
              "outlinewidth": 0,
              "ticks": ""
             }
            },
            "type": "scatter3d"
           }
          ],
          "scattercarpet": [
           {
            "marker": {
             "colorbar": {
              "outlinewidth": 0,
              "ticks": ""
             }
            },
            "type": "scattercarpet"
           }
          ],
          "scattergeo": [
           {
            "marker": {
             "colorbar": {
              "outlinewidth": 0,
              "ticks": ""
             }
            },
            "type": "scattergeo"
           }
          ],
          "scattergl": [
           {
            "marker": {
             "colorbar": {
              "outlinewidth": 0,
              "ticks": ""
             }
            },
            "type": "scattergl"
           }
          ],
          "scattermapbox": [
           {
            "marker": {
             "colorbar": {
              "outlinewidth": 0,
              "ticks": ""
             }
            },
            "type": "scattermapbox"
           }
          ],
          "scatterpolar": [
           {
            "marker": {
             "colorbar": {
              "outlinewidth": 0,
              "ticks": ""
             }
            },
            "type": "scatterpolar"
           }
          ],
          "scatterpolargl": [
           {
            "marker": {
             "colorbar": {
              "outlinewidth": 0,
              "ticks": ""
             }
            },
            "type": "scatterpolargl"
           }
          ],
          "scatterternary": [
           {
            "marker": {
             "colorbar": {
              "outlinewidth": 0,
              "ticks": ""
             }
            },
            "type": "scatterternary"
           }
          ],
          "surface": [
           {
            "colorbar": {
             "outlinewidth": 0,
             "ticks": ""
            },
            "colorscale": [
             [
              0,
              "#0d0887"
             ],
             [
              0.1111111111111111,
              "#46039f"
             ],
             [
              0.2222222222222222,
              "#7201a8"
             ],
             [
              0.3333333333333333,
              "#9c179e"
             ],
             [
              0.4444444444444444,
              "#bd3786"
             ],
             [
              0.5555555555555556,
              "#d8576b"
             ],
             [
              0.6666666666666666,
              "#ed7953"
             ],
             [
              0.7777777777777778,
              "#fb9f3a"
             ],
             [
              0.8888888888888888,
              "#fdca26"
             ],
             [
              1,
              "#f0f921"
             ]
            ],
            "type": "surface"
           }
          ],
          "table": [
           {
            "cells": {
             "fill": {
              "color": "#EBF0F8"
             },
             "line": {
              "color": "white"
             }
            },
            "header": {
             "fill": {
              "color": "#C8D4E3"
             },
             "line": {
              "color": "white"
             }
            },
            "type": "table"
           }
          ]
         },
         "layout": {
          "annotationdefaults": {
           "arrowcolor": "#2a3f5f",
           "arrowhead": 0,
           "arrowwidth": 1
          },
          "autotypenumbers": "strict",
          "coloraxis": {
           "colorbar": {
            "outlinewidth": 0,
            "ticks": ""
           }
          },
          "colorscale": {
           "diverging": [
            [
             0,
             "#8e0152"
            ],
            [
             0.1,
             "#c51b7d"
            ],
            [
             0.2,
             "#de77ae"
            ],
            [
             0.3,
             "#f1b6da"
            ],
            [
             0.4,
             "#fde0ef"
            ],
            [
             0.5,
             "#f7f7f7"
            ],
            [
             0.6,
             "#e6f5d0"
            ],
            [
             0.7,
             "#b8e186"
            ],
            [
             0.8,
             "#7fbc41"
            ],
            [
             0.9,
             "#4d9221"
            ],
            [
             1,
             "#276419"
            ]
           ],
           "sequential": [
            [
             0,
             "#0d0887"
            ],
            [
             0.1111111111111111,
             "#46039f"
            ],
            [
             0.2222222222222222,
             "#7201a8"
            ],
            [
             0.3333333333333333,
             "#9c179e"
            ],
            [
             0.4444444444444444,
             "#bd3786"
            ],
            [
             0.5555555555555556,
             "#d8576b"
            ],
            [
             0.6666666666666666,
             "#ed7953"
            ],
            [
             0.7777777777777778,
             "#fb9f3a"
            ],
            [
             0.8888888888888888,
             "#fdca26"
            ],
            [
             1,
             "#f0f921"
            ]
           ],
           "sequentialminus": [
            [
             0,
             "#0d0887"
            ],
            [
             0.1111111111111111,
             "#46039f"
            ],
            [
             0.2222222222222222,
             "#7201a8"
            ],
            [
             0.3333333333333333,
             "#9c179e"
            ],
            [
             0.4444444444444444,
             "#bd3786"
            ],
            [
             0.5555555555555556,
             "#d8576b"
            ],
            [
             0.6666666666666666,
             "#ed7953"
            ],
            [
             0.7777777777777778,
             "#fb9f3a"
            ],
            [
             0.8888888888888888,
             "#fdca26"
            ],
            [
             1,
             "#f0f921"
            ]
           ]
          },
          "colorway": [
           "#636efa",
           "#EF553B",
           "#00cc96",
           "#ab63fa",
           "#FFA15A",
           "#19d3f3",
           "#FF6692",
           "#B6E880",
           "#FF97FF",
           "#FECB52"
          ],
          "font": {
           "color": "#2a3f5f"
          },
          "geo": {
           "bgcolor": "white",
           "lakecolor": "white",
           "landcolor": "#E5ECF6",
           "showlakes": true,
           "showland": true,
           "subunitcolor": "white"
          },
          "hoverlabel": {
           "align": "left"
          },
          "hovermode": "closest",
          "mapbox": {
           "style": "light"
          },
          "paper_bgcolor": "white",
          "plot_bgcolor": "#E5ECF6",
          "polar": {
           "angularaxis": {
            "gridcolor": "white",
            "linecolor": "white",
            "ticks": ""
           },
           "bgcolor": "#E5ECF6",
           "radialaxis": {
            "gridcolor": "white",
            "linecolor": "white",
            "ticks": ""
           }
          },
          "scene": {
           "xaxis": {
            "backgroundcolor": "#E5ECF6",
            "gridcolor": "white",
            "gridwidth": 2,
            "linecolor": "white",
            "showbackground": true,
            "ticks": "",
            "zerolinecolor": "white"
           },
           "yaxis": {
            "backgroundcolor": "#E5ECF6",
            "gridcolor": "white",
            "gridwidth": 2,
            "linecolor": "white",
            "showbackground": true,
            "ticks": "",
            "zerolinecolor": "white"
           },
           "zaxis": {
            "backgroundcolor": "#E5ECF6",
            "gridcolor": "white",
            "gridwidth": 2,
            "linecolor": "white",
            "showbackground": true,
            "ticks": "",
            "zerolinecolor": "white"
           }
          },
          "shapedefaults": {
           "line": {
            "color": "#2a3f5f"
           }
          },
          "ternary": {
           "aaxis": {
            "gridcolor": "white",
            "linecolor": "white",
            "ticks": ""
           },
           "baxis": {
            "gridcolor": "white",
            "linecolor": "white",
            "ticks": ""
           },
           "bgcolor": "#E5ECF6",
           "caxis": {
            "gridcolor": "white",
            "linecolor": "white",
            "ticks": ""
           }
          },
          "title": {
           "x": 0.05
          },
          "xaxis": {
           "automargin": true,
           "gridcolor": "white",
           "linecolor": "white",
           "ticks": "",
           "title": {
            "standoff": 15
           },
           "zerolinecolor": "white",
           "zerolinewidth": 2
          },
          "yaxis": {
           "automargin": true,
           "gridcolor": "white",
           "linecolor": "white",
           "ticks": "",
           "title": {
            "standoff": 15
           },
           "zerolinecolor": "white",
           "zerolinewidth": 2
          }
         }
        },
        "updatemenus": [
         {
          "buttons": [
           {
            "args": [
             {
              "title": "Total Counts for Character",
              "x": [
               [
                "Lakitu",
                "Morton",
                "Lakitu",
                "Morton",
                "Lakitu",
                "Morton",
                "Lakitu",
                "Morton",
                "Bowser Jr.",
                "Koopa Trooper",
                "Bowser Jr.",
                "Koopa Trooper",
                "Bowser Jr.",
                "Koopa Trooper",
                "Bowser Jr.",
                "Koopa Trooper",
                "Donkey Kong",
                "Toad",
                "Villager (Girl)",
                "Dry Bones",
                "Toad",
                "Villager (Girl)",
                "Dry Bones",
                "Toad",
                "Villager (Girl)",
                "Dry Bones",
                "Toad",
                "Villager (Girl)",
                "Dry Bones",
                "Toad",
                "Villager (Girl)",
                "Dry Bones",
                "Toad",
                "Villager (Girl)",
                "Dry Bones",
                "Peach",
                "Yoshi",
                "Shy Guy",
                "Peach",
                "Yoshi",
                "Shy Guy",
                "Peach",
                "Yoshi",
                "Shy Guy",
                "Peach",
                "Yoshi",
                "Shy Guy",
                "Peach",
                "Yoshi",
                "Shy Guy",
                "Peach",
                "Yoshi",
                "Shy Guy",
                "King Boo",
                "Daisy",
                "Lakitu",
                "King Boo",
                "Daisy",
                "Lakitu",
                "King Boo",
                "Daisy",
                "Lakitu",
                "King Boo",
                "Daisy",
                "Lakitu",
                "King Boo",
                "Daisy",
                "Lakitu",
                "King Boo",
                "Daisy",
                "Lakitu",
                "Wario",
                "Lakitu",
                "Baby Daisy",
                "Wario",
                "Lakitu",
                "Baby Daisy",
                "Wario",
                "Lakitu",
                "Baby Daisy",
                "Wario",
                "Lakitu",
                "Baby Daisy",
                "Wario",
                "Lakitu",
                "Baby Daisy",
                "Wario",
                "Lakitu",
                "Baby Daisy"
               ]
              ]
             }
            ],
            "label": "Character",
            "method": "update"
           },
           {
            "args": [
             {
              "title": "Total Counts for Vehicle",
              "x": [
               [
                "Standard ATV",
                "Mr. Scooty",
                "Standard ATV",
                "Mr. Scooty",
                "Standard ATV",
                "Mr. Scooty",
                "Standard ATV",
                "Mr. Scooty",
                "Splat Buggy",
                "Teddy Buggy",
                "Splat Buggy",
                "Teddy Buggy",
                "Splat Buggy",
                "Teddy Buggy",
                "Splat Buggy",
                "Teddy Buggy",
                "Jet Bike",
                "Sneeker",
                "Splat Buggy",
                "GLA",
                "Sneeker",
                "Splat Buggy",
                "GLA",
                "Sneeker",
                "Splat Buggy",
                "GLA",
                "Sneeker",
                "Splat Buggy",
                "GLA",
                "Sneeker",
                "Splat Buggy",
                "GLA",
                "Sneeker",
                "Splat Buggy",
                "GLA",
                "Teddy Buggy",
                "P-Wing",
                "GLA",
                "Teddy Buggy",
                "P-Wing",
                "GLA",
                "Teddy Buggy",
                "P-Wing",
                "GLA",
                "Teddy Buggy",
                "P-Wing",
                "GLA",
                "Teddy Buggy",
                "P-Wing",
                "GLA",
                "Teddy Buggy",
                "P-Wing",
                "GLA",
                "Standard Bike",
                "City Tripper",
                "Mr. Scooty",
                "Standard Bike",
                "City Tripper",
                "Mr. Scooty",
                "Standard Bike",
                "City Tripper",
                "Mr. Scooty",
                "Standard Bike",
                "City Tripper",
                "Mr. Scooty",
                "Standard Bike",
                "City Tripper",
                "Mr. Scooty",
                "Standard Bike",
                "City Tripper",
                "Mr. Scooty",
                "The Duke",
                "Biddybuggy",
                "Master Cycle",
                "The Duke",
                "Biddybuggy",
                "Master Cycle",
                "The Duke",
                "Biddybuggy",
                "Master Cycle",
                "The Duke",
                "Biddybuggy",
                "Master Cycle",
                "The Duke",
                "Biddybuggy",
                "Master Cycle",
                "The Duke",
                "Biddybuggy",
                "Master Cycle"
               ]
              ]
             }
            ],
            "label": "Vehicle",
            "method": "update"
           },
           {
            "args": [
             {
              "title": "Total Counts for Wheels",
              "x": [
               [
                "Retro Off-Road",
                "Triforce Tires",
                "Retro Off-Road",
                "Triforce Tires",
                "Retro Off-Road",
                "Triforce Tires",
                "Retro Off-Road",
                "Triforce Tires",
                "Triforce Tires",
                "Blue Standard",
                "Triforce Tires",
                "Blue Standard",
                "Triforce Tires",
                "Blue Standard",
                "Triforce Tires",
                "Blue Standard",
                "Monster",
                "Slick",
                "Ancient Tires",
                "Slim",
                "Slick",
                "Ancient Tires",
                "Slim",
                "Slick",
                "Ancient Tires",
                "Slim",
                "Slick",
                "Ancient Tires",
                "Slim",
                "Slick",
                "Ancient Tires",
                "Slim",
                "Slick",
                "Ancient Tires",
                "Slim",
                "Cushion",
                "Roller",
                "Monster",
                "Cushion",
                "Roller",
                "Monster",
                "Cushion",
                "Roller",
                "Monster",
                "Cushion",
                "Roller",
                "Monster",
                "Cushion",
                "Roller",
                "Monster",
                "Cushion",
                "Roller",
                "Monster",
                "Slim",
                "Cyber Slick",
                "Ancient Tires",
                "Slim",
                "Cyber Slick",
                "Ancient Tires",
                "Slim",
                "Cyber Slick",
                "Ancient Tires",
                "Slim",
                "Cyber Slick",
                "Ancient Tires",
                "Slim",
                "Cyber Slick",
                "Ancient Tires",
                "Slim",
                "Cyber Slick",
                "Ancient Tires",
                "Blue Standard",
                "Button",
                "Hot Monster",
                "Blue Standard",
                "Button",
                "Hot Monster",
                "Blue Standard",
                "Button",
                "Hot Monster",
                "Blue Standard",
                "Button",
                "Hot Monster",
                "Blue Standard",
                "Button",
                "Hot Monster",
                "Blue Standard",
                "Button",
                "Hot Monster"
               ]
              ]
             }
            ],
            "label": "Wheels",
            "method": "update"
           },
           {
            "args": [
             {
              "title": "Total Counts for Glider",
              "x": [
               [
                "Cloud Glider",
                "Super Glider",
                "Cloud Glider",
                "Super Glider",
                "Cloud Glider",
                "Super Glider",
                "Cloud Glider",
                "Super Glider",
                "Parachute",
                "MKTV Parafoil",
                "Parachute",
                "MKTV Parafoil",
                "Parachute",
                "MKTV Parafoil",
                "Parachute",
                "MKTV Parafoil",
                "Super Glider",
                "Wario Wing",
                "Parachute",
                "MKTV Parafoil",
                "Wario Wing",
                "Parachute",
                "MKTV Parafoil",
                "Wario Wing",
                "Parachute",
                "MKTV Parafoil",
                "Wario Wing",
                "Parachute",
                "MKTV Parafoil",
                "Wario Wing",
                "Parachute",
                "MKTV Parafoil",
                "Wario Wing",
                "Parachute",
                "MKTV Parafoil",
                " Wario Wing",
                "Hylian Kite",
                "Plane Glider",
                " Wario Wing",
                "Hylian Kite",
                "Plane Glider",
                " Wario Wing",
                "Hylian Kite",
                "Plane Glider",
                " Wario Wing",
                "Hylian Kite",
                "Plane Glider",
                " Wario Wing",
                "Hylian Kite",
                "Plane Glider",
                " Wario Wing",
                "Hylian Kite",
                "Plane Glider",
                "Waddle Wing",
                "Bowser Kite",
                "Parachute",
                "Waddle Wing",
                "Bowser Kite",
                "Parachute",
                "Waddle Wing",
                "Bowser Kite",
                "Parachute",
                "Waddle Wing",
                "Bowser Kite",
                "Parachute",
                "Waddle Wing",
                "Bowser Kite",
                "Parachute",
                "Waddle Wing",
                "Bowser Kite",
                "Parachute",
                "Plane Glider",
                "Super Glider",
                "Paraglider",
                "Plane Glider",
                "Super Glider",
                "Paraglider",
                "Plane Glider",
                "Super Glider",
                "Paraglider",
                "Plane Glider",
                "Super Glider",
                "Paraglider",
                "Plane Glider",
                "Super Glider",
                "Paraglider",
                "Plane Glider",
                "Super Glider",
                "Paraglider"
               ]
              ]
             }
            ],
            "label": "Glider",
            "method": "update"
           },
           {
            "args": [
             {
              "title": "Total Counts for Racer",
              "x": [
               [
                "Sofia",
                "Kaima",
                "Kaima",
                "Sofia",
                "Sofia",
                "Kaima",
                "Kaima",
                "Sofia",
                "Kaima",
                "Sofia",
                "Sofia",
                "Kaima",
                "Kaima",
                "Sofia",
                "Sofia",
                "Kaima",
                "Sofia",
                "Kaima",
                "Sofia",
                "Jules",
                "Sofia",
                "Jules",
                "Kaima",
                "Jules",
                "Kaima",
                "Sofia",
                "Kaima",
                "Sofia",
                "Jules",
                "Sofia",
                "Jules",
                "Kaima",
                "Jules",
                "Kaima",
                "Sofia",
                "Sofia",
                "Kaima",
                "Nick",
                "Nick",
                "Sofia",
                "Kaima",
                "Kaima",
                "Nick",
                "Sofia",
                "Sofia",
                "Kaima",
                "Nick",
                "Nick",
                "Sofia",
                "Kaima",
                "Kaima",
                "Nick",
                "Sofia",
                "Kaima",
                "Sofia",
                "Nick",
                "Nick",
                "Kaima",
                "Sofia",
                "Sofia",
                "Nick",
                "Kaima",
                "Kaima",
                "Sofia",
                "Nick",
                "Nick",
                "Kaima",
                "Sofia",
                "Sofia",
                "Nick",
                "Kaima",
                "Nick",
                "Sofia",
                "Kaima",
                "Kaima",
                "Nick",
                "Sofia",
                "Sofia",
                "Kaima",
                "Nick",
                "Nick",
                "Sofia",
                "Kaima",
                "Kaima",
                "Nick",
                "Sofia",
                "Kaima",
                "Nick",
                "Sofia"
               ]
              ]
             }
            ],
            "label": "Racer",
            "method": "update"
           },
           {
            "args": [
             {
              "title": "Total Counts for Controller Color",
              "x": [
               [
                "Red",
                "Blue",
                "Red",
                "Blue",
                "Red",
                "Blue",
                "Red",
                "Blue",
                "Red",
                "Blue",
                "Red",
                "Blue",
                "Red",
                "Blue",
                "Red",
                "Blue",
                "Red",
                "Blue",
                "Red",
                "Blue",
                "Blue",
                "Red",
                "Blue",
                "Blue",
                "Red",
                "Blue",
                "Blue",
                "Red",
                "Blue",
                "Blue",
                "Red",
                "Blue",
                "Blue",
                "Red",
                "Blue",
                "Blue",
                "Red",
                "Red",
                "Blue",
                "Red",
                "Red",
                "Blue",
                "Red",
                "Red",
                "Blue",
                "Red",
                "Red",
                "Blue",
                "Red",
                "Red",
                "Blue",
                "Red",
                "Red",
                "Blue",
                "Red",
                "Red",
                "Blue",
                "Red",
                "Red",
                "Blue",
                "Red",
                "Red",
                "Blue",
                "Red",
                "Red",
                "Blue",
                "Red",
                "Red",
                "Blue",
                "Red",
                "Red",
                "Blue",
                "Red",
                "Red",
                "Blue",
                "Red",
                "Red",
                "Blue",
                "Red",
                "Red",
                "Blue",
                "Red",
                "Red",
                "Blue",
                "Red",
                "Red",
                "Blue",
                "Red",
                "Red"
               ]
              ]
             }
            ],
            "label": "Controller Color",
            "method": "update"
           },
           {
            "args": [
             {
              "title": "Total Counts for Map",
              "x": [
               [
                "Dolphin Shoals",
                "Dolphin Shoals",
                "Super Bell Subway",
                "Super Bell Subway",
                "Ice Ice Outpost",
                "Ice Ice Outpost",
                "Dry Dry Desert",
                "Dry Dry Desert",
                "Yoshi Valley",
                "Yoshi Valley",
                "Dragon Driftway",
                "Dragon Driftway",
                "Yoshi Circuit",
                "Yoshi Circuit",
                "Shy Guy Falls",
                "Shy Guy Falls",
                "Sunshine Airport",
                "Big Blue",
                "Big Blue",
                "Big Blue",
                "Dry Dry Desert",
                "Dry Dry Desert",
                "Dry Dry Desert",
                "Dragon Driftway",
                "Dragon Driftway",
                "Dragon Driftway",
                "Cheese Land",
                "Cheese Land",
                "Cheese Land",
                "Thwomp Ruins",
                "Thwomp Ruins",
                "Thwomp Ruins",
                "Mario Circuit",
                "Mario Circuit",
                "Mario Circuit",
                "DK Jungle",
                "DK Jungle",
                "DK Jungle",
                "Toad's Turnpike",
                "Toad's Turnpike",
                "Toad's Turnpike",
                "Bone Dry Dunes",
                "Bone Dry Dunes",
                "Bone Dry Dunes",
                "Music Park",
                "Music Park",
                "Music Park",
                "Bowser's Castle",
                "Bowser's Castle",
                "Bowser's Castle",
                "Cheese Land",
                "Cheese Land",
                "Cheese Land",
                "Mario Kart Stadium",
                "Mario Kart Stadium",
                "Mario Kart Stadium",
                "Dragon Driftway",
                "Dragon Driftway",
                "Dragon Driftway",
                "Mario Circuit",
                "Mario Circuit",
                "Mario Circuit",
                "Cheese Land",
                "Cheese Land",
                "Cheese Land",
                "Shy Guy Falls",
                "Shy Guy Falls",
                "Shy Guy Falls",
                "Rainbow Road",
                "Rainbow Road",
                "Rainbow Road",
                "Mute City",
                "Mute City",
                "Mute City",
                "Ice Ice Outpost",
                "Ice Ice Outpost",
                "Ice Ice Outpost",
                "Bone Dry Dunes",
                "Bone Dry Dunes",
                "Bone Dry Dunes",
                "Hyrule Circuit",
                "Hyrule Circuit",
                "Hyrule Circuit",
                "Dolphin Shoals",
                "Dolphin Shoals",
                "Dolphin Shoals",
                "Thwomp Ruins",
                "Thwomp Ruins",
                "Thwomp Ruins"
               ]
              ]
             }
            ],
            "label": "Map",
            "method": "update"
           },
           {
            "args": [
             {
              "title": "Total Counts for Place",
              "x": [
               [
                1,
                2,
                4,
                1,
                1,
                4,
                1,
                2,
                2,
                1,
                3,
                1,
                5,
                1,
                2,
                1,
                1,
                4,
                1,
                6,
                4,
                10,
                2,
                7,
                1,
                5,
                3,
                1,
                8,
                1,
                6,
                4,
                4,
                2,
                1,
                3,
                2,
                1,
                1,
                6,
                5,
                1,
                2,
                4,
                1,
                2,
                3,
                1,
                4,
                2,
                3,
                1,
                6,
                4,
                2,
                1,
                1,
                5,
                2,
                4,
                1,
                5,
                9,
                6,
                1,
                8,
                2,
                7,
                1,
                12,
                8,
                1,
                3,
                4,
                7,
                1,
                2,
                4,
                2,
                1,
                1,
                2,
                4,
                4,
                1,
                7,
                3,
                9,
                1
               ]
              ]
             }
            ],
            "label": "Place",
            "method": "update"
           },
           {
            "args": [
             {
              "title": "Total Counts for CC",
              "x": [
               [
                100,
                100,
                100,
                100,
                100,
                100,
                100,
                100,
                100,
                100,
                100,
                100,
                100,
                100,
                100,
                100,
                100,
                100,
                100,
                100,
                100,
                100,
                100,
                100,
                100,
                100,
                100,
                100,
                100,
                100,
                100,
                100,
                100,
                100,
                100,
                100,
                100,
                100,
                100,
                100,
                100,
                100,
                100,
                100,
                100,
                100,
                100,
                100,
                100,
                100,
                100,
                100,
                100,
                100,
                100,
                100,
                100,
                100,
                100,
                100,
                100,
                100,
                100,
                100,
                100,
                100,
                100,
                100,
                100,
                100,
                100,
                100,
                100,
                100,
                100,
                100,
                100,
                100,
                100,
                100,
                100,
                100,
                100,
                100,
                100,
                100,
                100,
                100,
                100
               ]
              ]
             }
            ],
            "label": "CC",
            "method": "update"
           },
           {
            "args": [
             {
              "title": "Total Counts for COM",
              "x": [
               [
                "Normal",
                "Normal",
                "Normal",
                "Normal",
                "Normal",
                "Normal",
                "Normal",
                "Normal",
                "Normal",
                "Normal",
                "Normal",
                "Normal",
                "Normal",
                "Normal",
                "Normal",
                "Normal",
                "Normal",
                "Normal",
                "Normal",
                "Normal",
                "Normal",
                "Normal",
                "Normal",
                "Normal",
                "Normal",
                "Normal",
                "Normal",
                "Normal",
                "Normal",
                "Normal",
                "Normal",
                "Normal",
                "Normal",
                "Normal",
                "Normal",
                "Normal",
                "Normal",
                "Normal",
                "Normal",
                "Normal",
                "Normal",
                "Normal",
                "Normal",
                "Normal",
                "Normal",
                "Normal",
                "Normal",
                "Normal",
                "Normal",
                "Normal",
                "Normal",
                "Normal",
                "Normal",
                "Normal",
                "Normal",
                "Normal",
                "Normal",
                "Normal",
                "Normal",
                "Normal",
                "Normal",
                "Normal",
                "Normal",
                "Normal",
                "Normal",
                "Normal",
                "Normal",
                "Normal",
                "Normal",
                "Normal",
                "Normal",
                "Normal",
                "Normal",
                "Normal",
                "Normal",
                "Normal",
                "Normal",
                "Normal",
                "Normal",
                "Normal",
                "Normal",
                "Normal",
                "Normal",
                "Normal",
                "Normal",
                "Normal",
                "Normal",
                "Normal",
                "Normal"
               ]
              ]
             }
            ],
            "label": "COM",
            "method": "update"
           },
           {
            "args": [
             {
              "title": "Total Counts for Auto Steering",
              "x": [
               [
                true,
                true,
                true,
                true,
                true,
                true,
                true,
                true,
                true,
                true,
                true,
                true,
                true,
                true,
                true,
                true,
                true,
                true,
                true,
                true,
                true,
                true,
                true,
                true,
                true,
                true,
                true,
                true,
                true,
                true,
                true,
                true,
                true,
                true,
                true,
                true,
                true,
                true,
                true,
                true,
                true,
                true,
                true,
                true,
                true,
                true,
                true,
                true,
                true,
                true,
                true,
                true,
                true,
                false,
                false,
                false,
                false,
                false,
                false,
                false,
                false,
                false,
                false,
                false,
                false,
                false,
                false,
                false,
                false,
                false,
                false,
                false,
                false,
                false,
                false,
                false,
                false,
                false,
                false,
                false,
                false,
                false,
                false,
                false,
                false,
                false,
                false,
                false,
                false
               ]
              ]
             }
            ],
            "label": "Auto Steering",
            "method": "update"
           },
           {
            "args": [
             {
              "title": "Total Counts for Stick Steering",
              "x": [
               [
                true,
                true,
                true,
                true,
                true,
                true,
                true,
                true,
                true,
                true,
                true,
                true,
                true,
                true,
                true,
                true,
                true,
                true,
                true,
                true,
                true,
                true,
                true,
                true,
                true,
                true,
                true,
                true,
                true,
                true,
                true,
                true,
                true,
                true,
                true,
                true,
                true,
                true,
                true,
                true,
                true,
                true,
                true,
                true,
                true,
                true,
                true,
                true,
                true,
                true,
                true,
                true,
                true,
                true,
                true,
                true,
                true,
                true,
                true,
                true,
                true,
                true,
                true,
                true,
                true,
                true,
                true,
                true,
                true,
                true,
                true,
                true,
                true,
                true,
                true,
                true,
                true,
                true,
                true,
                true,
                true,
                true,
                true,
                true,
                true,
                true,
                true,
                true,
                true
               ]
              ]
             }
            ],
            "label": "Stick Steering",
            "method": "update"
           },
           {
            "args": [
             {
              "title": "Total Counts for Auto Drive",
              "x": [
               [
                true,
                true,
                true,
                true,
                true,
                true,
                true,
                true,
                true,
                true,
                true,
                true,
                true,
                true,
                true,
                true,
                true,
                true,
                true,
                true,
                true,
                true,
                true,
                true,
                true,
                true,
                true,
                true,
                true,
                true,
                true,
                true,
                true,
                true,
                true,
                true,
                true,
                true,
                true,
                true,
                true,
                true,
                true,
                true,
                true,
                true,
                true,
                true,
                true,
                true,
                true,
                true,
                true,
                true,
                true,
                true,
                true,
                true,
                true,
                true,
                true,
                true,
                true,
                true,
                true,
                true,
                true,
                true,
                true,
                true,
                true,
                true,
                true,
                true,
                true,
                true,
                true,
                true,
                true,
                true,
                true,
                true,
                true,
                true,
                true,
                true,
                true,
                true,
                true
               ]
              ]
             }
            ],
            "label": "Auto Drive",
            "method": "update"
           },
           {
            "args": [
             {
              "title": "Total Counts for Date",
              "x": [
               [
                "2/28/2024",
                "2/28/2024",
                "2/28/2024",
                "2/28/2024",
                "2/28/2024",
                "2/28/2024",
                "2/28/2024",
                "2/28/2024",
                "2/28/2024",
                "2/28/2024",
                "2/28/2024",
                "2/28/2024",
                "2/28/2024",
                "2/28/2024",
                "2/28/2024",
                "2/28/2024",
                "2/28/2024",
                "2/29/2024",
                "2/29/2024",
                "2/29/2024",
                "2/29/2024",
                "2/29/2024",
                "2/29/2024",
                "2/29/2024",
                "2/29/2024",
                "2/29/2024",
                "2/29/2024",
                "2/29/2024",
                "2/29/2024",
                "2/29/2024",
                "2/29/2024",
                "2/29/2024",
                "2/29/2024",
                "2/29/2024",
                "2/29/2024",
                "3/2/2024",
                "3/2/2024",
                "3/2/2024",
                "3/2/2024",
                "3/2/2024",
                "3/2/2024",
                "3/2/2024",
                "3/2/2024",
                "3/2/2024",
                "3/2/2024",
                "3/2/2024",
                "3/2/2024",
                "3/2/2024",
                "3/2/2024",
                "3/2/2024",
                "3/2/2024",
                "3/2/2024",
                "3/2/2024",
                "3/2/2024",
                "3/2/2024",
                "3/2/2024",
                "3/2/2024",
                "3/2/2024",
                "3/2/2024",
                "3/2/2024",
                "3/2/2024",
                "3/2/2024",
                "3/2/2024",
                "3/2/2024",
                "3/2/2024",
                "3/2/2024",
                "3/2/2024",
                "3/2/2024",
                "3/2/2024",
                "3/2/2024",
                "3/2/2024",
                "3/2/2024",
                "3/2/2024",
                "3/2/2024",
                "3/2/2024",
                "3/2/2024",
                "3/2/2024",
                "3/2/2024",
                "3/2/2024",
                "3/2/2024",
                "3/2/2024",
                "3/2/2024",
                "3/2/2024",
                "3/2/2024",
                "3/2/2024",
                "3/2/2024",
                "3/2/2024",
                "3/2/2024",
                "3/2/2024"
               ]
              ]
             }
            ],
            "label": "Date",
            "method": "update"
           }
          ],
          "direction": "down",
          "showactive": false,
          "type": "dropdown"
         }
        ],
        "xaxis": {
         "anchor": "y",
         "categoryorder": "max descending",
         "domain": [
          0,
          1
         ],
         "title": {
          "text": "Date"
         }
        },
        "yaxis": {
         "anchor": "x",
         "domain": [
          0,
          1
         ],
         "title": {
          "text": "count"
         }
        }
       }
      },
      "text/html": [
       "<div>                            <div id=\"6fa6fcea-5785-44b7-9a65-940920a996c8\" class=\"plotly-graph-div\" style=\"height:525px; width:100%;\"></div>            <script type=\"text/javascript\">                require([\"plotly\"], function(Plotly) {                    window.PLOTLYENV=window.PLOTLYENV || {};                                    if (document.getElementById(\"6fa6fcea-5785-44b7-9a65-940920a996c8\")) {                    Plotly.newPlot(                        \"6fa6fcea-5785-44b7-9a65-940920a996c8\",                        [{\"alignmentgroup\": \"True\", \"bingroup\": \"x\", \"hovertemplate\": \"Date=%{x}<br>count=%{y}<extra></extra>\", \"legendgroup\": \"\", \"marker\": {\"color\": \"#636efa\"}, \"name\": \"\", \"offsetgroup\": \"\", \"orientation\": \"v\", \"showlegend\": false, \"type\": \"histogram\", \"x\": [\"2/28/2024\", \"2/28/2024\", \"2/28/2024\", \"2/28/2024\", \"2/28/2024\", \"2/28/2024\", \"2/28/2024\", \"2/28/2024\", \"2/28/2024\", \"2/28/2024\", \"2/28/2024\", \"2/28/2024\", \"2/28/2024\", \"2/28/2024\", \"2/28/2024\", \"2/28/2024\", \"2/28/2024\", \"2/29/2024\", \"2/29/2024\", \"2/29/2024\", \"2/29/2024\", \"2/29/2024\", \"2/29/2024\", \"2/29/2024\", \"2/29/2024\", \"2/29/2024\", \"2/29/2024\", \"2/29/2024\", \"2/29/2024\", \"2/29/2024\", \"2/29/2024\", \"2/29/2024\", \"2/29/2024\", \"2/29/2024\", \"2/29/2024\", \"3/2/2024\", \"3/2/2024\", \"3/2/2024\", \"3/2/2024\", \"3/2/2024\", \"3/2/2024\", \"3/2/2024\", \"3/2/2024\", \"3/2/2024\", \"3/2/2024\", \"3/2/2024\", \"3/2/2024\", \"3/2/2024\", \"3/2/2024\", \"3/2/2024\", \"3/2/2024\", \"3/2/2024\", \"3/2/2024\", \"3/2/2024\", \"3/2/2024\", \"3/2/2024\", \"3/2/2024\", \"3/2/2024\", \"3/2/2024\", \"3/2/2024\", \"3/2/2024\", \"3/2/2024\", \"3/2/2024\", \"3/2/2024\", \"3/2/2024\", \"3/2/2024\", \"3/2/2024\", \"3/2/2024\", \"3/2/2024\", \"3/2/2024\", \"3/2/2024\", \"3/2/2024\", \"3/2/2024\", \"3/2/2024\", \"3/2/2024\", \"3/2/2024\", \"3/2/2024\", \"3/2/2024\", \"3/2/2024\", \"3/2/2024\", \"3/2/2024\", \"3/2/2024\", \"3/2/2024\", \"3/2/2024\", \"3/2/2024\", \"3/2/2024\", \"3/2/2024\", \"3/2/2024\", \"3/2/2024\"], \"xaxis\": \"x\", \"yaxis\": \"y\"}],                        {\"barmode\": \"relative\", \"legend\": {\"tracegroupgap\": 0}, \"margin\": {\"t\": 60}, \"template\": {\"data\": {\"bar\": [{\"error_x\": {\"color\": \"#2a3f5f\"}, \"error_y\": {\"color\": \"#2a3f5f\"}, \"marker\": {\"line\": {\"color\": \"#E5ECF6\", \"width\": 0.5}}, \"type\": \"bar\"}], \"barpolar\": [{\"marker\": {\"line\": {\"color\": \"#E5ECF6\", \"width\": 0.5}}, \"type\": \"barpolar\"}], \"carpet\": [{\"aaxis\": {\"endlinecolor\": \"#2a3f5f\", \"gridcolor\": \"white\", \"linecolor\": \"white\", \"minorgridcolor\": \"white\", \"startlinecolor\": \"#2a3f5f\"}, \"baxis\": {\"endlinecolor\": \"#2a3f5f\", \"gridcolor\": \"white\", \"linecolor\": \"white\", \"minorgridcolor\": \"white\", \"startlinecolor\": \"#2a3f5f\"}, \"type\": \"carpet\"}], \"choropleth\": [{\"colorbar\": {\"outlinewidth\": 0, \"ticks\": \"\"}, \"type\": \"choropleth\"}], \"contour\": [{\"colorbar\": {\"outlinewidth\": 0, \"ticks\": \"\"}, \"colorscale\": [[0.0, \"#0d0887\"], [0.1111111111111111, \"#46039f\"], [0.2222222222222222, \"#7201a8\"], [0.3333333333333333, \"#9c179e\"], [0.4444444444444444, \"#bd3786\"], [0.5555555555555556, \"#d8576b\"], [0.6666666666666666, \"#ed7953\"], [0.7777777777777778, \"#fb9f3a\"], [0.8888888888888888, \"#fdca26\"], [1.0, \"#f0f921\"]], \"type\": \"contour\"}], \"contourcarpet\": [{\"colorbar\": {\"outlinewidth\": 0, \"ticks\": \"\"}, \"type\": \"contourcarpet\"}], \"heatmap\": [{\"colorbar\": {\"outlinewidth\": 0, \"ticks\": \"\"}, \"colorscale\": [[0.0, \"#0d0887\"], [0.1111111111111111, \"#46039f\"], [0.2222222222222222, \"#7201a8\"], [0.3333333333333333, \"#9c179e\"], [0.4444444444444444, \"#bd3786\"], [0.5555555555555556, \"#d8576b\"], [0.6666666666666666, \"#ed7953\"], [0.7777777777777778, \"#fb9f3a\"], [0.8888888888888888, \"#fdca26\"], [1.0, \"#f0f921\"]], \"type\": \"heatmap\"}], \"heatmapgl\": [{\"colorbar\": {\"outlinewidth\": 0, \"ticks\": \"\"}, \"colorscale\": [[0.0, \"#0d0887\"], [0.1111111111111111, \"#46039f\"], [0.2222222222222222, \"#7201a8\"], [0.3333333333333333, \"#9c179e\"], [0.4444444444444444, \"#bd3786\"], [0.5555555555555556, \"#d8576b\"], [0.6666666666666666, \"#ed7953\"], [0.7777777777777778, \"#fb9f3a\"], [0.8888888888888888, \"#fdca26\"], [1.0, \"#f0f921\"]], \"type\": \"heatmapgl\"}], \"histogram\": [{\"marker\": {\"colorbar\": {\"outlinewidth\": 0, \"ticks\": \"\"}}, \"type\": \"histogram\"}], \"histogram2d\": [{\"colorbar\": {\"outlinewidth\": 0, \"ticks\": \"\"}, \"colorscale\": [[0.0, \"#0d0887\"], [0.1111111111111111, \"#46039f\"], [0.2222222222222222, \"#7201a8\"], [0.3333333333333333, \"#9c179e\"], [0.4444444444444444, \"#bd3786\"], [0.5555555555555556, \"#d8576b\"], [0.6666666666666666, \"#ed7953\"], [0.7777777777777778, \"#fb9f3a\"], [0.8888888888888888, \"#fdca26\"], [1.0, \"#f0f921\"]], \"type\": \"histogram2d\"}], \"histogram2dcontour\": [{\"colorbar\": {\"outlinewidth\": 0, \"ticks\": \"\"}, \"colorscale\": [[0.0, \"#0d0887\"], [0.1111111111111111, \"#46039f\"], [0.2222222222222222, \"#7201a8\"], [0.3333333333333333, \"#9c179e\"], [0.4444444444444444, \"#bd3786\"], [0.5555555555555556, \"#d8576b\"], [0.6666666666666666, \"#ed7953\"], [0.7777777777777778, \"#fb9f3a\"], [0.8888888888888888, \"#fdca26\"], [1.0, \"#f0f921\"]], \"type\": \"histogram2dcontour\"}], \"mesh3d\": [{\"colorbar\": {\"outlinewidth\": 0, \"ticks\": \"\"}, \"type\": \"mesh3d\"}], \"parcoords\": [{\"line\": {\"colorbar\": {\"outlinewidth\": 0, \"ticks\": \"\"}}, \"type\": \"parcoords\"}], \"pie\": [{\"automargin\": true, \"type\": \"pie\"}], \"scatter\": [{\"marker\": {\"colorbar\": {\"outlinewidth\": 0, \"ticks\": \"\"}}, \"type\": \"scatter\"}], \"scatter3d\": [{\"line\": {\"colorbar\": {\"outlinewidth\": 0, \"ticks\": \"\"}}, \"marker\": {\"colorbar\": {\"outlinewidth\": 0, \"ticks\": \"\"}}, \"type\": \"scatter3d\"}], \"scattercarpet\": [{\"marker\": {\"colorbar\": {\"outlinewidth\": 0, \"ticks\": \"\"}}, \"type\": \"scattercarpet\"}], \"scattergeo\": [{\"marker\": {\"colorbar\": {\"outlinewidth\": 0, \"ticks\": \"\"}}, \"type\": \"scattergeo\"}], \"scattergl\": [{\"marker\": {\"colorbar\": {\"outlinewidth\": 0, \"ticks\": \"\"}}, \"type\": \"scattergl\"}], \"scattermapbox\": [{\"marker\": {\"colorbar\": {\"outlinewidth\": 0, \"ticks\": \"\"}}, \"type\": \"scattermapbox\"}], \"scatterpolar\": [{\"marker\": {\"colorbar\": {\"outlinewidth\": 0, \"ticks\": \"\"}}, \"type\": \"scatterpolar\"}], \"scatterpolargl\": [{\"marker\": {\"colorbar\": {\"outlinewidth\": 0, \"ticks\": \"\"}}, \"type\": \"scatterpolargl\"}], \"scatterternary\": [{\"marker\": {\"colorbar\": {\"outlinewidth\": 0, \"ticks\": \"\"}}, \"type\": \"scatterternary\"}], \"surface\": [{\"colorbar\": {\"outlinewidth\": 0, \"ticks\": \"\"}, \"colorscale\": [[0.0, \"#0d0887\"], [0.1111111111111111, \"#46039f\"], [0.2222222222222222, \"#7201a8\"], [0.3333333333333333, \"#9c179e\"], [0.4444444444444444, \"#bd3786\"], [0.5555555555555556, \"#d8576b\"], [0.6666666666666666, \"#ed7953\"], [0.7777777777777778, \"#fb9f3a\"], [0.8888888888888888, \"#fdca26\"], [1.0, \"#f0f921\"]], \"type\": \"surface\"}], \"table\": [{\"cells\": {\"fill\": {\"color\": \"#EBF0F8\"}, \"line\": {\"color\": \"white\"}}, \"header\": {\"fill\": {\"color\": \"#C8D4E3\"}, \"line\": {\"color\": \"white\"}}, \"type\": \"table\"}]}, \"layout\": {\"annotationdefaults\": {\"arrowcolor\": \"#2a3f5f\", \"arrowhead\": 0, \"arrowwidth\": 1}, \"autotypenumbers\": \"strict\", \"coloraxis\": {\"colorbar\": {\"outlinewidth\": 0, \"ticks\": \"\"}}, \"colorscale\": {\"diverging\": [[0, \"#8e0152\"], [0.1, \"#c51b7d\"], [0.2, \"#de77ae\"], [0.3, \"#f1b6da\"], [0.4, \"#fde0ef\"], [0.5, \"#f7f7f7\"], [0.6, \"#e6f5d0\"], [0.7, \"#b8e186\"], [0.8, \"#7fbc41\"], [0.9, \"#4d9221\"], [1, \"#276419\"]], \"sequential\": [[0.0, \"#0d0887\"], [0.1111111111111111, \"#46039f\"], [0.2222222222222222, \"#7201a8\"], [0.3333333333333333, \"#9c179e\"], [0.4444444444444444, \"#bd3786\"], [0.5555555555555556, \"#d8576b\"], [0.6666666666666666, \"#ed7953\"], [0.7777777777777778, \"#fb9f3a\"], [0.8888888888888888, \"#fdca26\"], [1.0, \"#f0f921\"]], \"sequentialminus\": [[0.0, \"#0d0887\"], [0.1111111111111111, \"#46039f\"], [0.2222222222222222, \"#7201a8\"], [0.3333333333333333, \"#9c179e\"], [0.4444444444444444, \"#bd3786\"], [0.5555555555555556, \"#d8576b\"], [0.6666666666666666, \"#ed7953\"], [0.7777777777777778, \"#fb9f3a\"], [0.8888888888888888, \"#fdca26\"], [1.0, \"#f0f921\"]]}, \"colorway\": [\"#636efa\", \"#EF553B\", \"#00cc96\", \"#ab63fa\", \"#FFA15A\", \"#19d3f3\", \"#FF6692\", \"#B6E880\", \"#FF97FF\", \"#FECB52\"], \"font\": {\"color\": \"#2a3f5f\"}, \"geo\": {\"bgcolor\": \"white\", \"lakecolor\": \"white\", \"landcolor\": \"#E5ECF6\", \"showlakes\": true, \"showland\": true, \"subunitcolor\": \"white\"}, \"hoverlabel\": {\"align\": \"left\"}, \"hovermode\": \"closest\", \"mapbox\": {\"style\": \"light\"}, \"paper_bgcolor\": \"white\", \"plot_bgcolor\": \"#E5ECF6\", \"polar\": {\"angularaxis\": {\"gridcolor\": \"white\", \"linecolor\": \"white\", \"ticks\": \"\"}, \"bgcolor\": \"#E5ECF6\", \"radialaxis\": {\"gridcolor\": \"white\", \"linecolor\": \"white\", \"ticks\": \"\"}}, \"scene\": {\"xaxis\": {\"backgroundcolor\": \"#E5ECF6\", \"gridcolor\": \"white\", \"gridwidth\": 2, \"linecolor\": \"white\", \"showbackground\": true, \"ticks\": \"\", \"zerolinecolor\": \"white\"}, \"yaxis\": {\"backgroundcolor\": \"#E5ECF6\", \"gridcolor\": \"white\", \"gridwidth\": 2, \"linecolor\": \"white\", \"showbackground\": true, \"ticks\": \"\", \"zerolinecolor\": \"white\"}, \"zaxis\": {\"backgroundcolor\": \"#E5ECF6\", \"gridcolor\": \"white\", \"gridwidth\": 2, \"linecolor\": \"white\", \"showbackground\": true, \"ticks\": \"\", \"zerolinecolor\": \"white\"}}, \"shapedefaults\": {\"line\": {\"color\": \"#2a3f5f\"}}, \"ternary\": {\"aaxis\": {\"gridcolor\": \"white\", \"linecolor\": \"white\", \"ticks\": \"\"}, \"baxis\": {\"gridcolor\": \"white\", \"linecolor\": \"white\", \"ticks\": \"\"}, \"bgcolor\": \"#E5ECF6\", \"caxis\": {\"gridcolor\": \"white\", \"linecolor\": \"white\", \"ticks\": \"\"}}, \"title\": {\"x\": 0.05}, \"xaxis\": {\"automargin\": true, \"gridcolor\": \"white\", \"linecolor\": \"white\", \"ticks\": \"\", \"title\": {\"standoff\": 15}, \"zerolinecolor\": \"white\", \"zerolinewidth\": 2}, \"yaxis\": {\"automargin\": true, \"gridcolor\": \"white\", \"linecolor\": \"white\", \"ticks\": \"\", \"title\": {\"standoff\": 15}, \"zerolinecolor\": \"white\", \"zerolinewidth\": 2}}}, \"updatemenus\": [{\"buttons\": [{\"args\": [{\"title\": \"Total Counts for Character\", \"x\": [[\"Lakitu\", \"Morton\", \"Lakitu\", \"Morton\", \"Lakitu\", \"Morton\", \"Lakitu\", \"Morton\", \"Bowser Jr.\", \"Koopa Trooper\", \"Bowser Jr.\", \"Koopa Trooper\", \"Bowser Jr.\", \"Koopa Trooper\", \"Bowser Jr.\", \"Koopa Trooper\", \"Donkey Kong\", \"Toad\", \"Villager (Girl)\", \"Dry Bones\", \"Toad\", \"Villager (Girl)\", \"Dry Bones\", \"Toad\", \"Villager (Girl)\", \"Dry Bones\", \"Toad\", \"Villager (Girl)\", \"Dry Bones\", \"Toad\", \"Villager (Girl)\", \"Dry Bones\", \"Toad\", \"Villager (Girl)\", \"Dry Bones\", \"Peach\", \"Yoshi\", \"Shy Guy\", \"Peach\", \"Yoshi\", \"Shy Guy\", \"Peach\", \"Yoshi\", \"Shy Guy\", \"Peach\", \"Yoshi\", \"Shy Guy\", \"Peach\", \"Yoshi\", \"Shy Guy\", \"Peach\", \"Yoshi\", \"Shy Guy\", \"King Boo\", \"Daisy\", \"Lakitu\", \"King Boo\", \"Daisy\", \"Lakitu\", \"King Boo\", \"Daisy\", \"Lakitu\", \"King Boo\", \"Daisy\", \"Lakitu\", \"King Boo\", \"Daisy\", \"Lakitu\", \"King Boo\", \"Daisy\", \"Lakitu\", \"Wario\", \"Lakitu\", \"Baby Daisy\", \"Wario\", \"Lakitu\", \"Baby Daisy\", \"Wario\", \"Lakitu\", \"Baby Daisy\", \"Wario\", \"Lakitu\", \"Baby Daisy\", \"Wario\", \"Lakitu\", \"Baby Daisy\", \"Wario\", \"Lakitu\", \"Baby Daisy\"]]}], \"label\": \"Character\", \"method\": \"update\"}, {\"args\": [{\"title\": \"Total Counts for Vehicle\", \"x\": [[\"Standard ATV\", \"Mr. Scooty\", \"Standard ATV\", \"Mr. Scooty\", \"Standard ATV\", \"Mr. Scooty\", \"Standard ATV\", \"Mr. Scooty\", \"Splat Buggy\", \"Teddy Buggy\", \"Splat Buggy\", \"Teddy Buggy\", \"Splat Buggy\", \"Teddy Buggy\", \"Splat Buggy\", \"Teddy Buggy\", \"Jet Bike\", \"Sneeker\", \"Splat Buggy\", \"GLA\", \"Sneeker\", \"Splat Buggy\", \"GLA\", \"Sneeker\", \"Splat Buggy\", \"GLA\", \"Sneeker\", \"Splat Buggy\", \"GLA\", \"Sneeker\", \"Splat Buggy\", \"GLA\", \"Sneeker\", \"Splat Buggy\", \"GLA\", \"Teddy Buggy\", \"P-Wing\", \"GLA\", \"Teddy Buggy\", \"P-Wing\", \"GLA\", \"Teddy Buggy\", \"P-Wing\", \"GLA\", \"Teddy Buggy\", \"P-Wing\", \"GLA\", \"Teddy Buggy\", \"P-Wing\", \"GLA\", \"Teddy Buggy\", \"P-Wing\", \"GLA\", \"Standard Bike\", \"City Tripper\", \"Mr. Scooty\", \"Standard Bike\", \"City Tripper\", \"Mr. Scooty\", \"Standard Bike\", \"City Tripper\", \"Mr. Scooty\", \"Standard Bike\", \"City Tripper\", \"Mr. Scooty\", \"Standard Bike\", \"City Tripper\", \"Mr. Scooty\", \"Standard Bike\", \"City Tripper\", \"Mr. Scooty\", \"The Duke\", \"Biddybuggy\", \"Master Cycle\", \"The Duke\", \"Biddybuggy\", \"Master Cycle\", \"The Duke\", \"Biddybuggy\", \"Master Cycle\", \"The Duke\", \"Biddybuggy\", \"Master Cycle\", \"The Duke\", \"Biddybuggy\", \"Master Cycle\", \"The Duke\", \"Biddybuggy\", \"Master Cycle\"]]}], \"label\": \"Vehicle\", \"method\": \"update\"}, {\"args\": [{\"title\": \"Total Counts for Wheels\", \"x\": [[\"Retro Off-Road\", \"Triforce Tires\", \"Retro Off-Road\", \"Triforce Tires\", \"Retro Off-Road\", \"Triforce Tires\", \"Retro Off-Road\", \"Triforce Tires\", \"Triforce Tires\", \"Blue Standard\", \"Triforce Tires\", \"Blue Standard\", \"Triforce Tires\", \"Blue Standard\", \"Triforce Tires\", \"Blue Standard\", \"Monster\", \"Slick\", \"Ancient Tires\", \"Slim\", \"Slick\", \"Ancient Tires\", \"Slim\", \"Slick\", \"Ancient Tires\", \"Slim\", \"Slick\", \"Ancient Tires\", \"Slim\", \"Slick\", \"Ancient Tires\", \"Slim\", \"Slick\", \"Ancient Tires\", \"Slim\", \"Cushion\", \"Roller\", \"Monster\", \"Cushion\", \"Roller\", \"Monster\", \"Cushion\", \"Roller\", \"Monster\", \"Cushion\", \"Roller\", \"Monster\", \"Cushion\", \"Roller\", \"Monster\", \"Cushion\", \"Roller\", \"Monster\", \"Slim\", \"Cyber Slick\", \"Ancient Tires\", \"Slim\", \"Cyber Slick\", \"Ancient Tires\", \"Slim\", \"Cyber Slick\", \"Ancient Tires\", \"Slim\", \"Cyber Slick\", \"Ancient Tires\", \"Slim\", \"Cyber Slick\", \"Ancient Tires\", \"Slim\", \"Cyber Slick\", \"Ancient Tires\", \"Blue Standard\", \"Button\", \"Hot Monster\", \"Blue Standard\", \"Button\", \"Hot Monster\", \"Blue Standard\", \"Button\", \"Hot Monster\", \"Blue Standard\", \"Button\", \"Hot Monster\", \"Blue Standard\", \"Button\", \"Hot Monster\", \"Blue Standard\", \"Button\", \"Hot Monster\"]]}], \"label\": \"Wheels\", \"method\": \"update\"}, {\"args\": [{\"title\": \"Total Counts for Glider\", \"x\": [[\"Cloud Glider\", \"Super Glider\", \"Cloud Glider\", \"Super Glider\", \"Cloud Glider\", \"Super Glider\", \"Cloud Glider\", \"Super Glider\", \"Parachute\", \"MKTV Parafoil\", \"Parachute\", \"MKTV Parafoil\", \"Parachute\", \"MKTV Parafoil\", \"Parachute\", \"MKTV Parafoil\", \"Super Glider\", \"Wario Wing\", \"Parachute\", \"MKTV Parafoil\", \"Wario Wing\", \"Parachute\", \"MKTV Parafoil\", \"Wario Wing\", \"Parachute\", \"MKTV Parafoil\", \"Wario Wing\", \"Parachute\", \"MKTV Parafoil\", \"Wario Wing\", \"Parachute\", \"MKTV Parafoil\", \"Wario Wing\", \"Parachute\", \"MKTV Parafoil\", \" Wario Wing\", \"Hylian Kite\", \"Plane Glider\", \" Wario Wing\", \"Hylian Kite\", \"Plane Glider\", \" Wario Wing\", \"Hylian Kite\", \"Plane Glider\", \" Wario Wing\", \"Hylian Kite\", \"Plane Glider\", \" Wario Wing\", \"Hylian Kite\", \"Plane Glider\", \" Wario Wing\", \"Hylian Kite\", \"Plane Glider\", \"Waddle Wing\", \"Bowser Kite\", \"Parachute\", \"Waddle Wing\", \"Bowser Kite\", \"Parachute\", \"Waddle Wing\", \"Bowser Kite\", \"Parachute\", \"Waddle Wing\", \"Bowser Kite\", \"Parachute\", \"Waddle Wing\", \"Bowser Kite\", \"Parachute\", \"Waddle Wing\", \"Bowser Kite\", \"Parachute\", \"Plane Glider\", \"Super Glider\", \"Paraglider\", \"Plane Glider\", \"Super Glider\", \"Paraglider\", \"Plane Glider\", \"Super Glider\", \"Paraglider\", \"Plane Glider\", \"Super Glider\", \"Paraglider\", \"Plane Glider\", \"Super Glider\", \"Paraglider\", \"Plane Glider\", \"Super Glider\", \"Paraglider\"]]}], \"label\": \"Glider\", \"method\": \"update\"}, {\"args\": [{\"title\": \"Total Counts for Racer\", \"x\": [[\"Sofia\", \"Kaima\", \"Kaima\", \"Sofia\", \"Sofia\", \"Kaima\", \"Kaima\", \"Sofia\", \"Kaima\", \"Sofia\", \"Sofia\", \"Kaima\", \"Kaima\", \"Sofia\", \"Sofia\", \"Kaima\", \"Sofia\", \"Kaima\", \"Sofia\", \"Jules\", \"Sofia\", \"Jules\", \"Kaima\", \"Jules\", \"Kaima\", \"Sofia\", \"Kaima\", \"Sofia\", \"Jules\", \"Sofia\", \"Jules\", \"Kaima\", \"Jules\", \"Kaima\", \"Sofia\", \"Sofia\", \"Kaima\", \"Nick\", \"Nick\", \"Sofia\", \"Kaima\", \"Kaima\", \"Nick\", \"Sofia\", \"Sofia\", \"Kaima\", \"Nick\", \"Nick\", \"Sofia\", \"Kaima\", \"Kaima\", \"Nick\", \"Sofia\", \"Kaima\", \"Sofia\", \"Nick\", \"Nick\", \"Kaima\", \"Sofia\", \"Sofia\", \"Nick\", \"Kaima\", \"Kaima\", \"Sofia\", \"Nick\", \"Nick\", \"Kaima\", \"Sofia\", \"Sofia\", \"Nick\", \"Kaima\", \"Nick\", \"Sofia\", \"Kaima\", \"Kaima\", \"Nick\", \"Sofia\", \"Sofia\", \"Kaima\", \"Nick\", \"Nick\", \"Sofia\", \"Kaima\", \"Kaima\", \"Nick\", \"Sofia\", \"Kaima\", \"Nick\", \"Sofia\"]]}], \"label\": \"Racer\", \"method\": \"update\"}, {\"args\": [{\"title\": \"Total Counts for Controller Color\", \"x\": [[\"Red\", \"Blue\", \"Red\", \"Blue\", \"Red\", \"Blue\", \"Red\", \"Blue\", \"Red\", \"Blue\", \"Red\", \"Blue\", \"Red\", \"Blue\", \"Red\", \"Blue\", \"Red\", \"Blue\", \"Red\", \"Blue\", \"Blue\", \"Red\", \"Blue\", \"Blue\", \"Red\", \"Blue\", \"Blue\", \"Red\", \"Blue\", \"Blue\", \"Red\", \"Blue\", \"Blue\", \"Red\", \"Blue\", \"Blue\", \"Red\", \"Red\", \"Blue\", \"Red\", \"Red\", \"Blue\", \"Red\", \"Red\", \"Blue\", \"Red\", \"Red\", \"Blue\", \"Red\", \"Red\", \"Blue\", \"Red\", \"Red\", \"Blue\", \"Red\", \"Red\", \"Blue\", \"Red\", \"Red\", \"Blue\", \"Red\", \"Red\", \"Blue\", \"Red\", \"Red\", \"Blue\", \"Red\", \"Red\", \"Blue\", \"Red\", \"Red\", \"Blue\", \"Red\", \"Red\", \"Blue\", \"Red\", \"Red\", \"Blue\", \"Red\", \"Red\", \"Blue\", \"Red\", \"Red\", \"Blue\", \"Red\", \"Red\", \"Blue\", \"Red\", \"Red\"]]}], \"label\": \"Controller Color\", \"method\": \"update\"}, {\"args\": [{\"title\": \"Total Counts for Map\", \"x\": [[\"Dolphin Shoals\", \"Dolphin Shoals\", \"Super Bell Subway\", \"Super Bell Subway\", \"Ice Ice Outpost\", \"Ice Ice Outpost\", \"Dry Dry Desert\", \"Dry Dry Desert\", \"Yoshi Valley\", \"Yoshi Valley\", \"Dragon Driftway\", \"Dragon Driftway\", \"Yoshi Circuit\", \"Yoshi Circuit\", \"Shy Guy Falls\", \"Shy Guy Falls\", \"Sunshine Airport\", \"Big Blue\", \"Big Blue\", \"Big Blue\", \"Dry Dry Desert\", \"Dry Dry Desert\", \"Dry Dry Desert\", \"Dragon Driftway\", \"Dragon Driftway\", \"Dragon Driftway\", \"Cheese Land\", \"Cheese Land\", \"Cheese Land\", \"Thwomp Ruins\", \"Thwomp Ruins\", \"Thwomp Ruins\", \"Mario Circuit\", \"Mario Circuit\", \"Mario Circuit\", \"DK Jungle\", \"DK Jungle\", \"DK Jungle\", \"Toad's Turnpike\", \"Toad's Turnpike\", \"Toad's Turnpike\", \"Bone Dry Dunes\", \"Bone Dry Dunes\", \"Bone Dry Dunes\", \"Music Park\", \"Music Park\", \"Music Park\", \"Bowser's Castle\", \"Bowser's Castle\", \"Bowser's Castle\", \"Cheese Land\", \"Cheese Land\", \"Cheese Land\", \"Mario Kart Stadium\", \"Mario Kart Stadium\", \"Mario Kart Stadium\", \"Dragon Driftway\", \"Dragon Driftway\", \"Dragon Driftway\", \"Mario Circuit\", \"Mario Circuit\", \"Mario Circuit\", \"Cheese Land\", \"Cheese Land\", \"Cheese Land\", \"Shy Guy Falls\", \"Shy Guy Falls\", \"Shy Guy Falls\", \"Rainbow Road\", \"Rainbow Road\", \"Rainbow Road\", \"Mute City\", \"Mute City\", \"Mute City\", \"Ice Ice Outpost\", \"Ice Ice Outpost\", \"Ice Ice Outpost\", \"Bone Dry Dunes\", \"Bone Dry Dunes\", \"Bone Dry Dunes\", \"Hyrule Circuit\", \"Hyrule Circuit\", \"Hyrule Circuit\", \"Dolphin Shoals\", \"Dolphin Shoals\", \"Dolphin Shoals\", \"Thwomp Ruins\", \"Thwomp Ruins\", \"Thwomp Ruins\"]]}], \"label\": \"Map\", \"method\": \"update\"}, {\"args\": [{\"title\": \"Total Counts for Place\", \"x\": [[1, 2, 4, 1, 1, 4, 1, 2, 2, 1, 3, 1, 5, 1, 2, 1, 1, 4, 1, 6, 4, 10, 2, 7, 1, 5, 3, 1, 8, 1, 6, 4, 4, 2, 1, 3, 2, 1, 1, 6, 5, 1, 2, 4, 1, 2, 3, 1, 4, 2, 3, 1, 6, 4, 2, 1, 1, 5, 2, 4, 1, 5, 9, 6, 1, 8, 2, 7, 1, 12, 8, 1, 3, 4, 7, 1, 2, 4, 2, 1, 1, 2, 4, 4, 1, 7, 3, 9, 1]]}], \"label\": \"Place\", \"method\": \"update\"}, {\"args\": [{\"title\": \"Total Counts for CC\", \"x\": [[100, 100, 100, 100, 100, 100, 100, 100, 100, 100, 100, 100, 100, 100, 100, 100, 100, 100, 100, 100, 100, 100, 100, 100, 100, 100, 100, 100, 100, 100, 100, 100, 100, 100, 100, 100, 100, 100, 100, 100, 100, 100, 100, 100, 100, 100, 100, 100, 100, 100, 100, 100, 100, 100, 100, 100, 100, 100, 100, 100, 100, 100, 100, 100, 100, 100, 100, 100, 100, 100, 100, 100, 100, 100, 100, 100, 100, 100, 100, 100, 100, 100, 100, 100, 100, 100, 100, 100, 100]]}], \"label\": \"CC\", \"method\": \"update\"}, {\"args\": [{\"title\": \"Total Counts for COM\", \"x\": [[\"Normal\", \"Normal\", \"Normal\", \"Normal\", \"Normal\", \"Normal\", \"Normal\", \"Normal\", \"Normal\", \"Normal\", \"Normal\", \"Normal\", \"Normal\", \"Normal\", \"Normal\", \"Normal\", \"Normal\", \"Normal\", \"Normal\", \"Normal\", \"Normal\", \"Normal\", \"Normal\", \"Normal\", \"Normal\", \"Normal\", \"Normal\", \"Normal\", \"Normal\", \"Normal\", \"Normal\", \"Normal\", \"Normal\", \"Normal\", \"Normal\", \"Normal\", \"Normal\", \"Normal\", \"Normal\", \"Normal\", \"Normal\", \"Normal\", \"Normal\", \"Normal\", \"Normal\", \"Normal\", \"Normal\", \"Normal\", \"Normal\", \"Normal\", \"Normal\", \"Normal\", \"Normal\", \"Normal\", \"Normal\", \"Normal\", \"Normal\", \"Normal\", \"Normal\", \"Normal\", \"Normal\", \"Normal\", \"Normal\", \"Normal\", \"Normal\", \"Normal\", \"Normal\", \"Normal\", \"Normal\", \"Normal\", \"Normal\", \"Normal\", \"Normal\", \"Normal\", \"Normal\", \"Normal\", \"Normal\", \"Normal\", \"Normal\", \"Normal\", \"Normal\", \"Normal\", \"Normal\", \"Normal\", \"Normal\", \"Normal\", \"Normal\", \"Normal\", \"Normal\"]]}], \"label\": \"COM\", \"method\": \"update\"}, {\"args\": [{\"title\": \"Total Counts for Auto Steering\", \"x\": [[true, true, true, true, true, true, true, true, true, true, true, true, true, true, true, true, true, true, true, true, true, true, true, true, true, true, true, true, true, true, true, true, true, true, true, true, true, true, true, true, true, true, true, true, true, true, true, true, true, true, true, true, true, false, false, false, false, false, false, false, false, false, false, false, false, false, false, false, false, false, false, false, false, false, false, false, false, false, false, false, false, false, false, false, false, false, false, false, false]]}], \"label\": \"Auto Steering\", \"method\": \"update\"}, {\"args\": [{\"title\": \"Total Counts for Stick Steering\", \"x\": [[true, true, true, true, true, true, true, true, true, true, true, true, true, true, true, true, true, true, true, true, true, true, true, true, true, true, true, true, true, true, true, true, true, true, true, true, true, true, true, true, true, true, true, true, true, true, true, true, true, true, true, true, true, true, true, true, true, true, true, true, true, true, true, true, true, true, true, true, true, true, true, true, true, true, true, true, true, true, true, true, true, true, true, true, true, true, true, true, true]]}], \"label\": \"Stick Steering\", \"method\": \"update\"}, {\"args\": [{\"title\": \"Total Counts for Auto Drive\", \"x\": [[true, true, true, true, true, true, true, true, true, true, true, true, true, true, true, true, true, true, true, true, true, true, true, true, true, true, true, true, true, true, true, true, true, true, true, true, true, true, true, true, true, true, true, true, true, true, true, true, true, true, true, true, true, true, true, true, true, true, true, true, true, true, true, true, true, true, true, true, true, true, true, true, true, true, true, true, true, true, true, true, true, true, true, true, true, true, true, true, true]]}], \"label\": \"Auto Drive\", \"method\": \"update\"}, {\"args\": [{\"title\": \"Total Counts for Date\", \"x\": [[\"2/28/2024\", \"2/28/2024\", \"2/28/2024\", \"2/28/2024\", \"2/28/2024\", \"2/28/2024\", \"2/28/2024\", \"2/28/2024\", \"2/28/2024\", \"2/28/2024\", \"2/28/2024\", \"2/28/2024\", \"2/28/2024\", \"2/28/2024\", \"2/28/2024\", \"2/28/2024\", \"2/28/2024\", \"2/29/2024\", \"2/29/2024\", \"2/29/2024\", \"2/29/2024\", \"2/29/2024\", \"2/29/2024\", \"2/29/2024\", \"2/29/2024\", \"2/29/2024\", \"2/29/2024\", \"2/29/2024\", \"2/29/2024\", \"2/29/2024\", \"2/29/2024\", \"2/29/2024\", \"2/29/2024\", \"2/29/2024\", \"2/29/2024\", \"3/2/2024\", \"3/2/2024\", \"3/2/2024\", \"3/2/2024\", \"3/2/2024\", \"3/2/2024\", \"3/2/2024\", \"3/2/2024\", \"3/2/2024\", \"3/2/2024\", \"3/2/2024\", \"3/2/2024\", \"3/2/2024\", \"3/2/2024\", \"3/2/2024\", \"3/2/2024\", \"3/2/2024\", \"3/2/2024\", \"3/2/2024\", \"3/2/2024\", \"3/2/2024\", \"3/2/2024\", \"3/2/2024\", \"3/2/2024\", \"3/2/2024\", \"3/2/2024\", \"3/2/2024\", \"3/2/2024\", \"3/2/2024\", \"3/2/2024\", \"3/2/2024\", \"3/2/2024\", \"3/2/2024\", \"3/2/2024\", \"3/2/2024\", \"3/2/2024\", \"3/2/2024\", \"3/2/2024\", \"3/2/2024\", \"3/2/2024\", \"3/2/2024\", \"3/2/2024\", \"3/2/2024\", \"3/2/2024\", \"3/2/2024\", \"3/2/2024\", \"3/2/2024\", \"3/2/2024\", \"3/2/2024\", \"3/2/2024\", \"3/2/2024\", \"3/2/2024\", \"3/2/2024\", \"3/2/2024\"]]}], \"label\": \"Date\", \"method\": \"update\"}], \"direction\": \"down\", \"showactive\": false, \"type\": \"dropdown\"}], \"xaxis\": {\"anchor\": \"y\", \"categoryorder\": \"max descending\", \"domain\": [0.0, 1.0], \"title\": {\"text\": \"Date\"}}, \"yaxis\": {\"anchor\": \"x\", \"domain\": [0.0, 1.0], \"title\": {\"text\": \"count\"}}},                        {\"responsive\": true}                    ).then(function(){\n",
       "                            \n",
       "var gd = document.getElementById('6fa6fcea-5785-44b7-9a65-940920a996c8');\n",
       "var x = new MutationObserver(function (mutations, observer) {{\n",
       "        var display = window.getComputedStyle(gd).display;\n",
       "        if (!display || display === 'none') {{\n",
       "            console.log([gd, 'removed!']);\n",
       "            Plotly.purge(gd);\n",
       "            observer.disconnect();\n",
       "        }}\n",
       "}});\n",
       "\n",
       "// Listen for the removal of the full notebook cells\n",
       "var notebookContainer = gd.closest('#notebook-container');\n",
       "if (notebookContainer) {{\n",
       "    x.observe(notebookContainer, {childList: true});\n",
       "}}\n",
       "\n",
       "// Listen for the clearing of the current output cell\n",
       "var outputEl = gd.closest('.output');\n",
       "if (outputEl) {{\n",
       "    x.observe(outputEl, {childList: true});\n",
       "}}\n",
       "\n",
       "                        })                };                });            </script>        </div>"
      ]
     },
     "metadata": {},
     "output_type": "display_data"
    }
   ],
   "source": [
    "dropdown_options = []\n",
    "for column in df.columns:\n",
    "    fig = px.histogram(df, x=column)\n",
    "    fig.update_xaxes(categoryorder=\"max descending\")\n",
    "    dropdown_options.append(\n",
    "        dict(\n",
    "            label=column,\n",
    "            method=\"update\",\n",
    "            args=[\n",
    "                {\n",
    "                    \"x\": [df[column]],\n",
    "                    \"title\": f\"Total Counts for {column}\"\n",
    "                }\n",
    "            ]\n",
    "        )\n",
    "    )\n",
    "    \n",
    "    fig.update_layout(\n",
    "        updatemenus=[\n",
    "            dict(\n",
    "                type=\"dropdown\",\n",
    "                direction=\"down\",\n",
    "                showactive=True,\n",
    "                buttons=dropdown_options\n",
    "            )\n",
    "        ]\n",
    "    )\n",
    "fig.show()"
   ]
  },
  {
   "cell_type": "code",
   "execution_count": null,
   "metadata": {},
   "outputs": [],
   "source": []
  }
 ],
 "metadata": {
  "kernelspec": {
   "display_name": "Python 3",
   "language": "python",
   "name": "python3"
  },
  "language_info": {
   "codemirror_mode": {
    "name": "ipython",
    "version": 3
   },
   "file_extension": ".py",
   "mimetype": "text/x-python",
   "name": "python",
   "nbconvert_exporter": "python",
   "pygments_lexer": "ipython3",
   "version": "3.8.5"
  }
 },
 "nbformat": 4,
 "nbformat_minor": 4
}
